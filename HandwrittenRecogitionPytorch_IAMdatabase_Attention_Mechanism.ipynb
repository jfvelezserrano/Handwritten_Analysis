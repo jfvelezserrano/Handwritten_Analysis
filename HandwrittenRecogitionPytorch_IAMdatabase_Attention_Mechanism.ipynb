{
 "cells": [
  {
   "cell_type": "markdown",
   "metadata": {},
   "source": [
    "# Antes de empezar\n",
    "\n",
    "conda activate python3.6_cv2"
   ]
  },
  {
   "cell_type": "code",
   "execution_count": 2,
   "metadata": {},
   "outputs": [],
   "source": [
    "import torch\n",
    "import torch.nn as nn\n",
    "import torch.nn.functional as F\n",
    "from torch import optim\n",
    "from torch.utils.data import DataLoader\n",
    "import cv2\n",
    "#import skimage\n",
    "\n",
    "import numpy as np\n",
    "import pandas as pd\n",
    "from IPython.display import display\n",
    "import matplotlib.pyplot as plt\n",
    "%matplotlib inline \n",
    "\n",
    "# Ignore harmless warnings:\n",
    "\n",
    "import warnings\n",
    "warnings.filterwarnings(\"ignore\")\n",
    "device = torch.device(\"cuda:1\" if torch.cuda.is_available() else \"cpu\")"
   ]
  },
  {
   "cell_type": "code",
   "execution_count": 3,
   "metadata": {},
   "outputs": [
    {
     "name": "stdout",
     "output_type": "stream",
     "text": [
      "1.8.1\n",
      "3.6.10\n"
     ]
    },
    {
     "data": {
      "text/plain": [
       "'TITAN X (Pascal)'"
      ]
     },
     "execution_count": 3,
     "metadata": {},
     "output_type": "execute_result"
    }
   ],
   "source": [
    "import platform\n",
    "print(torch.__version__)\n",
    "print(platform.python_version())\n",
    "torch.cuda.get_device_name(1)"
   ]
  },
  {
   "cell_type": "markdown",
   "metadata": {},
   "source": [
    "## Cargando datos"
   ]
  },
  {
   "cell_type": "code",
   "execution_count": 112,
   "metadata": {
    "scrolled": true
   },
   "outputs": [
    {
     "name": "stdout",
     "output_type": "stream",
     "text": [
      "Keys: <KeysViewHDF5 ['X_trn', 'X_tst', 'X_val', 'filename_trn', 'filename_tst', 'filename_val', 'image_length_trn', 'image_length_tst', 'image_length_val', 'target_dict_keys', 'target_dict_values', 'target_length_trn', 'target_length_tst', 'target_length_val', 'target_trn', 'target_tst', 'target_val']>\n"
     ]
    }
   ],
   "source": [
    "# Loading preprocessed images\n",
    "\n",
    "import h5py\n",
    "filename = \"/home/abarreiro/data/handwriting/seq2seq/IAM_words_48_192.hdf5\"\n",
    "\n",
    "with h5py.File(filename, \"r\") as f:\n",
    "    # List all groups\n",
    "    print(\"Keys: %s\" % f.keys())\n",
    "    data_header = list(f.keys())\n",
    "    data = []\n",
    "    \n",
    "    for item in data_header:\n",
    "        \n",
    "        # Getting data:\n",
    "        data.append(list(f[item]))\n",
    "        \n",
    "    # Creating dictionary between data names and data   \n",
    "    new_dict = {name: obj for name, obj in zip(data_header, data)}\n"
   ]
  },
  {
   "cell_type": "code",
   "execution_count": 113,
   "metadata": {
    "scrolled": false
   },
   "outputs": [
    {
     "name": "stdout",
     "output_type": "stream",
     "text": [
      "[  9.  26.  58.  53. 100. 100. 100. 100. 100. 100. 100. 100. 100. 100.\n",
      " 100. 100. 100. 100. 100.]\n"
     ]
    }
   ],
   "source": [
    "print(new_dict['target_trn'][3])"
   ]
  },
  {
   "cell_type": "code",
   "execution_count": 114,
   "metadata": {},
   "outputs": [
    {
     "name": "stdout",
     "output_type": "stream",
     "text": [
      "47926\n",
      "(48, 192)\n",
      "b'!'\n",
      "19\n"
     ]
    }
   ],
   "source": [
    "print(len(new_dict['X_trn']))\n",
    "print(new_dict['X_trn'][1].shape)\n",
    "print(new_dict['target_dict_values'][1])\n",
    "print(max(new_dict['target_length_trn'] + new_dict['target_length_val'] + new_dict['target_length_tst']))"
   ]
  },
  {
   "cell_type": "markdown",
   "metadata": {},
   "source": [
    "## Definiendo diccionario, codificación y longitud máxima"
   ]
  },
  {
   "cell_type": "code",
   "execution_count": 115,
   "metadata": {},
   "outputs": [],
   "source": [
    "# Dictionary used in seq2seq paper\n",
    "decoder_dict = {0: '0', 1: '!', 2: 'L', 3: 'z', 4: 'G', 5: 'm', 6: '6', 7: '/', 8: 'j', 9: 's', 10: 'S', 11: '5',\n",
    "                12: 'R', 13: ')', 14: 'u', 15: 'y', 16: '9', 17: 'g', 18: '3', 19: '1', 20: 'e', 21: \"'\", 22: ':',\n",
    "                23: 'Q', 24: '2', 25: 'a', 26: 't', 27: 'A', 28: '7', 29: ';', 30: 'i', 31: 'H', 32: 'W', 33: ',',\n",
    "                34: '(', 35: 'O', 36: 'U', 37: 'K', 38: 'd', 39: '*', 40: '.', 41: '?', 42: 'q', 43: '-', 44: 'r',\n",
    "                45: 'n', 46: '&', 47: 'C', 48: '\"', 49: 'h', 50: 'v', 51: 'f', 52: 'E', 53: 'p', 54: 'x', 55: '+',\n",
    "                56: 'w', 57: 'b', 58: 'o', 59: ' ', 60: 'B', 61: 'P', 62: 'D', 63: 'I', 64: 'J', 65: 'V', 66: 'N',\n",
    "                67: 'M', 68: '8', 69: 'k', 70: 'c', 71: '4', 72: 'T', 73: 'X', 74: 'l', 75: 'Z', 76: 'F', 77: 'Y',\n",
    "                78: 'START', 79: 'END', 100: 'PAD'}\n",
    "\n",
    "inverse_decoder_dict = {v: k for k, v in decoder_dict.items()}"
   ]
  },
  {
   "cell_type": "code",
   "execution_count": 116,
   "metadata": {},
   "outputs": [
    {
     "name": "stdout",
     "output_type": "stream",
     "text": [
      "79\n"
     ]
    }
   ],
   "source": [
    "print(inverse_decoder_dict['END'])"
   ]
  },
  {
   "cell_type": "code",
   "execution_count": 117,
   "metadata": {},
   "outputs": [],
   "source": [
    "# One_hot_mapping assigns to each number in decoder_dict its corresponding one-hot vector:\n",
    "\n",
    "one_hot_mapping = {}\n",
    "\n",
    "cont = 0\n",
    "for item in decoder_dict:\n",
    "    vector = torch.zeros(1, 1, len(decoder_dict))\n",
    "    vector[0, 0, cont] = 1.0\n",
    "    one_hot_mapping[item] = vector\n",
    "    cont += 1\n",
    "\n",
    "# Inverse_one_hot_mapping assigns to each one-hot vector its corresponding number in decoder_dict\n",
    "inverse_one_hot_mapping = {v: k for k, v in one_hot_mapping.items()}\n",
    "\n",
    "# One_hot_to_char assigns to each possible one-hot vector its corresponding character from decoder_dict\n",
    "one_hot_to_char = {}\n",
    "\n",
    "for one_hot, char in zip(inverse_one_hot_mapping, inverse_decoder_dict):\n",
    "    \n",
    "    one_hot_to_char[one_hot] = char   "
   ]
  },
  {
   "cell_type": "code",
   "execution_count": 118,
   "metadata": {
    "scrolled": true
   },
   "outputs": [
    {
     "name": "stdout",
     "output_type": "stream",
     "text": [
      "tensor([[[0., 0., 0., 0., 0., 0., 0., 0., 0., 0., 0., 0., 0., 0., 0., 0., 0.,\n",
      "          0., 0., 0., 0., 0., 0., 0., 0., 0., 0., 0., 0., 0., 0., 0., 0., 0.,\n",
      "          0., 0., 0., 0., 0., 0., 0., 0., 0., 0., 0., 0., 0., 0., 0., 0., 0.,\n",
      "          0., 0., 0., 0., 0., 0., 0., 0., 0., 0., 0., 0., 0., 0., 0., 0., 0.,\n",
      "          0., 0., 0., 0., 0., 0., 0., 0., 0., 0., 0., 0., 1.]]])\n",
      "PAD\n"
     ]
    }
   ],
   "source": [
    "print(one_hot_mapping[100])\n",
    "print(one_hot_to_char[one_hot_mapping[100]])"
   ]
  },
  {
   "cell_type": "code",
   "execution_count": 119,
   "metadata": {},
   "outputs": [
    {
     "data": {
      "text/plain": [
       "<matplotlib.image.AxesImage at 0x7f1d8dcd6128>"
      ]
     },
     "execution_count": 119,
     "metadata": {},
     "output_type": "execute_result"
    },
    {
     "data": {
      "image/png": "[encoded data removed]",
      "text/plain": [
       "<Figure size 432x288 with 1 Axes>"
      ]
     },
     "metadata": {
      "needs_background": "light"
     },
     "output_type": "display_data"
    }
   ],
   "source": [
    "plt.imshow(new_dict['X_trn'][1], cmap='gray')"
   ]
  },
  {
   "cell_type": "code",
   "execution_count": 160,
   "metadata": {},
   "outputs": [
    {
     "name": "stdout",
     "output_type": "stream",
     "text": [
      "[19]\n"
     ]
    }
   ],
   "source": [
    "# All word vectors in 'target' are adjusted to max_length = 19:\n",
    "a = [len(word) for word in new_dict['target_trn']]\n",
    "print(np.unique(a))\n",
    "\n",
    "MAX_LENGTH = np.unique(a)"
   ]
  },
  {
   "cell_type": "code",
   "execution_count": 121,
   "metadata": {},
   "outputs": [
    {
     "name": "stdout",
     "output_type": "stream",
     "text": [
      "[ 27. 100. 100. 100. 100. 100. 100. 100. 100. 100. 100. 100. 100. 100.\n",
      " 100. 100. 100. 100. 100.]\n",
      "tensor([ 27., 100., 100., 100., 100., 100., 100., 100., 100., 100., 100., 100.,\n",
      "        100., 100., 100., 100., 100., 100., 100.], dtype=torch.float64)\n",
      "[ 25.   9.   9.  14.  44.  20.  38.  45.  20.   9.   9. 100. 100. 100.\n",
      " 100. 100. 100. 100. 100.]\n",
      "tensor([ 25.,   9.,   9.,  14.,  44.,  20.,  38.,  45.,  20.,   9.,   9., 100.,\n",
      "        100., 100., 100., 100., 100., 100., 100.], dtype=torch.float64)\n"
     ]
    }
   ],
   "source": [
    "def numpy_to_torch(array_list):\n",
    "    tensor_list = []\n",
    "    for array in array_list:\n",
    "        tensor_list.append(torch.from_numpy(array))\n",
    "        \n",
    "    return tensor_list\n",
    "    \n",
    "a = numpy_to_torch(new_dict['target_trn'])\n",
    "print(new_dict['target_trn'][0])\n",
    "print(a[0])\n",
    "\n",
    "X_trn = numpy_to_torch(new_dict['X_trn'])\n",
    "X_val = numpy_to_torch(new_dict['X_val'])\n",
    "X_tst = numpy_to_torch(new_dict['X_tst'])\n",
    "target_trn = numpy_to_torch(new_dict['target_trn'])\n",
    "target_val = numpy_to_torch(new_dict['target_val'])\n",
    "target_tst = numpy_to_torch(new_dict['target_tst'])\n",
    "\n",
    "print(new_dict['target_tst'][0])\n",
    "print(target_tst[0])"
   ]
  },
  {
   "cell_type": "code",
   "execution_count": 124,
   "metadata": {},
   "outputs": [
    {
     "name": "stdout",
     "output_type": "stream",
     "text": [
      "0\n",
      "[ 27. 100. 100. 100. 100. 100. 100. 100. 100. 100. 100. 100. 100. 100.\n",
      " 100. 100. 100. 100. 100.]\n",
      "1\n",
      "[ 67.  35.  65.  52. 100. 100. 100. 100. 100. 100. 100. 100. 100. 100.\n",
      " 100. 100. 100. 100. 100.]\n",
      "<class 'list'>\n",
      "<class 'torch.Tensor'>\n"
     ]
    }
   ],
   "source": [
    "a = new_dict['target_trn'][0:2]\n",
    "\n",
    "for j,word in enumerate(a):\n",
    "    print(j)\n",
    "    print(word)\n",
    "        \n",
    "print(type(new_dict['target_trn']))\n",
    "\n",
    "b = []\n",
    "for item in new_dict['target_trn']:\n",
    "    b.append(torch.from_numpy(item))\n",
    "    \n",
    "print(type(b[0]))"
   ]
  },
  {
   "cell_type": "markdown",
   "metadata": {},
   "source": [
    "# Generando patches y etiquetas para muestra finita"
   ]
  },
  {
   "cell_type": "code",
   "execution_count": 10,
   "metadata": {},
   "outputs": [],
   "source": [
    "def crear_imagen(word, height, width):\n",
    "    \n",
    "    image = np.zeros(shape = (height, width), dtype = np.uint8)\n",
    "    image = cv2.putText(image, text = word, org = (5, 30), \n",
    "                        fontFace = cv2.FONT_HERSHEY_SIMPLEX, fontScale = 0.62, color = (255, 255, 255), \n",
    "                        thickness = 1, lineType = cv2.LINE_AA)  \n",
    "    # image = skimage.util.random_noise(image, mode='s&p') # just in case we wanted to add some noise\n",
    "    return image\n",
    "\n",
    "\n",
    "def patch_gen(word, color_channels, height, width, patch_height, patch_width, stepsize):\n",
    "    \n",
    "    image = crear_imagen(word, height, width)\n",
    "    image = torch.from_numpy(image)\n",
    "    image = image / 255\n",
    "        \n",
    "    n_patches = int((width - patch_width)/stepsize + 1)\n",
    "    patches_tensor = torch.empty(n_patches, color_channels, patch_height, patch_width)    \n",
    "    \n",
    "    start = 0\n",
    "    \n",
    "    for p in range(n_patches):\n",
    "        \n",
    "        patches_tensor[p, 0, :, :] = image[:, start:start + patch_width] # sliding window\n",
    "        start += stepsize # updating the bottom-left position of the patch adding the stepsize\n",
    " \n",
    "    return patches_tensor\n",
    "\n",
    "\n",
    "def complete_set(word_set, color_channels, height, width, patch_height, patch_width, stepsize):\n",
    "    \n",
    "    complete_set = []\n",
    "    \n",
    "    for word in word_set: \n",
    "        \n",
    "        word_tensor = patch_gen(word, color_channels, height, width, patch_height, patch_width, stepsize)\n",
    "        complete_set.append((word_tensor, word))\n",
    "        \n",
    "    return complete_set\n"
   ]
  },
  {
   "cell_type": "markdown",
   "metadata": {},
   "source": [
    "# Generando patches y etiquetas para muestra infinita aleatoria"
   ]
  },
  {
   "cell_type": "code",
   "execution_count": 11,
   "metadata": {},
   "outputs": [],
   "source": [
    "def crear_imagen2(word, height, width):\n",
    "    \n",
    "    image = np.zeros(shape = (height, width), dtype = np.uint8)\n",
    "    cv2.putText(image, text = word, org = (5, 30),\n",
    "        fontFace = cv2.FONT_HERSHEY_SIMPLEX, fontScale = 0.62, color = (255, 255, 255),\n",
    "        thickness = 1, lineType = cv2.LINE_AA)  \n",
    "    # image = skimage.util.random_noise(image, mode='s&p') # just in case we wanted to add some noise\n",
    "    return image\n",
    "\n",
    "\n",
    "def patch_gen2(batch_element, word, color_channels, height, width, n_patches, \n",
    "               patch_height, patch_width, stepsize, patches_tensor):\n",
    "    \n",
    "    image = crear_imagen2(word, height, width)\n",
    "    image = torch.from_numpy(image)\n",
    "    image = image / 255\n",
    "        \n",
    "    start = 0\n",
    "    \n",
    "    for p in range(n_patches):\n",
    "        \n",
    "        patches_tensor[batch_element, p, 0, :, :] = image[:, start:start + patch_width] # sliding window\n",
    "        start += stepsize # updating the bottom-left position of the patch adding the stepsize\n",
    " \n",
    "    return patches_tensor\n",
    "\n",
    "def complete_set2(word_set, batch_size, color_channels, height, width, patch_height, patch_width, stepsize):\n",
    "    \n",
    "    n_patches = int((width - patch_width)/stepsize + 1)\n",
    "    \n",
    "    patches_tensor = torch.empty(batch_size, n_patches, color_channels, patch_height, patch_width)\n",
    "    word_list = []\n",
    "    \n",
    "    for batch_element, word in enumerate(word_set):\n",
    "        \n",
    "        patches_tensor = patch_gen2(batch_element, word, color_channels, height, width, n_patches, \n",
    "                                    patch_height, patch_width, stepsize, patches_tensor)\n",
    "        word_list.append(word)\n",
    "\n",
    "    return patches_tensor, word_list\n",
    "    "
   ]
  },
  {
   "cell_type": "code",
   "execution_count": 12,
   "metadata": {},
   "outputs": [],
   "source": [
    "comp_train_set = complete_set(train_set, color_channels = 1, height = 48, width = 192,\n",
    "                              patch_height = 48, patch_width = 10, stepsize = 2)\n",
    " \n",
    "comp_val_set = complete_set(val_set, color_channels = 1, height = 48, width = 192,\n",
    "                            patch_height = 48, patch_width = 10, stepsize = 2)\n",
    "\n",
    "comp_test_set = complete_set(test_set, color_channels = 1, height = 48, width = 192, \n",
    "                             patch_height = 48, patch_width = 10, stepsize = 2)\n",
    "\n",
    "comp_test_set_2 = complete_set(test_set_2, color_channels = 1, height = 48, width = 192,\n",
    "                               patch_height = 48, patch_width = 10, stepsize = 2)"
   ]
  },
  {
   "cell_type": "code",
   "execution_count": 13,
   "metadata": {},
   "outputs": [
    {
     "name": "stdout",
     "output_type": "stream",
     "text": [
      "torch.Size([16, 92, 1, 48, 10])\n",
      "torch.Size([1472, 1, 48, 10])\n",
      "talkin\n"
     ]
    },
    {
     "data": {
      "image/png": "[encoded data removed]",
      "text/plain": [
       "<Figure size 432x288 with 2 Axes>"
      ]
     },
     "metadata": {
      "needs_background": "light"
     },
     "output_type": "display_data"
    },
    {
     "data": {
      "image/png": "[encoded data removed]",
      "text/plain": [
       "<Figure size 432x288 with 2 Axes>"
      ]
     },
     "metadata": {
      "needs_background": "light"
     },
     "output_type": "display_data"
    },
    {
     "data": {
      "image/png": "[encoded data removed]",
      "text/plain": [
       "<Figure size 432x288 with 2 Axes>"
      ]
     },
     "metadata": {
      "needs_background": "light"
     },
     "output_type": "display_data"
    },
    {
     "data": {
      "image/png": "[encoded data removed]",
      "text/plain": [
       "<Figure size 432x288 with 2 Axes>"
      ]
     },
     "metadata": {
      "needs_background": "light"
     },
     "output_type": "display_data"
    },
    {
     "data": {
      "image/png": "[encoded data removed]",
      "text/plain": [
       "<Figure size 432x288 with 2 Axes>"
      ]
     },
     "metadata": {
      "needs_background": "light"
     },
     "output_type": "display_data"
    },
    {
     "data": {
      "image/png": "[encoded data removed]",
      "text/plain": [
       "<Figure size 432x288 with 2 Axes>"
      ]
     },
     "metadata": {
      "needs_background": "light"
     },
     "output_type": "display_data"
    },
    {
     "data": {
      "image/png": "[encoded data removed]",
      "text/plain": [
       "<Figure size 432x288 with 2 Axes>"
      ]
     },
     "metadata": {
      "needs_background": "light"
     },
     "output_type": "display_data"
    },
    {
     "data": {
      "image/png": "[encoded data removed]",
      "text/plain": [
       "<Figure size 432x288 with 2 Axes>"
      ]
     },
     "metadata": {
      "needs_background": "light"
     },
     "output_type": "display_data"
    },
    {
     "data": {
      "image/png": "[encoded data removed]",
      "text/plain": [
       "<Figure size 432x288 with 2 Axes>"
      ]
     },
     "metadata": {
      "needs_background": "light"
     },
     "output_type": "display_data"
    },
    {
     "data": {
      "image/png": "[encoded data removed]",
      "text/plain": [
       "<Figure size 432x288 with 2 Axes>"
      ]
     },
     "metadata": {
      "needs_background": "light"
     },
     "output_type": "display_data"
    }
   ],
   "source": [
    "torch.manual_seed(1234)\n",
    "\n",
    "train_loader = DataLoader(comp_train_set, batch_size = 16, shuffle = True, drop_last= True)\n",
    "val_loader = DataLoader(comp_val_set, batch_size = 16, shuffle = False, drop_last= True)\n",
    "test_loader = DataLoader(comp_test_set, batch_size = 16, shuffle = False, drop_last= True)\n",
    "test_2_loader = DataLoader(comp_test_set_2, batch_size = 16, shuffle = False, drop_last= True)\n",
    "\n",
    "for image, label in train_loader:\n",
    "    break\n",
    "    \n",
    "#print(image)    \n",
    "image_cnn = image.view(-1, 1, 48, 10)   \n",
    "print(image.shape)\n",
    "print(image_cnn.shape)\n",
    "print(label[3])\n",
    "\n",
    "for n_patch in range(0,10):\n",
    "    patch = image[3,n_patch,0,:,:].cpu()\n",
    "    plt.imshow(patch)\n",
    "    plt.colorbar()\n",
    "    plt.show()"
   ]
  },
  {
   "cell_type": "code",
   "execution_count": 14,
   "metadata": {},
   "outputs": [],
   "source": [
    "def get_one_hot_target(labels, seq_len, output_size, batch_size):    \n",
    "    one_hot_target = torch.empty(batch_size, seq_len, output_size) \n",
    "\n",
    "    for j,word in enumerate(labels):\n",
    "        length = len(word)\n",
    "        one_hot_target[j, 0, :] = mapeo['START']\n",
    "\n",
    "        for k,letter in enumerate(word):\n",
    "            one_hot_target[j, k + 1, :] = mapeo[letter]\n",
    "\n",
    "        one_hot_target[j, length + 1, :] = mapeo['END']\n",
    "        one_hot_target[j, length + 2: seq_len, :] = mapeo['PAD']\n",
    "        \n",
    "    return one_hot_target        "
   ]
  },
  {
   "cell_type": "code",
   "execution_count": 125,
   "metadata": {
    "scrolled": true
   },
   "outputs": [
    {
     "data": {
      "text/plain": [
       "tensor([[[0., 0., 0., 0., 0., 0., 0., 0., 0., 0., 0., 0., 0., 0., 0., 0., 0.,\n",
       "          0., 0., 0., 0., 0., 0., 0., 0., 0., 0., 0., 0., 0., 0., 0., 0., 0.,\n",
       "          0., 0., 0., 0., 0., 0., 0., 0., 0., 0., 0., 0., 0., 0., 0., 0., 0.,\n",
       "          0., 0., 0., 0., 0., 0., 0., 0., 0., 0., 0., 0., 0., 0., 0., 0., 0.,\n",
       "          0., 0., 0., 0., 0., 0., 0., 0., 0., 0., 0., 0., 1.]]])"
      ]
     },
     "execution_count": 125,
     "metadata": {},
     "output_type": "execute_result"
    }
   ],
   "source": [
    "def get_one_hot_target_IAM(labels, seq_len, output_size, batch_size):\n",
    "    # labels: tensor containing the labels of the words in the batch\n",
    "    # each word label consists of a vector of length 19 (MAX LENGTH). The 19 elements are the encoded characters of the word\n",
    "    # (according to Jorge's decoder dict, and completed with PADs to reach length = 19)\n",
    "    one_hot_target = torch.empty(batch_size, seq_len, output_size) # future one-hot encoding tensor for the words of the batch\n",
    "    START = inverse_decoder_dict['START'] # code number of the START token (according to Jorge's decoder_dict)\n",
    "    END = inverse_decoder_dict['END']\n",
    "    PAD = inverse_decoder_dict['PAD']\n",
    "    \n",
    "    for j, word in enumerate(labels):\n",
    "        \n",
    "        It_has_PADs = torch.any(word == PAD).item() # (majority case: the label vector of the word is completed with PADs)\n",
    "        one_hot_target[j, 0, :] = one_hot_mapping[START] # START token's one-hot vector goes first\n",
    "        \n",
    "        for k, letter in enumerate(word):\n",
    "            one_hot_target[j, k + 1, :] = one_hot_mapping[letter] # one-hot encoding of the rest of letters (including PADs)\n",
    "            \n",
    "        one_hot_target[j, -1, :] = one_hot_mapping[END] # last = END token\n",
    "        \n",
    "        if It_has_PADs == True: # if we had PADs\n",
    "            \n",
    "            array_of_PADs = torch.where(word == PAD)[0] \n",
    "            first_PAD = torch.min(array_of_PADs).item() # we store the first position where it appeared\n",
    "            first_PAD = first_PAD + 1 # (recall that we added the START as first element, so the indices won't match)\n",
    "            one_hot_target[j, first_PAD, :] = one_hot_mapping[END] # we replace that first PAD by an END\n",
    "            one_hot_target[j, -1, :] = one_hot_mapping[PAD] # then the last element was a PAD, and not the END token\n",
    "            \n",
    "    return one_hot_target\n",
    "                "
   ]
  },
  {
   "cell_type": "code",
   "execution_count": 170,
   "metadata": {},
   "outputs": [
    {
     "name": "stdout",
     "output_type": "stream",
     "text": [
      "11\n",
      "tensor([11, 12, 13, 14, 15, 16, 17, 18])\n"
     ]
    }
   ],
   "source": [
    "a = torch.empty(2, 21, len(decoder_dict))\n",
    "a[0, 0, :] = one_hot_mapping[78]\n",
    "a[1, 0, :] = one_hot_mapping[78]\n",
    "a[0, 1:21, :] = one_hot_mapping[0]\n",
    "a[1, 1:21, :] = one_hot_mapping[1]\n",
    "\n",
    "print(torch.min(torch.where(target_tst[0]==inverse_decoder_dict['PAD'])[0]).item())\n",
    "print(torch.where(target_tst[0]==100.)[0])"
   ]
  },
  {
   "cell_type": "code",
   "execution_count": 173,
   "metadata": {},
   "outputs": [
    {
     "name": "stdout",
     "output_type": "stream",
     "text": [
      "True\n",
      "78\n",
      "tensor([[[0., 0., 0., 0., 0., 0., 0., 0., 0., 0., 0., 0., 0., 0., 0., 0., 0.,\n",
      "          0., 0., 0., 0., 0., 0., 0., 0., 0., 0., 0., 0., 0., 0., 0., 0., 0.,\n",
      "          0., 0., 0., 0., 0., 0., 0., 0., 0., 0., 0., 0., 0., 0., 0., 0., 0.,\n",
      "          0., 0., 0., 0., 0., 0., 0., 0., 0., 0., 0., 0., 0., 0., 0., 0., 0.,\n",
      "          0., 0., 0., 0., 0., 0., 0., 0., 0., 0., 1., 0., 0.]]])\n"
     ]
    }
   ],
   "source": [
    "a = np.array([1,2,3,4])\n",
    "print(torch.any(target_tst[0]==inverse_decoder_dict['PAD']).item())\n",
    "#print(target_tst[0])\n",
    "print(inverse_decoder_dict['START'])\n",
    "START = inverse_decoder_dict['START']\n",
    "print(one_hot_mapping[START])"
   ]
  },
  {
   "cell_type": "code",
   "execution_count": 180,
   "metadata": {},
   "outputs": [
    {
     "data": {
      "text/plain": [
       "tensor([[[1., 0., 0., 0., 0., 0., 0., 0., 0., 0., 0., 0., 0., 0., 0., 0., 0.,\n",
       "          0., 0., 0., 0., 0., 0., 0., 0., 0., 0., 0., 0., 0., 0., 0., 0., 0.,\n",
       "          0., 0., 0., 0., 0., 0., 0., 0., 0., 0., 0., 0., 0., 0., 0., 0., 0.,\n",
       "          0., 0., 0., 0., 0., 0., 0., 0., 0., 0., 0., 0., 0., 0., 0., 0., 0.,\n",
       "          0., 0., 0., 0., 0., 0., 0., 0., 0., 0., 0., 0., 0.],\n",
       "         [0., 0., 0., 0., 0., 0., 0., 0., 0., 0., 0., 0., 0., 0., 0., 0., 0.,\n",
       "          0., 0., 0., 0., 0., 0., 0., 0., 0., 0., 0., 0., 0., 0., 0., 0., 0.,\n",
       "          0., 0., 0., 0., 0., 0., 0., 0., 0., 0., 0., 0., 0., 0., 0., 0., 0.,\n",
       "          0., 0., 0., 0., 0., 0., 0., 0., 0., 0., 0., 0., 0., 0., 0., 0., 0.,\n",
       "          0., 0., 0., 0., 0., 0., 0., 0., 0., 0., 1., 0., 0.]]])"
      ]
     },
     "execution_count": 180,
     "metadata": {},
     "output_type": "execute_result"
    }
   ],
   "source": [
    "torch.cat((one_hot_mapping[0], one_hot_mapping[START]), dim=1)\n",
    "#torch.cat((one_hot_mapping[START], one_hot_mapping[0]), dim=1)"
   ]
  },
  {
   "cell_type": "code",
   "execution_count": 191,
   "metadata": {},
   "outputs": [
    {
     "name": "stdout",
     "output_type": "stream",
     "text": [
      "True\n",
      "tensor([ 4,  5,  6,  7,  8,  9, 10, 11, 12, 13, 14, 15, 16, 17, 18])\n",
      "tensor([ 67.,  35.,  65.,  52., 100., 100., 100., 100., 100., 100., 100., 100.,\n",
      "        100., 100., 100., 100., 100., 100., 100.], dtype=torch.float64)\n",
      "4\n"
     ]
    }
   ],
   "source": [
    "PAD = inverse_decoder_dict['PAD']\n",
    "word = target_trn[1]\n",
    "print(torch.any(word == PAD).item())\n",
    "print(torch.where(word==PAD)[0])\n",
    "print(word)\n",
    "array_of_PADs = torch.where(word==PAD)[0]\n",
    "first_PAD = torch.min(array_of_PADs).item()\n",
    "print(first_PAD)"
   ]
  },
  {
   "cell_type": "code",
   "execution_count": 15,
   "metadata": {},
   "outputs": [],
   "source": [
    "def one_hot_conversion(decoder_output, output_size):\n",
    "    \n",
    "    one_hot_output_letter = torch.zeros(1, 1, output_size)\n",
    "    index = torch.argmax(decoder_output, dim = 2).item()\n",
    "    one_hot_output_letter[0, 0, index] = 1.\n",
    "    \n",
    "    return one_hot_output_letter"
   ]
  },
  {
   "cell_type": "markdown",
   "metadata": {},
   "source": [
    "# Definiendo la arquitectura"
   ]
  },
  {
   "cell_type": "code",
   "execution_count": 22,
   "metadata": {},
   "outputs": [],
   "source": [
    "class ConvolutionalNetwork(nn.Module):\n",
    "    \n",
    "    def __init__(self, IN_CHANNELS, FILTERS_CNN_1, NEURONS_IN_DENSE_LAYER,\n",
    "                 PATCH_HEIGHT, PATCH_WIDTH, STRIDE, PADDING, KERNEL_SIZE):\n",
    "        super().__init__()\n",
    "        self.IN_CHANNELS = IN_CHANNELS\n",
    "        self.FILTERS_CNN_1 = FILTERS_CNN_1\n",
    "        self.NEURONS_IN_DENSE_LAYER = NEURONS_IN_DENSE_LAYER\n",
    "        self.PATCH_HEIGHT_AFTER_POOLING = PATCH_HEIGHT//2\n",
    "        self.PATCH_WIDTH_AFTER_POOLING = PATCH_WIDTH//2\n",
    "        self.STRIDE = STRIDE\n",
    "        self.PADDING = PADDING\n",
    "        self.KERNEL_SIZE = KERNEL_SIZE\n",
    "        \n",
    "        self.conv1 = nn.Conv2d(in_channels = self.IN_CHANNELS, out_channels = self.FILTERS_CNN_1,\n",
    "                               kernel_size = self.KERNEL_SIZE, stride = self.STRIDE, padding = self.PADDING)\n",
    "        self.fc1 = nn.Linear(self.PATCH_HEIGHT_AFTER_POOLING * self.PATCH_WIDTH_AFTER_POOLING * self.FILTERS_CNN_1, \n",
    "                             self.NEURONS_IN_DENSE_LAYER)\n",
    "        \n",
    "    def forward(self, X):\n",
    "        X = F.relu((self.conv1(X)))\n",
    "        X = F.max_pool2d(X, 2, 2)\n",
    "        X = X.view(-1, self.PATCH_HEIGHT_AFTER_POOLING*self.PATCH_WIDTH_AFTER_POOLING*self.FILTERS_CNN_1)\n",
    "        X = self.fc1(X)\n",
    "\n",
    "        return X"
   ]
  },
  {
   "cell_type": "code",
   "execution_count": 17,
   "metadata": {},
   "outputs": [],
   "source": [
    "class EncoderRNN(nn.Module):\n",
    "    def __init__(self, input_size, hidden_size, batch_size, encoder_seq_len):        \n",
    "        super(EncoderRNN, self).__init__()\n",
    "        self.input_size = input_size\n",
    "        self.hidden_size = hidden_size\n",
    "        self.batch_size = batch_size\n",
    "        self.seq_len = encoder_seq_len\n",
    "        self.lstm = nn.LSTM(self.input_size, self.hidden_size, batch_first = True)\n",
    "\n",
    "    def forward(self, input, hidden):        \n",
    "        output = input.view(self.batch_size, self.seq_len, self.input_size)\n",
    "        output, hidden = self.lstm(output, hidden)\n",
    "        return output, hidden\n",
    "\n",
    "    def initHidden(self):\n",
    "        return (torch.zeros(1, self.batch_size, self.hidden_size, device=device),\n",
    "                torch.zeros(1, self.batch_size, self.hidden_size, device=device))"
   ]
  },
  {
   "cell_type": "code",
   "execution_count": 18,
   "metadata": {},
   "outputs": [],
   "source": [
    "class DecoderRNN(nn.Module):\n",
    "    def __init__(self, output_size, hidden_size, batch_size, decoder_seq_len):\n",
    "        super(DecoderRNN, self).__init__()\n",
    "        self.output_size = output_size\n",
    "        self.hidden_size = hidden_size\n",
    "        self.seq_len = decoder_seq_len\n",
    "\n",
    "        self.lstm = nn.LSTM(self.output_size, self.hidden_size, batch_first = True)\n",
    "        self.out = nn.Linear(self.hidden_size, self.output_size)\n",
    "        self.softmax = nn.LogSoftmax(dim = 2)\n",
    "        # dim = 2 porque esta última dimensión es la correspondiente a output_size, que es sobre\n",
    "        # la que queremos hacer el softmax\n",
    "\n",
    "    def forward(self, input, hidden):        \n",
    "        output = input.view(self.batch_size, self.seq_len, self.output_size)\n",
    "        #output = F.relu(output) # la relu se metía aquí porque en el\n",
    "        #caso NLP del ejemplo de PyTorch previamente había una capa de embedding\n",
    "        #No nos hace falta porque nuestro tensor de inputs ya es one-hot\n",
    "        output, hidden = self.lstm(output, hidden)\n",
    "        output = self.out(output)\n",
    "        output = self.softmax(output)\n",
    "        return output, hidden\n",
    "\n",
    "    def initHidden(self):\n",
    "        return (torch.zeros(1, self.batch_size, self.hidden_size, device=device),\n",
    "               torch.zeros(1, self.batch_size, self.hidden_size, device=device))"
   ]
  },
  {
   "cell_type": "code",
   "execution_count": 19,
   "metadata": {},
   "outputs": [],
   "source": [
    "class AttnDecoderRNN(nn.Module):\n",
    "    def __init__(self, hidden_size, output_size, dropout_p, batch_size, encoder_seq_len, decoder_seq_len):\n",
    "        super(AttnDecoderRNN, self).__init__()\n",
    "        self.hidden_size = hidden_size\n",
    "        self.output_size = output_size\n",
    "        self.dropout_p = dropout_p\n",
    "        self.batch_size = batch_size\n",
    "        self.encoder_seq_len = encoder_seq_len\n",
    "        self.decoder_seq_len = decoder_seq_len\n",
    "        \n",
    "        self.attn = nn.Linear(self.output_size + self.hidden_size, self.encoder_seq_len)\n",
    "        self.attn_combine = nn.Linear(self.output_size + self.hidden_size, self.output_size)\n",
    "        self.dropout = nn.Dropout(self.dropout_p)\n",
    "        self.lstm = nn.LSTM(self.output_size, self.hidden_size, batch_first = True)\n",
    "        self.out = nn.Linear(self.hidden_size, self.output_size)\n",
    "\n",
    "    def forward(self, inputs, hidden, encoder_outputs):\n",
    "        \n",
    "        inputs = inputs.view(self.batch_size, self.decoder_seq_len, self.output_size)\n",
    "        inputs = self.dropout(inputs)\n",
    "        \n",
    "        decoder_hidden_states = hidden[0].view(self.batch_size, self.decoder_seq_len, self.hidden_size) #[0] -- hidden, not cell\n",
    "        \n",
    "        attn_weights = F.softmax(\n",
    "            self.attn(torch.cat((inputs, decoder_hidden_states), 2)), dim = 2)\n",
    "        attn_applied = torch.bmm(attn_weights, encoder_outputs)\n",
    "\n",
    "        output = torch.cat((inputs, attn_applied), 2)\n",
    "        output = self.attn_combine(output)\n",
    "\n",
    "        output = F.relu(output)\n",
    "        output, hidden = self.lstm(output, hidden)\n",
    "\n",
    "        output = F.log_softmax(self.out(output), dim = 2)\n",
    "        return output, hidden, attn_weights\n",
    "\n",
    "    def initHidden(self):\n",
    "        return (torch.zeros(1, self.batch_size, self.hidden_size, device=device),\n",
    "               torch.zeros(1, self.batch_size, self.hidden_size, device=device))"
   ]
  },
  {
   "cell_type": "code",
   "execution_count": 20,
   "metadata": {},
   "outputs": [],
   "source": [
    "class BahdanauDecoder(nn.Module):\n",
    "    def __init__(self, output_size, hidden_size, batch_size, n_patches, MAX_LENGTH, n_layers, drop_prob):\n",
    "        super(BahdanauDecoder, self).__init__()\n",
    "        self.output_size = output_size\n",
    "        self.hidden_size = hidden_size\n",
    "        self.batch_size = batch_size\n",
    "        self.enc_seq_len = n_patches\n",
    "        self.dec_seq_len = MAX_LENGTH + 2\n",
    "        self.n_layers = n_layers\n",
    "        self.drop_prob = drop_prob\n",
    "\n",
    "        #self.embedding = nn.Embedding(self.output_size, self.hidden_size)\n",
    "\n",
    "        self.fc_hidden = nn.Linear(self.hidden_size, self.hidden_size, bias=False)\n",
    "        self.fc_encoder = nn.Linear(self.hidden_size, self.hidden_size, bias=False)\n",
    "        self.weight = nn.Parameter(torch.FloatTensor(self.batch_size, self.hidden_size, self.dec_seq_len))\n",
    "        self.attn_combine = nn.Linear(self.hidden_size * 2, self.hidden_size)\n",
    "        self.dropout = nn.Dropout(self.drop_prob)\n",
    "        self.lstm = nn.LSTM(self.output_size + self.hidden_size, self.hidden_size, batch_first=True)\n",
    "        self.classifier = nn.Linear(self.hidden_size, self.output_size)\n",
    "\n",
    "    def forward(self, inputs, hidden, encoder_outputs):\n",
    "        #encoder_outputs = encoder_outputs.squeeze()\n",
    "        # Embed input words\n",
    "        #embedded = self.embedding(inputs).view(1, -1)\n",
    "        inputs = self.dropout(inputs)\n",
    "        output = inputs.view(self.batch_size, self.dec_seq_len, self.output_size)\n",
    "\n",
    "        # Calculating Alignment Scores\n",
    "        hidden_state = hidden[0].view(self.batch_size, n_layers, self.hidden_size) # hidden[0] --> picking h. state and not cell\n",
    "        x = torch.tanh(self.fc_hidden(hidden_state) + self.fc_encoder(encoder_outputs)) # shape: [batch, seq_len, hidden_size]\n",
    "        #alignment_scores = x.bmm(self.weight.unsqueeze(2))  \n",
    "        alignment_scores = torch.bmm(x, self.weight) # shape: [batch, enc_seq, dec_seq]\n",
    "        \n",
    "        # Softmaxing alignment scores to get Attention weights\n",
    "        #attn_weights = F.softmax(alignment_scores.view(1,-1), dim=1)\n",
    "        \n",
    "        attn_weights = F.softmax(alignment_scores, dim = 1)\n",
    "\n",
    "        # Multiplying the Attention weights with encoder outputs to get the context vector\n",
    "        #context_vector = torch.bmm(attn_weights.unsqueeze(0),\n",
    "        #                         encoder_outputs.unsqueeze(0))\n",
    "        context_vector = torch.bmm(attn_weights.view(self.batch_size, self.dec_seq_len, self.enc_seq_len), \n",
    "                                   encoder_outputs)\n",
    "        \n",
    "        \n",
    "        # Concatenating context vector with embedded input word\n",
    "        #output = torch.cat((embedded, context_vector[0]), 1).unsqueeze(0)\n",
    "        \n",
    "        output = torch.cat((output, context_vector), dim=2)\n",
    "        \n",
    "        # Passing the concatenated vector as input to the LSTM cell\n",
    "        output, hidden = self.lstm(output, hidden)\n",
    "        # Passing the LSTM output through a Linear layer acting as a classifier\n",
    "        #output = F.log_softmax(self.classifier(output[0]), dim=1)\n",
    "        \n",
    "        output = F.log_softmax(self.classifier(output), dim = 2)\n",
    "        \n",
    "        return output, hidden, attn_weights"
   ]
  },
  {
   "cell_type": "code",
   "execution_count": 23,
   "metadata": {},
   "outputs": [],
   "source": [
    "torch.manual_seed(1234)\n",
    "\n",
    "CNN_model = ConvolutionalNetwork(IN_CHANNELS = 1, FILTERS_CNN_1 = 4, NEURONS_IN_DENSE_LAYER = 1024, \n",
    "                                 PATCH_HEIGHT = 48, PATCH_WIDTH = 10, STRIDE = 1, PADDING = 0, KERNEL_SIZE = 1).cuda(1)\n",
    "CNN_optimizer = torch.optim.Adam(CNN_model.parameters())\n",
    "\n",
    "Encoder_model = EncoderRNN(input_size = 1024, hidden_size = 256, batch_size = 16, encoder_seq_len = 92).cuda(1)\n",
    "Encoder_optimizer = optim.SGD(Encoder_model.parameters(), lr = 0.001)\n",
    "\n",
    "Decoder_model = AttnDecoderRNN(output_size = len(letters), hidden_size = 256, dropout_p = 0.1, batch_size = 16,\n",
    "                               encoder_seq_len = 92, decoder_seq_len = 1).cuda(1)\n",
    "Decoder_optimizer = optim.SGD(Decoder_model.parameters(), lr = 0.001)\n",
    "\n",
    "#criterion = nn.CrossEntropyLoss()\n",
    "criterion = nn.NLLLoss()"
   ]
  },
  {
   "cell_type": "markdown",
   "metadata": {},
   "source": [
    "## Entrenando"
   ]
  },
  {
   "cell_type": "code",
   "execution_count": 24,
   "metadata": {},
   "outputs": [],
   "source": [
    "import time\n",
    "\n",
    "from torch.utils.tensorboard import SummaryWriter\n",
    "writer = SummaryWriter()"
   ]
  },
  {
   "cell_type": "code",
   "execution_count": 25,
   "metadata": {},
   "outputs": [],
   "source": [
    "def calculate_loss(decoder_output, ground_truth, batch_size):\n",
    "    loss = 0\n",
    "        \n",
    "    for j in range(batch_size):\n",
    "        loss += criterion(decoder_output[j], ground_truth[j])               \n",
    "    \n",
    "    loss = loss/batch_size\n",
    "\n",
    "    return loss"
   ]
  },
  {
   "cell_type": "code",
   "execution_count": 26,
   "metadata": {},
   "outputs": [],
   "source": [
    "def train():\n",
    "    train_losses = []\n",
    "    for num_batch, (image, labels) in enumerate(train_loader):        \n",
    "        num_batch += 1\n",
    "        encoder_hidden = Encoder_model.initHidden()\n",
    "\n",
    "        image_cnn = image.view(-1, 1, 48, 10).cuda(1)\n",
    "        encoder_input = CNN_model(image_cnn)\n",
    "        encoder_outputs, encoder_hidden = Encoder_model(encoder_input, encoder_hidden)\n",
    "        \n",
    "        \n",
    "        decoder_hidden = encoder_hidden\n",
    "        decoder_input = get_one_hot_target(labels=labels, seq_len = MAX_LENGTH + 2, output_size = 29, batch_size = 16).cuda(1)\n",
    "        \n",
    "        \n",
    "        for num_letter in range(MAX_LENGTH + 2):\n",
    "            \n",
    "            decoder_input_letter = decoder_input[:, num_letter, :].unsqueeze(1)\n",
    "            \n",
    "            decoder_output, decoder_hidden, attn_weights = Decoder_model(decoder_input_letter, decoder_hidden, encoder_outputs)\n",
    "            \n",
    "            if num_letter == 0:\n",
    "                \n",
    "                decoder_output_total = decoder_output\n",
    "                \n",
    "            else:\n",
    "                \n",
    "                decoder_output_total = torch.cat((decoder_output_total, decoder_output), dim = 1)\n",
    "\n",
    "        output_indices = torch.tensor(list(range(0, MAX_LENGTH + 2 -1))).cuda(1) # removing last token from the output\n",
    "        decoder_output = torch.index_select(decoder_output_total, dim = 1, index = output_indices)\n",
    "\n",
    "        ground_truth = torch.argmax(decoder_input, dim = 2)\n",
    "        target_indices = torch.tensor(list(range(1, MAX_LENGTH + 2))).cuda(1) # remove SOS token from the input\n",
    "        ground_truth = torch.index_select(ground_truth, dim = 1, index = target_indices)\n",
    "\n",
    "        loss = calculate_loss(decoder_output, ground_truth, 16)\n",
    "\n",
    "        CNN_optimizer.zero_grad()\n",
    "        Encoder_optimizer.zero_grad()\n",
    "        Decoder_optimizer.zero_grad()\n",
    "        loss.backward()\n",
    "        CNN_optimizer.step()\n",
    "        Encoder_optimizer.step()\n",
    "        Decoder_optimizer.step()\n",
    "        train_losses.append(loss.item())\n",
    "        \n",
    "    return np.mean(train_losses)"
   ]
  },
  {
   "cell_type": "code",
   "execution_count": 27,
   "metadata": {},
   "outputs": [],
   "source": [
    "def validation():\n",
    "    valid_losses = []\n",
    "\n",
    "    with torch.no_grad():       \n",
    "        for num_batch_val, (image_val, labels_val) in enumerate(val_loader):        \n",
    "            num_batch_val += 1\n",
    "            encoder_hidden_val = Encoder_model.initHidden()\n",
    "            image_cnn_val = image_val.view(-1, 1, 48, 10).cuda(1)\n",
    "            encoder_input_val = CNN_model(image_cnn_val)\n",
    "            encoder_outputs_val, encoder_hidden_val = Encoder_model(encoder_input_val, encoder_hidden_val)\n",
    "        \n",
    "            decoder_hidden_val = encoder_hidden_val\n",
    "            decoder_input_val = get_one_hot_target(labels=labels_val, seq_len = MAX_LENGTH + 2, output_size = 29, batch_size = 16).cuda(1)\n",
    "            \n",
    "            \n",
    "            for num_letter_val in range(MAX_LENGTH + 2):\n",
    "            \n",
    "                decoder_input_letter_val = decoder_input_val[:, num_letter_val, :].unsqueeze(1)\n",
    "\n",
    "                decoder_output_val, decoder_hidden_val, attn_weights_val = Decoder_model(decoder_input_letter_val, decoder_hidden_val, encoder_outputs_val)\n",
    "\n",
    "                if num_letter_val == 0:\n",
    "\n",
    "                    decoder_output_total_val = decoder_output_val\n",
    "\n",
    "                else:\n",
    "\n",
    "                    decoder_output_total_val = torch.cat((decoder_output_total_val, decoder_output_val), dim = 1)\n",
    "\n",
    "            \n",
    "            output_indices_val = torch.tensor(list(range(0, MAX_LENGTH + 2 - 1))).cuda(1) # remove last token from the output\n",
    "            decoder_output_val = torch.index_select(decoder_output_total_val, dim = 1, index = output_indices_val)\n",
    "\n",
    "            ground_truth_val = torch.argmax(decoder_input_val, dim = 2)\n",
    "            target_indices_val = torch.tensor(list(range(1, MAX_LENGTH + 2))).cuda(1) # remove START token from the input\n",
    "            ground_truth_val = torch.index_select(ground_truth_val, dim = 1, index = target_indices_val)\n",
    "            \n",
    "            loss_val = calculate_loss(decoder_output_val, ground_truth_val, 16)\n",
    "            valid_losses.append(loss_val.item())\n",
    "    return np.mean(valid_losses)"
   ]
  },
  {
   "cell_type": "code",
   "execution_count": 28,
   "metadata": {},
   "outputs": [],
   "source": [
    "class Patience():\n",
    "    \n",
    "    def __init__(self, patience):\n",
    "        self.patience = patience\n",
    "        self.current_patience = patience\n",
    "        self.min_loss_val = float('inf')\n",
    "\n",
    "    def more_patience(self,loss_val):\n",
    "        self.current_patience -= 1\n",
    "        if self.current_patience == 0:\n",
    "            return False\n",
    "\n",
    "        if loss_val < self.min_loss_val:\n",
    "            self.min_loss_val = loss_val\n",
    "            self.current_patience = patience\n",
    "\n",
    "            model_name = f\"{48}x{192}_by{10}_jump{2}_batch{16} NN_{4}_{1024}_{1}_{256} pats:{30000}\"\n",
    "            print(\", saved best model.\")\n",
    "            \n",
    "            torch.save({\n",
    "                'CNN_model_state_dict': CNN_model.state_dict(),\n",
    "                'CNN_optimizer_state_dict': CNN_optimizer.state_dict(),\n",
    "                'Encoder_model_state_dict': Encoder_model.state_dict(),\n",
    "                'Encoder_optimizer_state_dict': Encoder_optimizer.state_dict(),\n",
    "                'Decoder_model_state_dict': Decoder_model.state_dict(),\n",
    "                'Decoder_optimizer_state_dict': Decoder_optimizer.state_dict(),\n",
    "            }, 'Attention'+model_name)\n",
    "            \n",
    "            torch.save(CNN_model.state_dict(), 'CNN_'+model_name)\n",
    "            torch.save(Encoder_model.state_dict(), 'Encoder_'+model_name)\n",
    "            torch.save(Decoder_model.state_dict(), 'Decoder_'+model_name)\n",
    "    \n",
    "        return True"
   ]
  },
  {
   "cell_type": "code",
   "execution_count": null,
   "metadata": {},
   "outputs": [
    {
     "name": "stdout",
     "output_type": "stream",
     "text": [
      "Epoch: 0 Train loss: 2.0262378012793403 Valid loss: 1.6751467797064012 Duration: 1.5386393706003825 minutes\n",
      ", saved best model.\n",
      "Epoch: 1 Train loss: 1.552234000137874 Valid loss: 1.5168633768635411 Duration: 3.077888282140096 minutes\n",
      ", saved best model.\n",
      "Epoch: 2 Train loss: 1.4525571486609323 Valid loss: 1.449219826729067 Duration: 4.6056791067123415 minutes\n",
      ", saved best model.\n",
      "Epoch: 3 Train loss: 1.397971453973225 Valid loss: 1.4091694460761162 Duration: 6.135940114657084 minutes\n",
      ", saved best model.\n",
      "Epoch: 4 Train loss: 1.362684862749917 Valid loss: 1.3791308249196699 Duration: 7.664021257559458 minutes\n",
      ", saved best model.\n",
      "Epoch: 5 Train loss: 1.3380408314296177 Valid loss: 1.3577364269764192 Duration: 9.190347679456075 minutes\n",
      ", saved best model.\n",
      "Epoch: 6 Train loss: 1.3142182426452638 Valid loss: 1.336282085026464 Duration: 10.717403169473013 minutes\n",
      ", saved best model.\n",
      "Epoch: 7 Train loss: 1.2899985041618347 Valid loss: 1.3166916216573408 Duration: 12.240926973025005 minutes\n",
      ", saved best model.\n",
      "Epoch: 8 Train loss: 1.268632005589349 Valid loss: 1.2909173379021306 Duration: 13.766995922724407 minutes\n",
      ", saved best model.\n",
      "Epoch: 9 Train loss: 1.2483593513965607 Valid loss: 1.2853093320323574 Duration: 15.291865408420563 minutes\n",
      ", saved best model.\n",
      "Epoch: 10 Train loss: 1.2268998859609876 Valid loss: 1.2517640052303192 Duration: 16.794916931788126 minutes\n",
      ", saved best model.\n",
      "Epoch: 11 Train loss: 1.2041522717816489 Valid loss: 1.2278852289722813 Duration: 18.316897773742674 minutes\n",
      ", saved best model.\n",
      "Epoch: 12 Train loss: 1.1816581868103573 Valid loss: 1.2070593708945858 Duration: 19.843420529365538 minutes\n",
      ", saved best model.\n",
      "Epoch: 13 Train loss: 1.1607238687787738 Valid loss: 1.185229782135256 Duration: 21.360763585567476 minutes\n",
      ", saved best model.\n",
      "Epoch: 14 Train loss: 1.1410006107602801 Valid loss: 1.167823052214038 Duration: 22.88212143580119 minutes\n",
      ", saved best model.\n",
      "Epoch: 15 Train loss: 1.122926258632115 Valid loss: 1.1502845152731864 Duration: 24.400899561246238 minutes\n",
      ", saved best model.\n",
      "Epoch: 16 Train loss: 1.1047870468752725 Valid loss: 1.1405325589641448 Duration: 25.937413930892944 minutes\n",
      ", saved best model.\n",
      "Epoch: 17 Train loss: 1.088713411773954 Valid loss: 1.1197714449897889 Duration: 27.46818188428879 minutes\n",
      ", saved best model.\n",
      "Epoch: 18 Train loss: 1.0717855465752737 Valid loss: 1.1022827259955867 Duration: 29.001266900698344 minutes\n",
      ", saved best model.\n",
      "Epoch: 19 Train loss: 1.0560751926558358 Valid loss: 1.088246621431843 Duration: 30.525800828138987 minutes\n",
      ", saved best model.\n",
      "Epoch: 20 Train loss: 1.0409186623096467 Valid loss: 1.0725029687727652 Duration: 32.027058041095735 minutes\n",
      ", saved best model.\n",
      "Epoch: 21 Train loss: 1.0260447168690818 Valid loss: 1.0545500824528355 Duration: 33.53581410249074 minutes\n",
      ", saved best model.\n",
      "Epoch: 22 Train loss: 1.011552783352988 Valid loss: 1.039562213805414 Duration: 35.03081068197886 minutes\n",
      ", saved best model.\n",
      "Epoch: 23 Train loss: 0.9973948913982936 Valid loss: 1.029554691045515 Duration: 36.502108351389566 minutes\n",
      ", saved best model.\n",
      "Epoch: 24 Train loss: 0.9835174147742135 Valid loss: 1.0193817817395734 Duration: 37.914603090286256 minutes\n",
      ", saved best model.\n",
      "Epoch: 25 Train loss: 0.9706857170036861 Valid loss: 1.0100832398860686 Duration: 39.41289091507594 minutes\n",
      ", saved best model.\n",
      "Epoch: 26 Train loss: 0.9593515400545938 Valid loss: 0.9924473502943593 Duration: 40.91401838858922 minutes\n",
      ", saved best model.\n",
      "Epoch: 27 Train loss: 0.9467757537364959 Valid loss: 0.9882614016532898 Duration: 42.40300005674362 minutes\n",
      ", saved best model.\n",
      "Epoch: 28 Train loss: 0.9361210267203195 Valid loss: 0.9742437476111997 Duration: 43.89532778263092 minutes\n",
      ", saved best model.\n",
      "Epoch: 29 Train loss: 0.9248681384495326 Valid loss: 0.9599979471775794 Duration: 45.37956560452779 minutes\n",
      ", saved best model.\n",
      "Epoch: 30 Train loss: 0.9143327712331499 Valid loss: 0.9504149508091712 Duration: 46.841543118158974 minutes\n",
      ", saved best model.\n",
      "Epoch: 31 Train loss: 0.9041877540860858 Valid loss: 0.9416865494943434 Duration: 48.33093458414078 minutes\n",
      ", saved best model.\n",
      "Epoch: 32 Train loss: 0.8943076431410654 Valid loss: 0.9304398240581635 Duration: 49.837122519811 minutes\n",
      ", saved best model.\n",
      "Epoch: 33 Train loss: 0.8844013336726597 Valid loss: 0.9199701797577643 Duration: 51.33803119659424 minutes\n",
      ", saved best model.\n",
      "Epoch: 34 Train loss: 0.8751732334068844 Valid loss: 0.9087089050200677 Duration: 52.813981028397876 minutes\n",
      ", saved best model.\n",
      "Epoch: 35 Train loss: 0.866310262475695 Valid loss: 0.905012845993042 Duration: 54.25451460282008 minutes\n",
      ", saved best model.\n",
      "Epoch: 36 Train loss: 0.8573129683562688 Valid loss: 0.899134531136482 Duration: 55.76725609699885 minutes\n",
      ", saved best model.\n",
      "Epoch: 37 Train loss: 0.8488295595305306 Valid loss: 0.8846638029621493 Duration: 57.22313327789307 minutes\n",
      ", saved best model.\n",
      "Epoch: 38 Train loss: 0.8402606604439872 Valid loss: 0.8824914780355269 Duration: 58.693975524107614 minutes\n",
      ", saved best model.\n",
      "Epoch: 39 Train loss: 0.8343257940667016 Valid loss: 0.8736334731501918 Duration: 60.18267000118892 minutes\n",
      ", saved best model.\n",
      "Epoch: 40 Train loss: 0.826575665473938 Valid loss: 0.8619341013893005 Duration: 61.67168277104695 minutes\n",
      ", saved best model.\n",
      "Epoch: 41 Train loss: 0.8178239449943815 Valid loss: 0.8554090126868217 Duration: 63.15645523866018 minutes\n",
      ", saved best model.\n",
      "Epoch: 42 Train loss: 0.8111112010478974 Valid loss: 0.8523814428237176 Duration: 64.65107601086298 minutes\n",
      ", saved best model.\n",
      "Epoch: 43 Train loss: 0.8039965874637877 Valid loss: 0.8463539543651766 Duration: 66.14330749909082 minutes\n",
      ", saved best model.\n",
      "Epoch: 44 Train loss: 0.7969108970335552 Valid loss: 0.8394120922011714 Duration: 67.63514616489411 minutes\n",
      ", saved best model.\n",
      "Epoch: 45 Train loss: 0.7902448597635542 Valid loss: 0.8313602478273453 Duration: 69.12193549076716 minutes\n",
      ", saved best model.\n",
      "Epoch: 46 Train loss: 0.7834503734111786 Valid loss: 0.8278928355824563 Duration: 70.61927724679312 minutes\n",
      ", saved best model.\n",
      "Epoch: 47 Train loss: 0.777145254101072 Valid loss: 0.8178140160537535 Duration: 72.1303501923879 minutes\n",
      ", saved best model.\n",
      "Epoch: 48 Train loss: 0.7709141425575529 Valid loss: 0.8122570601201826 Duration: 73.60824466943741 minutes\n",
      ", saved best model.\n",
      "Epoch: 49 Train loss: 0.7642060785634177 Valid loss: 0.8077197440208927 Duration: 75.07354145050049 minutes\n",
      ", saved best model.\n",
      "Epoch: 50 Train loss: 0.7582961923224585 Valid loss: 0.8030885034991849 Duration: 76.53398266235988 minutes\n",
      ", saved best model.\n",
      "Epoch: 51 Train loss: 0.7523897731474468 Valid loss: 0.7947790641938487 Duration: 78.02979358434678 minutes\n",
      ", saved best model.\n",
      "Epoch: 52 Train loss: 0.7461932945081166 Valid loss: 0.7931159854896607 Duration: 79.49534811178843 minutes\n",
      ", saved best model.\n",
      "Epoch: 53 Train loss: 0.7402934011731829 Valid loss: 0.7843963354825974 Duration: 80.99123884042105 minutes\n",
      ", saved best model.\n",
      "Epoch: 54 Train loss: 0.7349217923879623 Valid loss: 0.7787130600021731 Duration: 82.50086710055669 minutes\n",
      ", saved best model.\n",
      "Epoch: 55 Train loss: 0.7294412667581013 Valid loss: 0.7713611423969269 Duration: 84.00014487504959 minutes\n",
      ", saved best model.\n",
      "Epoch: 56 Train loss: 0.7236471440110888 Valid loss: 0.7673001659493293 Duration: 85.5034820040067 minutes\n",
      ", saved best model.\n",
      "Epoch: 57 Train loss: 0.7181652174166271 Valid loss: 0.7609034911278756 Duration: 87.00420597791671 minutes\n",
      ", saved best model.\n",
      "Epoch: 58 Train loss: 0.7125194414513452 Valid loss: 0.7577404004912223 Duration: 88.50689334869385 minutes\n",
      ", saved best model.\n",
      "Epoch: 59 Train loss: 0.707318977202688 Valid loss: 0.7520622769671101 Duration: 89.9771799882253 minutes\n",
      ", saved best model.\n",
      "Epoch: 60 Train loss: 0.7021984868901117 Valid loss: 0.7474704327121857 Duration: 91.45824734767278 minutes\n",
      ", saved best model.\n",
      "Epoch: 61 Train loss: 0.6968301402500697 Valid loss: 0.7431826947196838 Duration: 92.9478468298912 minutes\n",
      ", saved best model.\n",
      "Epoch: 62 Train loss: 0.6927597953762327 Valid loss: 0.7387745841856925 Duration: 94.44803160826365 minutes\n",
      ", saved best model.\n",
      "Epoch: 63 Train loss: 0.6887632563284465 Valid loss: 0.7330640698632886 Duration: 95.95439585447312 minutes\n",
      ", saved best model.\n",
      "Epoch: 64 Train loss: 0.6834551721640996 Valid loss: 0.730006488100175 Duration: 97.45297701358795 minutes\n",
      ", saved best model.\n"
     ]
    },
    {
     "name": "stdout",
     "output_type": "stream",
     "text": [
      "Epoch: 65 Train loss: 0.6793209478514535 Valid loss: 0.7244130916172459 Duration: 98.96332377195358 minutes\n",
      ", saved best model.\n",
      "Epoch: 66 Train loss: 0.6744405015196119 Valid loss: 0.7187133575639417 Duration: 100.43000594774882 minutes\n",
      ", saved best model.\n",
      "Epoch: 67 Train loss: 0.6693591668605804 Valid loss: 0.7139950673426351 Duration: 101.93579049905141 minutes\n",
      ", saved best model.\n",
      "Epoch: 68 Train loss: 0.6646596863951002 Valid loss: 0.708914692844114 Duration: 103.40894486109416 minutes\n",
      ", saved best model.\n",
      "Epoch: 69 Train loss: 0.6598620338950838 Valid loss: 0.7041470898735908 Duration: 104.91827701330185 minutes\n",
      ", saved best model.\n",
      "Epoch: 70 Train loss: 0.6551266946281705 Valid loss: 0.7006894801893542 Duration: 106.40257918437322 minutes\n",
      ", saved best model.\n",
      "Epoch: 71 Train loss: 0.649954145022801 Valid loss: 0.6940914555903404 Duration: 107.88934723536174 minutes\n",
      ", saved best model.\n",
      "Epoch: 72 Train loss: 0.6447508984633854 Valid loss: 0.6951710403926911 Duration: 109.36372276147206 minutes\n",
      "Epoch: 73 Train loss: 0.6401032292161669 Valid loss: 0.6860260314518406 Duration: 110.85179692904154 minutes\n",
      ", saved best model.\n",
      "Epoch: 74 Train loss: 0.6361254593474525 Valid loss: 0.6846528495511701 Duration: 112.31943290233612 minutes\n",
      ", saved best model.\n",
      "Epoch: 75 Train loss: 0.6313331608601979 Valid loss: 0.6726270342065442 Duration: 113.80394390821456 minutes\n",
      ", saved best model.\n",
      "Epoch: 76 Train loss: 0.6268721220833915 Valid loss: 0.6698172183767441 Duration: 115.30531183083852 minutes\n",
      ", saved best model.\n",
      "Epoch: 77 Train loss: 0.6223423980985369 Valid loss: 0.6724628315817925 Duration: 116.74465613762537 minutes\n",
      "Epoch: 78 Train loss: 0.6190802649600166 Valid loss: 0.6641568070457827 Duration: 118.22533004283905 minutes\n",
      ", saved best model.\n",
      "Epoch: 79 Train loss: 0.6155521626302174 Valid loss: 0.66267359737427 Duration: 119.7135073741277 minutes\n",
      ", saved best model.\n",
      "Epoch: 80 Train loss: 0.6109989511966706 Valid loss: 0.6600933382588048 Duration: 121.21196268002193 minutes\n",
      ", saved best model.\n",
      "Epoch: 81 Train loss: 0.6069083705118724 Valid loss: 0.6557040310675099 Duration: 122.67613366047541 minutes\n",
      ", saved best model.\n",
      "Epoch: 82 Train loss: 0.6028722295079912 Valid loss: 0.6496736075608961 Duration: 124.09013080596924 minutes\n",
      ", saved best model.\n",
      "Epoch: 83 Train loss: 0.5988116734027863 Valid loss: 0.6479153229344276 Duration: 125.58388833204906 minutes\n",
      ", saved best model.\n",
      "Epoch: 84 Train loss: 0.5949770548854555 Valid loss: 0.6512502528006031 Duration: 127.08696551720301 minutes\n",
      "Epoch: 85 Train loss: 0.5911884835617883 Valid loss: 0.6397493813307055 Duration: 128.5726436416308 minutes\n",
      ", saved best model.\n",
      "Epoch: 86 Train loss: 0.5865450500420162 Valid loss: 0.6382844174100507 Duration: 130.06803679068884 minutes\n",
      ", saved best model.\n",
      "Epoch: 87 Train loss: 0.5819813904251371 Valid loss: 0.6331597172444866 Duration: 131.53397338390351 minutes\n",
      ", saved best model.\n",
      "Epoch: 88 Train loss: 0.5783776045186179 Valid loss: 0.6326053027183779 Duration: 133.03929706414542 minutes\n",
      ", saved best model.\n",
      "Epoch: 89 Train loss: 0.577755751490593 Valid loss: 0.6320787610546235 Duration: 134.51300615866978 minutes\n",
      ", saved best model.\n",
      "Epoch: 90 Train loss: 0.5777427056176322 Valid loss: 0.6255505940606517 Duration: 136.02345892190934 minutes\n",
      ", saved best model.\n",
      "Epoch: 91 Train loss: 0.5689428134645734 Valid loss: 0.615673073837834 Duration: 137.52133407592774 minutes\n",
      ", saved best model.\n",
      "Epoch: 92 Train loss: 0.5633143676689693 Valid loss: 0.618776261806488 Duration: 139.0252562125524 minutes\n",
      "Epoch: 93 Train loss: 0.5597428248780114 Valid loss: 0.6078685440363423 Duration: 140.50420428117116 minutes\n",
      ", saved best model.\n",
      "Epoch: 94 Train loss: 0.5559043192522867 Valid loss: 0.6074857610848642 Duration: 141.99223649104437 minutes\n",
      ", saved best model.\n",
      "Epoch: 95 Train loss: 0.552588706953185 Valid loss: 0.6064888411952604 Duration: 143.4936680873235 minutes\n",
      ", saved best model.\n",
      "Epoch: 96 Train loss: 0.5522045888219561 Valid loss: 0.6131242927043669 Duration: 144.98823058605194 minutes\n",
      "Epoch: 97 Train loss: 0.5482948021377836 Valid loss: 0.5987777234085144 Duration: 146.47780484755833 minutes\n",
      ", saved best model.\n",
      "Epoch: 98 Train loss: 0.5510831016472407 Valid loss: 0.6017787374796406 Duration: 147.97837098439535 minutes\n",
      "Epoch: 99 Train loss: 0.5509878849472318 Valid loss: 0.6015552056412543 Duration: 149.48062258561453 minutes\n",
      "Epoch: 100 Train loss: 0.5484995398691722 Valid loss: 0.5999028629833653 Duration: 150.97418115139007 minutes\n",
      "Epoch: 101 Train loss: 0.5447035719667163 Valid loss: 0.5988147739441164 Duration: 152.46385746002198 minutes\n",
      "Epoch: 102 Train loss: 0.5407937722887312 Valid loss: 0.5888321668870987 Duration: 153.93731286525727 minutes\n",
      ", saved best model.\n",
      "Epoch: 103 Train loss: 0.5359309741088322 Valid loss: 0.5886117412197974 Duration: 155.43458940585455 minutes\n",
      ", saved best model.\n",
      "Epoch: 104 Train loss: 0.5288421017442431 Valid loss: 0.579109761503435 Duration: 156.93642925818762 minutes\n",
      ", saved best model.\n",
      "Epoch: 105 Train loss: 0.525677009173802 Valid loss: 0.5816278423993818 Duration: 158.43519672552745 minutes\n",
      "Epoch: 106 Train loss: 0.5233650162730898 Valid loss: 0.5798602099380186 Duration: 159.88476550976435 minutes\n",
      "Epoch: 107 Train loss: 0.5224065638099398 Valid loss: 0.5753336221941056 Duration: 161.32649744351704 minutes\n",
      ", saved best model.\n",
      "Epoch: 108 Train loss: 0.5167802084173475 Valid loss: 0.5665422149242894 Duration: 162.82979717652003 minutes\n",
      ", saved best model.\n",
      "Epoch: 109 Train loss: 0.5141856139728002 Valid loss: 0.5756238852777789 Duration: 164.3334107240041 minutes\n",
      "Epoch: 110 Train loss: 0.5185889081784657 Valid loss: 0.5713952582690024 Duration: 165.82770889202754 minutes\n",
      "Epoch: 111 Train loss: 0.509987959589277 Valid loss: 0.5593760777865687 Duration: 167.27949743270875 minutes\n",
      ", saved best model.\n",
      "Epoch: 112 Train loss: 0.5052384323392596 Valid loss: 0.5602264274512568 Duration: 168.77599532206852 minutes\n",
      "Epoch: 113 Train loss: 0.5016113432986395 Valid loss: 0.5545520960323272 Duration: 170.25867237250011 minutes\n",
      ", saved best model.\n",
      "Epoch: 114 Train loss: 0.5009825920547758 Valid loss: 0.5555398901624065 Duration: 171.76452269951503 minutes\n",
      "Epoch: 115 Train loss: 0.49599286976030893 Valid loss: 0.5463149643713429 Duration: 173.2690196633339 minutes\n",
      ", saved best model.\n",
      "Epoch: 116 Train loss: 0.49286657987322124 Valid loss: 0.5471441404473397 Duration: 174.77215614318848 minutes\n",
      "Epoch: 117 Train loss: 0.4914270695277623 Valid loss: 0.5420674864322909 Duration: 176.2767619172732 minutes\n",
      ", saved best model.\n",
      "Epoch: 118 Train loss: 0.4864549525294985 Valid loss: 0.542300050297091 Duration: 177.75329515536626 minutes\n",
      "Epoch: 119 Train loss: 0.48357822915485926 Valid loss: 0.5353793521081248 Duration: 179.2519443710645 minutes\n",
      ", saved best model.\n",
      "Epoch: 120 Train loss: 0.4833163670897484 Valid loss: 0.5343273407028567 Duration: 180.7609547694524 minutes\n",
      ", saved best model.\n",
      "Epoch: 121 Train loss: 0.480486543740545 Valid loss: 0.5301750835872465 Duration: 182.26742766300836 minutes\n",
      ", saved best model.\n",
      "Epoch: 122 Train loss: 0.4746586790766035 Valid loss: 0.5303246422160056 Duration: 183.75830318530402 minutes\n",
      "Epoch: 123 Train loss: 0.47213699982847485 Valid loss: 0.5260612065753629 Duration: 185.26653584241868 minutes\n",
      ", saved best model.\n",
      "Epoch: 124 Train loss: 0.46920572766235896 Valid loss: 0.5269800088097972 Duration: 186.77377822001776 minutes\n",
      "Epoch: 125 Train loss: 0.4673365815281868 Valid loss: 0.5221735849495857 Duration: 188.27536073128383 minutes\n",
      ", saved best model.\n",
      "Epoch: 126 Train loss: 0.4635889519708497 Valid loss: 0.5182380719530967 Duration: 189.7784906387329 minutes\n",
      ", saved best model.\n",
      "Epoch: 127 Train loss: 0.4609458834018026 Valid loss: 0.5149724132591679 Duration: 191.26018670399984 minutes\n",
      ", saved best model.\n",
      "Epoch: 128 Train loss: 0.4580254712785993 Valid loss: 0.5149993276403796 Duration: 192.73044841686885 minutes\n",
      "Epoch: 129 Train loss: 0.45623506512812206 Valid loss: 0.5092462998244071 Duration: 194.22390585343044 minutes\n",
      ", saved best model.\n",
      "Epoch: 130 Train loss: 0.45329306475605285 Valid loss: 0.5057223234926501 Duration: 195.72032412687938 minutes\n",
      ", saved best model.\n",
      "Epoch: 131 Train loss: 0.4502836972219603 Valid loss: 0.5045191039962154 Duration: 197.2072413365046 minutes\n",
      ", saved best model.\n"
     ]
    },
    {
     "name": "stdout",
     "output_type": "stream",
     "text": [
      "Epoch: 132 Train loss: 0.4481978247676577 Valid loss: 0.5035820540881926 Duration: 198.67293951511382 minutes\n",
      ", saved best model.\n",
      "Epoch: 133 Train loss: 0.45093062539611545 Valid loss: 0.5086714680637082 Duration: 200.09999171495437 minutes\n",
      "Epoch: 134 Train loss: 0.45232991268805095 Valid loss: 0.5071390944142495 Duration: 201.59702812433244 minutes\n",
      "Epoch: 135 Train loss: 0.4490302226969174 Valid loss: 0.4983093325168856 Duration: 203.08419292767843 minutes\n",
      ", saved best model.\n",
      "Epoch: 136 Train loss: 0.4438482653583799 Valid loss: 0.49888236580356476 Duration: 204.58079372644426 minutes\n",
      "Epoch: 137 Train loss: 0.44223463428871973 Valid loss: 0.49515367083011136 Duration: 206.07934842507044 minutes\n",
      ", saved best model.\n",
      "Epoch: 138 Train loss: 0.43981887263059616 Valid loss: 0.4883588946634723 Duration: 207.58512667020162 minutes\n",
      ", saved best model.\n",
      "Epoch: 139 Train loss: 0.43345798206329345 Valid loss: 0.4879675012442373 Duration: 209.09300603866578 minutes\n",
      ", saved best model.\n",
      "Epoch: 140 Train loss: 0.4292628856897354 Valid loss: 0.48794838665954526 Duration: 210.59894489447277 minutes\n",
      ", saved best model.\n",
      "Epoch: 141 Train loss: 0.4267412834422929 Valid loss: 0.4819428526586102 Duration: 212.09832369486492 minutes\n",
      ", saved best model.\n",
      "Epoch: 142 Train loss: 0.4227121286221913 Valid loss: 0.4756329266294356 Duration: 213.60640868345897 minutes\n",
      ", saved best model.\n",
      "Epoch: 143 Train loss: 0.4197731482045991 Valid loss: 0.47234643635249907 Duration: 215.12437082131703 minutes\n",
      ", saved best model.\n",
      "Epoch: 144 Train loss: 0.41882499577317917 Valid loss: 0.4730047436971818 Duration: 216.5935555100441 minutes\n",
      "Epoch: 145 Train loss: 0.41450027894973757 Valid loss: 0.46886381194476157 Duration: 218.0925219019254 minutes\n",
      ", saved best model.\n",
      "Epoch: 146 Train loss: 0.41198449045419694 Valid loss: 0.4663243079858442 Duration: 219.60470414559046 minutes\n",
      ", saved best model.\n",
      "Epoch: 147 Train loss: 0.4097387614250183 Valid loss: 0.46407928389887654 Duration: 221.10917613506317 minutes\n",
      ", saved best model.\n",
      "Epoch: 148 Train loss: 0.4069109542284693 Valid loss: 0.4620662139308068 Duration: 222.583007756869 minutes\n",
      ", saved best model.\n",
      "Epoch: 149 Train loss: 0.40478318122455054 Valid loss: 0.45847209182477766 Duration: 224.07448518276215 minutes\n",
      ", saved best model.\n",
      "Epoch: 150 Train loss: 0.40264491377558026 Valid loss: 0.456996705503233 Duration: 225.57146613995235 minutes\n",
      ", saved best model.\n",
      "Epoch: 151 Train loss: 0.3994904894573348 Valid loss: 0.45231383726481467 Duration: 227.0635926604271 minutes\n",
      ", saved best model.\n",
      "Epoch: 152 Train loss: 0.3971947137628283 Valid loss: 0.45474317285322374 Duration: 228.52989149490992 minutes\n",
      "Epoch: 153 Train loss: 0.3966363327758653 Valid loss: 0.44954377845410376 Duration: 229.9902592221896 minutes\n",
      ", saved best model.\n",
      "Epoch: 154 Train loss: 0.3921505895938192 Valid loss: 0.44659110278852526 Duration: 231.46889785528182 minutes\n",
      ", saved best model.\n",
      "Epoch: 155 Train loss: 0.39039203171219145 Valid loss: 0.44690691992159814 Duration: 232.96934738953908 minutes\n",
      "Epoch: 156 Train loss: 0.38826988156352726 Valid loss: 0.4439020291451485 Duration: 234.45901889006296 minutes\n",
      ", saved best model.\n",
      "Epoch: 157 Train loss: 0.3848789250084332 Valid loss: 0.43780585955227574 Duration: 235.95565456151962 minutes\n",
      ", saved best model.\n",
      "Epoch: 158 Train loss: 0.3841683192338262 Valid loss: 0.4350016340613365 Duration: 237.44664736588797 minutes\n",
      ", saved best model.\n",
      "Epoch: 159 Train loss: 0.3797040492807116 Valid loss: 0.4365322270220326 Duration: 238.95185432036718 minutes\n",
      "Epoch: 160 Train loss: 0.37757957129819053 Valid loss: 0.43184265638551406 Duration: 240.45088283220926 minutes\n",
      ", saved best model.\n",
      "Epoch: 161 Train loss: 0.37519259738922117 Valid loss: 0.42801862907025123 Duration: 241.95639814535778 minutes\n",
      ", saved best model.\n",
      "Epoch: 162 Train loss: 0.373051286646298 Valid loss: 0.4278430941124116 Duration: 243.4536278605461 minutes\n",
      ", saved best model.\n",
      "Epoch: 163 Train loss: 0.3711774181808744 Valid loss: 0.42530478873560507 Duration: 244.95483037233353 minutes\n",
      ", saved best model.\n",
      "Epoch: 164 Train loss: 0.3681090567282268 Valid loss: 0.4248150940383634 Duration: 246.45388450225195 minutes\n",
      ", saved best model.\n",
      "Epoch: 165 Train loss: 0.3687104041491236 Valid loss: 0.4218700643508665 Duration: 247.92351438999177 minutes\n",
      ", saved best model.\n",
      "Epoch: 166 Train loss: 0.3645383785877909 Valid loss: 0.4210861695389594 Duration: 249.39569547176362 minutes\n",
      ", saved best model.\n",
      "Epoch: 167 Train loss: 0.3627417361991746 Valid loss: 0.42044166595705096 Duration: 250.88627939621608 minutes\n",
      ", saved best model.\n",
      "Epoch: 168 Train loss: 0.36079497713702063 Valid loss: 0.42116057247884814 Duration: 252.38168734312057 minutes\n",
      "Epoch: 169 Train loss: 0.3581617628931999 Valid loss: 0.41138670112817516 Duration: 253.8932192603747 minutes\n",
      ", saved best model.\n",
      "Epoch: 170 Train loss: 0.35481355139187404 Valid loss: 0.4119018792144714 Duration: 255.38928271929424 minutes\n",
      "Epoch: 171 Train loss: 0.35253388616016934 Valid loss: 0.413992564764715 Duration: 256.8749569058418 minutes\n",
      "Epoch: 172 Train loss: 0.35556253345949307 Valid loss: 0.41116839551156564 Duration: 258.36815651655195 minutes\n",
      ", saved best model.\n",
      "Epoch: 173 Train loss: 0.35153853373868127 Valid loss: 0.40980134736145696 Duration: 259.84896930853523 minutes\n",
      ", saved best model.\n",
      "Epoch: 174 Train loss: 0.3460199176328523 Valid loss: 0.4050507860318307 Duration: 261.3244174281756 minutes\n",
      ", saved best model.\n",
      "Epoch: 175 Train loss: 0.34305758407286235 Valid loss: 0.39415597867581154 Duration: 262.840735467275 minutes\n",
      ", saved best model.\n",
      "Epoch: 176 Train loss: 0.3404427227803639 Valid loss: 0.39746986065180073 Duration: 264.3481157978376 minutes\n",
      "Epoch: 177 Train loss: 0.3388059872984886 Valid loss: 0.40521830440528933 Duration: 265.79533491929374 minutes\n",
      "Epoch: 178 Train loss: 0.3402510335786002 Valid loss: 0.39413203106772515 Duration: 267.2939489920934 minutes\n",
      ", saved best model.\n",
      "Epoch: 179 Train loss: 0.3378169375232288 Valid loss: 0.390626844619551 Duration: 268.7507430036863 minutes\n",
      ", saved best model.\n",
      "Epoch: 180 Train loss: 0.3349125240274838 Valid loss: 0.38999624982956915 Duration: 270.23193746407827 minutes\n",
      ", saved best model.\n",
      "Epoch: 181 Train loss: 0.3336320746924196 Valid loss: 0.38628617313600355 Duration: 271.7394685268402 minutes\n",
      ", saved best model.\n",
      "Epoch: 182 Train loss: 0.3296438111748014 Valid loss: 0.38297066525105505 Duration: 273.228140715758 minutes\n",
      ", saved best model.\n",
      "Epoch: 183 Train loss: 0.32742487803527287 Valid loss: 0.3789477122406806 Duration: 274.6709046204885 minutes\n",
      ", saved best model.\n",
      "Epoch: 184 Train loss: 0.32654575800044194 Valid loss: 0.37974616452570886 Duration: 276.15729315280913 minutes\n",
      "Epoch: 185 Train loss: 0.3243697874971799 Valid loss: 0.3808617361130253 Duration: 277.6520677924156 minutes\n",
      "Epoch: 186 Train loss: 0.3202223423889705 Valid loss: 0.3753389172977017 Duration: 279.06920820474625 minutes\n",
      ", saved best model.\n",
      "Epoch: 187 Train loss: 0.3167261606539999 Valid loss: 0.36765616675538404 Duration: 280.56893897453944 minutes\n",
      ", saved best model.\n",
      "Epoch: 188 Train loss: 0.3144400782414845 Valid loss: 0.36566552639968936 Duration: 282.0396628379822 minutes\n",
      ", saved best model.\n",
      "Epoch: 189 Train loss: 0.3127559084551675 Valid loss: 0.37002545691305594 Duration: 283.5467412869136 minutes\n",
      "Epoch: 190 Train loss: 0.3103940152440752 Valid loss: 0.3631760665485936 Duration: 285.0452711224556 minutes\n",
      ", saved best model.\n",
      "Epoch: 191 Train loss: 0.3097606482420649 Valid loss: 0.3646395134349023 Duration: 286.54741494258246 minutes\n",
      "Epoch: 192 Train loss: 0.3063332164798464 Valid loss: 0.36477470854597704 Duration: 288.0562416871389 minutes\n",
      "Epoch: 193 Train loss: 0.3042014513569219 Valid loss: 0.3590030504330512 Duration: 289.5714136282603 minutes\n",
      ", saved best model.\n",
      "Epoch: 194 Train loss: 0.3024958571706499 Valid loss: 0.3521207270603026 Duration: 291.07217030127845 minutes\n",
      ", saved best model.\n",
      "Epoch: 195 Train loss: 0.30019367881332126 Valid loss: 0.3526041803340758 Duration: 292.5646231849988 minutes\n",
      "Epoch: 196 Train loss: 0.29821632002506937 Valid loss: 0.3588923297582134 Duration: 294.0628321409225 minutes\n",
      "Epoch: 197 Train loss: 0.29752903851440976 Valid loss: 0.34893536711892775 Duration: 295.56088339885076 minutes\n",
      ", saved best model.\n"
     ]
    },
    {
     "name": "stdout",
     "output_type": "stream",
     "text": [
      "Epoch: 198 Train loss: 0.29415324132357323 Valid loss: 0.34672690639572756 Duration: 297.0524024883906 minutes\n",
      ", saved best model.\n",
      "Epoch: 199 Train loss: 0.2921852967951979 Valid loss: 0.3460968806137962 Duration: 298.50347618261975 minutes\n",
      ", saved best model.\n",
      "Epoch: 200 Train loss: 0.29042069648844854 Valid loss: 0.34322397098425894 Duration: 300.00827283064524 minutes\n",
      ", saved best model.\n",
      "Epoch: 201 Train loss: 0.2887121055041041 Valid loss: 0.34188925402779735 Duration: 301.5164472063382 minutes\n",
      ", saved best model.\n",
      "Epoch: 202 Train loss: 0.2862545535138675 Valid loss: 0.33895448811592593 Duration: 303.02321326732635 minutes\n",
      ", saved best model.\n",
      "Epoch: 203 Train loss: 0.2847559034824371 Valid loss: 0.33722089543457956 Duration: 304.5336232662201 minutes\n",
      ", saved best model.\n",
      "Epoch: 204 Train loss: 0.28297613781690595 Valid loss: 0.3363954563054346 Duration: 305.98781937360764 minutes\n",
      ", saved best model.\n",
      "Epoch: 205 Train loss: 0.28137518805691175 Valid loss: 0.3324240249010824 Duration: 307.459881790479 minutes\n",
      ", saved best model.\n",
      "Epoch: 206 Train loss: 0.279096742945058 Valid loss: 0.33229725255120185 Duration: 308.9565598607063 minutes\n",
      ", saved best model.\n",
      "Epoch: 207 Train loss: 0.2775614320167473 Valid loss: 0.3310045897960663 Duration: 310.44913730223976 minutes\n",
      ", saved best model.\n",
      "Epoch: 208 Train loss: 0.27547807421854564 Valid loss: 0.3343462932013696 Duration: 311.9031255086263 minutes\n",
      "Epoch: 209 Train loss: 0.2744674131316798 Valid loss: 0.328070031659257 Duration: 313.40492163101834 minutes\n",
      ", saved best model.\n",
      "Epoch: 210 Train loss: 0.2736041746224676 Valid loss: 0.3230234522732996 Duration: 314.9040721376737 minutes\n",
      ", saved best model.\n",
      "Epoch: 211 Train loss: 0.2703625996027674 Valid loss: 0.3217769041657448 Duration: 316.3904520750046 minutes\n",
      ", saved best model.\n",
      "Epoch: 212 Train loss: 0.2686529094406537 Valid loss: 0.3212145881787423 Duration: 317.88856552441916 minutes\n",
      ", saved best model.\n",
      "Epoch: 213 Train loss: 0.2668808211684227 Valid loss: 0.31906197027814004 Duration: 319.38902928431827 minutes\n",
      ", saved best model.\n",
      "Epoch: 214 Train loss: 0.26545040471213205 Valid loss: 0.3157291551751475 Duration: 320.862935423851 minutes\n",
      ", saved best model.\n",
      "Epoch: 215 Train loss: 0.2634344192956175 Valid loss: 0.3240306788394528 Duration: 322.34965717395147 minutes\n",
      "Epoch: 216 Train loss: 0.26180263756428446 Valid loss: 0.32383554044269747 Duration: 323.8536422173182 minutes\n",
      "Epoch: 217 Train loss: 0.2602776386354651 Valid loss: 0.31309502487701757 Duration: 325.3606157541275 minutes\n",
      ", saved best model.\n",
      "Epoch: 218 Train loss: 0.25852425312570165 Valid loss: 0.3109166166715084 Duration: 326.83673624197644 minutes\n",
      ", saved best model.\n",
      "Epoch: 219 Train loss: 0.25711960337417467 Valid loss: 0.3108257257169293 Duration: 328.28440644741056 minutes\n",
      ", saved best model.\n",
      "Epoch: 220 Train loss: 0.25518689175588744 Valid loss: 0.3106087609644859 Duration: 329.71195058822633 minutes\n",
      ", saved best model.\n",
      "Epoch: 221 Train loss: 0.2541802160867623 Valid loss: 0.3079106196040107 Duration: 331.205840086937 minutes\n",
      ", saved best model.\n",
      "Epoch: 222 Train loss: 0.25194933302487643 Valid loss: 0.30576327142696225 Duration: 332.6646200617154 minutes\n",
      ", saved best model.\n",
      "Epoch: 223 Train loss: 0.2540373822450638 Valid loss: 0.3153387796013586 Duration: 334.16430430412294 minutes\n",
      "Epoch: 224 Train loss: 0.2518642324379512 Valid loss: 0.3024367382449488 Duration: 335.68029998938243 minutes\n",
      ", saved best model.\n",
      "Epoch: 225 Train loss: 0.24863082617521287 Valid loss: 0.3017109512321411 Duration: 337.16849660873413 minutes\n",
      ", saved best model.\n",
      "Epoch: 226 Train loss: 0.24723519251602036 Valid loss: 0.2980578122360091 Duration: 338.6464190006256 minutes\n",
      ", saved best model.\n",
      "Epoch: 227 Train loss: 0.24434511744976042 Valid loss: 0.2967178315645264 Duration: 340.13509743213655 minutes\n",
      ", saved best model.\n",
      "Epoch: 228 Train loss: 0.2433489324407918 Valid loss: 0.2949224224975032 Duration: 341.62221578359606 minutes\n",
      ", saved best model.\n",
      "Epoch: 229 Train loss: 0.24193774837681226 Valid loss: 0.29335945087575144 Duration: 343.114786028862 minutes\n",
      ", saved best model.\n",
      "Epoch: 230 Train loss: 0.24354176347596304 Valid loss: 0.2913338730652486 Duration: 344.60282886425654 minutes\n",
      ", saved best model.\n",
      "Epoch: 231 Train loss: 0.23891600789342607 Valid loss: 0.29445768339980033 Duration: 346.1115466872851 minutes\n",
      "Epoch: 232 Train loss: 0.23873463747331075 Valid loss: 0.28891796835007205 Duration: 347.6066784620285 minutes\n",
      ", saved best model.\n",
      "Epoch: 233 Train loss: 0.23587513263736454 Valid loss: 0.28827970270668307 Duration: 349.1126499613126 minutes\n",
      ", saved best model.\n",
      "Epoch: 234 Train loss: 0.23466443714499474 Valid loss: 0.28985735653869565 Duration: 350.6041908224424 minutes\n",
      "Epoch: 235 Train loss: 0.23344360577634402 Valid loss: 0.2855303095233056 Duration: 352.1074035525322 minutes\n",
      ", saved best model.\n",
      "Epoch: 236 Train loss: 0.23310737898945808 Valid loss: 0.28461381264271274 Duration: 353.5871255238851 minutes\n",
      ", saved best model.\n",
      "Epoch: 237 Train loss: 0.23027369864923614 Valid loss: 0.2824822986318219 Duration: 355.0835685213407 minutes\n",
      ", saved best model.\n",
      "Epoch: 238 Train loss: 0.22979022845625877 Valid loss: 0.28185814354688893 Duration: 356.5871448238691 minutes\n",
      ", saved best model.\n",
      "Epoch: 239 Train loss: 0.22839365266050612 Valid loss: 0.2826224255465692 Duration: 358.08598531881967 minutes\n",
      "Epoch: 240 Train loss: 0.22665142509766986 Valid loss: 0.28062342119313055 Duration: 359.57836883068086 minutes\n",
      ", saved best model.\n",
      "Epoch: 241 Train loss: 0.22673695173220976 Valid loss: 0.2767023978935134 Duration: 361.07943346500394 minutes\n",
      ", saved best model.\n",
      "Epoch: 242 Train loss: 0.22396872772063528 Valid loss: 0.2800743505358696 Duration: 362.5741566697756 minutes\n",
      "Epoch: 243 Train loss: 0.22287905406526157 Valid loss: 0.27517336150330884 Duration: 364.07390216588976 minutes\n",
      ", saved best model.\n",
      "Epoch: 244 Train loss: 0.2220169133927141 Valid loss: 0.2733854606987969 Duration: 365.57128934462867 minutes\n",
      ", saved best model.\n",
      "Epoch: 245 Train loss: 0.2207915700503758 Valid loss: 0.2702215465326463 Duration: 367.09066239595415 minutes\n",
      ", saved best model.\n",
      "Epoch: 246 Train loss: 0.21967946837203844 Valid loss: 0.2690962329506874 Duration: 368.5660163362821 minutes\n",
      ", saved best model.\n",
      "Epoch: 247 Train loss: 0.21854282049196108 Valid loss: 0.2845211679175977 Duration: 370.06474424203236 minutes\n",
      "Epoch: 248 Train loss: 0.21743669023258347 Valid loss: 0.2700113512335285 Duration: 371.5586521665255 minutes\n",
      "Epoch: 249 Train loss: 0.21579660687276295 Valid loss: 0.26901151107684257 Duration: 373.0358412106832 minutes\n",
      ", saved best model.\n",
      "Epoch: 250 Train loss: 0.21456621689881597 Valid loss: 0.266767538963787 Duration: 374.53072835206984 minutes\n",
      ", saved best model.\n",
      "Epoch: 251 Train loss: 0.21385956883856228 Valid loss: 0.2705009243180675 Duration: 376.01830683549247 minutes\n",
      "Epoch: 252 Train loss: 0.21236292755178043 Valid loss: 0.26643079230862277 Duration: 377.52358169953027 minutes\n",
      ", saved best model.\n",
      "Epoch: 253 Train loss: 0.21131480981622425 Valid loss: 0.2640987905042787 Duration: 379.01961127916974 minutes\n",
      ", saved best model.\n",
      "Epoch: 254 Train loss: 0.2108681000471115 Valid loss: 0.26348134875297546 Duration: 380.5246074875196 minutes\n",
      ", saved best model.\n",
      "Epoch: 255 Train loss: 0.2104470530152321 Valid loss: 0.262951799818585 Duration: 382.0317315061887 minutes\n",
      ", saved best model.\n",
      "Epoch: 256 Train loss: 0.2076400960598673 Valid loss: 0.2675599023219078 Duration: 383.5364084283511 minutes\n",
      "Epoch: 257 Train loss: 0.20831043757711137 Valid loss: 0.260294167024474 Duration: 385.0183041969935 minutes\n",
      ", saved best model.\n",
      "Epoch: 258 Train loss: 0.20810066809824534 Valid loss: 0.2591280219776015 Duration: 386.4789821426074 minutes\n",
      ", saved best model.\n",
      "Epoch: 259 Train loss: 0.20693993006859507 Valid loss: 0.2585884466046287 Duration: 387.98341080347694 minutes\n",
      ", saved best model.\n",
      "Epoch: 260 Train loss: 0.2039662488911833 Valid loss: 0.2538962248832949 Duration: 389.4832158962885 minutes\n",
      ", saved best model.\n",
      "Epoch: 261 Train loss: 0.20329880851932935 Valid loss: 0.2528906887577426 Duration: 390.9957629919052 minutes\n",
      ", saved best model.\n",
      "Epoch: 262 Train loss: 0.20144010254740716 Valid loss: 0.25741038723818715 Duration: 392.49128598769505 minutes\n"
     ]
    },
    {
     "name": "stdout",
     "output_type": "stream",
     "text": [
      "Epoch: 263 Train loss: 0.20080649611779622 Valid loss: 0.25687064230442047 Duration: 393.94684640963874 minutes\n",
      "Epoch: 264 Train loss: 0.19913340354391507 Valid loss: 0.2477531341775771 Duration: 395.4045862555504 minutes\n",
      ", saved best model.\n",
      "Epoch: 265 Train loss: 0.19889218302709716 Valid loss: 0.24720956192862603 Duration: 396.90022894144056 minutes\n",
      ", saved best model.\n",
      "Epoch: 266 Train loss: 0.19720017644762994 Valid loss: 0.24762756641834013 Duration: 398.3910961906115 minutes\n",
      "Epoch: 267 Train loss: 0.1966570158238922 Valid loss: 0.24563330087450244 Duration: 399.8894765297572 minutes\n",
      ", saved best model.\n",
      "Epoch: 268 Train loss: 0.1956399308698518 Valid loss: 0.2463655235065568 Duration: 401.3858583251635 minutes\n",
      "Epoch: 269 Train loss: 0.19458618102754865 Valid loss: 0.2453583695234791 Duration: 402.89167675177254 minutes\n",
      ", saved best model.\n",
      "Epoch: 270 Train loss: 0.1937352590156453 Valid loss: 0.24260483862411591 Duration: 404.39323863188423 minutes\n",
      ", saved best model.\n",
      "Epoch: 271 Train loss: 0.19280073503085546 Valid loss: 0.2459322240564131 Duration: 405.8827137152354 minutes\n",
      "Epoch: 272 Train loss: 0.19185183969991548 Valid loss: 0.24399473566201427 Duration: 407.3672411719958 minutes\n",
      "Epoch: 273 Train loss: 0.19088320170555795 Valid loss: 0.2504360369376598 Duration: 408.8606674234072 minutes\n",
      "Epoch: 274 Train loss: 0.19006109791355474 Valid loss: 0.23836842671998085 Duration: 410.3645984093348 minutes\n",
      ", saved best model.\n",
      "Epoch: 275 Train loss: 0.1898733257140432 Valid loss: 0.23709122812555683 Duration: 411.852839076519 minutes\n",
      ", saved best model.\n",
      "Epoch: 276 Train loss: 0.18776480283481733 Valid loss: 0.2369673270131311 Duration: 413.3489041686058 minutes\n",
      ", saved best model.\n",
      "Epoch: 277 Train loss: 0.18705731219479016 Valid loss: 0.23967413303832855 Duration: 414.8417673746745 minutes\n",
      "Epoch: 278 Train loss: 0.18635696532045093 Valid loss: 0.2398608668196586 Duration: 416.32382697661717 minutes\n",
      "Epoch: 279 Train loss: 0.18513055758178235 Valid loss: 0.23540725438825547 Duration: 417.80590577920276 minutes\n",
      ", saved best model.\n",
      "Epoch: 280 Train loss: 0.18450185355118343 Valid loss: 0.23511934664941603 Duration: 419.324637901783 minutes\n",
      ", saved best model.\n",
      "Epoch: 281 Train loss: 0.18374007927094188 Valid loss: 0.23366974168006452 Duration: 420.8225558718046 minutes\n",
      ", saved best model.\n",
      "Epoch: 282 Train loss: 0.18258302954690797 Valid loss: 0.23154496137172945 Duration: 422.3060958663622 minutes\n",
      ", saved best model.\n",
      "Epoch: 283 Train loss: 0.18197561292563166 Valid loss: 0.23290547836692102 Duration: 423.7933125893275 minutes\n",
      "Epoch: 284 Train loss: 0.1806915967975344 Valid loss: 0.23224762250338832 Duration: 425.27905826568605 minutes\n",
      "Epoch: 285 Train loss: 0.18021722976863383 Valid loss: 0.23171954577968967 Duration: 426.7584126075109 minutes\n",
      "Epoch: 286 Train loss: 0.17910611127316953 Valid loss: 0.22837525870530836 Duration: 428.2622973839442 minutes\n",
      ", saved best model.\n",
      "Epoch: 287 Train loss: 0.17845526982205254 Valid loss: 0.23035447119224456 Duration: 429.745931216081 minutes\n",
      "Epoch: 288 Train loss: 0.17767468132930142 Valid loss: 0.22868839867653384 Duration: 431.24514373540876 minutes\n",
      "Epoch: 289 Train loss: 0.176451567911676 Valid loss: 0.22808815971497567 Duration: 432.748413225015 minutes\n",
      ", saved best model.\n",
      "Epoch: 290 Train loss: 0.17568973657063075 Valid loss: 0.2268166327548604 Duration: 434.23132177988685 minutes\n",
      ", saved best model.\n",
      "Epoch: 291 Train loss: 0.17503292605068002 Valid loss: 0.22582590339645262 Duration: 435.7375212709109 minutes\n",
      ", saved best model.\n",
      "Epoch: 292 Train loss: 0.1741030944458076 Valid loss: 0.22644987546147838 Duration: 437.23394588629407 minutes\n",
      "Epoch: 293 Train loss: 0.17330049423873425 Valid loss: 0.22395150285334356 Duration: 438.7318948070208 minutes\n",
      ", saved best model.\n",
      "Epoch: 294 Train loss: 0.17231624488745417 Valid loss: 0.22449552736455394 Duration: 440.2451424439748 minutes\n",
      "Epoch: 295 Train loss: 0.17177882062963076 Valid loss: 0.22364279753979174 Duration: 441.6727959513664 minutes\n",
      ", saved best model.\n",
      "Epoch: 296 Train loss: 0.1714498415333884 Valid loss: 0.22369729204764288 Duration: 443.17431307633717 minutes\n",
      "Epoch: 297 Train loss: 0.17110427499456066 Valid loss: 0.22303280961369315 Duration: 444.6372880578041 minutes\n",
      ", saved best model.\n",
      "Epoch: 298 Train loss: 0.17042202025013312 Valid loss: 0.2242175810519726 Duration: 446.1062290986379 minutes\n",
      "Epoch: 299 Train loss: 0.1693420412327562 Valid loss: 0.2208227684060412 Duration: 447.5830518960953 minutes\n",
      ", saved best model.\n",
      "Epoch: 300 Train loss: 0.16849736966192722 Valid loss: 0.21829211405448376 Duration: 449.07475715875626 minutes\n",
      ", saved best model.\n",
      "Epoch: 301 Train loss: 0.16789320341391223 Valid loss: 0.22096302654714353 Duration: 450.59418766101203 minutes\n",
      "Epoch: 302 Train loss: 0.16677144783096653 Valid loss: 0.21664388603981463 Duration: 452.0902345577876 minutes\n",
      ", saved best model.\n",
      "Epoch: 303 Train loss: 0.16624654264109476 Valid loss: 0.21515848691905698 Duration: 453.57415967384975 minutes\n",
      ", saved best model.\n",
      "Epoch: 304 Train loss: 0.16548534221947192 Valid loss: 0.21618355774591047 Duration: 455.0696220159531 minutes\n",
      "Epoch: 305 Train loss: 0.1653586442321539 Valid loss: 0.21297605918540108 Duration: 456.52359258731207 minutes\n",
      ", saved best model.\n",
      "Epoch: 306 Train loss: 0.16351106521912984 Valid loss: 0.21567910693345532 Duration: 458.0250061670939 minutes\n",
      "Epoch: 307 Train loss: 0.16268143271761282 Valid loss: 0.21208217511734656 Duration: 459.5237294197083 minutes\n",
      ", saved best model.\n",
      "Epoch: 308 Train loss: 0.16280626854726246 Valid loss: 0.21337993527131696 Duration: 461.01959460576376 minutes\n",
      "Epoch: 309 Train loss: 0.16141408265914237 Valid loss: 0.2132227908699743 Duration: 462.49793466726936 minutes\n",
      "Epoch: 310 Train loss: 0.16097478783556393 Valid loss: 0.21131932392956748 Duration: 463.9860054294268 minutes\n",
      ", saved best model.\n",
      "Epoch: 311 Train loss: 0.16015222071324076 Valid loss: 0.2110199177817952 Duration: 465.48561719655993 minutes\n",
      ", saved best model.\n",
      "Epoch: 312 Train loss: 0.16085559031367302 Valid loss: 0.20934465851995251 Duration: 466.9952117641767 minutes\n",
      ", saved best model.\n",
      "Epoch: 313 Train loss: 0.1588809609285423 Valid loss: 0.20926851929435808 Duration: 468.49567686716716 minutes\n",
      ", saved best model.\n",
      "Epoch: 314 Train loss: 0.15818190697048393 Valid loss: 0.2108859676387041 Duration: 469.9743459224701 minutes\n",
      "Epoch: 315 Train loss: 0.15717913683184556 Valid loss: 0.20631077975755738 Duration: 471.46974877913794 minutes\n",
      ", saved best model.\n",
      "Epoch: 316 Train loss: 0.15663391219079495 Valid loss: 0.2041335575162403 Duration: 472.9615407387416 minutes\n",
      ", saved best model.\n",
      "Epoch: 317 Train loss: 0.15601559507846832 Valid loss: 0.20719854257279827 Duration: 474.4629213372866 minutes\n",
      "Epoch: 318 Train loss: 0.15502264491149356 Valid loss: 0.2018780896380063 Duration: 475.95715037584307 minutes\n",
      ", saved best model.\n",
      "Epoch: 319 Train loss: 0.15432641554517407 Valid loss: 0.20485600793073255 Duration: 477.45314402977624 minutes\n",
      "Epoch: 320 Train loss: 0.15397409632908446 Valid loss: 0.2040464995248664 Duration: 478.9477724432945 minutes\n",
      "Epoch: 321 Train loss: 0.15257524047153337 Valid loss: 0.20565841773584967 Duration: 480.4461824973424 minutes\n",
      "Epoch: 322 Train loss: 0.15256677903447832 Valid loss: 0.20186264891057246 Duration: 481.9143172542254 minutes\n",
      ", saved best model.\n",
      "Epoch: 323 Train loss: 0.15164983353231634 Valid loss: 0.19927392503426922 Duration: 483.3946266015371 minutes\n",
      ", saved best model.\n",
      "Epoch: 324 Train loss: 0.15105413788131306 Valid loss: 0.20059620126360847 Duration: 484.89194707075757 minutes\n",
      "Epoch: 325 Train loss: 0.15050086996597903 Valid loss: 0.1993511392464561 Duration: 486.39050006866455 minutes\n",
      "Epoch: 326 Train loss: 0.1496387462743691 Valid loss: 0.19910136718423135 Duration: 487.8705142815908 minutes\n",
      ", saved best model.\n",
      "Epoch: 327 Train loss: 0.14901796569143022 Valid loss: 0.19571211898038465 Duration: 489.3102198322614 minutes\n",
      ", saved best model.\n",
      "Epoch: 328 Train loss: 0.14846748178984437 Valid loss: 0.19586489499816973 Duration: 490.79474030335746 minutes\n",
      "Epoch: 329 Train loss: 0.1473358445699726 Valid loss: 0.1950165491791502 Duration: 492.2473546862602 minutes\n",
      ", saved best model.\n",
      "Epoch: 330 Train loss: 0.146617134898901 Valid loss: 0.20030789401742718 Duration: 493.73742485841115 minutes\n"
     ]
    },
    {
     "name": "stdout",
     "output_type": "stream",
     "text": [
      "Epoch: 331 Train loss: 0.14590332413784096 Valid loss: 0.19458567819768383 Duration: 495.22905847231544 minutes\n",
      ", saved best model.\n",
      "Epoch: 332 Train loss: 0.14547941101874623 Valid loss: 0.19727913686825382 Duration: 496.72575150330863 minutes\n",
      "Epoch: 333 Train loss: 0.1447943799772433 Valid loss: 0.19344086079828202 Duration: 498.23112214803695 minutes\n",
      ", saved best model.\n",
      "Epoch: 334 Train loss: 0.14427110324800013 Valid loss: 0.19504367818515148 Duration: 499.72946886618934 minutes\n",
      "Epoch: 335 Train loss: 0.14382646058712686 Valid loss: 0.19078317128362193 Duration: 501.2335102478663 minutes\n",
      ", saved best model.\n",
      "Epoch: 336 Train loss: 0.14287509240210056 Valid loss: 0.19950769312920108 Duration: 502.73219503561654 minutes\n",
      "Epoch: 337 Train loss: 0.14202245113466466 Valid loss: 0.19390439368303744 Duration: 504.2305729230245 minutes\n",
      "Epoch: 338 Train loss: 0.14175182256315436 Valid loss: 0.19005418556832498 Duration: 505.7311152299245 minutes\n",
      ", saved best model.\n",
      "Epoch: 339 Train loss: 0.14077674975139753 Valid loss: 0.18969285271821484 Duration: 507.2162624994914 minutes\n",
      ", saved best model.\n",
      "Epoch: 340 Train loss: 0.1402397778310946 Valid loss: 0.1979862625199941 Duration: 508.701434592406 minutes\n",
      "Epoch: 341 Train loss: 0.13964074294907705 Valid loss: 0.18931969910139038 Duration: 510.21553921699524 minutes\n",
      ", saved best model.\n",
      "Epoch: 342 Train loss: 0.13930874750230993 Valid loss: 0.19690898391267947 Duration: 511.7177112499873 minutes\n",
      "Epoch: 343 Train loss: 0.13842558109973158 Valid loss: 0.18389717249139662 Duration: 513.1981566150984 minutes\n",
      ", saved best model.\n",
      "Epoch: 344 Train loss: 0.1376668683311769 Valid loss: 0.1875327459626621 Duration: 514.6960753281911 minutes\n",
      "Epoch: 345 Train loss: 0.13718708530919893 Valid loss: 0.18361230266671028 Duration: 516.1655145645142 minutes\n",
      ", saved best model.\n",
      "Epoch: 346 Train loss: 0.1362040285893849 Valid loss: 0.18767523543248255 Duration: 517.6653805931409 minutes\n",
      "Epoch: 347 Train loss: 0.136153186204178 Valid loss: 0.1866856938408267 Duration: 519.1677914381028 minutes\n",
      "Epoch: 348 Train loss: 0.1354007624260017 Valid loss: 0.18756398732864088 Duration: 520.6701416055362 minutes\n",
      "Epoch: 349 Train loss: 0.13503928619197436 Valid loss: 0.180087003977068 Duration: 522.1709423700969 minutes\n",
      ", saved best model.\n",
      "Epoch: 350 Train loss: 0.134254925429821 Valid loss: 0.1803787431769794 Duration: 523.6216868321101 minutes\n",
      "Epoch: 351 Train loss: 0.13299799569589751 Valid loss: 0.1825506300214798 Duration: 525.0895418286324 minutes\n",
      "Epoch: 352 Train loss: 0.13298861635369913 Valid loss: 0.1836212318270437 Duration: 526.5945596853892 minutes\n",
      "Epoch: 353 Train loss: 0.13246332254792964 Valid loss: 0.1821132667002178 Duration: 528.0676349957783 minutes\n",
      "Epoch: 354 Train loss: 0.13179401887101785 Valid loss: 0.17945081289977796 Duration: 529.5767122069994 minutes\n",
      ", saved best model.\n",
      "Epoch: 355 Train loss: 0.1309955895968846 Valid loss: 0.17921839672471246 Duration: 531.0692925890287 minutes\n",
      ", saved best model.\n",
      "Epoch: 356 Train loss: 0.1304425244863544 Valid loss: 0.18241822503266797 Duration: 532.5630058010419 minutes\n",
      "Epoch: 357 Train loss: 0.12981575983762741 Valid loss: 0.17858209497024935 Duration: 534.0721135417621 minutes\n",
      ", saved best model.\n",
      "Epoch: 358 Train loss: 0.12932482058661324 Valid loss: 0.17966844327747822 Duration: 535.5402279337247 minutes\n",
      "Epoch: 359 Train loss: 0.1289870975443295 Valid loss: 0.177416191466393 Duration: 537.0288112839063 minutes\n",
      ", saved best model.\n",
      "Epoch: 360 Train loss: 0.12836694437052523 Valid loss: 0.1756231184568136 Duration: 538.534410115083 minutes\n",
      ", saved best model.\n",
      "Epoch: 361 Train loss: 0.1277385542584317 Valid loss: 0.1734521488749212 Duration: 540.0468733588855 minutes\n",
      ", saved best model.\n",
      "Epoch: 362 Train loss: 0.12733945241144726 Valid loss: 0.17607704255609744 Duration: 541.5474529822667 minutes\n",
      "Epoch: 363 Train loss: 0.12645026168652942 Valid loss: 0.17909356927679432 Duration: 543.0116842428844 minutes\n",
      "Epoch: 364 Train loss: 0.12607440237488066 Valid loss: 0.17509062107532256 Duration: 544.4864611506462 minutes\n",
      "Epoch: 365 Train loss: 0.12508698355725834 Valid loss: 0.17530280357647327 Duration: 545.9457665244738 minutes\n",
      "Epoch: 366 Train loss: 0.124867161114301 Valid loss: 0.1734394181760088 Duration: 547.4471960345904 minutes\n",
      ", saved best model.\n",
      "Epoch: 367 Train loss: 0.12389809169088091 Valid loss: 0.17243745814888709 Duration: 548.958681221803 minutes\n",
      ", saved best model.\n",
      "Epoch: 368 Train loss: 0.1239790140901293 Valid loss: 0.17044529414946033 Duration: 550.4188308437665 minutes\n",
      ", saved best model.\n",
      "Epoch: 369 Train loss: 0.12315786246742522 Valid loss: 0.17128287207695744 Duration: 551.9237632671992 minutes\n",
      "Epoch: 370 Train loss: 0.12246782357564995 Valid loss: 0.17822475010348904 Duration: 553.4166241168975 minutes\n",
      "Epoch: 371 Train loss: 0.12195332119613886 Valid loss: 0.16591836596208234 Duration: 554.8999029795328 minutes\n",
      ", saved best model.\n",
      "Epoch: 372 Train loss: 0.12114168980291912 Valid loss: 0.16910127291996632 Duration: 556.3957358797392 minutes\n",
      "Epoch: 373 Train loss: 0.12068088817170688 Valid loss: 0.1707843357637044 Duration: 557.896190349261 minutes\n",
      "Epoch: 374 Train loss: 0.12040978262041296 Valid loss: 0.16778717844957305 Duration: 559.3756163160007 minutes\n",
      "Epoch: 375 Train loss: 0.12025883673557214 Valid loss: 0.16867356098467304 Duration: 560.8750417470932 minutes\n",
      "Epoch: 376 Train loss: 0.11968563917704991 Valid loss: 0.16473731440642186 Duration: 562.3684698462487 minutes\n",
      ", saved best model.\n",
      "Epoch: 377 Train loss: 0.11877814882142203 Valid loss: 0.16623496642756846 Duration: 563.8594063599904 minutes\n",
      "Epoch: 378 Train loss: 0.11790915533474514 Valid loss: 0.16869301228753983 Duration: 565.3644579728444 minutes\n",
      "Epoch: 379 Train loss: 0.11763491081233536 Valid loss: 0.16650089206955127 Duration: 566.8472706357638 minutes\n",
      "Epoch: 380 Train loss: 0.11701397226963725 Valid loss: 0.16183276804945163 Duration: 568.2907484889031 minutes\n",
      ", saved best model.\n",
      "Epoch: 381 Train loss: 0.11653634257188865 Valid loss: 0.1634896112185332 Duration: 569.7933762351672 minutes\n",
      "Epoch: 382 Train loss: 0.11629514338288989 Valid loss: 0.1614162547573928 Duration: 571.2942369500796 minutes\n",
      ", saved best model.\n",
      "Epoch: 383 Train loss: 0.11579314853144544 Valid loss: 0.16701987049271982 Duration: 572.7910932977994 minutes\n",
      "Epoch: 384 Train loss: 0.11554398208537273 Valid loss: 0.16312281811429608 Duration: 574.2918048222859 minutes\n",
      "Epoch: 385 Train loss: 0.11457936482237918 Valid loss: 0.16329015665236982 Duration: 575.7966446518898 minutes\n",
      "Epoch: 386 Train loss: 0.11436862316408328 Valid loss: 0.16201443053902156 Duration: 577.2951726317406 minutes\n",
      "Epoch: 387 Train loss: 0.1135277532136866 Valid loss: 0.1611638959016531 Duration: 578.7799986640613 minutes\n",
      ", saved best model.\n",
      "Epoch: 388 Train loss: 0.1128757789720382 Valid loss: 0.1597149352272672 Duration: 580.2923640608788 minutes\n",
      ", saved best model.\n",
      "Epoch: 389 Train loss: 0.11207204560616187 Valid loss: 0.1626602762769307 Duration: 581.7878772258758 minutes\n",
      "Epoch: 390 Train loss: 0.11169079863812242 Valid loss: 0.16088393336582568 Duration: 583.2552269856135 minutes\n",
      "Epoch: 391 Train loss: 0.11132569779881409 Valid loss: 0.15712760911593515 Duration: 584.7392596761385 minutes\n",
      ", saved best model.\n",
      "Epoch: 392 Train loss: 0.11113868275071893 Valid loss: 0.15530436942654272 Duration: 586.210891187191 minutes\n",
      ", saved best model.\n",
      "Epoch: 393 Train loss: 0.11073013781330415 Valid loss: 0.1554640134976756 Duration: 587.6974923014641 minutes\n",
      "Epoch: 394 Train loss: 0.11002460835661207 Valid loss: 0.15898186217753157 Duration: 589.1667550166447 minutes\n",
      "Epoch: 395 Train loss: 0.1096078320347837 Valid loss: 0.15657043360894726 Duration: 590.6511995673179 minutes\n",
      "Epoch: 396 Train loss: 0.10883576846974237 Valid loss: 0.15749042063590982 Duration: 592.1569090485573 minutes\n",
      "Epoch: 397 Train loss: 0.10836292754326547 Valid loss: 0.15557537834730842 Duration: 593.6609764417012 minutes\n",
      "Epoch: 398 Train loss: 0.1079895179782595 Valid loss: 0.15604068492088588 Duration: 595.1193515936534 minutes\n",
      "Epoch: 399 Train loss: 0.10756271022558213 Valid loss: 0.15129516472018534 Duration: 596.593347076575 minutes\n",
      ", saved best model.\n",
      "Epoch: 400 Train loss: 0.10689930800242084 Valid loss: 0.1511483090298791 Duration: 598.0856542627017 minutes\n",
      ", saved best model.\n"
     ]
    },
    {
     "name": "stdout",
     "output_type": "stream",
     "text": [
      "Epoch: 401 Train loss: 0.10618273550271988 Valid loss: 0.15605718101705274 Duration: 599.5763759493827 minutes\n",
      "Epoch: 402 Train loss: 0.10578736566432885 Valid loss: 0.15279246118640707 Duration: 601.0417279084523 minutes\n",
      "Epoch: 403 Train loss: 0.1051981945027198 Valid loss: 0.15133381544822647 Duration: 602.5103176951409 minutes\n",
      "Epoch: 404 Train loss: 0.10471241310025964 Valid loss: 0.15068848968874063 Duration: 604.0039936741193 minutes\n",
      ", saved best model.\n",
      "Epoch: 405 Train loss: 0.10422975670014109 Valid loss: 0.14919370250596153 Duration: 605.4770634651184 minutes\n",
      ", saved best model.\n",
      "Epoch: 406 Train loss: 0.10392719157998051 Valid loss: 0.15234953531574819 Duration: 606.9761199990909 minutes\n",
      "Epoch: 407 Train loss: 0.1033229670396873 Valid loss: 0.14772393791786126 Duration: 608.4732955932617 minutes\n",
      ", saved best model.\n",
      "Epoch: 408 Train loss: 0.10281627149454185 Valid loss: 0.14934339004779054 Duration: 609.9594308972358 minutes\n",
      "Epoch: 409 Train loss: 0.10392021191758768 Valid loss: 0.1626486568261058 Duration: 611.456930788358 minutes\n",
      "Epoch: 410 Train loss: 0.11306419682502747 Valid loss: 0.15750932350995078 Duration: 612.9387867291769 minutes\n",
      "Epoch: 411 Train loss: 0.11044500318169594 Valid loss: 0.15633009830790182 Duration: 614.4217455744744 minutes\n",
      "Epoch: 412 Train loss: 0.10916352403908967 Valid loss: 0.15657035501733904 Duration: 615.8896357059479 minutes\n",
      "Epoch: 413 Train loss: 0.10809875060298613 Valid loss: 0.15282304551933082 Duration: 617.3926362276077 minutes\n",
      "Epoch: 414 Train loss: 0.10666434239063945 Valid loss: 0.15640805138935965 Duration: 618.895939497153 minutes\n",
      "Epoch: 415 Train loss: 0.10615985229079213 Valid loss: 0.15178860219255572 Duration: 620.3638284643491 minutes\n",
      "Epoch: 416 Train loss: 0.10524954135290214 Valid loss: 0.14782505121923262 Duration: 621.8572020610173 minutes\n",
      "Epoch: 417 Train loss: 0.1045719902898584 Valid loss: 0.14891229419698637 Duration: 623.3458912531535 minutes\n",
      "Epoch: 418 Train loss: 0.10379410825031145 Valid loss: 0.1526255475717687 Duration: 624.8386775096258 minutes\n",
      "Epoch: 419 Train loss: 0.10351950694301298 Valid loss: 0.14654425573685476 Duration: 626.3520745277405 minutes\n",
      ", saved best model.\n",
      "Epoch: 420 Train loss: 0.1025630698661719 Valid loss: 0.14545750786219874 Duration: 627.8580951730411 minutes\n",
      ", saved best model.\n",
      "Epoch: 421 Train loss: 0.10185537868844612 Valid loss: 0.14801443443303147 Duration: 629.3552561561266 minutes\n",
      "Epoch: 422 Train loss: 0.10189379897287913 Valid loss: 0.14543553423737327 Duration: 630.834460234642 minutes\n",
      ", saved best model.\n",
      "Epoch: 423 Train loss: 0.100857756351786 Valid loss: 0.14657467186090448 Duration: 632.3441188255946 minutes\n",
      "Epoch: 424 Train loss: 0.10034954823340689 Valid loss: 0.14569121950696554 Duration: 633.8340282718341 minutes\n",
      "Epoch: 425 Train loss: 0.0995438721052238 Valid loss: 0.14519303886880797 Duration: 635.3153717835744 minutes\n",
      ", saved best model.\n",
      "Epoch: 426 Train loss: 0.09904199949119773 Valid loss: 0.1405693398367974 Duration: 636.8194582819939 minutes\n",
      ", saved best model.\n",
      "Epoch: 427 Train loss: 0.09846606438606978 Valid loss: 0.14087421489098378 Duration: 638.3212189237277 minutes\n",
      "Epoch: 428 Train loss: 0.09789644854622227 Valid loss: 0.14559095091516933 Duration: 639.7975416382154 minutes\n",
      "Epoch: 429 Train loss: 0.09715515319577285 Valid loss: 0.14328531049672635 Duration: 641.2115578055382 minutes\n"
     ]
    }
   ],
   "source": [
    "torch.manual_seed(1234)\n",
    "patience = 2000\n",
    "\n",
    "patience_controler = Patience(patience)\n",
    "start_time = time.time()\n",
    "\n",
    "for num_epoch in range(5000000):\n",
    "    train_loss = train()        \n",
    "    valid_loss = validation()\n",
    "    \n",
    "    writer.add_scalar('Loss/train', train_loss, num_epoch)\n",
    "    writer.add_scalar('Loss/validation', valid_loss, num_epoch)\n",
    "    \n",
    "    print(f'Epoch: {num_epoch} Train loss: {train_loss} Valid loss: {valid_loss} Duration: {(time.time() - start_time)/60} minutes',)\n",
    "\n",
    "    if not patience_controler.more_patience(valid_loss):\n",
    "        print(\"Se acabó la paciencia\")\n",
    "        break\n",
    "\n",
    "        \n"
   ]
  },
  {
   "cell_type": "markdown",
   "metadata": {},
   "source": [
    "## Cargar modelo"
   ]
  },
  {
   "cell_type": "code",
   "execution_count": null,
   "metadata": {},
   "outputs": [],
   "source": [
    "CNN_model.load_state_dict(torch.load('CNN_model_30000_words_TF_PAD_noise.pt'))\n",
    "CNN_model.eval()\n",
    "\n",
    "Encoder_model.load_state_dict(torch.load('Encoder_model_30000_words_TF_PAD_noise.pt'))\n",
    "Encoder_model.eval()\n",
    "\n",
    "Decoder_model.load_state_dict(torch.load('Decoder_model_30000_words_TF_PAD_noise.pt'))\n",
    "Decoder_model.eval()"
   ]
  },
  {
   "cell_type": "code",
   "execution_count": 3,
   "metadata": {},
   "outputs": [],
   "source": [
    "def Test():\n",
    "    with torch.no_grad():\n",
    "        for num_batch, (image_test, label_test) in enumerate(test_loader):\n",
    "            num_batch += 1\n",
    "            encoder_hidden_test = Encoder_model.initHidden(batch_size = batch_size)\n",
    "            image_cnn_test = image_test.view(-1, color_channels, patch_height, patch_width).cuda(0)\n",
    "            encoder_input_test = CNN_model(image_cnn_test)\n",
    "            encoder_output, encoder_hidden_test = Encoder_model(encoder_input_test, encoder_hidden_test, batch = test_batch, seq_len = n_patches)\n",
    "\n",
    "            #decoder_hidden_test = (encoder_hidden_test[0][0, :, :].view(1, batch_size, hidden_size), # We take the last hidden state of the Encoder \n",
    "            #                       encoder_hidden_test[1][0, :, :].view(1, batch_size, hidden_size)) # for each image/word (j) within the batch \n",
    "            \n",
    "            for j in range(batch_size):\n",
    "                decoder_input_test = mapeo['START'].cuda(0) # We initialize the first Decoder input as the START token\n",
    "                decoder_hidden_test = (encoder_hidden_test[0][0, j, :].view(1, 1, hidden_size), # We take the last hidden state of the Encoder \n",
    "                                       encoder_hidden_test[1][0, j, :].view(1, 1, hidden_size)) # for each image/word (j) within the batch \n",
    "                \n",
    "                for d in range(MAX_LENGTH + 2):\n",
    "                    decoder_output_test, decoder_hidden_test = Decoder_model(decoder_input_test, decoder_hidden_test, batch = 1, seq_len = 1)\n",
    "\n",
    "                    output_letter = one_hot_conversion(decoder_output_test, output_size = output_size)\n",
    "                    decoder_input_test = output_letter\n",
    "                    \n",
    "                    if d == 0:\n",
    "                        output_word = output_letter\n",
    "                    else:\n",
    "                        output_word = torch.cat((output_word, output_letter), dim = 1).cuda(0)\n",
    "                    \n",
    "                    if torch.equal(output_letter, letter_to_vector('END').cuda(0)):\n",
    "                        break\n",
    "                output_word = torch.argmax(output_word, dim=2)\n",
    "                output_word = output_word.view(output_word.numel()) # view as a rank-1 tensor\n",
    "\n",
    "                model_word = []\n",
    "                for item in output_word:\n",
    "                    model_word.append(letters[item])\n",
    "\n",
    "                model_word = ''.join(model_word[:-1])\n",
    "                print(model_word)\n",
    "            print(test_set) \n"
   ]
  },
  {
   "cell_type": "code",
   "execution_count": 4,
   "metadata": {},
   "outputs": [
    {
     "ename": "NameError",
     "evalue": "name 'torch' is not defined",
     "output_type": "error",
     "traceback": [
      "\u001b[0;31m---------------------------------------------------------------------------\u001b[0m",
      "\u001b[0;31mNameError\u001b[0m                                 Traceback (most recent call last)",
      "\u001b[0;32m<ipython-input-4-7b08819e076e>\u001b[0m in \u001b[0;36m<module>\u001b[0;34m\u001b[0m\n\u001b[0;32m----> 1\u001b[0;31m \u001b[0mTest\u001b[0m\u001b[0;34m(\u001b[0m\u001b[0;34m)\u001b[0m\u001b[0;34m\u001b[0m\u001b[0;34m\u001b[0m\u001b[0m\n\u001b[0m",
      "\u001b[0;32m<ipython-input-3-c209519ca05f>\u001b[0m in \u001b[0;36mTest\u001b[0;34m()\u001b[0m\n\u001b[1;32m      1\u001b[0m \u001b[0;32mdef\u001b[0m \u001b[0mTest\u001b[0m\u001b[0;34m(\u001b[0m\u001b[0;34m)\u001b[0m\u001b[0;34m:\u001b[0m\u001b[0;34m\u001b[0m\u001b[0;34m\u001b[0m\u001b[0m\n\u001b[0;32m----> 2\u001b[0;31m     \u001b[0;32mwith\u001b[0m \u001b[0mtorch\u001b[0m\u001b[0;34m.\u001b[0m\u001b[0mno_grad\u001b[0m\u001b[0;34m(\u001b[0m\u001b[0;34m)\u001b[0m\u001b[0;34m:\u001b[0m\u001b[0;34m\u001b[0m\u001b[0;34m\u001b[0m\u001b[0m\n\u001b[0m\u001b[1;32m      3\u001b[0m         \u001b[0;32mfor\u001b[0m \u001b[0mnum_batch\u001b[0m\u001b[0;34m,\u001b[0m \u001b[0;34m(\u001b[0m\u001b[0mimage_test\u001b[0m\u001b[0;34m,\u001b[0m \u001b[0mlabel_test\u001b[0m\u001b[0;34m)\u001b[0m \u001b[0;32min\u001b[0m \u001b[0menumerate\u001b[0m\u001b[0;34m(\u001b[0m\u001b[0mtest_loader\u001b[0m\u001b[0;34m)\u001b[0m\u001b[0;34m:\u001b[0m\u001b[0;34m\u001b[0m\u001b[0;34m\u001b[0m\u001b[0m\n\u001b[1;32m      4\u001b[0m             \u001b[0mnum_batch\u001b[0m \u001b[0;34m+=\u001b[0m \u001b[0;36m1\u001b[0m\u001b[0;34m\u001b[0m\u001b[0;34m\u001b[0m\u001b[0m\n\u001b[1;32m      5\u001b[0m             \u001b[0mencoder_hidden_test\u001b[0m \u001b[0;34m=\u001b[0m \u001b[0mEncoder_model\u001b[0m\u001b[0;34m.\u001b[0m\u001b[0minitHidden\u001b[0m\u001b[0;34m(\u001b[0m\u001b[0mbatch_size\u001b[0m \u001b[0;34m=\u001b[0m \u001b[0mbatch_size\u001b[0m\u001b[0;34m)\u001b[0m\u001b[0;34m\u001b[0m\u001b[0;34m\u001b[0m\u001b[0m\n",
      "\u001b[0;31mNameError\u001b[0m: name 'torch' is not defined"
     ]
    }
   ],
   "source": [
    "Test()"
   ]
  },
  {
   "cell_type": "code",
   "execution_count": 21,
   "metadata": {},
   "outputs": [
    {
     "name": "stdout",
     "output_type": "stream",
     "text": [
      "0\n"
     ]
    }
   ],
   "source": [
    "list_random_strings = []\n",
    "import random \n",
    "import string\n",
    "batch_size = 256\n",
    "MAX_LENGTH = 15\n",
    "\n",
    "for i in range(batch_size):\n",
    "\n",
    "    list_random_strings.append(''.join(random.choice(string.ascii_lowercase) for _ in range(random.randint(1, MAX_LENGTH))))\n",
    "\n",
    "train_set = complete_set(list_random_strings)\n",
    "train_loader = DataLoader(train_set, batch_size = batch_size, shuffle = True)\n",
    "\n",
    "for b, (image, labels) in enumerate(train_loader):\n",
    "    print(b)\n",
    "\n",
    "    \n",
    "torch.cat()"
   ]
  },
  {
   "cell_type": "code",
   "execution_count": 109,
   "metadata": {},
   "outputs": [],
   "source": [
    "hidden = (torch.ones(1,1, 256), torch.zeros(1,1,256))\n",
    "e_o = torch.ones(1, 15, 256)"
   ]
  },
  {
   "cell_type": "code",
   "execution_count": 110,
   "metadata": {},
   "outputs": [
    {
     "data": {
      "text/plain": [
       "torch.Size([1, 1, 256])"
      ]
     },
     "execution_count": 110,
     "metadata": {},
     "output_type": "execute_result"
    }
   ],
   "source": [
    "hidden[0].shape"
   ]
  },
  {
   "cell_type": "code",
   "execution_count": 111,
   "metadata": {},
   "outputs": [
    {
     "name": "stdout",
     "output_type": "stream",
     "text": [
      "torch.Size([1, 1, 256])\n",
      "torch.Size([15, 256])\n",
      "torch.Size([1, 15, 256])\n"
     ]
    }
   ],
   "source": [
    "e_o = e_o.squeeze()\n",
    "fc_hidden = nn.Linear(256, 256, bias=False)\n",
    "fc_encoder = nn.Linear(256, 256, bias=False)\n",
    "\n",
    "c = fc_hidden(hidden[0]) + fc_encoder(e_o)\n",
    "print(fc_hidden(hidden[0]).shape)\n",
    "print(fc_encoder(e_o).shape)\n",
    "print(c.shape)"
   ]
  },
  {
   "cell_type": "code",
   "execution_count": null,
   "metadata": {},
   "outputs": [],
   "source": [
    "# activar pytorch_estoril (environment) en la terminal y ejecutar tensorboard --host 0.0.0.0 --logdir ./runs\n",
    "# Tensorboard se ejecutará en un cierto puerto y nos dará el enlace. Habrá que sustituir la IP 0.0.0.0 por la del equipo\n",
    "# en remoto en la que esté corriendo en el caso de Estoril 212.128.3.86:"
   ]
  }
 ],
 "metadata": {
  "kernelspec": {
   "display_name": "pytorch_estoril",
   "language": "python",
   "name": "pytorch_estoril"
  },
  "language_info": {
   "codemirror_mode": {
    "name": "ipython",
    "version": 3
   },
   "file_extension": ".py",
   "mimetype": "text/x-python",
   "name": "python",
   "nbconvert_exporter": "python",
   "pygments_lexer": "ipython3",
   "version": "3.6.10"
  }
 },
 "nbformat": 4,
 "nbformat_minor": 5
}
