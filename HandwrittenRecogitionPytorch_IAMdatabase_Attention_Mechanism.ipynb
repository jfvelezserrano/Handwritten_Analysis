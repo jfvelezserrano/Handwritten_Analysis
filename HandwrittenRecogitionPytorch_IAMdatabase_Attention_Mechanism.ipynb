{
 "cells": [
  {
   "cell_type": "markdown",
   "metadata": {},
   "source": [
    "# Antes de empezar\n",
    "\n",
    "conda activate python3.6_cv2"
   ]
  },
  {
   "cell_type": "code",
   "execution_count": 1,
   "metadata": {},
   "outputs": [],
   "source": [
    "#import os\n",
    "#os.environ[\"CUDA_DEVICE_ORDER\"]=\"PCI_BUS_ID\"\n",
    "#os.environ[\"CUDA_VISIBLE_DEVICES\"]=\"1\""
   ]
  },
  {
   "cell_type": "code",
   "execution_count": 2,
   "metadata": {},
   "outputs": [],
   "source": [
    "import torch\n",
    "import torch.nn as nn\n",
    "import torch.nn.functional as F\n",
    "from torch import optim\n",
    "from torch.utils.data import DataLoader\n",
    "import cv2\n",
    "#from skimage import transform\n",
    "\n",
    "import numpy as np\n",
    "import pandas as pd\n",
    "from IPython.display import display\n",
    "import matplotlib.pyplot as plt\n",
    "%matplotlib inline \n",
    "\n",
    "# Ignore harmless warnings:\n",
    "\n",
    "from scipy import ndimage\n",
    "import math\n",
    "import random\n",
    "import skimage\n",
    "import warnings\n",
    "warnings.filterwarnings(\"ignore\")\n",
    "device = torch.device(\"cuda:1\" if torch.cuda.is_available() else \"cpu\")"
   ]
  },
  {
   "cell_type": "code",
   "execution_count": 3,
   "metadata": {},
   "outputs": [
    {
     "name": "stdout",
     "output_type": "stream",
     "text": [
      "1.8.1\n",
      "3.6.10\n"
     ]
    },
    {
     "data": {
      "text/plain": [
       "'TITAN X (Pascal)'"
      ]
     },
     "execution_count": 3,
     "metadata": {},
     "output_type": "execute_result"
    }
   ],
   "source": [
    "import platform\n",
    "print(torch.__version__)\n",
    "print(platform.python_version())\n",
    "torch.cuda.get_device_name(1)"
   ]
  },
  {
   "cell_type": "code",
   "execution_count": 4,
   "metadata": {
    "scrolled": true
   },
   "outputs": [
    {
     "data": {
      "text/plain": [
       "0"
      ]
     },
     "execution_count": 4,
     "metadata": {},
     "output_type": "execute_result"
    }
   ],
   "source": [
    "torch.cuda.current_device()"
   ]
  },
  {
   "cell_type": "code",
   "execution_count": 5,
   "metadata": {},
   "outputs": [
    {
     "data": {
      "text/plain": [
       "2"
      ]
     },
     "execution_count": 5,
     "metadata": {},
     "output_type": "execute_result"
    }
   ],
   "source": [
    "torch.cuda.device_count()"
   ]
  },
  {
   "cell_type": "markdown",
   "metadata": {},
   "source": [
    "## Cargando datos"
   ]
  },
  {
   "cell_type": "code",
   "execution_count": 6,
   "metadata": {
    "scrolled": true
   },
   "outputs": [
    {
     "name": "stdout",
     "output_type": "stream",
     "text": [
      "Keys: <KeysViewHDF5 ['X_trn', 'X_tst', 'X_val', 'filename_trn', 'filename_tst', 'filename_val', 'image_length_trn', 'image_length_tst', 'image_length_val', 'target_dict_keys', 'target_dict_values', 'target_length_trn', 'target_length_tst', 'target_length_val', 'target_trn', 'target_tst', 'target_val']>\n"
     ]
    }
   ],
   "source": [
    "# Loading preprocessed images\n",
    "\n",
    "import h5py\n",
    "filename = \"/home/abarreiro/data/handwriting/seq2seq/IAM_words_48_192.hdf5\"\n",
    "\n",
    "with h5py.File(filename, \"r\") as f:\n",
    "    # List all groups\n",
    "    print(\"Keys: %s\" % f.keys())\n",
    "    data_header = list(f.keys())\n",
    "    data = []\n",
    "    \n",
    "    for item in data_header:\n",
    "        \n",
    "        # Getting data:\n",
    "        data.append(list(f[item]))\n",
    "        \n",
    "    # Creating dictionary between data names and data   \n",
    "    new_dict = {name: obj for name, obj in zip(data_header, data)}\n"
   ]
  },
  {
   "cell_type": "markdown",
   "metadata": {},
   "source": [
    "## Definiendo diccionario, codificación y longitud máxima"
   ]
  },
  {
   "cell_type": "code",
   "execution_count": 7,
   "metadata": {},
   "outputs": [
    {
     "name": "stdout",
     "output_type": "stream",
     "text": [
      "79\n"
     ]
    }
   ],
   "source": [
    "# Dictionary used in seq2seq paper\n",
    "decoder_dict = {0: '0', 1: '!', 2: 'L', 3: 'z', 4: 'G', 5: 'm', 6: '6', 7: '/', 8: 'j', 9: 's', 10: 'S', 11: '5',\n",
    "                12: 'R', 13: ')', 14: 'u', 15: 'y', 16: '9', 17: 'g', 18: '3', 19: '1', 20: 'e', 21: \"'\", 22: ':',\n",
    "                23: 'Q', 24: '2', 25: 'a', 26: 't', 27: 'A', 28: '7', 29: ';', 30: 'i', 31: 'H', 32: 'W', 33: ',',\n",
    "                34: '(', 35: 'O', 36: 'U', 37: 'K', 38: 'd', 39: '*', 40: '.', 41: '?', 42: 'q', 43: '-', 44: 'r',\n",
    "                45: 'n', 46: '&', 47: 'C', 48: '\"', 49: 'h', 50: 'v', 51: 'f', 52: 'E', 53: 'p', 54: 'x', 55: '+',\n",
    "                56: 'w', 57: 'b', 58: 'o', 59: ' ', 60: 'B', 61: 'P', 62: 'D', 63: 'I', 64: 'J', 65: 'V', 66: 'N',\n",
    "                67: 'M', 68: '8', 69: 'k', 70: 'c', 71: '4', 72: 'T', 73: 'X', 74: 'l', 75: 'Z', 76: 'F', 77: 'Y',\n",
    "                78: 'START', 79: 'END', 100: 'PAD'}\n",
    "\n",
    "inverse_decoder_dict = {v: k for k, v in decoder_dict.items()}\n",
    "print(inverse_decoder_dict['END'])"
   ]
  },
  {
   "cell_type": "code",
   "execution_count": 8,
   "metadata": {},
   "outputs": [
    {
     "name": "stdout",
     "output_type": "stream",
     "text": [
      "tensor([[[0., 0., 0., 0., 0., 0., 0., 0., 0., 0., 0., 0., 0., 0., 0., 0., 0.,\n",
      "          0., 0., 0., 0., 0., 0., 0., 0., 0., 0., 0., 0., 0., 0., 0., 0., 0.,\n",
      "          0., 0., 0., 0., 0., 0., 0., 0., 0., 0., 0., 0., 0., 0., 0., 0., 0.,\n",
      "          0., 0., 0., 0., 0., 0., 0., 0., 0., 0., 0., 0., 0., 0., 0., 0., 0.,\n",
      "          0., 0., 0., 0., 0., 0., 0., 0., 0., 0., 0., 0., 1.]]])\n",
      "100\n",
      "PAD\n"
     ]
    }
   ],
   "source": [
    "# One_hot_mapping assigns to each number in decoder_dict its corresponding one-hot vector:\n",
    "\n",
    "one_hot_mapping = {}\n",
    "\n",
    "cont = 0\n",
    "for item in decoder_dict:\n",
    "    vector = torch.zeros(1, 1, len(decoder_dict))\n",
    "    vector[0, 0, cont] = 1.0\n",
    "    one_hot_mapping[item] = vector\n",
    "    cont += 1\n",
    "\n",
    "# Inverse_one_hot_mapping assigns to each one-hot vector its corresponding number in decoder_dict\n",
    "inverse_one_hot_mapping = {v: k for k, v in one_hot_mapping.items()}\n",
    "\n",
    "# One_hot_to_char assigns to each possible one-hot vector its corresponding character from decoder_dict\n",
    "one_hot_to_char = {}\n",
    "\n",
    "for one_hot, char in zip(inverse_one_hot_mapping, inverse_decoder_dict):\n",
    "    \n",
    "    one_hot_to_char[one_hot] = char \n",
    "    \n",
    "    \n",
    "# Some examples...\n",
    "\n",
    "print(one_hot_mapping[100])\n",
    "print(inverse_one_hot_mapping[one_hot_mapping[100]])\n",
    "print(one_hot_to_char[one_hot_mapping[100]])"
   ]
  },
  {
   "cell_type": "code",
   "execution_count": 9,
   "metadata": {},
   "outputs": [
    {
     "data": {
      "text/plain": [
       "<matplotlib.image.AxesImage at 0x7fb5ed649128>"
      ]
     },
     "execution_count": 9,
     "metadata": {},
     "output_type": "execute_result"
    },
    {
     "data": {
      "image/png": "[encoded data removed]",
      "text/plain": [
       "<Figure size 432x288 with 1 Axes>"
      ]
     },
     "metadata": {
      "needs_background": "light"
     },
     "output_type": "display_data"
    }
   ],
   "source": [
    "plt.imshow(new_dict['X_trn'][1], cmap='gray')"
   ]
  },
  {
   "cell_type": "code",
   "execution_count": 10,
   "metadata": {},
   "outputs": [
    {
     "name": "stdout",
     "output_type": "stream",
     "text": [
      "Max length for the training set:  19 | Global max length:  19\n"
     ]
    }
   ],
   "source": [
    "# All word vectors in 'target' are adjusted to max_length = 19:\n",
    "a = [len(word) for word in new_dict['target_trn']]\n",
    "max_length_trn = np.unique(a).item()\n",
    "MAX_LENGTH = max(new_dict['target_length_trn'] + new_dict['target_length_val'] + new_dict['target_length_tst'])\n",
    "print('Max length for the training set: ', max_length_trn, '|', 'Global max length: ', MAX_LENGTH)"
   ]
  },
  {
   "cell_type": "code",
   "execution_count": 11,
   "metadata": {},
   "outputs": [
    {
     "name": "stdout",
     "output_type": "stream",
     "text": [
      "[ 27. 100. 100. 100. 100. 100. 100. 100. 100. 100. 100. 100. 100. 100.\n",
      " 100. 100. 100. 100. 100.]\n",
      "tensor([ 27., 100., 100., 100., 100., 100., 100., 100., 100., 100., 100., 100.,\n",
      "        100., 100., 100., 100., 100., 100., 100.], dtype=torch.float64)\n",
      "[ 25.   9.   9.  14.  44.  20.  38.  45.  20.   9.   9. 100. 100. 100.\n",
      " 100. 100. 100. 100. 100.]\n",
      "tensor([ 25.,   9.,   9.,  14.,  44.,  20.,  38.,  45.,  20.,   9.,   9., 100.,\n",
      "        100., 100., 100., 100., 100., 100., 100.], dtype=torch.float64)\n"
     ]
    }
   ],
   "source": [
    "def numpy_to_torch(array_list):\n",
    "    tensor_list = []\n",
    "    for array in array_list:\n",
    "        tensor_list.append(torch.from_numpy(array))\n",
    "        \n",
    "    return tensor_list\n",
    "    \n",
    "a = numpy_to_torch(new_dict['target_trn'])\n",
    "print(new_dict['target_trn'][0])\n",
    "print(a[0])\n",
    "\n",
    "#X_trn = numpy_to_torch(new_dict['X_trn'])\n",
    "X_val = numpy_to_torch(new_dict['X_val'])\n",
    "X_tst = numpy_to_torch(new_dict['X_tst'])\n",
    "target_trn = numpy_to_torch(new_dict['target_trn'])\n",
    "target_val = numpy_to_torch(new_dict['target_val'])\n",
    "target_tst = numpy_to_torch(new_dict['target_tst'])\n",
    "\n",
    "print(new_dict['target_tst'][0])\n",
    "print(target_tst[0])"
   ]
  },
  {
   "cell_type": "markdown",
   "metadata": {},
   "source": [
    "# Definiendo funciones para el Data Augmentation"
   ]
  },
  {
   "cell_type": "code",
   "execution_count": 12,
   "metadata": {},
   "outputs": [],
   "source": [
    "def get_bbox(img):\n",
    "    \n",
    "    height = img.shape[0]\n",
    "    width = img.shape[1]\n",
    "    a = np.where(img != 0) \n",
    "    bbox = img[np.min(a[0]):np.max(a[0])+1, np.min(a[1]):np.max(a[1])+1]\n",
    "    \n",
    "    x = np.min(a[1])\n",
    "    w = np.max(a[1]) - np.min(a[1])\n",
    "    y = np.min(a[0])\n",
    "    h = np.max(a[0]) - np.min(a[0])\n",
    "    \n",
    "    bbox_params = [x, y, w, h]\n",
    "    \n",
    "    left_margin = x - 0\n",
    "    right_margin = width - np.max(a[1])\n",
    "    top_margin = y - 0\n",
    "    bottom_margin = height - np.max(a[0])\n",
    "    \n",
    "    margin_sizes = [left_margin, right_margin, top_margin, bottom_margin]\n",
    "    \n",
    "    return bbox, bbox_params, margin_sizes "
   ]
  },
  {
   "cell_type": "code",
   "execution_count": 13,
   "metadata": {},
   "outputs": [],
   "source": [
    "def erosion(img, kernel_size):\n",
    "    kernel = 255*np.ones((kernel_size, kernel_size), 'uint8')\n",
    "    eroded = cv2.erode(img, kernel, iterations=1)\n",
    "    maximum = eroded.max()\n",
    "    if maximum > 0: # we need at least one non-zero pixel after erode\n",
    "        eroded = eroded # otherwise, we won't be able to compute any bbox\n",
    "        \n",
    "    else:\n",
    "        eroded = img\n",
    "        \n",
    "    return eroded"
   ]
  },
  {
   "cell_type": "code",
   "execution_count": 14,
   "metadata": {},
   "outputs": [],
   "source": [
    "def dilation(img, margin_sizes, kernel_size):\n",
    "    pixel_excess = math.ceil((kernel_size - 1)//2) # number of pixels that might overflow the image limits\n",
    "    # after dilation\n",
    "    condition = np.any(np.array(margin_sizes) < pixel_excess) # if we overflow the image limits\n",
    "    if condition == True:\n",
    "        dilated = img # we don't do anything\n",
    "        \n",
    "    else:\n",
    "        kernel = 255*np.ones((kernel_size, kernel_size), 'uint8')\n",
    "        dilated = cv2.dilate(img, kernel, iterations=1)\n",
    "        \n",
    "    return dilated"
   ]
  },
  {
   "cell_type": "code",
   "execution_count": 15,
   "metadata": {},
   "outputs": [],
   "source": [
    "def rotation(img, angle):\n",
    "    rotated = ndimage.rotate(img, angle, reshape=True)\n",
    "    return rotated"
   ]
  },
  {
   "cell_type": "code",
   "execution_count": 16,
   "metadata": {},
   "outputs": [],
   "source": [
    "def zoom_X(img, new_width):\n",
    "    dsize = (new_width, img.shape[0])\n",
    "    zoomed_X = cv2.resize(img, dsize, interpolation = cv2.INTER_AREA)\n",
    "    return zoomed_X"
   ]
  },
  {
   "cell_type": "code",
   "execution_count": 17,
   "metadata": {},
   "outputs": [],
   "source": [
    "def zoom_Y(img, new_height):\n",
    "    dsize = (img.shape[1], new_height)\n",
    "    zoomed_Y = cv2.resize(img, dsize, interpolation = cv2.INTER_AREA)\n",
    "    return zoomed_Y"
   ]
  },
  {
   "cell_type": "code",
   "execution_count": 18,
   "metadata": {},
   "outputs": [],
   "source": [
    "import math\n",
    "\n",
    "def resize(new_img, src_img):\n",
    "    \n",
    "    height = src_img.shape[0]\n",
    "    new_height = new_img.shape[0]\n",
    "    width = src_img.shape[1] \n",
    "    new_width = new_img.shape[1]\n",
    "    \n",
    "    width_ratio = width/new_width\n",
    "    height_resized = math.ceil(new_height*width_ratio)\n",
    "\n",
    "    height_ratio = height/new_height\n",
    "    width_resized = math.ceil(new_width*height_ratio)\n",
    "    \n",
    "    if new_width > width and new_height > height:\n",
    "        \n",
    "        if height_resized < height:\n",
    "            \n",
    "            dsize = (width, height_resized)\n",
    "            img_rescaled = cv2.resize(new_img, dsize, interpolation = cv2.INTER_AREA)\n",
    "            \n",
    "        else:\n",
    "            dsize = (width_resized, height)\n",
    "            img_rescaled = cv2.resize(new_img, dsize, interpolation = cv2.INTER_AREA)\n",
    "            \n",
    "    elif new_width > width and new_height < height:\n",
    "        \n",
    "        dsize = (width, height_resized)\n",
    "        img_rescaled = cv2.resize(new_img, dsize, interpolation = cv2.INTER_AREA)\n",
    "        \n",
    "    elif new_width < width and new_height > height:\n",
    "        \n",
    "        dsize = (width_resized, height)\n",
    "        img_rescaled = cv2.resize(new_img, dsize, interpolation = cv2.INTER_AREA)\n",
    "        \n",
    "    else:\n",
    "        \n",
    "        img_rescaled = new_img\n",
    "        \n",
    "        \n",
    "    return img_rescaled"
   ]
  },
  {
   "cell_type": "code",
   "execution_count": 19,
   "metadata": {},
   "outputs": [],
   "source": [
    "def fitting(src_img, new_bbox, bbox, bbox_params, margin_sizes):\n",
    "    \n",
    "    height = src_img.shape[0]\n",
    "    width = src_img.shape[1]\n",
    "    x, y, w, h = bbox_params # parameters of the original bounding box to put top-left edge of the new_bbox\n",
    "    # where the original was\n",
    "    left_margin, right_margin, top_margin, bottom_margin = margin_sizes\n",
    "    \n",
    "    new_height = new_bbox.shape[0]\n",
    "    new_width = new_bbox.shape[1]\n",
    "    new_img = np.zeros(src_img.shape)\n",
    "    \n",
    "    fits_vertical = new_height + top_margin < height\n",
    "    fits_horizont = new_width + left_margin < width\n",
    "\n",
    "    if fits_vertical == False and fits_horizont == False:\n",
    "        \n",
    "        diff_vertical = (new_height + top_margin) - height\n",
    "        diff_horizont = (new_width + left_margin) - width\n",
    "        new_x = x - diff_horizont\n",
    "        new_y = y - diff_vertical\n",
    "        \n",
    "        new_img[new_y:(new_y + new_height), new_x:(new_x + new_width)] = new_bbox\n",
    "        \n",
    "    elif fits_vertical == False and fits_horizont == True:\n",
    "        \n",
    "        diff_vertical = (new_height + top_margin) - height\n",
    "        new_x = x\n",
    "        new_y = y - diff_vertical\n",
    "        new_img[new_y:(new_y + new_height), new_x:(new_x + new_width)] = new_bbox\n",
    "        \n",
    "    elif fits_vertical == True and fits_horizont == False:\n",
    "        \n",
    "        diff_horizont = (new_width + left_margin) - width\n",
    "        new_x = x - diff_horizont\n",
    "        new_y = y\n",
    "        new_img[new_y:(new_y + new_height), new_x:(new_x + new_width)] = new_bbox\n",
    "        \n",
    "    else:\n",
    "        new_x = x\n",
    "        new_y = y\n",
    "        new_img[new_y:(new_y + new_height), new_x:(new_x + new_width)] = new_bbox\n",
    "        \n",
    "    new_bbox_params = [new_x, new_y, new_width, new_height]\n",
    "    \n",
    "    return new_img, new_bbox_params"
   ]
  },
  {
   "cell_type": "code",
   "execution_count": 20,
   "metadata": {},
   "outputs": [],
   "source": [
    "def displacement(new_img, new_bbox_params, d_x):\n",
    "    # d_x has to be the amount of pixels\n",
    "    new_x, new_y, new_width, new_height = new_bbox_params\n",
    "    total_width = new_x + new_width + d_x\n",
    "    if total_width > new_img.shape[1]:\n",
    "        new_img_disp = new_img\n",
    "        \n",
    "    else:\n",
    "        new_img_disp = new_img\n",
    "        new_img_disp[:, d_x:] = new_img_disp[:, 0:-d_x]\n",
    "        new_img_disp[:, 0:d_x] = 0\n",
    "        \n",
    "    return new_img_disp\n"
   ]
  },
  {
   "cell_type": "code",
   "execution_count": 21,
   "metadata": {},
   "outputs": [],
   "source": [
    "def DataAugmentation(img):\n",
    "    #img = img.numpy()\n",
    "    bbox, bbox_params, margin_sizes = get_bbox(img)\n",
    "    \n",
    "    # Sequence of possible transformations:\n",
    "    # Erosion/Dilation:\n",
    "    p_er_dil = random.uniform(0,1)\n",
    "    \n",
    "    if p_er_dil < 0.33:\n",
    "        kernel_size = random.randint(2,3)\n",
    "        new_img = erosion(img, kernel_size)\n",
    "        \n",
    "    elif p_er_dil > 0.66:\n",
    "        kernel_size = random.randint(2,5)\n",
    "        new_img = dilation(img, margin_sizes, kernel_size)\n",
    "        \n",
    "    else:\n",
    "        new_img = img\n",
    "        \n",
    "    updated_bbox, update_bbox_params, updated_margin_sizes = get_bbox(new_img)\n",
    "    #Rotation:\n",
    "    p_rot = random.uniform(0,1)\n",
    "    if (p_rot < 0.2 and updated_bbox.max() > 0): # we need to rotate a non-zero matrix...\n",
    "        angle = random.randint(-3,3)\n",
    "        new_img = rotation(updated_bbox, angle)\n",
    "        new_img, new_bbox_params, new_margin_sizes = get_bbox(new_img) # as we want a new bbox after rotation\n",
    "\n",
    "    else:\n",
    "        new_img = updated_bbox\n",
    "        \n",
    "    #Zoom in X axis:\n",
    "    p_zoom_X = random.uniform(0,1)\n",
    "    \n",
    "    if p_zoom_X < 0.5:\n",
    "        percentage_zoom_X = random.uniform(0.9,1.1)\n",
    "        new_width = math.ceil(percentage_zoom_X*new_img.shape[1])\n",
    "        new_img = zoom_X(new_img, new_width)\n",
    "        \n",
    "    else:\n",
    "        new_img = new_img\n",
    "        \n",
    "    #Zoom in Y axis:\n",
    "    p_zoom_Y = random.uniform(0,1)\n",
    "    \n",
    "    if p_zoom_Y < 0.5:\n",
    "        percentage_zoom_Y = random.uniform(0.9,1.1)\n",
    "        new_height = math.ceil(percentage_zoom_Y*new_img.shape[0])\n",
    "        new_img = zoom_Y(new_img, new_height)\n",
    "        \n",
    "    else:\n",
    "        new_img = new_img\n",
    "    \n",
    "    # Rescaling the new bbox in order to fit in the 48x192 original format:\n",
    "    img_rescaled = resize(new_img, img)\n",
    "    \n",
    "    # Pasting the new bbox in the 48x192 image\n",
    "    new_img, new_bbox_params = fitting(img, img_rescaled, bbox, bbox_params, margin_sizes)\n",
    "    \n",
    "    #Displacement:\n",
    "    p_disp = random.uniform(0,1)\n",
    "    \n",
    "    if p_disp < 0.7:\n",
    "        percentage_disp = random.uniform(0,0.1)\n",
    "        d_x = math.ceil(percentage_disp*img.shape[1])\n",
    "        new_img = displacement(new_img, new_bbox_params, d_x)\n",
    "        \n",
    "    else:\n",
    "        new_img = new_img\n",
    "        \n",
    "    # Salt & Pepper noise:\n",
    "    p_noise = random.uniform(0,1)\n",
    "    if p_noise < 0.5:\n",
    "        new_img = new_img/255\n",
    "        new_img = skimage.util.random_noise(new_img, mode = 's&p')\n",
    "\n",
    "    else:\n",
    "        new_img = new_img/255\n",
    "        \n",
    "    new_img = torch.from_numpy(new_img)\n",
    "\n",
    "    return new_img"
   ]
  },
  {
   "cell_type": "code",
   "execution_count": 22,
   "metadata": {
    "scrolled": true
   },
   "outputs": [
    {
     "data": {
      "text/plain": [
       "\"a = X_trn[1]\\nb = DataAugmentation(a)\\nplt.imshow(b, cmap = 'gray')\""
      ]
     },
     "execution_count": 22,
     "metadata": {},
     "output_type": "execute_result"
    }
   ],
   "source": [
    "'''a = X_trn[1]\n",
    "b = DataAugmentation(a)\n",
    "plt.imshow(b, cmap = 'gray')'''"
   ]
  },
  {
   "cell_type": "code",
   "execution_count": 23,
   "metadata": {},
   "outputs": [],
   "source": [
    "torch.manual_seed(122344)\n",
    "X_trn_data_aug = []\n",
    "errors = []\n",
    "for counter, image in enumerate(new_dict['X_trn']):\n",
    "    try:\n",
    "        image_da = DataAugmentation(image)\n",
    "        X_trn_data_aug.append(image_da)\n",
    "        \n",
    "    except:\n",
    "        errors.append(counter)\n",
    "        X_trn_data_aug.append(torch.from_numpy(image))"
   ]
  },
  {
   "cell_type": "code",
   "execution_count": 24,
   "metadata": {},
   "outputs": [
    {
     "data": {
      "text/plain": [
       "\"\\nprint(len(errors))\\na = new_dict['X_trn'][errors[18]]\\n#b,c,d = get_bbox(a)\\nprint(a.max())\\nplt.imshow(a)\\nprint(errors[13]) #4915\""
      ]
     },
     "execution_count": 24,
     "metadata": {},
     "output_type": "execute_result"
    }
   ],
   "source": [
    "'''\n",
    "print(len(errors))\n",
    "a = new_dict['X_trn'][errors[18]]\n",
    "#b,c,d = get_bbox(a)\n",
    "print(a.max())\n",
    "plt.imshow(a)\n",
    "print(errors[13]) #4915'''"
   ]
  },
  {
   "cell_type": "code",
   "execution_count": 25,
   "metadata": {},
   "outputs": [],
   "source": [
    "#del X_trn"
   ]
  },
  {
   "cell_type": "markdown",
   "metadata": {},
   "source": [
    "# Generando patches y etiquetas para muestra finita"
   ]
  },
  {
   "cell_type": "code",
   "execution_count": 26,
   "metadata": {},
   "outputs": [],
   "source": [
    "def patch_gen_IAM(image, color_channels, height, width, patch_height, patch_width, stepsize):\n",
    "    \n",
    "    image = image / 255 # normalizing\n",
    "        \n",
    "    n_patches = int((width - patch_width)/stepsize + 1)\n",
    "    patches_tensor = torch.empty(n_patches, color_channels, patch_height, patch_width)    \n",
    "    \n",
    "    start = 0\n",
    "    \n",
    "    for p in range(n_patches):\n",
    "        \n",
    "        patches_tensor[p, 0, :, :] = image[:, start:start + patch_width] # sliding window\n",
    "        start += stepsize # updating the bottom-left position of the patch adding the stepsize\n",
    " \n",
    "    return patches_tensor\n",
    "\n",
    "\n",
    "def complete_set_IAM(image_set, target_set, color_channels, height, width, patch_height, patch_width, stepsize):\n",
    "    \n",
    "    complete_set = []\n",
    "    set_range = len(target_set)\n",
    "    \n",
    "    for  i in range(set_range): \n",
    "        image_tensor = patch_gen_IAM(image_set[i], color_channels, height, width, patch_height, patch_width, stepsize)\n",
    "        target_label = target_set[i]\n",
    "        complete_set.append((image_tensor, target_label))\n",
    "        \n",
    "    return complete_set"
   ]
  },
  {
   "cell_type": "code",
   "execution_count": 27,
   "metadata": {},
   "outputs": [],
   "source": [
    "comp_train_set = complete_set_IAM(X_trn_data_aug, target_trn, color_channels = 1, height = 48, width = 192,\n",
    "                              patch_height = 48, patch_width = 10, stepsize = 2)\n",
    " \n",
    "comp_val_set = complete_set_IAM(X_val, target_val, color_channels = 1, height = 48, width = 192,\n",
    "                            patch_height = 48, patch_width = 10, stepsize = 2)\n",
    "\n",
    "comp_test_set = complete_set_IAM(X_tst, target_tst, color_channels = 1, height = 48, width = 192, \n",
    "                             patch_height = 48, patch_width = 10, stepsize = 2)\n",
    "\n",
    "#comp_test_set_2 = complete_set_IAM(test_set_2, color_channels = 1, height = 48, width = 192,\n",
    "#                               patch_height = 48, patch_width = 10, stepsize = 2)"
   ]
  },
  {
   "cell_type": "code",
   "execution_count": 28,
   "metadata": {},
   "outputs": [
    {
     "name": "stdout",
     "output_type": "stream",
     "text": [
      "tensor(0.0039)\n",
      "torch.Size([256, 92, 1, 48, 10])\n",
      "torch.Size([23552, 1, 48, 10])\n",
      "tensor([ 38.,  30.,   9.,  70.,  14.,   9.,   9., 100., 100., 100., 100., 100.,\n",
      "        100., 100., 100., 100., 100., 100., 100.], dtype=torch.float64)\n"
     ]
    },
    {
     "data": {
      "image/png": "[encoded data removed]",
      "text/plain": [
       "<Figure size 432x288 with 2 Axes>"
      ]
     },
     "metadata": {
      "needs_background": "light"
     },
     "output_type": "display_data"
    },
    {
     "data": {
      "image/png": "[encoded data removed]",
      "text/plain": [
       "<Figure size 432x288 with 2 Axes>"
      ]
     },
     "metadata": {
      "needs_background": "light"
     },
     "output_type": "display_data"
    },
    {
     "data": {
      "image/png": "[encoded data removed]",
      "text/plain": [
       "<Figure size 432x288 with 2 Axes>"
      ]
     },
     "metadata": {
      "needs_background": "light"
     },
     "output_type": "display_data"
    },
    {
     "data": {
      "image/png": "[encoded data removed]",
      "text/plain": [
       "<Figure size 432x288 with 2 Axes>"
      ]
     },
     "metadata": {
      "needs_background": "light"
     },
     "output_type": "display_data"
    },
    {
     "data": {
      "image/png": "[encoded data removed]",
      "text/plain": [
       "<Figure size 432x288 with 2 Axes>"
      ]
     },
     "metadata": {
      "needs_background": "light"
     },
     "output_type": "display_data"
    },
    {
     "data": {
      "image/png": "[encoded data removed]",
      "text/plain": [
       "<Figure size 432x288 with 2 Axes>"
      ]
     },
     "metadata": {
      "needs_background": "light"
     },
     "output_type": "display_data"
    },
    {
     "data": {
      "image/png": "[encoded data removed]",
      "text/plain": [
       "<Figure size 432x288 with 2 Axes>"
      ]
     },
     "metadata": {
      "needs_background": "light"
     },
     "output_type": "display_data"
    },
    {
     "data": {
      "image/png": "[encoded data removed]",
      "text/plain": [
       "<Figure size 432x288 with 2 Axes>"
      ]
     },
     "metadata": {
      "needs_background": "light"
     },
     "output_type": "display_data"
    },
    {
     "data": {
      "image/png": "[encoded data removed]",
      "text/plain": [
       "<Figure size 432x288 with 2 Axes>"
      ]
     },
     "metadata": {
      "needs_background": "light"
     },
     "output_type": "display_data"
    },
    {
     "data": {
      "image/png": "[encoded data removed]",
      "text/plain": [
       "<Figure size 432x288 with 2 Axes>"
      ]
     },
     "metadata": {
      "needs_background": "light"
     },
     "output_type": "display_data"
    }
   ],
   "source": [
    "torch.manual_seed(1234)\n",
    "\n",
    "train_loader = DataLoader(comp_train_set, batch_size = 256, shuffle = True, drop_last= True)\n",
    "val_loader = DataLoader(comp_val_set, batch_size = 256, shuffle = False, drop_last= True)\n",
    "test_loader = DataLoader(comp_test_set, batch_size = 256, shuffle = False, drop_last= True)\n",
    "#test_2_loader = DataLoader(comp_test_set_2, batch_size = 16, shuffle = False, drop_last= True)\n",
    "\n",
    "for image, label in train_loader:\n",
    "    break\n",
    "    \n",
    "print(image[0].max())    \n",
    "image_cnn = image.view(-1, 1, 48, 10)   \n",
    "print(image.shape)\n",
    "print(image_cnn.shape)\n",
    "print(label[3])\n",
    "\n",
    "for n_patch in range(0,10):\n",
    "    patch = image[3,n_patch,0,:,:].cpu()\n",
    "    plt.imshow(patch)\n",
    "    plt.colorbar()\n",
    "    plt.show()"
   ]
  },
  {
   "cell_type": "code",
   "execution_count": 29,
   "metadata": {
    "scrolled": true
   },
   "outputs": [],
   "source": [
    "def get_one_hot_target_IAM(labels, seq_len, output_size, batch_size):\n",
    "    # labels: tensor containing the labels of the words in the batch\n",
    "    # each word label consists of a vector of length 19 (MAX LENGTH). The 19 elements are the encoded characters of the word\n",
    "    # (according to Jorge's decoder dict, and completed with PADs to reach length = 19)\n",
    "    one_hot_target = torch.empty(batch_size, seq_len, output_size) # future one-hot encoding tensor for the words of the batch\n",
    "    START = inverse_decoder_dict['START'] # code number of the START token (according to Jorge's decoder_dict)\n",
    "    END = inverse_decoder_dict['END']\n",
    "    PAD = inverse_decoder_dict['PAD']\n",
    "\n",
    "    for j, word in enumerate(labels):\n",
    "        \n",
    "        It_has_PADs = torch.any(word == PAD).item() # (majority case: the label vector of the word is completed with PADs)\n",
    "        one_hot_target[j, 0, :] = one_hot_mapping[START] # START token's one-hot vector goes first\n",
    "        \n",
    "        for k, letter in enumerate(word):\n",
    "            one_hot_target[j, k + 1, :] = one_hot_mapping[letter.item()] # one-hot encoding of the rest of letters (including PADs)\n",
    "            \n",
    "        one_hot_target[j, -1, :] = one_hot_mapping[END] # last = END token\n",
    "        \n",
    "        if It_has_PADs == True: # if we had PADs\n",
    "            \n",
    "            array_of_PADs = torch.where(word == PAD)[0] \n",
    "            first_PAD = torch.min(array_of_PADs).item() # we store the first position where it appeared\n",
    "            first_PAD = first_PAD + 1 # (recall that we added the START as first element, so the indices won't match)\n",
    "            one_hot_target[j, first_PAD, :] = one_hot_mapping[END] # we replace that first PAD by an END\n",
    "            one_hot_target[j, -1, :] = one_hot_mapping[PAD] # then the last element was a PAD, and not the END token\n",
    "            \n",
    "    return one_hot_target\n",
    "                "
   ]
  },
  {
   "cell_type": "code",
   "execution_count": 30,
   "metadata": {},
   "outputs": [
    {
     "name": "stdout",
     "output_type": "stream",
     "text": [
      "tensor([[[0., 0., 0., 0., 0., 0., 0., 0., 0., 0., 0., 0., 0., 0., 0., 0., 0.,\n",
      "          0., 0., 0., 0., 0., 0., 0., 0., 0., 0., 0., 0., 0., 0., 0., 0., 0.,\n",
      "          0., 0., 0., 0., 0., 0., 0., 0., 0., 0., 0., 0., 0., 0., 0., 0., 0.,\n",
      "          0., 0., 0., 0., 0., 0., 0., 0., 0., 0., 0., 0., 0., 0., 0., 0., 0.,\n",
      "          0., 0., 0., 0., 0., 0., 0., 0., 0., 0., 0., 1., 0.]]])\n"
     ]
    }
   ],
   "source": [
    "END = inverse_decoder_dict['END']\n",
    "print(one_hot_mapping[END])"
   ]
  },
  {
   "cell_type": "code",
   "execution_count": 31,
   "metadata": {},
   "outputs": [
    {
     "name": "stdout",
     "output_type": "stream",
     "text": [
      "torch.Size([5, 21, 81])\n"
     ]
    }
   ],
   "source": [
    "a = get_one_hot_target_IAM(target_tst[0:5], MAX_LENGTH + 2, len(decoder_dict), 5)\n",
    "print(a.shape)"
   ]
  },
  {
   "cell_type": "code",
   "execution_count": 32,
   "metadata": {},
   "outputs": [],
   "source": [
    "def one_hot_conversion(decoder_output, output_size):\n",
    "    \n",
    "    one_hot_output_letter = torch.zeros(1, 1, output_size)\n",
    "    index = torch.argmax(decoder_output, dim = 2).item()\n",
    "    one_hot_output_letter[0, 0, index] = 1.\n",
    "    \n",
    "    return one_hot_output_letter"
   ]
  },
  {
   "cell_type": "markdown",
   "metadata": {},
   "source": [
    "# Definiendo la arquitectura"
   ]
  },
  {
   "cell_type": "code",
   "execution_count": 33,
   "metadata": {},
   "outputs": [],
   "source": [
    "class ConvolutionalNetwork(nn.Module):\n",
    "    \n",
    "    def __init__(self, IN_CHANNELS, FILTERS_CNN_1, FILTERS_CNN_2, NEURONS_IN_DENSE_LAYER,\n",
    "                 PATCH_HEIGHT, PATCH_WIDTH, STRIDE, PADDING, KERNEL_SIZE):\n",
    "        super().__init__()\n",
    "        self.IN_CHANNELS = IN_CHANNELS\n",
    "        self.FILTERS_CNN_1 = FILTERS_CNN_1\n",
    "        self.FILTERS_CNN_2 = FILTERS_CNN_2\n",
    "        self.NEURONS_IN_DENSE_LAYER = NEURONS_IN_DENSE_LAYER\n",
    "        self.PATCH_HEIGHT_AFTER_POOLING = PATCH_HEIGHT//4\n",
    "        self.PATCH_WIDTH_AFTER_POOLING = PATCH_WIDTH//4\n",
    "        self.STRIDE = STRIDE\n",
    "        self.PADDING = PADDING\n",
    "        self.KERNEL_SIZE = KERNEL_SIZE\n",
    "        \n",
    "        self.conv1 = nn.Conv2d(in_channels = self.IN_CHANNELS, out_channels = self.FILTERS_CNN_1,\n",
    "                               kernel_size = self.KERNEL_SIZE, stride = self.STRIDE, padding = self.PADDING)\n",
    "        self.conv2 = nn.Conv2d(in_channels = self.FILTERS_CNN_1, out_channels = self.FILTERS_CNN_2,\n",
    "                               kernel_size = self.KERNEL_SIZE, stride = self.STRIDE, padding = self.PADDING)\n",
    "        self.fc1 = nn.Linear(self.PATCH_HEIGHT_AFTER_POOLING * self.PATCH_WIDTH_AFTER_POOLING * self.FILTERS_CNN_2, \n",
    "                             self.NEURONS_IN_DENSE_LAYER)\n",
    "        \n",
    "    def forward(self, X):\n",
    "        X = F.relu((self.conv1(X)))\n",
    "        X = F.max_pool2d(X, 2, 2)\n",
    "        X = F.relu((self.conv2(X)))\n",
    "        X = F.max_pool2d(X, 2, 2)\n",
    "        X = X.view(-1, self.PATCH_HEIGHT_AFTER_POOLING*self.PATCH_WIDTH_AFTER_POOLING*self.FILTERS_CNN_2)\n",
    "        X = self.fc1(X)\n",
    "\n",
    "        return X"
   ]
  },
  {
   "cell_type": "code",
   "execution_count": 34,
   "metadata": {},
   "outputs": [],
   "source": [
    "class EncoderRNN(nn.Module):\n",
    "    def __init__(self, input_size, hidden_size, batch_size, encoder_seq_len):        \n",
    "        super(EncoderRNN, self).__init__()\n",
    "        self.input_size = input_size\n",
    "        self.hidden_size = hidden_size\n",
    "        self.batch_size = batch_size\n",
    "        self.seq_len = encoder_seq_len\n",
    "        self.lstm = nn.LSTM(self.input_size, self.hidden_size, batch_first = True)\n",
    "\n",
    "    def forward(self, input, hidden):        \n",
    "        output = input.view(self.batch_size, self.seq_len, self.input_size)\n",
    "        output, hidden = self.lstm(output, hidden)\n",
    "        return output, hidden\n",
    "\n",
    "    def initHidden(self):\n",
    "        return (torch.zeros(1, self.batch_size, self.hidden_size, device=device),\n",
    "                torch.zeros(1, self.batch_size, self.hidden_size, device=device))"
   ]
  },
  {
   "cell_type": "code",
   "execution_count": 35,
   "metadata": {},
   "outputs": [
    {
     "data": {
      "text/plain": [
       "'\\nclass DecoderRNN(nn.Module):\\n    def __init__(self, output_size, hidden_size, batch_size, decoder_seq_len):\\n        super(DecoderRNN, self).__init__()\\n        self.output_size = output_size\\n        self.hidden_size = hidden_size\\n        self.seq_len = decoder_seq_len\\n\\n        self.lstm = nn.LSTM(self.output_size, self.hidden_size, batch_first = True)\\n        self.out = nn.Linear(self.hidden_size, self.output_size)\\n        self.softmax = nn.LogSoftmax(dim = 2)\\n        # dim = 2 porque esta última dimensión es la correspondiente a output_size, que es sobre\\n        # la que queremos hacer el softmax\\n\\n    def forward(self, input, hidden):        \\n        output = input.view(self.batch_size, self.seq_len, self.output_size)\\n        #output = F.relu(output) # la relu se metía aquí porque en el\\n        #caso NLP del ejemplo de PyTorch previamente había una capa de embedding\\n        #No nos hace falta porque nuestro tensor de inputs ya es one-hot\\n        output, hidden = self.lstm(output, hidden)\\n        output = self.out(output)\\n        output = self.softmax(output)\\n        return output, hidden\\n\\n    def initHidden(self):\\n        return (torch.zeros(1, self.batch_size, self.hidden_size, device=device),\\n               torch.zeros(1, self.batch_size, self.hidden_size, device=device))'"
      ]
     },
     "execution_count": 35,
     "metadata": {},
     "output_type": "execute_result"
    }
   ],
   "source": [
    "'''\n",
    "class DecoderRNN(nn.Module):\n",
    "    def __init__(self, output_size, hidden_size, batch_size, decoder_seq_len):\n",
    "        super(DecoderRNN, self).__init__()\n",
    "        self.output_size = output_size\n",
    "        self.hidden_size = hidden_size\n",
    "        self.seq_len = decoder_seq_len\n",
    "\n",
    "        self.lstm = nn.LSTM(self.output_size, self.hidden_size, batch_first = True)\n",
    "        self.out = nn.Linear(self.hidden_size, self.output_size)\n",
    "        self.softmax = nn.LogSoftmax(dim = 2)\n",
    "        # dim = 2 porque esta última dimensión es la correspondiente a output_size, que es sobre\n",
    "        # la que queremos hacer el softmax\n",
    "\n",
    "    def forward(self, input, hidden):        \n",
    "        output = input.view(self.batch_size, self.seq_len, self.output_size)\n",
    "        #output = F.relu(output) # la relu se metía aquí porque en el\n",
    "        #caso NLP del ejemplo de PyTorch previamente había una capa de embedding\n",
    "        #No nos hace falta porque nuestro tensor de inputs ya es one-hot\n",
    "        output, hidden = self.lstm(output, hidden)\n",
    "        output = self.out(output)\n",
    "        output = self.softmax(output)\n",
    "        return output, hidden\n",
    "\n",
    "    def initHidden(self):\n",
    "        return (torch.zeros(1, self.batch_size, self.hidden_size, device=device),\n",
    "               torch.zeros(1, self.batch_size, self.hidden_size, device=device))'''"
   ]
  },
  {
   "cell_type": "code",
   "execution_count": 36,
   "metadata": {},
   "outputs": [],
   "source": [
    "class AttnDecoderRNN(nn.Module):\n",
    "    def __init__(self, hidden_size, output_size, dropout_p, batch_size, encoder_seq_len, decoder_seq_len):\n",
    "        super(AttnDecoderRNN, self).__init__()\n",
    "        self.hidden_size = hidden_size\n",
    "        self.output_size = output_size\n",
    "        self.dropout_p = dropout_p\n",
    "        self.batch_size = batch_size\n",
    "        self.encoder_seq_len = encoder_seq_len\n",
    "        self.decoder_seq_len = decoder_seq_len\n",
    "        \n",
    "        self.attn = nn.Linear(self.output_size + self.hidden_size, self.encoder_seq_len)\n",
    "        self.attn_combine = nn.Linear(self.output_size + self.hidden_size, self.output_size)\n",
    "        self.dropout = nn.Dropout(self.dropout_p)\n",
    "        self.lstm = nn.LSTM(self.output_size, self.hidden_size, batch_first = True)\n",
    "        self.out = nn.Linear(self.hidden_size, self.output_size)\n",
    "\n",
    "    def forward(self, inputs, hidden, encoder_outputs):\n",
    "        \n",
    "        inputs = inputs.view(self.batch_size, self.decoder_seq_len, self.output_size)\n",
    "        inputs = self.dropout(inputs)\n",
    "        \n",
    "        decoder_hidden_states = hidden[0].view(self.batch_size, self.decoder_seq_len, self.hidden_size) #[0] -- hidden, not cell\n",
    "        \n",
    "        attn_weights = F.softmax(\n",
    "            self.attn(torch.cat((inputs, decoder_hidden_states), 2)), dim = 2)\n",
    "        attn_applied = torch.bmm(attn_weights, encoder_outputs)\n",
    "\n",
    "        output = torch.cat((inputs, attn_applied), 2)\n",
    "        output = self.attn_combine(output)\n",
    "\n",
    "        output = F.relu(output)\n",
    "        output, hidden = self.lstm(output, hidden)\n",
    "\n",
    "        output = F.log_softmax(self.out(output), dim = 2)\n",
    "        return output, hidden, attn_weights\n",
    "\n",
    "    def initHidden(self):\n",
    "        return (torch.zeros(1, self.batch_size, self.hidden_size, device=device),\n",
    "               torch.zeros(1, self.batch_size, self.hidden_size, device=device))"
   ]
  },
  {
   "cell_type": "code",
   "execution_count": 37,
   "metadata": {},
   "outputs": [
    {
     "data": {
      "text/plain": [
       "'\\nclass BahdanauDecoder(nn.Module):\\n    def __init__(self, output_size, hidden_size, batch_size, n_patches, MAX_LENGTH, n_layers, drop_prob):\\n        super(BahdanauDecoder, self).__init__()\\n        self.output_size = output_size\\n        self.hidden_size = hidden_size\\n        self.batch_size = batch_size\\n        self.enc_seq_len = n_patches\\n        self.dec_seq_len = MAX_LENGTH + 2\\n        self.n_layers = n_layers\\n        self.drop_prob = drop_prob\\n\\n        #self.embedding = nn.Embedding(self.output_size, self.hidden_size)\\n\\n        self.fc_hidden = nn.Linear(self.hidden_size, self.hidden_size, bias=False)\\n        self.fc_encoder = nn.Linear(self.hidden_size, self.hidden_size, bias=False)\\n        self.weight = nn.Parameter(torch.FloatTensor(self.batch_size, self.hidden_size, self.dec_seq_len))\\n        self.attn_combine = nn.Linear(self.hidden_size * 2, self.hidden_size)\\n        self.dropout = nn.Dropout(self.drop_prob)\\n        self.lstm = nn.LSTM(self.output_size + self.hidden_size, self.hidden_size, batch_first=True)\\n        self.classifier = nn.Linear(self.hidden_size, self.output_size)\\n\\n    def forward(self, inputs, hidden, encoder_outputs):\\n        #encoder_outputs = encoder_outputs.squeeze()\\n        # Embed input words\\n        #embedded = self.embedding(inputs).view(1, -1)\\n        inputs = self.dropout(inputs)\\n        output = inputs.view(self.batch_size, self.dec_seq_len, self.output_size)\\n\\n        # Calculating Alignment Scores\\n        hidden_state = hidden[0].view(self.batch_size, n_layers, self.hidden_size) # hidden[0] --> picking h. state and not cell\\n        x = torch.tanh(self.fc_hidden(hidden_state) + self.fc_encoder(encoder_outputs)) # shape: [batch, seq_len, hidden_size]\\n        #alignment_scores = x.bmm(self.weight.unsqueeze(2))  \\n        alignment_scores = torch.bmm(x, self.weight) # shape: [batch, enc_seq, dec_seq]\\n        \\n        # Softmaxing alignment scores to get Attention weights\\n        #attn_weights = F.softmax(alignment_scores.view(1,-1), dim=1)\\n        \\n        attn_weights = F.softmax(alignment_scores, dim = 1)\\n\\n        # Multiplying the Attention weights with encoder outputs to get the context vector\\n        #context_vector = torch.bmm(attn_weights.unsqueeze(0),\\n        #                         encoder_outputs.unsqueeze(0))\\n        context_vector = torch.bmm(attn_weights.view(self.batch_size, self.dec_seq_len, self.enc_seq_len), \\n                                   encoder_outputs)\\n        \\n        \\n        # Concatenating context vector with embedded input word\\n        #output = torch.cat((embedded, context_vector[0]), 1).unsqueeze(0)\\n        \\n        output = torch.cat((output, context_vector), dim=2)\\n        \\n        # Passing the concatenated vector as input to the LSTM cell\\n        output, hidden = self.lstm(output, hidden)\\n        # Passing the LSTM output through a Linear layer acting as a classifier\\n        #output = F.log_softmax(self.classifier(output[0]), dim=1)\\n        \\n        output = F.log_softmax(self.classifier(output), dim = 2)\\n        \\n        return output, hidden, attn_weights'"
      ]
     },
     "execution_count": 37,
     "metadata": {},
     "output_type": "execute_result"
    }
   ],
   "source": [
    "'''\n",
    "class BahdanauDecoder(nn.Module):\n",
    "    def __init__(self, output_size, hidden_size, batch_size, n_patches, MAX_LENGTH, n_layers, drop_prob):\n",
    "        super(BahdanauDecoder, self).__init__()\n",
    "        self.output_size = output_size\n",
    "        self.hidden_size = hidden_size\n",
    "        self.batch_size = batch_size\n",
    "        self.enc_seq_len = n_patches\n",
    "        self.dec_seq_len = MAX_LENGTH + 2\n",
    "        self.n_layers = n_layers\n",
    "        self.drop_prob = drop_prob\n",
    "\n",
    "        #self.embedding = nn.Embedding(self.output_size, self.hidden_size)\n",
    "\n",
    "        self.fc_hidden = nn.Linear(self.hidden_size, self.hidden_size, bias=False)\n",
    "        self.fc_encoder = nn.Linear(self.hidden_size, self.hidden_size, bias=False)\n",
    "        self.weight = nn.Parameter(torch.FloatTensor(self.batch_size, self.hidden_size, self.dec_seq_len))\n",
    "        self.attn_combine = nn.Linear(self.hidden_size * 2, self.hidden_size)\n",
    "        self.dropout = nn.Dropout(self.drop_prob)\n",
    "        self.lstm = nn.LSTM(self.output_size + self.hidden_size, self.hidden_size, batch_first=True)\n",
    "        self.classifier = nn.Linear(self.hidden_size, self.output_size)\n",
    "\n",
    "    def forward(self, inputs, hidden, encoder_outputs):\n",
    "        #encoder_outputs = encoder_outputs.squeeze()\n",
    "        # Embed input words\n",
    "        #embedded = self.embedding(inputs).view(1, -1)\n",
    "        inputs = self.dropout(inputs)\n",
    "        output = inputs.view(self.batch_size, self.dec_seq_len, self.output_size)\n",
    "\n",
    "        # Calculating Alignment Scores\n",
    "        hidden_state = hidden[0].view(self.batch_size, n_layers, self.hidden_size) # hidden[0] --> picking h. state and not cell\n",
    "        x = torch.tanh(self.fc_hidden(hidden_state) + self.fc_encoder(encoder_outputs)) # shape: [batch, seq_len, hidden_size]\n",
    "        #alignment_scores = x.bmm(self.weight.unsqueeze(2))  \n",
    "        alignment_scores = torch.bmm(x, self.weight) # shape: [batch, enc_seq, dec_seq]\n",
    "        \n",
    "        # Softmaxing alignment scores to get Attention weights\n",
    "        #attn_weights = F.softmax(alignment_scores.view(1,-1), dim=1)\n",
    "        \n",
    "        attn_weights = F.softmax(alignment_scores, dim = 1)\n",
    "\n",
    "        # Multiplying the Attention weights with encoder outputs to get the context vector\n",
    "        #context_vector = torch.bmm(attn_weights.unsqueeze(0),\n",
    "        #                         encoder_outputs.unsqueeze(0))\n",
    "        context_vector = torch.bmm(attn_weights.view(self.batch_size, self.dec_seq_len, self.enc_seq_len), \n",
    "                                   encoder_outputs)\n",
    "        \n",
    "        \n",
    "        # Concatenating context vector with embedded input word\n",
    "        #output = torch.cat((embedded, context_vector[0]), 1).unsqueeze(0)\n",
    "        \n",
    "        output = torch.cat((output, context_vector), dim=2)\n",
    "        \n",
    "        # Passing the concatenated vector as input to the LSTM cell\n",
    "        output, hidden = self.lstm(output, hidden)\n",
    "        # Passing the LSTM output through a Linear layer acting as a classifier\n",
    "        #output = F.log_softmax(self.classifier(output[0]), dim=1)\n",
    "        \n",
    "        output = F.log_softmax(self.classifier(output), dim = 2)\n",
    "        \n",
    "        return output, hidden, attn_weights'''"
   ]
  },
  {
   "cell_type": "code",
   "execution_count": 38,
   "metadata": {},
   "outputs": [],
   "source": [
    "torch.manual_seed(1234)\n",
    "\n",
    "CNN_model = ConvolutionalNetwork(IN_CHANNELS = 1, FILTERS_CNN_1 = 20, FILTERS_CNN_2 = 50, NEURONS_IN_DENSE_LAYER = 1024, \n",
    "                                 PATCH_HEIGHT = 48, PATCH_WIDTH = 10, STRIDE = 1, PADDING = 2, KERNEL_SIZE = 5).cuda(1)\n",
    "CNN_optimizer = torch.optim.Adam(CNN_model.parameters())\n",
    "\n",
    "Encoder_model = EncoderRNN(input_size = 1024, hidden_size = 256, batch_size = 256, encoder_seq_len = 92).cuda(1)\n",
    "Encoder_optimizer = optim.SGD(Encoder_model.parameters(), lr = 0.001)\n",
    "\n",
    "Decoder_model = AttnDecoderRNN(output_size = len(decoder_dict), hidden_size = 256, dropout_p = 0.1, batch_size = 256,\n",
    "                               encoder_seq_len = 92, decoder_seq_len = 1).cuda(1)\n",
    "Decoder_optimizer = optim.SGD(Decoder_model.parameters(), lr = 0.001)\n",
    "\n",
    "#criterion = nn.CrossEntropyLoss()\n",
    "criterion = nn.NLLLoss()"
   ]
  },
  {
   "cell_type": "markdown",
   "metadata": {},
   "source": [
    "## Entrenando"
   ]
  },
  {
   "cell_type": "code",
   "execution_count": 39,
   "metadata": {},
   "outputs": [],
   "source": [
    "import time\n",
    "\n",
    "from torch.utils.tensorboard import SummaryWriter\n",
    "writer = SummaryWriter()"
   ]
  },
  {
   "cell_type": "code",
   "execution_count": 40,
   "metadata": {},
   "outputs": [],
   "source": [
    "def calculate_loss(decoder_output, ground_truth, batch_size):\n",
    "    loss = 0\n",
    "        \n",
    "    for j in range(batch_size):\n",
    "        loss += criterion(decoder_output[j], ground_truth[j])               \n",
    "    \n",
    "    loss = loss/batch_size\n",
    "\n",
    "    return loss"
   ]
  },
  {
   "cell_type": "code",
   "execution_count": 41,
   "metadata": {},
   "outputs": [],
   "source": [
    "def train():\n",
    "    train_losses = []\n",
    "    for num_batch, (image, labels) in enumerate(train_loader):        \n",
    "        num_batch += 1\n",
    "        encoder_hidden = Encoder_model.initHidden()\n",
    "\n",
    "        image_cnn = image.view(-1, 1, 48, 10).cuda(1)\n",
    "        encoder_input = CNN_model(image_cnn)\n",
    "        encoder_outputs, encoder_hidden = Encoder_model(encoder_input, encoder_hidden)\n",
    "        \n",
    "        \n",
    "        decoder_hidden = encoder_hidden\n",
    "        decoder_input = get_one_hot_target_IAM(labels=labels, seq_len = MAX_LENGTH + 2, output_size = len(decoder_dict), batch_size = 256).cuda(1)\n",
    "        \n",
    "        \n",
    "        for num_letter in range(MAX_LENGTH + 2):\n",
    "            \n",
    "            decoder_input_letter = decoder_input[:, num_letter, :].unsqueeze(1)\n",
    "            \n",
    "            decoder_output, decoder_hidden, attn_weights = Decoder_model(decoder_input_letter, decoder_hidden, encoder_outputs)\n",
    "            \n",
    "            if num_letter == 0:\n",
    "                \n",
    "                decoder_output_total = decoder_output\n",
    "                \n",
    "            else:\n",
    "                \n",
    "                decoder_output_total = torch.cat((decoder_output_total, decoder_output), dim = 1)\n",
    "\n",
    "        output_indices = torch.tensor(list(range(0, MAX_LENGTH + 2 -1))).cuda(1) # removing last token from the output\n",
    "        decoder_output = torch.index_select(decoder_output_total, dim = 1, index = output_indices)\n",
    "\n",
    "        ground_truth = torch.argmax(decoder_input, dim = 2)\n",
    "        target_indices = torch.tensor(list(range(1, MAX_LENGTH + 2))).cuda(1) # remove SOS token from the input\n",
    "        ground_truth = torch.index_select(ground_truth, dim = 1, index = target_indices)\n",
    "\n",
    "        loss = calculate_loss(decoder_output, ground_truth, 16)\n",
    "\n",
    "        CNN_optimizer.zero_grad()\n",
    "        Encoder_optimizer.zero_grad()\n",
    "        Decoder_optimizer.zero_grad()\n",
    "        loss.backward()\n",
    "        CNN_optimizer.step()\n",
    "        Encoder_optimizer.step()\n",
    "        Decoder_optimizer.step()\n",
    "        train_losses.append(loss.item())\n",
    "        \n",
    "    return np.mean(train_losses)"
   ]
  },
  {
   "cell_type": "code",
   "execution_count": 42,
   "metadata": {},
   "outputs": [],
   "source": [
    "def validation():\n",
    "    valid_losses = []\n",
    "\n",
    "    with torch.no_grad():       \n",
    "        for num_batch_val, (image_val, labels_val) in enumerate(val_loader):        \n",
    "            num_batch_val += 1\n",
    "            encoder_hidden_val = Encoder_model.initHidden()\n",
    "            image_cnn_val = image_val.view(-1, 1, 48, 10).cuda(1)\n",
    "            encoder_input_val = CNN_model(image_cnn_val)\n",
    "            encoder_outputs_val, encoder_hidden_val = Encoder_model(encoder_input_val, encoder_hidden_val)\n",
    "        \n",
    "            decoder_hidden_val = encoder_hidden_val\n",
    "            decoder_input_val = get_one_hot_target_IAM(labels=labels_val, seq_len = MAX_LENGTH + 2, output_size = len(decoder_dict), batch_size = 256).cuda(1)\n",
    "            \n",
    "            \n",
    "            for num_letter_val in range(MAX_LENGTH + 2):\n",
    "            \n",
    "                decoder_input_letter_val = decoder_input_val[:, num_letter_val, :].unsqueeze(1)\n",
    "\n",
    "                decoder_output_val, decoder_hidden_val, attn_weights_val = Decoder_model(decoder_input_letter_val, decoder_hidden_val, encoder_outputs_val)\n",
    "\n",
    "                if num_letter_val == 0:\n",
    "\n",
    "                    decoder_output_total_val = decoder_output_val\n",
    "\n",
    "                else:\n",
    "\n",
    "                    decoder_output_total_val = torch.cat((decoder_output_total_val, decoder_output_val), dim = 1)\n",
    "\n",
    "            \n",
    "            output_indices_val = torch.tensor(list(range(0, MAX_LENGTH + 2 - 1))).cuda(1) # remove last token from the output\n",
    "            decoder_output_val = torch.index_select(decoder_output_total_val, dim = 1, index = output_indices_val)\n",
    "\n",
    "            ground_truth_val = torch.argmax(decoder_input_val, dim = 2)\n",
    "            target_indices_val = torch.tensor(list(range(1, MAX_LENGTH + 2))).cuda(1) # remove START token from the input\n",
    "            ground_truth_val = torch.index_select(ground_truth_val, dim = 1, index = target_indices_val)\n",
    "            \n",
    "            loss_val = calculate_loss(decoder_output_val, ground_truth_val, 16)\n",
    "            valid_losses.append(loss_val.item())\n",
    "    return np.mean(valid_losses)"
   ]
  },
  {
   "cell_type": "code",
   "execution_count": 43,
   "metadata": {},
   "outputs": [],
   "source": [
    "class Patience():\n",
    "    \n",
    "    def __init__(self, patience):\n",
    "        self.patience = patience\n",
    "        self.current_patience = patience\n",
    "        self.min_loss_val = float('inf')\n",
    "\n",
    "    def more_patience(self,loss_val):\n",
    "        self.current_patience -= 1\n",
    "        if self.current_patience == 0:\n",
    "            return False\n",
    "\n",
    "        if loss_val < self.min_loss_val:\n",
    "            self.min_loss_val = loss_val\n",
    "            self.current_patience = patience\n",
    "\n",
    "            model_name = f\"IAM_Data_Aug_{48}x{192}_by{10}_jump{2}_batch{256} NN1_{20}_NN2_{50}_{1024}_{5}_{256} pats:{47926}\"\n",
    "            print(\", saved best model.\")\n",
    "            \n",
    "            torch.save({\n",
    "                'CNN_model_state_dict_IAM_Data_Aug': CNN_model.state_dict(),\n",
    "                'CNN_optimizer_state_dict_IAM_Data_Aug': CNN_optimizer.state_dict(),\n",
    "                'Encoder_model_state_dict_IAM_Data_Aug': Encoder_model.state_dict(),\n",
    "                'Encoder_optimizer_state_dict_IAM_Data_Aug': Encoder_optimizer.state_dict(),\n",
    "                'Decoder_model_state_dict_IAM_Data_Aug': Decoder_model.state_dict(),\n",
    "                'Decoder_optimizer_state_dict_IAM_Data_Aug': Decoder_optimizer.state_dict(),\n",
    "            }, 'Attention_IAM_Data_Aug'+model_name)\n",
    "            \n",
    "            torch.save(CNN_model.state_dict(), 'CNN_'+model_name)\n",
    "            torch.save(Encoder_model.state_dict(), 'Encoder_'+model_name)\n",
    "            torch.save(Decoder_model.state_dict(), 'Decoder_'+model_name)\n",
    "    \n",
    "        return True"
   ]
  },
  {
   "cell_type": "code",
   "execution_count": null,
   "metadata": {},
   "outputs": [
    {
     "name": "stdout",
     "output_type": "stream",
     "text": [
      "Epoch: 0 Train loss: 3.496923375257196 Valid loss: 2.736971107022516 Duration: 0.9023597915967305 minutes\n",
      ", saved best model.\n",
      "Epoch: 1 Train loss: 1.9824378394825573 Valid loss: 1.4012276879672347 Duration: 1.8040836135546365 minutes\n",
      ", saved best model.\n",
      "Epoch: 2 Train loss: 1.3968449735386486 Valid loss: 1.220095527583155 Duration: 2.7112894892692565 minutes\n",
      ", saved best model.\n",
      "Epoch: 3 Train loss: 1.2581817306936744 Valid loss: 1.132389393346063 Duration: 3.628182641665141 minutes\n",
      ", saved best model.\n",
      "Epoch: 4 Train loss: 1.1943658472382448 Valid loss: 1.092471552306208 Duration: 4.55225316286087 minutes\n",
      ", saved best model.\n",
      "Epoch: 5 Train loss: 1.1523118701210633 Valid loss: 1.0598726909736107 Duration: 5.487019193172455 minutes\n",
      ", saved best model.\n",
      "Epoch: 6 Train loss: 1.1250956303933088 Valid loss: 1.0200779910745292 Duration: 6.425353153546651 minutes\n",
      ", saved best model.\n",
      "Epoch: 7 Train loss: 1.1014211267073524 Valid loss: 1.0008414243829662 Duration: 7.356888878345489 minutes\n",
      ", saved best model.\n",
      "Epoch: 8 Train loss: 1.0677548965668295 Valid loss: 0.9808448162572138 Duration: 8.292522982756298 minutes\n",
      ", saved best model.\n",
      "Epoch: 9 Train loss: 1.0337528203897934 Valid loss: 0.9563008135762708 Duration: 9.223859624067943 minutes\n",
      ", saved best model.\n",
      "Epoch: 10 Train loss: 1.021090439934144 Valid loss: 0.9389805649888927 Duration: 10.16551920970281 minutes\n",
      ", saved best model.\n",
      "Epoch: 11 Train loss: 1.0151327042018665 Valid loss: 0.9239060508793798 Duration: 11.100996740659077 minutes\n",
      ", saved best model.\n",
      "Epoch: 12 Train loss: 0.9968319044393652 Valid loss: 0.9150710866369051 Duration: 12.029331823190054 minutes\n",
      ", saved best model.\n",
      "Epoch: 13 Train loss: 0.9914597990041111 Valid loss: 0.9043756373997393 Duration: 12.955641253789265 minutes\n",
      ", saved best model.\n",
      "Epoch: 14 Train loss: 0.9827427653705373 Valid loss: 0.8932176478977861 Duration: 13.876985311508179 minutes\n",
      ", saved best model.\n",
      "Epoch: 15 Train loss: 0.9492549450002252 Valid loss: 0.8937442056063948 Duration: 14.80316167275111 minutes\n",
      "Epoch: 16 Train loss: 0.9700367466651182 Valid loss: 0.8803377603662426 Duration: 15.738468742370605 minutes\n",
      ", saved best model.\n",
      "Epoch: 17 Train loss: 0.9649323202709463 Valid loss: 0.8968274716673226 Duration: 16.681092802683512 minutes\n",
      "Epoch: 18 Train loss: 0.9553730079834474 Valid loss: 0.8725314715812946 Duration: 17.61990523735682 minutes\n",
      ", saved best model.\n",
      "Epoch: 19 Train loss: 0.9465678009119901 Valid loss: 0.8573512126659525 Duration: 18.556750229994456 minutes\n",
      ", saved best model.\n",
      "Epoch: 20 Train loss: 0.9520009054857141 Valid loss: 0.8674240173964665 Duration: 19.49861850341161 minutes\n",
      "Epoch: 21 Train loss: 0.937481958917118 Valid loss: 0.8576823390763382 Duration: 20.44189417362213 minutes\n",
      "Epoch: 22 Train loss: 0.9430096404437713 Valid loss: 0.8483388855539519 Duration: 21.37904457251231 minutes\n",
      ", saved best model.\n",
      "Epoch: 23 Train loss: 0.9244837674865111 Valid loss: 0.8535538439092965 Duration: 22.32148894468943 minutes\n",
      "Epoch: 24 Train loss: 0.9195878282587796 Valid loss: 0.8376053119527882 Duration: 23.261967345078787 minutes\n",
      ", saved best model.\n",
      "Epoch: 25 Train loss: 0.9191513291017257 Valid loss: 0.8335802102911061 Duration: 24.200348071257274 minutes\n",
      ", saved best model.\n",
      "Epoch: 26 Train loss: 0.9131521686194415 Valid loss: 0.8319788739599031 Duration: 25.138013044993084 minutes\n",
      ", saved best model.\n",
      "Epoch: 27 Train loss: 0.895117782016489 Valid loss: 0.8292489092925499 Duration: 26.082118876775105 minutes\n",
      ", saved best model.\n",
      "Epoch: 28 Train loss: 0.9229398749091409 Valid loss: 0.8265935511424624 Duration: 27.0240842461586 minutes\n",
      ", saved best model.\n",
      "Epoch: 29 Train loss: 0.9126975182543464 Valid loss: 0.8242374083091473 Duration: 27.966405300299325 minutes\n",
      ", saved best model.\n",
      "Epoch: 30 Train loss: 0.9173935202353778 Valid loss: 0.8161877619809118 Duration: 28.891230511665345 minutes\n",
      ", saved best model.\n",
      "Epoch: 31 Train loss: 0.9058036297400367 Valid loss: 0.8238377036719486 Duration: 29.82449914216995 minutes\n",
      "Epoch: 32 Train loss: 0.9031545067215986 Valid loss: 0.8221597692062115 Duration: 30.75833718776703 minutes\n",
      "Epoch: 33 Train loss: 0.8989259884319204 Valid loss: 0.8153094546548252 Duration: 31.69865902662277 minutes\n",
      ", saved best model.\n",
      "Epoch: 34 Train loss: 0.8991253834994719 Valid loss: 0.8131911158561707 Duration: 32.6424849708875 minutes\n",
      ", saved best model.\n",
      "Epoch: 35 Train loss: 0.9010080277601028 Valid loss: 0.8107509304737223 Duration: 33.590006017684935 minutes\n",
      ", saved best model.\n",
      "Epoch: 36 Train loss: 0.8928321928263986 Valid loss: 0.8090560765101992 Duration: 34.53502912123998 minutes\n",
      ", saved best model.\n",
      "Epoch: 37 Train loss: 0.898868661513303 Valid loss: 0.810774184506515 Duration: 35.48080022335053 minutes\n",
      "Epoch: 38 Train loss: 0.8627369850077093 Valid loss: 0.8032474702802198 Duration: 36.42864094575246 minutes\n",
      ", saved best model.\n",
      "Epoch: 39 Train loss: 0.8844484852597038 Valid loss: 0.8001539090584064 Duration: 37.37081949710846 minutes\n",
      ", saved best model.\n",
      "Epoch: 40 Train loss: 0.8699562677087631 Valid loss: 0.7998390362180513 Duration: 38.312446808815004 minutes\n",
      ", saved best model.\n",
      "Epoch: 41 Train loss: 0.8750098468785618 Valid loss: 0.8005424984570207 Duration: 39.263242455323535 minutes\n",
      "Epoch: 42 Train loss: 0.8918899938384479 Valid loss: 0.8013324922528761 Duration: 40.20479293266932 minutes\n",
      "Epoch: 43 Train loss: 0.8646164281483002 Valid loss: 0.8014061738704813 Duration: 41.138998766740166 minutes\n",
      "Epoch: 44 Train loss: 0.8887617148180059 Valid loss: 0.798248212912987 Duration: 42.046600155035655 minutes\n",
      ", saved best model.\n",
      "Epoch: 45 Train loss: 0.8564564219133102 Valid loss: 0.7990207980419027 Duration: 42.95504702727 minutes\n",
      "Epoch: 46 Train loss: 0.8783797481480766 Valid loss: 0.800370874076054 Duration: 43.86055724223455 minutes\n",
      "Epoch: 47 Train loss: 0.8768367145788223 Valid loss: 0.7969336098638075 Duration: 44.770422184467314 minutes\n",
      ", saved best model.\n",
      "Epoch: 48 Train loss: 0.8856806331139835 Valid loss: 0.8050493721304268 Duration: 45.70809942086537 minutes\n",
      "Epoch: 49 Train loss: 0.870724675170878 Valid loss: 0.7951550504256939 Duration: 46.638965026537576 minutes\n",
      ", saved best model.\n"
     ]
    }
   ],
   "source": [
    "torch.manual_seed(1234)\n",
    "patience = 2000\n",
    "\n",
    "patience_controler = Patience(patience)\n",
    "start_time = time.time()\n",
    "\n",
    "for num_epoch in range(5000000):\n",
    "    train_loss = train()        \n",
    "    valid_loss = validation()\n",
    "    \n",
    "    writer.add_scalar('Loss/train', train_loss, num_epoch)\n",
    "    writer.add_scalar('Loss/validation', valid_loss, num_epoch)\n",
    "    \n",
    "    print(f'Epoch: {num_epoch} Train loss: {train_loss} Valid loss: {valid_loss} Duration: {(time.time() - start_time)/60} minutes',)\n",
    "\n",
    "    if not patience_controler.more_patience(valid_loss):\n",
    "        print(\"Se acabó la paciencia\")\n",
    "        break\n",
    "\n",
    "        \n"
   ]
  },
  {
   "cell_type": "markdown",
   "metadata": {},
   "source": [
    "# IGNORE CELLS BELOW (THEY'RE NOT THE PROPER TEST)"
   ]
  },
  {
   "cell_type": "markdown",
   "metadata": {},
   "source": [
    "## Cargar modelo"
   ]
  },
  {
   "cell_type": "code",
   "execution_count": null,
   "metadata": {},
   "outputs": [],
   "source": [
    "CNN_model.load_state_dict(torch.load('CNN_model_30000_words_TF_PAD_noise.pt'))\n",
    "CNN_model.eval()\n",
    "\n",
    "Encoder_model.load_state_dict(torch.load('Encoder_model_30000_words_TF_PAD_noise.pt'))\n",
    "Encoder_model.eval()\n",
    "\n",
    "Decoder_model.load_state_dict(torch.load('Decoder_model_30000_words_TF_PAD_noise.pt'))\n",
    "Decoder_model.eval()"
   ]
  },
  {
   "cell_type": "code",
   "execution_count": null,
   "metadata": {},
   "outputs": [],
   "source": [
    "def Test():\n",
    "    with torch.no_grad():\n",
    "        for num_batch, (image_test, label_test) in enumerate(test_loader):\n",
    "            num_batch += 1\n",
    "            encoder_hidden_test = Encoder_model.initHidden(batch_size = batch_size)\n",
    "            image_cnn_test = image_test.view(-1, color_channels, patch_height, patch_width).cuda(1)\n",
    "            encoder_input_test = CNN_model(image_cnn_test)\n",
    "            encoder_output, encoder_hidden_test = Encoder_model(encoder_input_test, encoder_hidden_test, batch = test_batch, seq_len = n_patches)\n",
    "\n",
    "            #decoder_hidden_test = (encoder_hidden_test[0][0, :, :].view(1, batch_size, hidden_size), # We take the last hidden state of the Encoder \n",
    "            #                       encoder_hidden_test[1][0, :, :].view(1, batch_size, hidden_size)) # for each image/word (j) within the batch \n",
    "            \n",
    "            for j in range(batch_size):\n",
    "                decoder_input_test = mapeo['START'].cuda(1) # We initialize the first Decoder input as the START token\n",
    "                decoder_hidden_test = (encoder_hidden_test[0][0, j, :].view(1, 1, hidden_size), # We take the last hidden state of the Encoder \n",
    "                                       encoder_hidden_test[1][0, j, :].view(1, 1, hidden_size)) # for each image/word (j) within the batch \n",
    "                \n",
    "                for d in range(MAX_LENGTH + 2):\n",
    "                    decoder_output_test, decoder_hidden_test = Decoder_model(decoder_input_test, decoder_hidden_test, batch = 1, seq_len = 1)\n",
    "\n",
    "                    output_letter = one_hot_conversion(decoder_output_test, output_size = output_size)\n",
    "                    decoder_input_test = output_letter\n",
    "                    \n",
    "                    if d == 0:\n",
    "                        output_word = output_letter\n",
    "                    else:\n",
    "                        output_word = torch.cat((output_word, output_letter), dim = 1).cuda(1)\n",
    "                    \n",
    "                    if torch.equal(output_letter, letter_to_vector('END').cuda(1)):\n",
    "                        break\n",
    "                output_word = torch.argmax(output_word, dim=2)\n",
    "                output_word = output_word.view(output_word.numel()) # view as a rank-1 tensor\n",
    "\n",
    "                model_word = []\n",
    "                for item in output_word:\n",
    "                    model_word.append(letters[item])\n",
    "\n",
    "                model_word = ''.join(model_word[:-1])\n",
    "                print(model_word)\n",
    "            print(test_set) \n"
   ]
  },
  {
   "cell_type": "code",
   "execution_count": null,
   "metadata": {
    "scrolled": true
   },
   "outputs": [],
   "source": [
    "Test()"
   ]
  },
  {
   "cell_type": "code",
   "execution_count": null,
   "metadata": {},
   "outputs": [],
   "source": [
    "# activar pytorch_estoril (environment) en la terminal y ejecutar tensorboard --host 0.0.0.0 --logdir ./runs\n",
    "# Tensorboard se ejecutará en un cierto puerto y nos dará el enlace. Habrá que sustituir la IP 0.0.0.0 por la del equipo\n",
    "# en remoto en la que esté corriendo en el caso de Estoril 212.128.3.86:"
   ]
  }
 ],
 "metadata": {
  "kernelspec": {
   "display_name": "pytorch_estoril",
   "language": "python",
   "name": "pytorch_estoril"
  },
  "language_info": {
   "codemirror_mode": {
    "name": "ipython",
    "version": 3
   },
   "file_extension": ".py",
   "mimetype": "text/x-python",
   "name": "python",
   "nbconvert_exporter": "python",
   "pygments_lexer": "ipython3",
   "version": "3.6.10"
  }
 },
 "nbformat": 4,
 "nbformat_minor": 5
}
