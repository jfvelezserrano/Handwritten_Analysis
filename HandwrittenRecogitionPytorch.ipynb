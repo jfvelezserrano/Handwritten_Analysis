{
 "cells": [
  {
   "cell_type": "markdown",
   "id": "af6ca991-4cb9-44e1-8ee8-70ff520cc885",
   "metadata": {},
   "source": [
    "# Antes de empezar\n",
    "\n",
    "conda activate python3.6_cv2"
   ]
  },
  {
   "cell_type": "code",
   "execution_count": 1,
   "id": "edb7184b-e35a-4e67-9aef-865fe8dbc1bf",
   "metadata": {},
   "outputs": [],
   "source": [
    "import torch\n",
    "import torch.nn as nn\n",
    "import torch.nn.functional as F\n",
    "from torch import optim\n",
    "from torch.utils.data import DataLoader\n",
    "from torchvision import datasets, transforms, models\n",
    "from torchvision.utils import make_grid\n",
    "import os\n",
    "import cv2\n",
    "import skimage\n",
    "\n",
    "import numpy as np\n",
    "import pandas as pd\n",
    "from IPython.display import display\n",
    "import matplotlib.pyplot as plt\n",
    "%matplotlib inline \n",
    "\n",
    "# Ignore harmless warnings:\n",
    "\n",
    "import warnings\n",
    "warnings.filterwarnings(\"ignore\")\n",
    "device = torch.device(\"cuda:0\" if torch.cuda.is_available() else \"cpu\")"
   ]
  },
  {
   "cell_type": "code",
   "execution_count": 2,
   "id": "b3320ac7-a579-4ced-a885-d17400ab99c2",
   "metadata": {},
   "outputs": [
    {
     "name": "stdout",
     "output_type": "stream",
     "text": [
      "1.9.0\n",
      "3.6.10\n"
     ]
    },
    {
     "data": {
      "text/plain": [
       "'Quadro RTX 5000'"
      ]
     },
     "execution_count": 2,
     "metadata": {},
     "output_type": "execute_result"
    }
   ],
   "source": [
    "import platform\n",
    "print(torch.__version__)\n",
    "print(platform.python_version())\n",
    "torch.cuda.get_device_name(0)"
   ]
  },
  {
   "cell_type": "markdown",
   "id": "eb78a6ea-117f-4794-82d6-6f9883f91c78",
   "metadata": {},
   "source": [
    "## Cargando datos"
   ]
  },
  {
   "cell_type": "code",
   "execution_count": 3,
   "id": "b0b527dc-df83-4727-ad05-78760cb9bcb9",
   "metadata": {},
   "outputs": [],
   "source": [
    "def loadWords(file_name):\n",
    "    top_30000_words = pd.read_csv(file_name, delimiter = '\\t', header = None, keep_default_na=False)\n",
    "    src_words = []\n",
    "    sample_length = len(top_30000_words)\n",
    "\n",
    "    for i in range(sample_length):\n",
    "        src_words.append(top_30000_words.loc[i][0])\n",
    "\n",
    "    total_length = len(src_words)\n",
    "    return src_words,total_length"
   ]
  },
  {
   "cell_type": "code",
   "execution_count": 4,
   "id": "c8669b9a-2b45-48a7-ac35-c2e1a86c16ef",
   "metadata": {},
   "outputs": [
    {
     "name": "stdout",
     "output_type": "stream",
     "text": [
      "Palabras:  30000\n",
      "Las primeras:  ['the', 'of', 'and', 'to', 'a', 'in', 'for', 'is', 'on', 'that']\n"
     ]
    }
   ],
   "source": [
    "src_words,total_length = loadWords('30k.txt') \n",
    "print(\"Palabras: \", total_length)\n",
    "print(\"Las primeras: \", src_words[0:10])"
   ]
  },
  {
   "cell_type": "markdown",
   "id": "8d6325ef-9a4d-4a6e-8093-b83bdd61b77e",
   "metadata": {},
   "source": [
    "## Eliminar palabras de tamaño grande"
   ]
  },
  {
   "cell_type": "code",
   "execution_count": 5,
   "id": "4c38aa84-5638-4a26-9367-335155faae7c",
   "metadata": {},
   "outputs": [],
   "source": [
    "def deleteBigWords(max_len,words):\n",
    "    output = words.copy()\n",
    "\n",
    "    huge_words = 0\n",
    "\n",
    "    for i in range(total_length):\n",
    "        if len(output[i]) > max_len:\n",
    "            output[i] = output[i-1]\n",
    "            huge_words += 1\n",
    "\n",
    "    print(\"Palabras largas cambiadas: \", huge_words)\n",
    "    return output"
   ]
  },
  {
   "cell_type": "code",
   "execution_count": 6,
   "id": "78b70f10-ce1e-4419-a5af-b4a658c243dd",
   "metadata": {},
   "outputs": [
    {
     "name": "stdout",
     "output_type": "stream",
     "text": [
      "Palabras largas cambiadas:  35\n"
     ]
    }
   ],
   "source": [
    "words = deleteBigWords(15,src_words)"
   ]
  },
  {
   "cell_type": "markdown",
   "id": "4439a4d4-0a30-4dc8-b003-726ef80c3e72",
   "metadata": {},
   "source": [
    "## Definiendo conjuntos de train, test y validación"
   ]
  },
  {
   "cell_type": "code",
   "execution_count": 7,
   "id": "e101312f-284d-42a2-b0eb-af221bd6d442",
   "metadata": {},
   "outputs": [
    {
     "name": "stdout",
     "output_type": "stream",
     "text": [
      "15\n"
     ]
    }
   ],
   "source": [
    "train_set = words[0:28000]\n",
    "val_set = words[28000:29000] \n",
    "test_set = words[29000:30000]\n",
    "test_set_2 = words[20000:21000] # (seen during training, the network shoud have memorised it)\n",
    "\n",
    "MAX_LENGTH = max(len(word) for word in words) # length of the longest word within our sample\n",
    "\n",
    "print(MAX_LENGTH)"
   ]
  },
  {
   "cell_type": "code",
   "execution_count": 8,
   "id": "b50dc67f-fd3e-4389-b49b-71f38c8189a8",
   "metadata": {},
   "outputs": [],
   "source": [
    "letters = ['START', 'a', 'b', 'c', 'd', 'e', 'f', 'g', 'h', 'i', 'j', 'k',\n",
    "          'l', 'm', 'n', 'o', 'p', 'q', 'r', 's', 't', 'u', 'v', 'w', 'x', 'y', 'z', 'END', 'PAD']\n",
    "\n",
    "mapeo = {}\n",
    "\n",
    "cont = 0\n",
    "for key in letters:\n",
    "    vector = torch.zeros(1, 1, len(letters))\n",
    "    vector[0,0,cont] = 1.0\n",
    "    mapeo[key] = vector\n",
    "    cont += 1"
   ]
  },
  {
   "cell_type": "code",
   "execution_count": 65,
   "id": "4aa1154c-7000-4102-b2ea-8c5d318a258c",
   "metadata": {},
   "outputs": [
    {
     "data": {
      "text/plain": [
       "tensor([[[1., 0., 0., 0., 0., 0., 0., 0., 0., 0., 0., 0., 0., 0., 0., 0., 0.,\n",
       "          0., 0., 0., 0., 0., 0., 0., 0., 0., 0., 0., 0.]]])"
      ]
     },
     "execution_count": 65,
     "metadata": {},
     "output_type": "execute_result"
    }
   ],
   "source": []
  },
  {
   "cell_type": "code",
   "execution_count": 9,
   "id": "7509e984-5790-45ee-a5e3-bec216bdeab4",
   "metadata": {},
   "outputs": [],
   "source": [
    "def patch_gen(word, n_patches, patch_height, patch_width, stepsize, color_channels):\n",
    "    \n",
    "    image = 255 * np.ones(shape = (height, width), dtype = np.uint8)\n",
    "    image = cv2.putText(image, text = word, org = (5, 30),\n",
    "        fontFace = cv2.FONT_HERSHEY_SIMPLEX, fontScale = 0.62, color = (0, 0, 0),\n",
    "        thickness = 1, lineType = cv2.LINE_AA)\n",
    "    #image = skimage.util.random_noise(image, mode='s&p')\n",
    "    image = transforms.ToPILImage()(image) # np.ndarray to PIL.Image.Image\n",
    "    patches_tensor = torch.empty(n_patches, color_channels, patch_height, patch_width)\n",
    "    patches_tensor = patches_tensor.cuda(0)\n",
    "    \n",
    "    for p in range(n_patches):\n",
    "        \n",
    "        patch = transforms.functional.crop(image, 0, 0 + p * stepsize, patch_height, patch_width) # cropping of the image into patches\n",
    "        patch = transforms.ToTensor()(patch) # torch.Tensor of the patch (normalized)\n",
    "        #patch = torch.from_numpy(patch) # conversion to pytorch tensor again\n",
    "        patch = 1. - patch # it will work better if we have white text over black background\n",
    "        patch = patch.view(1, 1, patch_height, patch_width) # CNN_model expects a 4-dimensional tensor (1 dimension for batch)\n",
    "        #patch = patch.type(torch.FloatTensor) # conversion to float\n",
    "        patch = patch.cuda(0) # set to cuda\n",
    "        patches_tensor[p, 0, :, :] = patch\n",
    "                \n",
    "    return patches_tensor"
   ]
  },
  {
   "cell_type": "code",
   "execution_count": 10,
   "id": "5d704837-87fd-4ba8-976a-3ccf75b606bd",
   "metadata": {},
   "outputs": [],
   "source": [
    "height = 48\n",
    "width = 192\n",
    "patch_height = 48\n",
    "patch_width = 10\n",
    "stepsize = 2\n",
    "color_channels = 1\n",
    "\n",
    "n_patches = int((width - patch_width)/stepsize + 1) "
   ]
  },
  {
   "cell_type": "code",
   "execution_count": 11,
   "id": "048ed70b-0e9d-4247-b36c-d54179ff0510",
   "metadata": {},
   "outputs": [],
   "source": [
    "def complete_set(word_set):    \n",
    "    complete_set = []\n",
    "    \n",
    "    for word in word_set:        \n",
    "        complete_set.append((patch_gen(word, n_patches, patch_height, patch_width, stepsize, color_channels), word))\n",
    "        \n",
    "    return complete_set"
   ]
  },
  {
   "cell_type": "code",
   "execution_count": 12,
   "id": "c0061e4a-6356-48a4-878c-2f1adb4d7ed2",
   "metadata": {},
   "outputs": [],
   "source": [
    "comp_train_set = complete_set(train_set)\n",
    "comp_val_set = complete_set(val_set)\n",
    "comp_test_set = complete_set(test_set)\n",
    "comp_test_set_2 = complete_set(test_set_2)"
   ]
  },
  {
   "cell_type": "code",
   "execution_count": 242,
   "id": "669b3fee-0d89-4635-8b17-b4c8f5e9928c",
   "metadata": {},
   "outputs": [
    {
     "name": "stdout",
     "output_type": "stream",
     "text": [
      "torch.Size([512, 92, 1, 48, 10])\n",
      "torch.Size([47104, 1, 48, 10])\n",
      "('itv', 'beside', 'reminiscent', 'embarrassed', 'brought', 'endangered', 'countryside', 'gardner', 'fredericksburg', 'titty', 'clemente', 'lesson', 'stanford', 'elevation', 'faint', 'synchronization', 'striving', 'sponsorship', 'cancun', 'development', 'latina', 'severe', 'ry', 'albion', 'bets', 'superannuation', 'rhythmic', 'inter', 'difference', 'scandinavia', 'figuring', 'spouse', 'ghetto', 'penelope', 'tuscan', 'intermittent', 'casper', 'umass', 'authority', 'talk', 'ar', 'ellison', 'athletics', 'delicious', 'awesome', 'subscriptions', 'shaun', 'listprice', 'laredo', 'fnal', 'goodwill', 'carmen', 'endeavors', 'proliferation', 'line', 'clips', 'ang', 'vax', 'lesbo', 'notify', 'patsy', 'mobil', 'professionalism', 'diagonal', 'subs', 'grimes', 'god', 'bedrooms', 'linguistics', 'butalbital', 'destroys', 'plate', 'unprecedented', 'milano', 'acronyms', 'singers', 'pure', 'monitor', 'celebrates', 'ixus', 'amature', 'cfm', 'snoop', 'messageslog', 'cipher', 'franz', 'absence', 'clashes', 'subscribing', 'api', 'deli', 'ramsey', 'satisfied', 'elena', 'ended', 'orbitz', 'validator', 'tra', 'sorority', 'crosby', 'ranking', 'fools', 'too', 'dial', 'browsing', 'serial', 'tomas', 'dwight', 'sis', 'took', 'develop', 'braided', 'spool', 'falls', 'thinkcentre', 'showcase', 'keychains', 'communion', 'cathy', 'wifi', 'dining', 'scoreboard', 'ser', 'neighbouring', 'surveillance', 'theron', 'trenches', 'technician', 'cigars', 'together', 'hitter', 'kuala', 'kidd', 'pee', 'stationary', 'passports', 'radcliffe', 'peterborough', 'requirement', 'resisted', 'craigslist', 'breakdown', 'parkinson', 'wretch', 'weed', 'silvia', 'stunt', 'nichols', 'hunter', 'meetings', 'tartan', 'olympic', 'bog', 'allegro', 'remarkable', 'icp', 'secured', 'of', 'improper', 'salsa', 'sock', 'premise', 'jerseys', 'mikhail', 'dependents', 'intra', 'purchasing', 'retarded', 'walkthroughs', 'exempted', 'juniper', 'promise', 'vicky', 'add', 'rang', 'edible', 'deterministic', 'biases', 'winter', 'limitation', 'plastic', 'pinned', 'telnet', 'digging', 'midas', 'notification', 'journey', 'quantification', 'appraised', 'wipes', 'evangelism', 'kerberos', 'sixteenth', 'yelled', 'doses', 'iss', 'posed', 'equals', 'paging', 'subjective', 'coefficients', 'probability', 'aiming', 'employed', 'meds', 'tei', 'snes', 'filtered', 'encyclopedia', 'nicole', 'emails', 'climatic', 'complying', 'photons', 'customise', 'adrenaline', 'everywhere', 'hughes', 'starsmerchant', 'visit', 'pleasures', 'because', 'bethlehem', 'logs', 'pfc', 'calm', 'molten', 'hispanic', 'ability', 'dane', 'scientists', 'lungs', 'detroit', 'samples', 'storytelling', 'drudge', 'caught', 'liens', 'cytoplasmic', 'vocals', 'accolades', 'happier', 'mennonite', 'xvi', 'makeover', 'indicating', 'tigers', 'hazard', 'innsbruck', 'hannover', 'zanussi', 'hepa', 'tod', 'ans', 'appearances', 'fleur', 'scrolling', 'dunlop', 'primitives', 'petersburg', 'sakura', 'shines', 'treadmill', 'hardcover', 'monarchy', 'vv', 'receivers', 'wap', 'jenn', 'inconvenience', 'landmark', 'fostering', 'fastener', 'anc', 'auditory', 'distributors', 'bernhard', 'walking', 'interpretive', 'documentation', 'jane', 'bachelor', 'enforcing', 'comparing', 'booty', 'persuasive', 'fortunes', 'hash', 'untreated', 'noir', 'predicting', 'marsh', 'hawkes', 'clarity', 'vests', 'renewed', 'project', 'doe', 'mormon', 'assessor', 'mailboxes', 'exalted', 'ares', 'widows', 'provided', 'ativan', 'labor', 'cosponsors', 'loretta', 'implementing', 'clare', 'poverty', 'pudding', 'ati', 'stabilize', 'far', 'joyce', 'outage', 'assistants', 'count', 'ionization', 'flood', 'vaio', 'kelsey', 'gd', 'momma', 'carpets', 'majors', 'hibernate', 'prestigious', 'strive', 'herd', 'nautica', 'demon', 'br', 'chests', 'buffalo', 'switching', 'highlighting', 'kwazulu', 'ima', 'filed', 'xb', 'poles', 'recital', 'nicholas', 'czk', 'diggs', 'intracellular', 'ubuntu', 'contemplate', 'mild', 'pants', 'actors', 'recherche', 'norwich', 'idc', 'accidents', 'lan', 'contrast', 'furniture', 'love', 'categorised', 'depeche', 'srv', 'epson', 'institute', 'marketers', 'link', 'cardbus', 'drag', 'slightest', 'nonlinear', 'alumni', 'settlements', 'dependencies', 'flip', 'rockville', 'tru', 'diner', 'magenta', 'fiberglass', 'delights', 'financials', 'francesca', 'aga', 'colors', 'earthquakes', 'cleaned', 'episode', 'incremental', 'abrupt', 'cheshire', 'hodgson', 'experts', 'seam', 'exclaimed', 'wednesday', 'brookline', 'kerry', 'dollar', 'doll', 'tended', 'bread', 'individual', 'specialised', 'clocks', 'cascading', 'dentists', 'marietta', 'tourists', 'reading', 'desert', 'printing', 'coats', 'gonzo', 'weary', 'treasures', 'oper', 'lecturer', 'choi', 'midday', 'clam', 'openoffice', 'becky', 'soul', 'ami', 'proactive', 'excluded', 'bouvet', 'mds', 'enom', 'theories', 'medications', 'truman', 'oj', 'rpms', 'claire', 'art', 'minors', 'tailoring', 'proved', 'maintaining', 'tamworth', 'voluntary', 'oscillation', 'warehouse', 'governors', 'stones', 'connections', 'xe', 'hemingway', 'posture', 'denim', 'perspective', 'susan', 'banners', 'rethink', 'careers', 'profit', 'lizards', 'cyan', 'memory', 'symbolic', 'transports', 'acronym', 'begun', 'valance', 'investigators', 'passionate', 'interacting', 'eid', 'incubation', 'residents', 'biologists', 'metadata', 'concept', 'characteristics', 'subroutine', 'sta', 'rooms', 'scouts', 'daphne', 'profound', 'evaluating', 'zombies', 'fine', 'taxis', 'prayed', 'layer', 'uma', 'reviewing', 'sparkling', 'frames', 'darren', 'pcbs', 'tale', 'break', 'heavens', 'ezine', 'jesuit', 'simulations', 'keen', 'uconn', 'loudly', 'monique', 'documenting', 'manga', 'ltr', 'kerr', 'ny', 'competitors')\n"
     ]
    },
    {
     "data": {
      "image/png": "[encoded data removed]",
      "text/plain": [
       "<Figure size 432x288 with 2 Axes>"
      ]
     },
     "metadata": {
      "needs_background": "light"
     },
     "output_type": "display_data"
    },
    {
     "data": {
      "image/png": "[encoded data removed]",
      "text/plain": [
       "<Figure size 432x288 with 2 Axes>"
      ]
     },
     "metadata": {
      "needs_background": "light"
     },
     "output_type": "display_data"
    },
    {
     "data": {
      "image/png": "[encoded data removed]",
      "text/plain": [
       "<Figure size 432x288 with 2 Axes>"
      ]
     },
     "metadata": {
      "needs_background": "light"
     },
     "output_type": "display_data"
    }
   ],
   "source": [
    "torch.manual_seed(123)\n",
    "\n",
    "batch_size = 512\n",
    "\n",
    "train_loader = DataLoader(comp_train_set, batch_size = batch_size, shuffle = True, drop_last= True)\n",
    "val_loader = DataLoader(comp_val_set, batch_size = batch_size, shuffle = False, drop_last= True)\n",
    "test_loader = DataLoader(comp_test_set, batch_size = batch_size, shuffle = False, drop_last= True)\n",
    "test_2_loader = DataLoader(comp_test_set_2, batch_size = batch_size, shuffle = False, drop_last= True)\n",
    "\n",
    "for image, label in train_loader:\n",
    "    break\n",
    "    \n",
    "image_cnn = image.view(-1, color_channels, patch_height, patch_width)   \n",
    "print(image.shape)\n",
    "print(image_cnn.shape)\n",
    "print(label)\n",
    "\n",
    "for n_patch in range(0,3):\n",
    "    patch = image[3,n_patch,0,:,:].cpu()\n",
    "    plt.imshow(patch)\n",
    "    plt.colorbar()\n",
    "    plt.show()"
   ]
  },
  {
   "cell_type": "code",
   "execution_count": 243,
   "id": "903b2e50-7b52-4f1d-a30a-483bb6d15cfc",
   "metadata": {},
   "outputs": [],
   "source": [
    "def get_one_hot_target(labels, seq_len, output_size,batch_size):    \n",
    "    one_hot_target = torch.empty(batch_size, seq_len, output_size) \n",
    "\n",
    "    for j,word in enumerate(labels):\n",
    "        length = len(word)\n",
    "        one_hot_target[j, 0, :] = mapeo['START']\n",
    "\n",
    "        for k,letter in enumerate(word):\n",
    "            one_hot_target[j, k + 1, :] = mapeo[letter]\n",
    "\n",
    "        one_hot_target[j, length + 1, :] = mapeo['END']\n",
    "        one_hot_target[j, length + 2: seq_len, :] = mapeo['PAD']\n",
    "        \n",
    "    return one_hot_target        "
   ]
  },
  {
   "cell_type": "code",
   "execution_count": 244,
   "id": "367aa05f-9a8e-4021-a9a5-fae21118dd9f",
   "metadata": {},
   "outputs": [],
   "source": [
    "def one_hot_conversion(decoder_output, output_size):\n",
    "    \n",
    "    one_hot_output_letter = torch.zeros(1, 1, output_size).cuda(0)\n",
    "    index = torch.argmax(decoder_output, dim = 2).item()\n",
    "    one_hot_output_letter[0, 0, index] = 1.\n",
    "    \n",
    "    return one_hot_output_letter"
   ]
  },
  {
   "cell_type": "markdown",
   "id": "245e5757-79df-4499-a9aa-73e41953e8e3",
   "metadata": {},
   "source": [
    "# Definiendo la arquitectura"
   ]
  },
  {
   "cell_type": "code",
   "execution_count": 245,
   "id": "9667a512-0bbc-4b57-9741-d0d80f0301fe",
   "metadata": {},
   "outputs": [],
   "source": [
    "FILTROS_EN_CNN_1 = 4\n",
    "NEURONS_IN_DENSE_LAYER = 1024\n",
    "PATCH_HEIGHT_AFTER_POOLING = patch_height//2\n",
    "PATCH_WIDTH_AFTER_POOLING = patch_width//2\n",
    "kernel_size = 3\n",
    "\n",
    "class ConvolutionalNetwork(nn.Module):\n",
    "    \n",
    "    def __init__(self):\n",
    "        super().__init__()\n",
    "        self.conv1 = nn.Conv2d(in_channels=1, out_channels=FILTROS_EN_CNN_1, kernel_size=kernel_size, stride=1, padding=1, device=device)\n",
    "        self.fc1 = nn.Linear(PATCH_HEIGHT_AFTER_POOLING*PATCH_WIDTH_AFTER_POOLING*FILTROS_EN_CNN_1, NEURONS_IN_DENSE_LAYER)\n",
    "        \n",
    "    def forward(self, X):\n",
    "        X = F.relu((self.conv1(X)))\n",
    "        X = F.max_pool2d(X, 2, 2)\n",
    "        X = X.view(-1, PATCH_HEIGHT_AFTER_POOLING*PATCH_WIDTH_AFTER_POOLING*FILTROS_EN_CNN_1)\n",
    "        X = self.fc1(X)\n",
    "\n",
    "        return X"
   ]
  },
  {
   "cell_type": "code",
   "execution_count": 246,
   "id": "4e7d5571-d6cf-4416-98cb-44ebe0630d27",
   "metadata": {},
   "outputs": [],
   "source": [
    "class EncoderRNN(nn.Module):\n",
    "    def __init__(self, input_size, hidden_size):        \n",
    "        super(EncoderRNN, self).__init__()\n",
    "        self.hidden_size = hidden_size\n",
    "        self.input_size = input_size\n",
    "        self.lstm = nn.LSTM(input_size, hidden_size, batch_first = True)\n",
    "\n",
    "    def forward(self, input, hidden, batch_size, seq_len):        \n",
    "        output = input.view(batch_size, seq_len, self.input_size)\n",
    "        output, hidden = self.lstm(output, hidden)\n",
    "        return output, hidden\n",
    "\n",
    "    def initHidden(self, batch_size):\n",
    "        return (torch.zeros(1, batch_size, self.hidden_size, device=device),\n",
    "                torch.zeros(1, batch_size, self.hidden_size, device=device))"
   ]
  },
  {
   "cell_type": "code",
   "execution_count": 247,
   "id": "e89a3cef-0243-4758-89f2-7d3248a7ab8e",
   "metadata": {},
   "outputs": [],
   "source": [
    "class DecoderRNN(nn.Module):\n",
    "    def __init__(self, hidden_size, output_size):\n",
    "        super(DecoderRNN, self).__init__()\n",
    "        self.hidden_size = hidden_size\n",
    "        self.output_size = output_size\n",
    "\n",
    "        self.lstm = nn.LSTM(output_size, hidden_size, batch_first = True)\n",
    "        self.out = nn.Linear(hidden_size, output_size)\n",
    "        self.softmax = nn.LogSoftmax(dim = 2)\n",
    "        # dim = 2 porque esta última dimensión es la correspondiente a output_size, que es sobre\n",
    "        # la que queremos hacer el softmax\n",
    "\n",
    "    def forward(self, input, hidden, batch_size, seq_len):        \n",
    "        output = input.view(batch_size, seq_len, self.output_size)\n",
    "        #output = F.relu(output) # la relu se metía aquí porque en el\n",
    "        #caso NLP del ejemplo de PyTorch previamente había una capa de embedding\n",
    "        #No nos hace falta porque nuestro tensor de inputs ya es one-hot\n",
    "        output, hidden = self.lstm(output, hidden)\n",
    "        output = self.out(output)\n",
    "        output = self.softmax(output)\n",
    "        return output, hidden\n",
    "\n",
    "    def initHidden(self, batch_size):\n",
    "        return (torch.zeros(1, batch_size, self.hidden_size, device=device),\n",
    "               torch.zeros(1, batch_size, self.hidden_size, device=device))"
   ]
  },
  {
   "cell_type": "code",
   "execution_count": 248,
   "id": "0b511a13-8946-4211-b383-2e19337ee86e",
   "metadata": {},
   "outputs": [],
   "source": [
    "torch.manual_seed(1234)\n",
    "\n",
    "encoder_input_size = 1024\n",
    "hidden_size = 256\n",
    "output_size = len(letters)\n",
    "\n",
    "CNN_model = ConvolutionalNetwork().cuda(0)\n",
    "CNN_optimizer = torch.optim.Adam(CNN_model.parameters())\n",
    "\n",
    "Encoder_model = EncoderRNN(input_size = encoder_input_size, hidden_size = hidden_size).cuda(0)\n",
    "Encoder_optimizer = optim.SGD(Encoder_model.parameters(), lr = 0.001)\n",
    "\n",
    "Decoder_model = DecoderRNN(hidden_size = hidden_size, output_size = output_size).cuda(0)\n",
    "Decoder_optimizer = optim.SGD(Decoder_model.parameters(), lr = 0.001)\n",
    "\n",
    "#criterion = nn.CrossEntropyLoss()\n",
    "criterion = nn.NLLLoss()"
   ]
  },
  {
   "cell_type": "markdown",
   "id": "7d57b509-adfc-42ef-8380-315192084600",
   "metadata": {},
   "source": [
    "## Entrenando"
   ]
  },
  {
   "cell_type": "code",
   "execution_count": 249,
   "id": "982e3025-d3f6-40eb-9621-61797ae8b4ee",
   "metadata": {},
   "outputs": [],
   "source": [
    "import time\n",
    "\n",
    "from torch.utils.tensorboard import SummaryWriter\n",
    "writer = SummaryWriter()"
   ]
  },
  {
   "cell_type": "code",
   "execution_count": 250,
   "id": "b3061ff9-9632-407b-a7fd-ca0462b54175",
   "metadata": {},
   "outputs": [
    {
     "data": {
      "text/plain": [
       "<torch._C.Generator at 0x7f4afc442d50>"
      ]
     },
     "execution_count": 250,
     "metadata": {},
     "output_type": "execute_result"
    }
   ],
   "source": [
    "epochs = 5000\n",
    "patience = 100\n",
    "min_loss_val = 10 # huge initial value for the minimum validation loss\n",
    "\n",
    "train_losses = []\n",
    "val_losses = []\n",
    "\n",
    "torch.manual_seed(1234)"
   ]
  },
  {
   "cell_type": "code",
   "execution_count": 251,
   "id": "86021409-901b-43fa-b145-0fb89bbe6614",
   "metadata": {},
   "outputs": [],
   "source": [
    "def calculate_loss(decoder_output, ground_truth):\n",
    "    loss = 0\n",
    "        \n",
    "    for j in range(batch_size):\n",
    "        loss += criterion(decoder_output[j], ground_truth[j])               \n",
    "    \n",
    "    loss = loss/batch_size\n",
    "\n",
    "    return loss"
   ]
  },
  {
   "cell_type": "code",
   "execution_count": 252,
   "id": "b998e9a1-e5fb-482e-9718-3cab8836c3e5",
   "metadata": {},
   "outputs": [],
   "source": [
    "def train():\n",
    "    train_losses = []\n",
    "    for num_batch, (image, labels) in enumerate(train_loader):        \n",
    "        num_batch += 1\n",
    "        encoder_hidden = Encoder_model.initHidden(batch_size)\n",
    "\n",
    "        image_cnn = image.view(-1, color_channels, patch_height, patch_width).cuda(0)\n",
    "        encoder_input = CNN_model(image_cnn)\n",
    "        encoder_output, encoder_hidden = Encoder_model(encoder_input, encoder_hidden, batch_size = batch_size, seq_len = n_patches)\n",
    "\n",
    "        decoder_hidden = encoder_hidden\n",
    "        decoder_input = get_one_hot_target(labels=labels, batch_size = batch_size, seq_len = MAX_LENGTH + 2,output_size = output_size).cuda(0)\n",
    "        decoder_output, decoder_hidden = Decoder_model(decoder_input, decoder_hidden, batch_size = batch_size, seq_len = MAX_LENGTH + 2)\n",
    "\n",
    "        output_indices = torch.tensor(list(range(0, MAX_LENGTH + 2 -1))).cuda(0) # removing last token from the output\n",
    "        decoder_output = torch.index_select(decoder_output, dim = 1, index = output_indices)\n",
    "\n",
    "        ground_truth = torch.argmax(decoder_input, dim = 2)\n",
    "        target_indices = torch.tensor(list(range(1, MAX_LENGTH + 2))).cuda(0) # remove SOS token from the input\n",
    "        ground_truth = torch.index_select(ground_truth, dim = 1, index = target_indices)\n",
    "\n",
    "        loss = calculate_loss(decoder_output,ground_truth)\n",
    "\n",
    "        CNN_optimizer.zero_grad()\n",
    "        Encoder_optimizer.zero_grad()\n",
    "        Decoder_optimizer.zero_grad()\n",
    "        loss.backward()\n",
    "        CNN_optimizer.step()\n",
    "        Encoder_optimizer.step()\n",
    "        Decoder_optimizer.step()\n",
    "        train_losses.append(loss.item())\n",
    "    return np.mean(train_losses)"
   ]
  },
  {
   "cell_type": "code",
   "execution_count": 253,
   "id": "fe9f1ec6-0936-4945-bb1a-096cb49f6845",
   "metadata": {},
   "outputs": [],
   "source": [
    "def validation():\n",
    "    valid_losses = []\n",
    "\n",
    "    with torch.no_grad():       \n",
    "        for num_batch, (image_val, label_val) in enumerate(val_loader):        \n",
    "            num_batch += 1\n",
    "            encoder_hidden_val = Encoder_model.initHidden(batch_size = batch_size)\n",
    "            image_cnn_val = image_val.view(-1, color_channels, patch_height, patch_width).cuda(0)\n",
    "            encoder_input_val = CNN_model(image_cnn_val)\n",
    "            encoder_output_val, encoder_hidden_val = Encoder_model(encoder_input_val, encoder_hidden_val, batch_size = batch_size, seq_len = n_patches)\n",
    "\n",
    "            decoder_hidden_val = encoder_hidden_val\n",
    "            decoder_input_val = get_one_hot_target(labels=label_val, batch_size = batch_size, seq_len = MAX_LENGTH + 2,output_size = output_size).cuda(0)\n",
    "            decoder_output_val, decoder_hidden_val = Decoder_model(decoder_input_val, decoder_hidden_val,batch_size = batch_size, seq_len = MAX_LENGTH + 2)\n",
    "\n",
    "            output_indices_val = torch.tensor(list(range(0, MAX_LENGTH + 1))).cuda(0) # remove last token from the output\n",
    "            decoder_output_val = torch.index_select(decoder_output_val, dim = 1, index = output_indices_val)\n",
    "\n",
    "            ground_truth_val = torch.argmax(decoder_input_val, dim = 2)\n",
    "            target_indices_val = torch.tensor(list(range(1, MAX_LENGTH + 2))).cuda(0) # remove START token from the input\n",
    "            ground_truth_val = torch.index_select(ground_truth_val, dim = 1, index = target_indices_val)\n",
    "            \n",
    "            loss = calculate_loss(decoder_output_val,ground_truth_val)\n",
    "            valid_losses.append(loss.item())\n",
    "    return np.mean(valid_losses)"
   ]
  },
  {
   "cell_type": "code",
   "execution_count": 254,
   "id": "b4e17c3f-cca4-45cb-b498-fa1f2ebb0c89",
   "metadata": {},
   "outputs": [],
   "source": [
    "class Patience():\n",
    "    \n",
    "    def __init__(self, patience):\n",
    "        self.patience = patience\n",
    "        self.current_patience = patience\n",
    "        self.min_loss_val = float('inf')\n",
    "\n",
    "    def more_patience(self,loss_val):\n",
    "        self.current_patience -= 1\n",
    "        if self.current_patience == 0:\n",
    "            return False\n",
    "\n",
    "        if loss_val < self.min_loss_val:\n",
    "            self.min_loss_val = loss_val\n",
    "            self.current_patience = patience\n",
    "\n",
    "            model_name = f\"{height}x{width}_by{patch_width}_jump{stepsize}_batch{batch_size} NN_{FILTROS_EN_CNN_1}_{NEURONS_IN_DENSE_LAYER}_{kernel_size}_{hidden_size} pats:{total_length}\"\n",
    "            print(\", saved best model.\")\n",
    "            \n",
    "            torch.save(CNN_model.state_dict(), 'CNN_'+model_name)\n",
    "            torch.save(Encoder_model.state_dict(), 'Encoder_'+model_name)\n",
    "            torch.save(Decoder_model.state_dict(), 'Decoder_'+model_name)\n",
    "    \n",
    "        return True"
   ]
  },
  {
   "cell_type": "code",
   "execution_count": 1,
   "id": "6a6e19b6-8cd6-4672-8e25-c2f0f9dfa84d",
   "metadata": {},
   "outputs": [
    {
     "ename": "NameError",
     "evalue": "name 'Patience' is not defined",
     "output_type": "error",
     "traceback": [
      "\u001b[0;31m---------------------------------------------------------------------------\u001b[0m",
      "\u001b[0;31mNameError\u001b[0m                                 Traceback (most recent call last)",
      "\u001b[0;32m<ipython-input-1-dac4f0edb800>\u001b[0m in \u001b[0;36m<module>\u001b[0;34m\u001b[0m\n\u001b[0;32m----> 1\u001b[0;31m \u001b[0mpatience_controler\u001b[0m \u001b[0;34m=\u001b[0m \u001b[0mPatience\u001b[0m\u001b[0;34m(\u001b[0m\u001b[0mpatience\u001b[0m\u001b[0;34m)\u001b[0m\u001b[0;34m\u001b[0m\u001b[0;34m\u001b[0m\u001b[0m\n\u001b[0m\u001b[1;32m      2\u001b[0m \u001b[0mstart_time\u001b[0m \u001b[0;34m=\u001b[0m \u001b[0mtime\u001b[0m\u001b[0;34m.\u001b[0m\u001b[0mtime\u001b[0m\u001b[0;34m(\u001b[0m\u001b[0;34m)\u001b[0m\u001b[0;34m\u001b[0m\u001b[0;34m\u001b[0m\u001b[0m\n\u001b[1;32m      3\u001b[0m \u001b[0;34m\u001b[0m\u001b[0m\n\u001b[1;32m      4\u001b[0m \u001b[0;32mfor\u001b[0m \u001b[0mnum_epoch\u001b[0m \u001b[0;32min\u001b[0m \u001b[0mrange\u001b[0m\u001b[0;34m(\u001b[0m\u001b[0mepochs\u001b[0m\u001b[0;34m)\u001b[0m\u001b[0;34m:\u001b[0m\u001b[0;34m\u001b[0m\u001b[0;34m\u001b[0m\u001b[0m\n\u001b[1;32m      5\u001b[0m     \u001b[0mtrain_loss\u001b[0m \u001b[0;34m=\u001b[0m \u001b[0mtrain\u001b[0m\u001b[0;34m(\u001b[0m\u001b[0;34m)\u001b[0m\u001b[0;34m\u001b[0m\u001b[0;34m\u001b[0m\u001b[0m\n",
      "\u001b[0;31mNameError\u001b[0m: name 'Patience' is not defined"
     ]
    }
   ],
   "source": [
    "patience_controler = Patience(patience)\n",
    "start_time = time.time()\n",
    "\n",
    "for num_epoch in range(epochs):\n",
    "    train_loss = train()        \n",
    "    valid_loss = validation()\n",
    "    \n",
    "    writer.add_scalar('Loss/train', train_loss, num_epoch)\n",
    "    writer.add_scalar('Loss/validation', valid_loss, num_epoch)\n",
    "    \n",
    "    print(f'Epoch: {num_epoch} Train loss: {train_loss} Valid loss: {valid_loss} Duration: {(time.time() - start_time)/60} minutes',)\n",
    "\n",
    "    if not patience_controler.more_patience(valid_loss):\n",
    "        print(\"Se acabó la paciencia\")\n",
    "        break\n",
    "\n",
    "        \n"
   ]
  },
  {
   "cell_type": "markdown",
   "id": "730b9a50-e6c7-4762-9252-28669e269ecd",
   "metadata": {},
   "source": [
    "## Cargar modelo"
   ]
  },
  {
   "cell_type": "code",
   "execution_count": null,
   "id": "3c66612c-0185-46f5-9e70-ce08270bd5e9",
   "metadata": {},
   "outputs": [],
   "source": [
    "CNN_model.load_state_dict(torch.load('CNN_model_30000_words_TF_PAD_noise.pt'))\n",
    "CNN_model.eval()\n",
    "\n",
    "Encoder_model.load_state_dict(torch.load('Encoder_model_30000_words_TF_PAD_noise.pt'))\n",
    "Encoder_model.eval()\n",
    "\n",
    "Decoder_model.load_state_dict(torch.load('Decoder_model_30000_words_TF_PAD_noise.pt'))\n",
    "Decoder_model.eval()"
   ]
  },
  {
   "cell_type": "code",
   "execution_count": 3,
   "id": "eadc45de-8e86-436c-bf22-a9f71ced7135",
   "metadata": {},
   "outputs": [],
   "source": [
    "def Test():\n",
    "    with torch.no_grad():\n",
    "        for num_batch, (image_test, label_test) in enumerate(test_loader):\n",
    "            num_batch += 1\n",
    "            encoder_hidden_test = Encoder_model.initHidden(batch_size = batch_size)\n",
    "            image_cnn_test = image_test.view(-1, color_channels, patch_height, patch_width).cuda(0)\n",
    "            encoder_input_test = CNN_model(image_cnn_test)\n",
    "            encoder_output, encoder_hidden_test = Encoder_model(encoder_input_test, encoder_hidden_test, batch = test_batch, seq_len = n_patches)\n",
    "\n",
    "            #decoder_hidden_test = (encoder_hidden_test[0][0, :, :].view(1, batch_size, hidden_size), # We take the last hidden state of the Encoder \n",
    "            #                       encoder_hidden_test[1][0, :, :].view(1, batch_size, hidden_size)) # for each image/word (j) within the batch \n",
    "            \n",
    "            for j in range(batch_size):\n",
    "                decoder_input_test = mapeo['START'].cuda(0) # We initialize the first Decoder input as the START token\n",
    "                decoder_hidden_test = (encoder_hidden_test[0][0, j, :].view(1, 1, hidden_size), # We take the last hidden state of the Encoder \n",
    "                                       encoder_hidden_test[1][0, j, :].view(1, 1, hidden_size)) # for each image/word (j) within the batch \n",
    "                \n",
    "                for d in range(MAX_LENGTH + 2):\n",
    "                    decoder_output_test, decoder_hidden_test = Decoder_model(decoder_input_test, decoder_hidden_test, batch = 1, seq_len = 1)\n",
    "\n",
    "                    output_letter = one_hot_conversion(decoder_output_test, output_size = output_size)\n",
    "                    decoder_input_test = output_letter\n",
    "                    \n",
    "                    if d == 0:\n",
    "                        output_word = output_letter\n",
    "                    else:\n",
    "                        output_word = torch.cat((output_word, output_letter), dim = 1).cuda(0)\n",
    "                    \n",
    "                    if torch.equal(output_letter, letter_to_vector('END').cuda(0)):\n",
    "                        break\n",
    "                output_word = torch.argmax(output_word, dim=2)\n",
    "                output_word = output_word.view(output_word.numel()) # view as a rank-1 tensor\n",
    "\n",
    "                model_word = []\n",
    "                for item in output_word:\n",
    "                    model_word.append(letters[item])\n",
    "\n",
    "                model_word = ''.join(model_word[:-1])\n",
    "                print(model_word)\n",
    "            print(test_set) \n"
   ]
  },
  {
   "cell_type": "code",
   "execution_count": 4,
   "id": "fc398edb-7bee-48ec-9028-4d1e885e94fb",
   "metadata": {},
   "outputs": [
    {
     "ename": "NameError",
     "evalue": "name 'torch' is not defined",
     "output_type": "error",
     "traceback": [
      "\u001b[0;31m---------------------------------------------------------------------------\u001b[0m",
      "\u001b[0;31mNameError\u001b[0m                                 Traceback (most recent call last)",
      "\u001b[0;32m<ipython-input-4-7b08819e076e>\u001b[0m in \u001b[0;36m<module>\u001b[0;34m\u001b[0m\n\u001b[0;32m----> 1\u001b[0;31m \u001b[0mTest\u001b[0m\u001b[0;34m(\u001b[0m\u001b[0;34m)\u001b[0m\u001b[0;34m\u001b[0m\u001b[0;34m\u001b[0m\u001b[0m\n\u001b[0m",
      "\u001b[0;32m<ipython-input-3-c209519ca05f>\u001b[0m in \u001b[0;36mTest\u001b[0;34m()\u001b[0m\n\u001b[1;32m      1\u001b[0m \u001b[0;32mdef\u001b[0m \u001b[0mTest\u001b[0m\u001b[0;34m(\u001b[0m\u001b[0;34m)\u001b[0m\u001b[0;34m:\u001b[0m\u001b[0;34m\u001b[0m\u001b[0;34m\u001b[0m\u001b[0m\n\u001b[0;32m----> 2\u001b[0;31m     \u001b[0;32mwith\u001b[0m \u001b[0mtorch\u001b[0m\u001b[0;34m.\u001b[0m\u001b[0mno_grad\u001b[0m\u001b[0;34m(\u001b[0m\u001b[0;34m)\u001b[0m\u001b[0;34m:\u001b[0m\u001b[0;34m\u001b[0m\u001b[0;34m\u001b[0m\u001b[0m\n\u001b[0m\u001b[1;32m      3\u001b[0m         \u001b[0;32mfor\u001b[0m \u001b[0mnum_batch\u001b[0m\u001b[0;34m,\u001b[0m \u001b[0;34m(\u001b[0m\u001b[0mimage_test\u001b[0m\u001b[0;34m,\u001b[0m \u001b[0mlabel_test\u001b[0m\u001b[0;34m)\u001b[0m \u001b[0;32min\u001b[0m \u001b[0menumerate\u001b[0m\u001b[0;34m(\u001b[0m\u001b[0mtest_loader\u001b[0m\u001b[0;34m)\u001b[0m\u001b[0;34m:\u001b[0m\u001b[0;34m\u001b[0m\u001b[0;34m\u001b[0m\u001b[0m\n\u001b[1;32m      4\u001b[0m             \u001b[0mnum_batch\u001b[0m \u001b[0;34m+=\u001b[0m \u001b[0;36m1\u001b[0m\u001b[0;34m\u001b[0m\u001b[0;34m\u001b[0m\u001b[0m\n\u001b[1;32m      5\u001b[0m             \u001b[0mencoder_hidden_test\u001b[0m \u001b[0;34m=\u001b[0m \u001b[0mEncoder_model\u001b[0m\u001b[0;34m.\u001b[0m\u001b[0minitHidden\u001b[0m\u001b[0;34m(\u001b[0m\u001b[0mbatch_size\u001b[0m \u001b[0;34m=\u001b[0m \u001b[0mbatch_size\u001b[0m\u001b[0;34m)\u001b[0m\u001b[0;34m\u001b[0m\u001b[0;34m\u001b[0m\u001b[0m\n",
      "\u001b[0;31mNameError\u001b[0m: name 'torch' is not defined"
     ]
    }
   ],
   "source": [
    "Test()"
   ]
  },
  {
   "cell_type": "code",
   "execution_count": null,
   "id": "23d27e1a-8d9d-4052-8ac0-9f99a888b082",
   "metadata": {},
   "outputs": [],
   "source": []
  },
  {
   "cell_type": "code",
   "execution_count": null,
   "id": "f4a160db-836a-41b2-b692-1bad1c88e8b8",
   "metadata": {},
   "outputs": [],
   "source": []
  }
 ],
 "metadata": {
  "kernelspec": {
   "display_name": "python3.6_cv2",
   "language": "python",
   "name": "python3.6_cv2"
  },
  "language_info": {
   "codemirror_mode": {
    "name": "ipython",
    "version": 3
   },
   "file_extension": ".py",
   "mimetype": "text/x-python",
   "name": "python",
   "nbconvert_exporter": "python",
   "pygments_lexer": "ipython3",
   "version": "3.6.10"
  }
 },
 "nbformat": 4,
 "nbformat_minor": 5
}
