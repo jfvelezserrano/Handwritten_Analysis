{
 "cells": [
  {
   "cell_type": "code",
   "execution_count": 1,
   "metadata": {},
   "outputs": [
    {
     "name": "stdout",
     "output_type": "stream",
     "text": [
      "1.1.0\n",
      "3.6.10\n"
     ]
    }
   ],
   "source": [
    "# Importing the required libraries:\n",
    "\n",
    "import torch\n",
    "import torch.nn as nn\n",
    "import torch.nn.functional as F\n",
    "from torch import optim\n",
    "from torch.utils.data import DataLoader\n",
    "from torchvision import datasets, transforms, models\n",
    "from torchvision.utils import make_grid\n",
    "import os\n",
    "import cv2\n",
    "import skimage\n",
    "\n",
    "import numpy as np\n",
    "import pandas as pd\n",
    "from IPython.display import display\n",
    "import matplotlib.pyplot as plt\n",
    "%matplotlib inline \n",
    "\n",
    "# Ignore harmless warnings:\n",
    "\n",
    "import warnings\n",
    "warnings.filterwarnings(\"ignore\")\n",
    "device = torch.device(\"cuda:1\" if torch.cuda.is_available() else \"cpu\")\n",
    "\n",
    "import platform\n",
    "print(torch.__version__)\n",
    "print(platform.python_version())\n"
   ]
  },
  {
   "cell_type": "code",
   "execution_count": 2,
   "metadata": {},
   "outputs": [
    {
     "data": {
      "text/plain": [
       "'TITAN X (Pascal)'"
      ]
     },
     "execution_count": 2,
     "metadata": {},
     "output_type": "execute_result"
    }
   ],
   "source": [
    "torch.cuda.get_device_name(1)"
   ]
  },
  {
   "cell_type": "code",
   "execution_count": 3,
   "metadata": {},
   "outputs": [],
   "source": [
    "top_1000_words = pd.read_csv('top_1000.txt', delimiter = '\\t', header = None)\n",
    "top_1000_words.head()\n",
    "words = []\n",
    "\n",
    "for i in range(0, len(top_1000_words)):\n",
    "    words.append(top_1000_words.loc[i][0])\n",
    "    "
   ]
  },
  {
   "cell_type": "code",
   "execution_count": 4,
   "metadata": {},
   "outputs": [
    {
     "name": "stdout",
     "output_type": "stream",
     "text": [
      "11\n"
     ]
    }
   ],
   "source": [
    "train_set = words * 32\n",
    "val_set = words * 2\n",
    "test_set = words[0:16]\n",
    "\n",
    "MAX_LENGTH = max(len(list(word)) for word in train_set)\n",
    "\n",
    "len_train = len(train_set)\n",
    "len_val = len(val_set)\n",
    "print(MAX_LENGTH)"
   ]
  },
  {
   "cell_type": "code",
   "execution_count": 5,
   "metadata": {},
   "outputs": [
    {
     "name": "stdout",
     "output_type": "stream",
     "text": [
      "tensor([[[0., 0., 0., 0., 0., 0., 0., 0., 0., 0., 0., 0., 0., 0., 0., 0., 0., 0., 0., 0., 0., 0., 0.,\n",
      "          0., 0., 0., 0., 0.]]])\n",
      "tensor([[[1., 0., 0., 0., 0., 0., 0., 0., 0., 0., 0., 0., 0., 0., 0., 0., 0.,\n",
      "          0., 0., 0., 0., 0., 0., 0., 0., 0., 0., 0.]]])\n"
     ]
    }
   ],
   "source": [
    "# Function to convert letters (and therefore words) into PyTorch tensors:\n",
    "\n",
    "letters = ['SOS_token', 'a', 'b', 'c', 'd', 'e', 'f', 'g', 'h', 'i', 'j', 'k',\n",
    "          'l', 'm', 'n', 'o', 'p', 'q', 'r', 's', 't', 'u', 'v', 'w', 'x', 'y', 'z', 'EOS_token']\n",
    "\n",
    "PAD_token = torch.zeros(1, 1, 28)\n",
    "\n",
    "def letter_to_vector(letter):\n",
    "    vector = torch.zeros(1, 1, len(letters))\n",
    "    for i in range(len(letters)):\n",
    "        if letters[i] == letter:\n",
    "            vector[0, 0, i] = 1.\n",
    "    return(vector)\n",
    "\n",
    "print(PAD_token)\n",
    "print(letter_to_vector('SOS_token'))"
   ]
  },
  {
   "cell_type": "code",
   "execution_count": 6,
   "metadata": {},
   "outputs": [],
   "source": [
    "def patch_gen(word, n_patches, patch_height, patch_width, stepsize):\n",
    "    \n",
    "    image = 255 * np.ones(shape = [height, width], dtype = np.uint8)\n",
    "    image = cv2.putText(image, text = word, org = (5, 30),\n",
    "    fontFace = cv2.FONT_HERSHEY_SIMPLEX, fontScale = 0.7, color = (0, 0, 0),\n",
    "    thickness = 2, lineType = cv2.LINE_AA)\n",
    "    image = transforms.ToPILImage()(image) # np.ndarray to PIL.Image.Image\n",
    "    patches_tensor = torch.empty(n_patches, 1, patch_height, patch_width)\n",
    "    \n",
    "    for p in range(n_patches):\n",
    "        \n",
    "        patch = transforms.functional.crop(image, 0, 0 + p * stepsize, patch_height, patch_width) # cropping of the image into patches\n",
    "        patch = transforms.ToTensor()(patch) # torch.Tensor of the patch (normalized)\n",
    "        #patch = skimage.util.random_noise(patch, mode='gaussian') # we set some random noise to the image\n",
    "        #patch = torch.from_numpy(patch) # conversion to pytorch tensor again\n",
    "        patch = 1. - patch # it will work better if we have white text over black background\n",
    "        patch = patch.view(1, 1, patch_height, patch_width) # CNN_model expects a 4-dimensional tensor (1 dimension for batch)\n",
    "        patch = patch.type(torch.FloatTensor) # conversion to float\n",
    "        patch = patch.cuda(1) # set to cuda\n",
    "        patches_tensor[p, 0, :, :] = patch\n",
    "        patches_tensor = patches_tensor.cuda(1)\n",
    "        \n",
    "    return patches_tensor"
   ]
  },
  {
   "cell_type": "code",
   "execution_count": 7,
   "metadata": {},
   "outputs": [],
   "source": [
    "# Setting image and sliding window parameters:\n",
    "\n",
    "height = 48\n",
    "width = 192\n",
    "patch_height = 48\n",
    "patch_width = 10\n",
    "stepsize = 2\n",
    "color_channels = 1\n",
    "n_patches = int((width - patch_width)/stepsize + 1) "
   ]
  },
  {
   "cell_type": "code",
   "execution_count": 8,
   "metadata": {},
   "outputs": [],
   "source": [
    "# Defining function to get a tuple for each image with (its 92 tensor patches, label):\n",
    "\n",
    "def complete_set(set):\n",
    "    complete_set = []\n",
    "    for word in set:\n",
    "        complete_set.append((patch_gen(word, n_patches, patch_height, patch_width, stepsize), word))\n",
    "        \n",
    "    return complete_set"
   ]
  },
  {
   "cell_type": "code",
   "execution_count": 9,
   "metadata": {},
   "outputs": [],
   "source": [
    "comp_train_set = complete_set(set = train_set)\n",
    "comp_val_set = complete_set(set = val_set)\n",
    "comp_test_set = complete_set(set = test_set)"
   ]
  },
  {
   "cell_type": "code",
   "execution_count": 10,
   "metadata": {},
   "outputs": [
    {
     "name": "stdout",
     "output_type": "stream",
     "text": [
      "torch.Size([16, 92, 1, 48, 10])\n",
      "torch.Size([1472, 1, 48, 10])\n",
      "('listen', 'control', 'mountain', 'event', 'space', 'sent', 'are', 'suggest', 'right', 'necessary', 'center', 'try', 'does', \"won't\", 'ago', 'path')\n"
     ]
    }
   ],
   "source": [
    "# Loading data in image batches:\n",
    "\n",
    "batch_size = 16\n",
    "\n",
    "train_loader = DataLoader(comp_train_set, batch_size = batch_size, shuffle=True)\n",
    "val_loader = DataLoader(comp_val_set, batch_size = batch_size, shuffle=False)\n",
    "test_loader = DataLoader(comp_test_set, batch_size = batch_size, shuffle=False)\n",
    "\n",
    "\n",
    "for image, label in train_loader:\n",
    "    break\n",
    "    \n",
    "image_cnn = image.view(-1, color_channels, patch_height, patch_width)   \n",
    "print(image.shape)\n",
    "print(image_cnn.shape)\n",
    "print(label)"
   ]
  },
  {
   "cell_type": "code",
   "execution_count": 11,
   "metadata": {},
   "outputs": [],
   "source": [
    "def get_one_hot_target(label):\n",
    "    \n",
    "    one_hot_target = torch.zeros(batch_size, MAX_LENGTH + 1, output_size) # one_hot_tensor of the input batch of words for Decoder\n",
    "    \n",
    "    for j in range(batch_size): # for each word of the batch\n",
    "        \n",
    "        length = len(list(label[j])) # compute the number of letters\n",
    "        \n",
    "        one_hot_target[j, 0, :] = letter_to_vector('SOS_token') # the first letter of every word is always the SOS_token\n",
    "        \n",
    "        for k in range(length): # for each letter\n",
    "            \n",
    "            one_hot_target[j, k + 1, :] = letter_to_vector(list(label[j])[k]) # add the one_hot vector of that letter\n",
    "                                                                              # to the global tensor\n",
    "    return one_hot_target        "
   ]
  },
  {
   "cell_type": "code",
   "execution_count": 12,
   "metadata": {},
   "outputs": [],
   "source": [
    "# Defining model and architecture:\n",
    "\n",
    "# CONVOLUTIONAL NEURAL NETWORK:\n",
    "\n",
    "class ConvolutionalNetwork(nn.Module):\n",
    "    def __init__(self):\n",
    "        super().__init__()\n",
    "        self.conv1 = nn.Conv2d(1, 20, 5, 1, 2) # padding???\n",
    "        self.conv2 = nn.Conv2d(20, 50, 5, 1, 2)\n",
    "        self.fc1 = nn.Linear(12*2*50, 1024)\n",
    "\n",
    "    def forward(self, X):\n",
    "        X = F.relu(self.conv1(X))\n",
    "        X = F.max_pool2d(X, 2, 2)\n",
    "        X = F.relu(self.conv2(X))\n",
    "        X = F.max_pool2d(X, 2, 2)\n",
    "        X = X.view(-1, 12*2*50) # -1 para no tener que determinar aquí el tamaño del batch (se ajusta, podemos variarlo)\n",
    "        X = F.relu(self.fc1(X))\n",
    "\n",
    "        return X "
   ]
  },
  {
   "cell_type": "code",
   "execution_count": 13,
   "metadata": {},
   "outputs": [],
   "source": [
    "# ENCODER:\n",
    "\n",
    "class EncoderRNN(nn.Module):\n",
    "    def __init__(self, input_size, hidden_size):\n",
    "        \n",
    "        super(EncoderRNN, self).__init__()\n",
    "        self.hidden_size = hidden_size\n",
    "        self.lstm = nn.LSTM(input_size, hidden_size, batch_first = True)\n",
    "\n",
    "    def forward(self, input, hidden):\n",
    "        \n",
    "        output = input.view(batch_size, n_patches, input_size)\n",
    "        output, hidden = self.lstm(output, hidden)\n",
    "        return output, hidden\n",
    "\n",
    "    def initHidden(self):\n",
    "        return (torch.zeros(1, batch_size, self.hidden_size, device=device),\n",
    "                torch.zeros(1, batch_size, self.hidden_size, device=device))"
   ]
  },
  {
   "cell_type": "code",
   "execution_count": 14,
   "metadata": {},
   "outputs": [],
   "source": [
    "# DECODER:\n",
    "\n",
    "class DecoderRNN(nn.Module):\n",
    "    def __init__(self, hidden_size, output_size):\n",
    "        super(DecoderRNN, self).__init__()\n",
    "        self.hidden_size = hidden_size\n",
    "\n",
    "        self.lstm = nn.LSTM(output_size, hidden_size, batch_first = True)\n",
    "        self.out = nn.Linear(hidden_size, output_size)\n",
    "        self.softmax = nn.LogSoftmax(dim = 2) \n",
    "        # dim = 2 porque esta última dimensión es la correspondiente a output_size, que es sobre\n",
    "        # la que queremos hacer el softmax\n",
    "\n",
    "    def forward(self, input, hidden):\n",
    "        #output = input.view(batch_size, MAX_LENGTH + 1, output_size)\n",
    "        output = input\n",
    "        #output = F.relu(output) # la relu se metía aquí porque en el\n",
    "        #caso NLP del ejemplo de PyTorch previamente había una capa de embedding\n",
    "        #No nos hace falta porque nuestro tensor de inputs ya es one-hot\n",
    "        output, hidden = self.lstm(output, hidden)\n",
    "        output = self.out(output)\n",
    "        output = self.softmax(output)\n",
    "        return output, hidden\n",
    "\n",
    "    def initHidden(self):\n",
    "        return (torch.zeros(1, batch_size, self.hidden_size, device=device),\n",
    "               torch.zeros(1, batch_size, self.hidden_size, device=device))"
   ]
  },
  {
   "cell_type": "code",
   "execution_count": 15,
   "metadata": {},
   "outputs": [],
   "source": [
    "torch.manual_seed(123)\n",
    "\n",
    "input_size = 1024\n",
    "hidden_size = 256\n",
    "output_size = 28\n",
    "\n",
    "CNN_model = ConvolutionalNetwork().cuda(1)\n",
    "CNN_optimizer = torch.optim.Adam(CNN_model.parameters(), lr = 0.001)\n",
    "\n",
    "Encoder_model = EncoderRNN(input_size = input_size, hidden_size = hidden_size).cuda(1)\n",
    "Encoder_optimizer = optim.SGD(Encoder_model.parameters(), lr = 0.001)\n",
    "\n",
    "Decoder_model = DecoderRNN(hidden_size = hidden_size, output_size = output_size).cuda(1)\n",
    "Decoder_optimizer = optim.SGD(Decoder_model.parameters(), lr = 0.001)\n",
    "\n",
    "#criterion = nn.CrossEntropyLoss()\n",
    "criterion = nn.NLLLoss()"
   ]
  },
  {
   "cell_type": "code",
   "execution_count": 22,
   "metadata": {
    "scrolled": false
   },
   "outputs": [
    {
     "name": "stdout",
     "output_type": "stream",
     "text": [
      "0\n",
      "1\n",
      "2\n",
      "3\n",
      "4\n",
      "5\n",
      "6\n",
      "7\n",
      "8\n",
      "9\n",
      "10\n",
      "11\n",
      "12\n",
      "13\n",
      "14\n",
      "15\n",
      "16\n",
      "17\n",
      "18\n",
      "19\n",
      "20\n",
      "21\n",
      "22\n",
      "23\n",
      "24\n",
      "25\n",
      "26\n",
      "27\n",
      "28\n",
      "29\n",
      "30\n",
      "31\n",
      "32\n",
      "33\n",
      "34\n",
      "35\n",
      "36\n",
      "37\n",
      "38\n",
      "39\n",
      "40\n",
      "41\n",
      "42\n",
      "43\n",
      "44\n",
      "45\n",
      "46\n",
      "47\n",
      "48\n",
      "49\n",
      "50\n",
      "51\n",
      "52\n",
      "53\n",
      "54\n",
      "55\n",
      "56\n",
      "57\n",
      "58\n",
      "59\n",
      "60\n",
      "61\n",
      "62\n",
      "63\n",
      "64\n",
      "65\n",
      "66\n",
      "67\n",
      "68\n",
      "69\n",
      "Duration: 58.903458992640175 minutes\n",
      "[tensor(0.5930, device='cuda:1', grad_fn=<DivBackward0>), tensor(0.7658, device='cuda:1', grad_fn=<DivBackward0>), tensor(0.8007, device='cuda:1', grad_fn=<DivBackward0>), tensor(0.6637, device='cuda:1', grad_fn=<DivBackward0>), tensor(0.5816, device='cuda:1', grad_fn=<DivBackward0>), tensor(0.6378, device='cuda:1', grad_fn=<DivBackward0>), tensor(0.6266, device='cuda:1', grad_fn=<DivBackward0>), tensor(0.6782, device='cuda:1', grad_fn=<DivBackward0>), tensor(0.6255, device='cuda:1', grad_fn=<DivBackward0>), tensor(0.5854, device='cuda:1', grad_fn=<DivBackward0>), tensor(0.6708, device='cuda:1', grad_fn=<DivBackward0>), tensor(0.5108, device='cuda:1', grad_fn=<DivBackward0>), tensor(0.6943, device='cuda:1', grad_fn=<DivBackward0>), tensor(0.4955, device='cuda:1', grad_fn=<DivBackward0>), tensor(0.6373, device='cuda:1', grad_fn=<DivBackward0>), tensor(0.5240, device='cuda:1', grad_fn=<DivBackward0>), tensor(0.5674, device='cuda:1', grad_fn=<DivBackward0>), tensor(0.4932, device='cuda:1', grad_fn=<DivBackward0>), tensor(0.5297, device='cuda:1', grad_fn=<DivBackward0>), tensor(0.4293, device='cuda:1', grad_fn=<DivBackward0>), tensor(0.3835, device='cuda:1', grad_fn=<DivBackward0>), tensor(0.6040, device='cuda:1', grad_fn=<DivBackward0>), tensor(0.4836, device='cuda:1', grad_fn=<DivBackward0>), tensor(0.4674, device='cuda:1', grad_fn=<DivBackward0>), tensor(0.6295, device='cuda:1', grad_fn=<DivBackward0>), tensor(0.5266, device='cuda:1', grad_fn=<DivBackward0>), tensor(0.5468, device='cuda:1', grad_fn=<DivBackward0>), tensor(0.4649, device='cuda:1', grad_fn=<DivBackward0>), tensor(0.5210, device='cuda:1', grad_fn=<DivBackward0>), tensor(0.5918, device='cuda:1', grad_fn=<DivBackward0>), tensor(0.4186, device='cuda:1', grad_fn=<DivBackward0>), tensor(0.4958, device='cuda:1', grad_fn=<DivBackward0>), tensor(0.4355, device='cuda:1', grad_fn=<DivBackward0>), tensor(0.3765, device='cuda:1', grad_fn=<DivBackward0>), tensor(0.3938, device='cuda:1', grad_fn=<DivBackward0>), tensor(0.2642, device='cuda:1', grad_fn=<DivBackward0>), tensor(0.2621, device='cuda:1', grad_fn=<DivBackward0>), tensor(0.4870, device='cuda:1', grad_fn=<DivBackward0>), tensor(0.3968, device='cuda:1', grad_fn=<DivBackward0>), tensor(0.4287, device='cuda:1', grad_fn=<DivBackward0>), tensor(0.3998, device='cuda:1', grad_fn=<DivBackward0>), tensor(0.3652, device='cuda:1', grad_fn=<DivBackward0>), tensor(0.5405, device='cuda:1', grad_fn=<DivBackward0>), tensor(0.4707, device='cuda:1', grad_fn=<DivBackward0>), tensor(0.2640, device='cuda:1', grad_fn=<DivBackward0>), tensor(0.2640, device='cuda:1', grad_fn=<DivBackward0>), tensor(0.3351, device='cuda:1', grad_fn=<DivBackward0>), tensor(0.3099, device='cuda:1', grad_fn=<DivBackward0>), tensor(0.3129, device='cuda:1', grad_fn=<DivBackward0>), tensor(0.3021, device='cuda:1', grad_fn=<DivBackward0>), tensor(0.3471, device='cuda:1', grad_fn=<DivBackward0>), tensor(0.2796, device='cuda:1', grad_fn=<DivBackward0>), tensor(0.3227, device='cuda:1', grad_fn=<DivBackward0>), tensor(0.5076, device='cuda:1', grad_fn=<DivBackward0>), tensor(0.3053, device='cuda:1', grad_fn=<DivBackward0>), tensor(0.3269, device='cuda:1', grad_fn=<DivBackward0>), tensor(0.3514, device='cuda:1', grad_fn=<DivBackward0>), tensor(0.2745, device='cuda:1', grad_fn=<DivBackward0>), tensor(0.3189, device='cuda:1', grad_fn=<DivBackward0>), tensor(0.2785, device='cuda:1', grad_fn=<DivBackward0>), tensor(0.2307, device='cuda:1', grad_fn=<DivBackward0>), tensor(0.2992, device='cuda:1', grad_fn=<DivBackward0>), tensor(0.3211, device='cuda:1', grad_fn=<DivBackward0>), tensor(0.2614, device='cuda:1', grad_fn=<DivBackward0>), tensor(0.3753, device='cuda:1', grad_fn=<DivBackward0>), tensor(0.3309, device='cuda:1', grad_fn=<DivBackward0>), tensor(0.2664, device='cuda:1', grad_fn=<DivBackward0>), tensor(0.2199, device='cuda:1', grad_fn=<DivBackward0>), tensor(0.2511, device='cuda:1', grad_fn=<DivBackward0>), tensor(0.2398, device='cuda:1', grad_fn=<DivBackward0>)]\n",
      "[tensor(0.8131, device='cuda:1'), tensor(0.7876, device='cuda:1'), tensor(0.7733, device='cuda:1'), tensor(0.7702, device='cuda:1'), tensor(0.7576, device='cuda:1'), tensor(0.7414, device='cuda:1'), tensor(0.7227, device='cuda:1'), tensor(0.7134, device='cuda:1'), tensor(0.7094, device='cuda:1'), tensor(0.6919, device='cuda:1'), tensor(0.6867, device='cuda:1'), tensor(0.6716, device='cuda:1'), tensor(0.6683, device='cuda:1'), tensor(0.6541, device='cuda:1'), tensor(0.6493, device='cuda:1'), tensor(0.6398, device='cuda:1'), tensor(0.6361, device='cuda:1'), tensor(0.6248, device='cuda:1'), tensor(0.6216, device='cuda:1'), tensor(0.6090, device='cuda:1'), tensor(0.6034, device='cuda:1'), tensor(0.5917, device='cuda:1'), tensor(0.5841, device='cuda:1'), tensor(0.5844, device='cuda:1'), tensor(0.5798, device='cuda:1'), tensor(0.5657, device='cuda:1'), tensor(0.5612, device='cuda:1'), tensor(0.5522, device='cuda:1'), tensor(0.5554, device='cuda:1'), tensor(0.5415, device='cuda:1'), tensor(0.5337, device='cuda:1'), tensor(0.5333, device='cuda:1'), tensor(0.5219, device='cuda:1'), tensor(0.5143, device='cuda:1'), tensor(0.5124, device='cuda:1'), tensor(0.5020, device='cuda:1'), tensor(0.4988, device='cuda:1'), tensor(0.5017, device='cuda:1'), tensor(0.4903, device='cuda:1'), tensor(0.4931, device='cuda:1'), tensor(0.4809, device='cuda:1'), tensor(0.4684, device='cuda:1'), tensor(0.4689, device='cuda:1'), tensor(0.4690, device='cuda:1'), tensor(0.4563, device='cuda:1'), tensor(0.4580, device='cuda:1'), tensor(0.4486, device='cuda:1'), tensor(0.4587, device='cuda:1'), tensor(0.4349, device='cuda:1'), tensor(0.4326, device='cuda:1'), tensor(0.4295, device='cuda:1'), tensor(0.4378, device='cuda:1'), tensor(0.4256, device='cuda:1'), tensor(0.4140, device='cuda:1'), tensor(0.4125, device='cuda:1'), tensor(0.4014, device='cuda:1'), tensor(0.4022, device='cuda:1'), tensor(0.3961, device='cuda:1'), tensor(0.3907, device='cuda:1'), tensor(0.3896, device='cuda:1'), tensor(0.3858, device='cuda:1'), tensor(0.3914, device='cuda:1'), tensor(0.3786, device='cuda:1'), tensor(0.3713, device='cuda:1'), tensor(0.3777, device='cuda:1'), tensor(0.3622, device='cuda:1'), tensor(0.3696, device='cuda:1'), tensor(0.3588, device='cuda:1'), tensor(0.3592, device='cuda:1'), tensor(0.3487, device='cuda:1')]\n"
     ]
    }
   ],
   "source": [
    "# TRAINING THE MODEL:\n",
    "\n",
    "import time\n",
    "start_time = time.time()\n",
    "\n",
    "epochs = 70\n",
    "\n",
    "train_losses = []\n",
    "val_losses = []\n",
    "\n",
    "torch.manual_seed(123)\n",
    "\n",
    "for i in range(epochs):\n",
    "    \n",
    "    for b, (image, label) in enumerate(train_loader):\n",
    "        \n",
    "        b += 1\n",
    "        \n",
    "        encoder_hidden = Encoder_model.initHidden()\n",
    "        \n",
    "        image_cnn = image.view(-1, color_channels, patch_height, patch_width).cuda(1)\n",
    "        encoder_input = CNN_model(image_cnn)\n",
    "        _, encoder_hidden = Encoder_model(encoder_input, encoder_hidden)\n",
    "        \n",
    "        decoder_hidden = encoder_hidden\n",
    "        decoder_input = get_one_hot_target(label=label).cuda(1)\n",
    "        decoder_output, decoder_hidden = Decoder_model(decoder_input, decoder_hidden)\n",
    "        \n",
    "        output_indices = torch.tensor(list(range(0, MAX_LENGTH))).cuda(1) # remove EOS_token from the output\n",
    "        decoder_output = torch.index_select(decoder_output, dim = 1, index = output_indices)\n",
    "        \n",
    "        ground_truth = torch.argmax(decoder_input, 2)\n",
    "        target_indices = torch.tensor(list(range(1, MAX_LENGTH + 1))).cuda(1) # remove SOS_token from the input\n",
    "        ground_truth = torch.index_select(ground_truth, dim = 1, index = target_indices)\n",
    "        #decoder_output = decoder_output.view(batch_size, output_size, MAX_LENGTH)\n",
    "        \n",
    "        loss = 0\n",
    "        \n",
    "        for j in range(batch_size):\n",
    "            \n",
    "            loss += criterion(decoder_output[j], ground_truth[j])   \n",
    "        #loss = criterion(decoder_output[j], ground_truth[j]) + criterion(decoder_output[1], ground_truth[1])\n",
    "        \n",
    "        loss = loss/batch_size\n",
    "        \n",
    "        CNN_optimizer.zero_grad()\n",
    "        Encoder_optimizer.zero_grad()\n",
    "        Decoder_optimizer.zero_grad()\n",
    "        \n",
    "        loss.backward()\n",
    "        \n",
    "        CNN_optimizer.step()\n",
    "        Encoder_optimizer.step()\n",
    "        Decoder_optimizer.step()\n",
    "    \n",
    "    \n",
    "    with torch.no_grad():\n",
    "        \n",
    "        for v, (image_val, label_val) in enumerate(val_loader):\n",
    "        \n",
    "            v += 1\n",
    "\n",
    "            encoder_hidden_val = Encoder_model.initHidden()\n",
    "\n",
    "            image_cnn_val = image_val.view(-1, color_channels, patch_height, patch_width).cuda(1)\n",
    "            encoder_input_val = CNN_model(image_cnn_val)\n",
    "            _, encoder_hidden_val = Encoder_model(encoder_input_val, encoder_hidden_val)\n",
    "\n",
    "            decoder_hidden_val = encoder_hidden_val\n",
    "            decoder_input_val = get_one_hot_target(label=label_val).cuda(1)\n",
    "            decoder_output_val, decoder_hidden_val = Decoder_model(decoder_input_val, decoder_hidden_val)\n",
    "\n",
    "            output_indices_val = torch.tensor(list(range(0, MAX_LENGTH))).cuda(1) # remove EOS_token from the output\n",
    "            decoder_output_val = torch.index_select(decoder_output_val, dim = 1, index = output_indices_val)\n",
    "\n",
    "            ground_truth_val = torch.argmax(decoder_input_val, 2)\n",
    "            target_indices_val = torch.tensor(list(range(1, MAX_LENGTH + 1))).cuda(1) # remove SOS_token from the input\n",
    "            ground_truth_val = torch.index_select(ground_truth_val, dim = 1, index = target_indices_val)\n",
    "            #decoder_output_val = decoder_output_val.view(batch_size, output_size, MAX_LENGTH)\n",
    "            \n",
    "            loss_val = 0\n",
    "            \n",
    "            for j in range(batch_size):\n",
    "                \n",
    "                loss_val += criterion(decoder_output_val[j], ground_truth_val[j])\n",
    "            \n",
    "            #loss_val = criterion(decoder_output_val[0], ground_truth_val[0]) + criterion(decoder_output_val[1], ground_truth_val[1])\n",
    "            loss_val = loss_val/batch_size\n",
    "        \n",
    "        \n",
    "    train_losses.append(loss)\n",
    "    val_losses.append(loss_val)\n",
    "    print(i)\n",
    "    \n",
    "print(f'Duration: {(time.time() - start_time)/60} minutes')    \n",
    "print(train_losses)\n",
    "print(val_losses)"
   ]
  },
  {
   "cell_type": "code",
   "execution_count": 23,
   "metadata": {},
   "outputs": [
    {
     "data": {
      "image/png": "[encoded data removed]",
      "text/plain": [
       "<Figure size 432x288 with 1 Axes>"
      ]
     },
     "metadata": {
      "needs_background": "light"
     },
     "output_type": "display_data"
    }
   ],
   "source": [
    "# Plotting results\n",
    "\n",
    "plt.yscale(\"log\")\n",
    "plt.plot(train_losses, label='training loss')\n",
    "plt.plot(val_losses, label='validation loss')\n",
    "plt.title('Losses per epoch CNN-S2S 1000 words')\n",
    "plt.legend();\n",
    "#plt.savefig('8 words training losses lr=0,001, bs=2')"
   ]
  },
  {
   "cell_type": "code",
   "execution_count": 17,
   "metadata": {},
   "outputs": [],
   "source": [
    "#torch.save(CNN_model.state_dict(), 'CNN_model_8_words_batch.pt')\n",
    "#torch.save(Encoder_model.state_dict(), 'Encoder_model_8_words_batch.pt')\n",
    "#torch.save(Decoder_model.state_dict(), 'Decoder_model_8_words_batch.pt')"
   ]
  },
  {
   "cell_type": "code",
   "execution_count": 28,
   "metadata": {},
   "outputs": [
    {
     "name": "stdout",
     "output_type": "stream",
     "text": [
      "('the', 'of', 'to', 'and', 'a', 'in', 'is', 'it', 'you', 'that', 'he', 'was', 'for', 'on', 'are', 'with')\n",
      "tensor([[20,  8,  5,  0,  0,  0,  0,  0,  0,  0,  0],\n",
      "        [15,  6,  0,  0,  0,  0,  0,  0,  0,  0,  0],\n",
      "        [20, 15,  0,  0,  0,  0,  0,  0,  0,  0,  0],\n",
      "        [ 1, 14,  4,  0,  0,  0,  0,  0,  0,  0,  0],\n",
      "        [ 1,  0,  0,  0,  0,  0,  0,  0,  0,  0,  0],\n",
      "        [ 9, 14,  0,  0,  0,  0,  0,  0,  0,  0,  0],\n",
      "        [ 9, 19,  0,  0,  0,  0,  0,  0,  0,  0,  0],\n",
      "        [ 9, 20,  0,  0,  0,  0,  0,  0,  0,  0,  0],\n",
      "        [25, 15, 21,  0,  0,  0,  0,  0,  0,  0,  0],\n",
      "        [20,  8,  1, 20,  0,  0,  0,  0,  0,  0,  0],\n",
      "        [ 8,  5,  0,  0,  0,  0,  0,  0,  0,  0,  0],\n",
      "        [23,  1, 19,  0,  0,  0,  0,  0,  0,  0,  0],\n",
      "        [ 6, 15, 18,  0,  0,  0,  0,  0,  0,  0,  0],\n",
      "        [15, 14,  0,  0,  0,  0,  0,  0,  0,  0,  0],\n",
      "        [ 1, 18,  5,  0,  0,  0,  0,  0,  0,  0,  0],\n",
      "        [23,  9, 20,  8,  0,  0,  0,  0,  0,  0,  0]], device='cuda:1')\n",
      "the\n",
      "of\n",
      "to\n",
      "and\n",
      "a\n",
      "in\n",
      "is\n",
      "it\n",
      "you\n",
      "that\n",
      "he\n",
      "was\n",
      "for\n",
      "on\n",
      "are\n",
      "with\n"
     ]
    }
   ],
   "source": [
    "with torch.no_grad():\n",
    "        \n",
    "    for t, (image_test, label_test) in enumerate(test_loader):\n",
    "\n",
    "        t += 1\n",
    "\n",
    "        encoder_hidden_test = Encoder_model.initHidden()\n",
    "        image_cnn_test = image_test.view(-1, color_channels, patch_height, patch_width).cuda(1)\n",
    "        encoder_input_test = CNN_model(image_cnn_test)\n",
    "        encoder_outputs_test, encoder_hidden_test = Encoder_model(encoder_input_test, encoder_hidden_test)\n",
    "        print(label_test)\n",
    "        for j in range(batch_size):\n",
    "           \n",
    "            decoder_input_test = letter_to_vector('SOS_token').cuda(1) # We initialize the first Decoder input as the SOS token\n",
    "            \n",
    "            decoder_hidden_test = (encoder_hidden_test[0][0, j, :].view(1, 1, hidden_size), # We take the last hidden state of the Encoder \n",
    "                                   encoder_hidden_test[1][0, j, :].view(1, 1, hidden_size)) # for each image/word (j) within the patch \n",
    "            # This would be the first hidden state of the Decoder for image/word (j)\n",
    "\n",
    "            for d in range(MAX_LENGTH):\n",
    "                \n",
    "                decoder_output_test, decoder_hidden_test = Decoder_model(decoder_input_test, decoder_hidden_test)\n",
    "                \n",
    "                if d == 0:\n",
    "                    \n",
    "                    output_word = decoder_output_test\n",
    "                    \n",
    "                else:\n",
    "                    \n",
    "                    output_word = torch.cat((output_word, decoder_output_test), dim = 1).cuda(1)\n",
    "                    \n",
    "            output_word = torch.argmax(output_word, dim = 2)\n",
    "            \n",
    "            \n",
    "            if j == 0:\n",
    "                \n",
    "                total_output_word = output_word\n",
    "                \n",
    "            else:\n",
    "                \n",
    "                total_output_word = torch.cat((total_output_word, output_word), dim = 0)\n",
    "           \n",
    "    print(total_output_word)\n",
    "\n",
    "\n",
    "for j in range(batch_size):\n",
    "    \n",
    "    model_word = []\n",
    "    \n",
    "    for i in range(total_output_word[j].numel()):\n",
    "        \n",
    "        if letters[total_output_word[j][i]] == 'SOS_token':\n",
    "            break\n",
    "            \n",
    "        model_word.append(letters[total_output_word[j][i]])\n",
    "        \n",
    "        \n",
    "    model_word = ''.join(model_word)    \n",
    "    print(model_word)\n",
    "\n"
   ]
  },
  {
   "cell_type": "code",
   "execution_count": 140,
   "metadata": {},
   "outputs": [
    {
     "name": "stdout",
     "output_type": "stream",
     "text": [
      "tensor([[[-2.2407, -0.3303, -1.2581],\n",
      "         [-0.1125, -1.2684, -0.3344]]])\n",
      "tensor([[[-1.3905, -0.8152, -0.3204],\n",
      "         [ 0.7377, -1.7534,  0.6033]]])\n"
     ]
    }
   ],
   "source": [
    "torch.manual_seed(101)\n",
    "c = nn.LogSoftmax(dim=1)\n",
    "a = torch.randn(1,2,3)\n",
    "print(c(a))\n",
    "print(a)"
   ]
  },
  {
   "cell_type": "code",
   "execution_count": 91,
   "metadata": {},
   "outputs": [
    {
     "data": {
      "text/plain": [
       "-1.7392961570497802"
      ]
     },
     "execution_count": 91,
     "metadata": {},
     "output_type": "execute_result"
    }
   ],
   "source": [
    "np.log((np.exp(-1.3905))/(np.exp(-1.3905) + np.exp(-0.8152) + np.exp(-0.3204)))"
   ]
  },
  {
   "cell_type": "code",
   "execution_count": 141,
   "metadata": {},
   "outputs": [
    {
     "data": {
      "text/plain": [
       "-2.240681356437162"
      ]
     },
     "execution_count": 141,
     "metadata": {},
     "output_type": "execute_result"
    }
   ],
   "source": [
    "np.log((np.exp(-1.3905))/(np.exp(-1.3905) + np.exp(0.7377)))"
   ]
  },
  {
   "cell_type": "code",
   "execution_count": 23,
   "metadata": {},
   "outputs": [
    {
     "name": "stdout",
     "output_type": "stream",
     "text": [
      "tensor([1., 1., 1., 1., 1., 1., 1., 1., 1., 1., 1., 1., 1., 1., 1., 1., 1., 1.,\n",
      "        1., 1., 1., 1., 1., 1., 1., 1., 1., 1.], device='cuda:1')\n",
      "tensor(0, device='cuda:1')\n"
     ]
    }
   ],
   "source": [
    "a = torch.ones(28).cuda(1)\n",
    "c = torch.argmax(a, dim = 0)\n",
    "print(a)\n",
    "print(c)"
   ]
  },
  {
   "cell_type": "code",
   "execution_count": 31,
   "metadata": {},
   "outputs": [
    {
     "ename": "ImportError",
     "evalue": "TensorBoard logging requires TensorBoard with Python summary writer installed. This should be available in 1.14 or above.",
     "output_type": "error",
     "traceback": [
      "\u001b[0;31m---------------------------------------------------------------------------\u001b[0m",
      "\u001b[0;31mModuleNotFoundError\u001b[0m                       Traceback (most recent call last)",
      "\u001b[0;32m~/.conda/envs/pytorch_estoril/lib/python3.6/site-packages/torch/utils/tensorboard/__init__.py\u001b[0m in \u001b[0;36m<module>\u001b[0;34m\u001b[0m\n\u001b[1;32m      1\u001b[0m \u001b[0;32mtry\u001b[0m\u001b[0;34m:\u001b[0m\u001b[0;34m\u001b[0m\u001b[0;34m\u001b[0m\u001b[0m\n\u001b[0;32m----> 2\u001b[0;31m     \u001b[0;32mfrom\u001b[0m \u001b[0mtensorboard\u001b[0m\u001b[0;34m.\u001b[0m\u001b[0msummary\u001b[0m\u001b[0;34m.\u001b[0m\u001b[0mwriter\u001b[0m\u001b[0;34m.\u001b[0m\u001b[0mrecord_writer\u001b[0m \u001b[0;32mimport\u001b[0m \u001b[0mRecordWriter\u001b[0m  \u001b[0;31m# noqa F401\u001b[0m\u001b[0;34m\u001b[0m\u001b[0;34m\u001b[0m\u001b[0m\n\u001b[0m\u001b[1;32m      3\u001b[0m \u001b[0;32mexcept\u001b[0m \u001b[0mImportError\u001b[0m\u001b[0;34m:\u001b[0m\u001b[0;34m\u001b[0m\u001b[0;34m\u001b[0m\u001b[0m\n",
      "\u001b[0;31mModuleNotFoundError\u001b[0m: No module named 'tensorboard'",
      "\nDuring handling of the above exception, another exception occurred:\n",
      "\u001b[0;31mImportError\u001b[0m                               Traceback (most recent call last)",
      "\u001b[0;32m<ipython-input-31-6f773bcc8c52>\u001b[0m in \u001b[0;36m<module>\u001b[0;34m\u001b[0m\n\u001b[1;32m      1\u001b[0m \u001b[0;32mimport\u001b[0m \u001b[0mtorch\u001b[0m\u001b[0;34m\u001b[0m\u001b[0;34m\u001b[0m\u001b[0m\n\u001b[0;32m----> 2\u001b[0;31m \u001b[0;32mfrom\u001b[0m \u001b[0mtorch\u001b[0m\u001b[0;34m.\u001b[0m\u001b[0mutils\u001b[0m\u001b[0;34m.\u001b[0m\u001b[0mtensorboard\u001b[0m \u001b[0;32mimport\u001b[0m \u001b[0mSummaryWriter\u001b[0m\u001b[0;34m\u001b[0m\u001b[0;34m\u001b[0m\u001b[0m\n\u001b[0m\u001b[1;32m      3\u001b[0m \u001b[0mwriter\u001b[0m \u001b[0;34m=\u001b[0m \u001b[0mSummaryWriter\u001b[0m\u001b[0;34m(\u001b[0m\u001b[0;34m)\u001b[0m\u001b[0;34m\u001b[0m\u001b[0;34m\u001b[0m\u001b[0m\n",
      "\u001b[0;32m~/.conda/envs/pytorch_estoril/lib/python3.6/site-packages/torch/utils/tensorboard/__init__.py\u001b[0m in \u001b[0;36m<module>\u001b[0;34m\u001b[0m\n\u001b[1;32m      2\u001b[0m     \u001b[0;32mfrom\u001b[0m \u001b[0mtensorboard\u001b[0m\u001b[0;34m.\u001b[0m\u001b[0msummary\u001b[0m\u001b[0;34m.\u001b[0m\u001b[0mwriter\u001b[0m\u001b[0;34m.\u001b[0m\u001b[0mrecord_writer\u001b[0m \u001b[0;32mimport\u001b[0m \u001b[0mRecordWriter\u001b[0m  \u001b[0;31m# noqa F401\u001b[0m\u001b[0;34m\u001b[0m\u001b[0;34m\u001b[0m\u001b[0m\n\u001b[1;32m      3\u001b[0m \u001b[0;32mexcept\u001b[0m \u001b[0mImportError\u001b[0m\u001b[0;34m:\u001b[0m\u001b[0;34m\u001b[0m\u001b[0;34m\u001b[0m\u001b[0m\n\u001b[0;32m----> 4\u001b[0;31m     raise ImportError('TensorBoard logging requires TensorBoard with Python summary writer installed. '\n\u001b[0m\u001b[1;32m      5\u001b[0m                       'This should be available in 1.14 or above.')\n\u001b[1;32m      6\u001b[0m \u001b[0;32mfrom\u001b[0m \u001b[0;34m.\u001b[0m\u001b[0mwriter\u001b[0m \u001b[0;32mimport\u001b[0m \u001b[0mFileWriter\u001b[0m\u001b[0;34m,\u001b[0m \u001b[0mSummaryWriter\u001b[0m  \u001b[0;31m# noqa F401\u001b[0m\u001b[0;34m\u001b[0m\u001b[0;34m\u001b[0m\u001b[0m\n",
      "\u001b[0;31mImportError\u001b[0m: TensorBoard logging requires TensorBoard with Python summary writer installed. This should be available in 1.14 or above."
     ]
    }
   ],
   "source": [
    "import torch\n",
    "from torch.utils.tensorboard import SummaryWriter\n",
    "writer = SummaryWriter()"
   ]
  },
  {
   "cell_type": "code",
   "execution_count": null,
   "metadata": {},
   "outputs": [],
   "source": []
  }
 ],
 "metadata": {
  "kernelspec": {
   "display_name": "pytorch_estoril",
   "language": "python",
   "name": "pytorch_estoril"
  },
  "language_info": {
   "codemirror_mode": {
    "name": "ipython",
    "version": 3
   },
   "file_extension": ".py",
   "mimetype": "text/x-python",
   "name": "python",
   "nbconvert_exporter": "python",
   "pygments_lexer": "ipython3",
   "version": "3.6.10"
  }
 },
 "nbformat": 4,
 "nbformat_minor": 2
}
