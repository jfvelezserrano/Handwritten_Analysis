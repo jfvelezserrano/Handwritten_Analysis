{
 "cells": [
  {
   "cell_type": "code",
   "execution_count": 1,
   "metadata": {},
   "outputs": [
    {
     "name": "stdout",
     "output_type": "stream",
     "text": [
      "1.8.1\n",
      "3.6.10\n"
     ]
    }
   ],
   "source": [
    "# IMPORTING THE REQUIRED LIBRARIES:\n",
    "\n",
    "import torch\n",
    "import torch.nn as nn\n",
    "import torch.nn.functional as F\n",
    "from torch import optim\n",
    "from torch.utils.data import DataLoader\n",
    "from torchvision import datasets, transforms, models\n",
    "from torchvision.utils import make_grid\n",
    "import os\n",
    "import cv2\n",
    "import skimage\n",
    "\n",
    "import numpy as np\n",
    "import pandas as pd\n",
    "from IPython.display import display\n",
    "import matplotlib.pyplot as plt\n",
    "%matplotlib inline \n",
    "\n",
    "# Ignore harmless warnings:\n",
    "\n",
    "import warnings\n",
    "warnings.filterwarnings(\"ignore\")\n",
    "device = torch.device(\"cuda:1\" if torch.cuda.is_available() else \"cpu\")\n",
    "\n",
    "import platform\n",
    "print(torch.__version__)\n",
    "print(platform.python_version())\n"
   ]
  },
  {
   "cell_type": "code",
   "execution_count": 2,
   "metadata": {},
   "outputs": [
    {
     "data": {
      "text/plain": [
       "'TITAN X (Pascal)'"
      ]
     },
     "execution_count": 2,
     "metadata": {},
     "output_type": "execute_result"
    }
   ],
   "source": [
    "torch.cuda.get_device_name(1)"
   ]
  },
  {
   "cell_type": "code",
   "execution_count": 3,
   "metadata": {},
   "outputs": [],
   "source": [
    "# LOADING DATA: 1000 MOST COMMON ENGLISH WORDS\n",
    "\n",
    "top_1000_words = pd.read_csv('top_1000.txt', delimiter = '\\t', header = None)\n",
    "\n",
    "words = []\n",
    "sample_length = len(top_1000_words)\n",
    "\n",
    "for i in range(sample_length):\n",
    "    words.append(top_1000_words.loc[i][0])\n",
    "    "
   ]
  },
  {
   "cell_type": "code",
   "execution_count": 4,
   "metadata": {},
   "outputs": [
    {
     "name": "stdout",
     "output_type": "stream",
     "text": [
      "11\n",
      "['oxygen', 'sugar', 'death', 'pretty', 'skill', 'women', 'season', 'solution', 'magnet', 'silver', 'thank', 'branch', 'match', 'suffix', 'especially', 'fig', 'afraid', 'huge', 'sister', 'steel', 'discuss', 'forward', 'similar', 'guide', 'experience', 'score', 'apple', 'bought', 'led', 'pitch', 'coat', 'mass', 'card', 'band', 'rope', 'slip', 'win', 'dream', 'evening', 'condition', 'feed', 'tool', 'total', 'basic', 'smell', 'valley', 'nor', 'double', 'seat', 'arrive', 'master', 'track', 'parent', 'shore', 'division', 'sheet', 'substance', 'favor', 'connect', 'post', 'spend', 'chord', 'fat', 'glad', 'original', 'share', 'station', 'dad', 'bread', 'charge', 'proper', 'bar', 'offer', 'segment', 'slave', 'duck', 'instant', 'market', 'degree', 'populate', 'chick', 'dear', 'enemy', 'reply', 'drink', 'occur', 'support', 'speech', 'nature', 'range', 'steam', 'motion', 'path', 'liquid', 'log', 'meant', 'quotient', 'teeth', 'shell', 'neck']\n"
     ]
    }
   ],
   "source": [
    "# DEFINING TRAINING, VALIDATION AND TEST SETS\n",
    "\n",
    "train_set = words[0:800] * 32\n",
    "val_set = words[800:900] \n",
    "test_set = words[900:1000] \n",
    "\n",
    "MAX_LENGTH = max(len(list(word)) for word in train_set) # length of the longest word within our sample\n",
    "\n",
    "print(MAX_LENGTH)\n",
    "print(test_set)"
   ]
  },
  {
   "cell_type": "code",
   "execution_count": 5,
   "metadata": {},
   "outputs": [
    {
     "name": "stdout",
     "output_type": "stream",
     "text": [
      "tensor([[[0., 0., 0., 0., 0., 0., 0., 0., 0., 0., 0., 0., 0., 0., 0., 0., 0., 0., 0., 0., 0., 0., 0.,\n",
      "          0., 0., 0., 0., 0.]]])\n",
      "tensor([[[1., 0., 0., 0., 0., 0., 0., 0., 0., 0., 0., 0., 0., 0., 0., 0., 0.,\n",
      "          0., 0., 0., 0., 0., 0., 0., 0., 0., 0., 0.]]])\n"
     ]
    }
   ],
   "source": [
    "# ONE HOT ENCODING OF THE ALPHABET (+ START, END & PAD)\n",
    "\n",
    "letters = ['START', 'a', 'b', 'c', 'd', 'e', 'f', 'g', 'h', 'i', 'j', 'k',\n",
    "          'l', 'm', 'n', 'o', 'p', 'q', 'r', 's', 't', 'u', 'v', 'w', 'x', 'y', 'z', 'END']\n",
    "\n",
    "PAD = torch.zeros(1, 1, 28)\n",
    "\n",
    "def letter_to_vector(letter):\n",
    "    vector = torch.zeros(1, 1, len(letters))\n",
    "    for i in range(len(letters)):\n",
    "        if letters[i] == letter:\n",
    "            vector[0, 0, i] = 1.\n",
    "    return(vector)\n",
    "\n",
    "print(PAD)\n",
    "print(letter_to_vector('START'))"
   ]
  },
  {
   "cell_type": "code",
   "execution_count": 7,
   "metadata": {},
   "outputs": [],
   "source": [
    "# GETTING PATCH TENSOR FOR EACH WORD (PATCH, COLOR CHANNEL, HEIGHT, WIDTH)\n",
    "\n",
    "def patch_gen(word, n_patches, patch_height, patch_width, stepsize):\n",
    "    \n",
    "    image = 255 * np.ones(shape = [height, width], dtype = np.uint8)\n",
    "    image = cv2.putText(image, text = word, org = (5, 30),\n",
    "        fontFace = cv2.FONT_HERSHEY_SIMPLEX, fontScale = 0.7, color = (0, 0, 0),\n",
    "        thickness = 1, lineType = cv2.LINE_AA)\n",
    "    image = transforms.ToPILImage()(image) # np.ndarray to PIL.Image.Image\n",
    "    patches_tensor = torch.empty(n_patches, color_channels, patch_height, patch_width)\n",
    "    \n",
    "    for p in range(n_patches):\n",
    "        \n",
    "        patch = transforms.functional.crop(image, 0, 0 + p * stepsize, patch_height, patch_width) # cropping of the image into patches\n",
    "        patch = transforms.ToTensor()(patch) # torch.Tensor of the patch (normalized)\n",
    "        #patch = skimage.util.random_noise(patch, mode='s&p') # we set some random noise to the image\n",
    "        #patch = torch.from_numpy(patch) # conversion to pytorch tensor again\n",
    "        patch = 1. - patch # it will work better if we have white text over black background\n",
    "        patch = patch.view(1, 1, patch_height, patch_width) # CNN_model expects a 4-dimensional tensor (1 dimension for batch)\n",
    "        patch = patch.type(torch.FloatTensor) # conversion to float\n",
    "        patch = patch.cuda(1) # set to cuda\n",
    "        patches_tensor[p, 0, :, :] = patch\n",
    "        patches_tensor = patches_tensor.cuda(1)\n",
    "        \n",
    "    return patches_tensor"
   ]
  },
  {
   "cell_type": "code",
   "execution_count": 8,
   "metadata": {},
   "outputs": [],
   "source": [
    "# SETTING IMAGE AND SLIDING WINDOW (PATCH) PARAMETERS\n",
    "\n",
    "height = 48\n",
    "width = 192\n",
    "patch_height = 48\n",
    "patch_width = 10\n",
    "stepsize = 2\n",
    "color_channels = 1\n",
    "n_patches = int((width - patch_width)/stepsize + 1) "
   ]
  },
  {
   "cell_type": "code",
   "execution_count": 9,
   "metadata": {},
   "outputs": [],
   "source": [
    "# GETTING TUPLE (TENSOR WITH PATCHES, LABEL) FOR EACH WORD OF A GIVEN SET:\n",
    "\n",
    "def complete_set(which_set):\n",
    "    \n",
    "    complete_set = []\n",
    "    \n",
    "    for word in which_set:\n",
    "        \n",
    "        complete_set.append((patch_gen(word, n_patches, patch_height, patch_width, stepsize), word))\n",
    "        \n",
    "    return complete_set"
   ]
  },
  {
   "cell_type": "code",
   "execution_count": 10,
   "metadata": {},
   "outputs": [],
   "source": [
    "# TUPLE OF (RANK-4 TENSOR [PATCH, CHANNEL, HEIGHT, WIDTH], LABEL) FOR EVERY WORD IN EVERY SET\n",
    "\n",
    "comp_train_set = complete_set(which_set = train_set)\n",
    "comp_val_set = complete_set(which_set = val_set)\n",
    "comp_test_set = complete_set(which_set = test_set)"
   ]
  },
  {
   "cell_type": "code",
   "execution_count": 11,
   "metadata": {},
   "outputs": [
    {
     "name": "stdout",
     "output_type": "stream",
     "text": [
      "torch.Size([16, 92, 1, 48, 10])\n",
      "torch.Size([1472, 1, 48, 10])\n",
      "('war', 'sleep', 'stick', 'paper', 'page', 'floor', 'not', 'special', 'hunt', 'food', 'measure', 'equal', 'soon', 'ride', 'tall', 'stone')\n"
     ]
    }
   ],
   "source": [
    "# LOADING DATA AND SETS IN BATCHES\n",
    "\n",
    "torch.manual_seed(123)\n",
    "\n",
    "batch_size = 16\n",
    "\n",
    "train_loader = DataLoader(comp_train_set, batch_size = batch_size, shuffle = True)\n",
    "val_loader = DataLoader(comp_val_set, batch_size = batch_size, shuffle = False)\n",
    "test_loader = DataLoader(comp_test_set, batch_size = batch_size, shuffle = False)\n",
    "\n",
    "\n",
    "for image, label in train_loader:\n",
    "    break\n",
    "    \n",
    "image_cnn = image.view(-1, color_channels, patch_height, patch_width)   \n",
    "print(image.shape)\n",
    "print(image_cnn.shape)\n",
    "print(label)"
   ]
  },
  {
   "cell_type": "code",
   "execution_count": 12,
   "metadata": {},
   "outputs": [],
   "source": [
    "# GETTING ONE HOT TENSOR OF THE TARGET WORD\n",
    "\n",
    "    # one hot tensor of the input batch of words for the Decoder:\n",
    "    # 1 dim for position within batch, 1 dim for position of the letter in the fixed sequence (MAX_LENGTH + START + END),\n",
    "    # 1 final dim specifying letter (output_size = 26 + START and END tokens)\n",
    "    # torch.zeros() ensures that we always have PAD token vectors in case our target word is not MAX_LENGTH long\n",
    "    # WARNING: only works if label contains 2 words or more (it is OK as long as we are doing batching)\n",
    "    \n",
    "def get_one_hot_target(label, batch, seq_len, output_size):\n",
    "    \n",
    "    one_hot_target = torch.zeros(batch, seq_len, output_size) \n",
    "\n",
    "    for j in range(batch): # for each word of the batch\n",
    "\n",
    "        length = len(list(label[j])) # we compute the number of letters\n",
    "\n",
    "        one_hot_target[j, 0, :] = letter_to_vector('START') # the first letter of every word will always be the START\n",
    "\n",
    "        for k in range(0, length): # now for each letter of the target word\n",
    "\n",
    "            target_letter = list(label[j])[k] # picks the 'k' target letter \n",
    "            one_hot_target[j, k + 1, :] = letter_to_vector(target_letter) # adds that one hot target letter to our global tensor\n",
    "\n",
    "        one_hot_target[j, length + 1, :] = letter_to_vector('END') # we put END after the last letter of the word\n",
    "\n",
    "    return one_hot_target     "
   ]
  },
  {
   "cell_type": "code",
   "execution_count": 13,
   "metadata": {},
   "outputs": [],
   "source": [
    "# EARLY STOPPING FUNCTION\n",
    "\n",
    "# If our validation loss has not improved for a certain patience 'n', we stop the training\n",
    "\n",
    "def Early_Stopping(n, losses):\n",
    "    previous_losses = torch.tensor(losses[-(n + 1):-1]).cuda(1) # n previous values of the validation loss\n",
    "    last_loss = losses[-1] # last value of the validation loss\n",
    "    comparison = last_loss > previous_losses # n-length boolean vector\n",
    "    comparison = all(comparison) # = True if all previous values of the validation loss are smaller than the last one\n",
    "    \n",
    "    return comparison"
   ]
  },
  {
   "cell_type": "code",
   "execution_count": 14,
   "metadata": {},
   "outputs": [],
   "source": [
    "# DEFINING MODEL AND ARCHITECTURE\n",
    "\n",
    "# CONVOLUTIONAL NEURAL NETWORK:\n",
    "\n",
    "class ConvolutionalNetwork(nn.Module):\n",
    "    def __init__(self):\n",
    "        super().__init__()\n",
    "        self.conv1 = nn.Conv2d(1, 20, 5, 1, 2) # padding???\n",
    "        self.conv2 = nn.Conv2d(20, 50, 5, 1, 2)\n",
    "        self.fc1 = nn.Linear(12*2*50, 1024)\n",
    "\n",
    "    def forward(self, X):\n",
    "        X = F.relu(self.conv1(X))\n",
    "        X = F.max_pool2d(X, 2, 2)\n",
    "        X = F.relu(self.conv2(X))\n",
    "        X = F.max_pool2d(X, 2, 2)\n",
    "        X = X.view(-1, 12*2*50) # -1 para no tener que determinar aquí el tamaño del batch (se ajusta, podemos variarlo)\n",
    "        X = F.relu(self.fc1(X))\n",
    "\n",
    "        return X "
   ]
  },
  {
   "cell_type": "code",
   "execution_count": 15,
   "metadata": {},
   "outputs": [],
   "source": [
    "# ENCODER:\n",
    "\n",
    "class EncoderRNN(nn.Module):\n",
    "    def __init__(self, input_size, hidden_size):\n",
    "        \n",
    "        super(EncoderRNN, self).__init__()\n",
    "        self.hidden_size = hidden_size\n",
    "        self.lstm = nn.LSTM(input_size, hidden_size, batch_first = True)\n",
    "\n",
    "    def forward(self, input, hidden, batch, seq_len):\n",
    "        \n",
    "        output = input.view(batch, seq_len, input_size)\n",
    "        output, hidden = self.lstm(output, hidden)\n",
    "        return output, hidden\n",
    "\n",
    "    def initHidden(self, batch):\n",
    "        return (torch.zeros(1, batch, self.hidden_size, device=device),\n",
    "                torch.zeros(1, batch, self.hidden_size, device=device))"
   ]
  },
  {
   "cell_type": "code",
   "execution_count": 16,
   "metadata": {},
   "outputs": [],
   "source": [
    "# DECODER:\n",
    "\n",
    "class DecoderRNN(nn.Module):\n",
    "    def __init__(self, hidden_size, output_size):\n",
    "        super(DecoderRNN, self).__init__()\n",
    "        self.hidden_size = hidden_size\n",
    "\n",
    "        self.lstm = nn.LSTM(output_size, hidden_size, batch_first = True)\n",
    "        self.out = nn.Linear(hidden_size, output_size)\n",
    "        self.softmax = nn.LogSoftmax(dim = 2) \n",
    "        # dim = 2 porque esta última dimensión es la correspondiente a output_size, que es sobre\n",
    "        # la que queremos hacer el softmax\n",
    "\n",
    "    def forward(self, input, hidden, batch, seq_len):\n",
    "        \n",
    "        output = input.view(batch, seq_len, output_size)\n",
    "        #output = F.relu(output) # la relu se metía aquí porque en el\n",
    "        #caso NLP del ejemplo de PyTorch previamente había una capa de embedding\n",
    "        #No nos hace falta porque nuestro tensor de inputs ya es one-hot\n",
    "        output, hidden = self.lstm(output, hidden)\n",
    "        output = self.out(output)\n",
    "        output = self.softmax(output)\n",
    "        return output, hidden\n",
    "\n",
    "    def initHidden(self, batch):\n",
    "        return (torch.zeros(1, batch, self.hidden_size, device=device),\n",
    "               torch.zeros(1, batch, self.hidden_size, device=device))"
   ]
  },
  {
   "cell_type": "code",
   "execution_count": 17,
   "metadata": {},
   "outputs": [],
   "source": [
    "torch.manual_seed(123)\n",
    "\n",
    "input_size = 1024\n",
    "hidden_size = 256\n",
    "output_size = 28\n",
    "\n",
    "CNN_model = ConvolutionalNetwork().cuda(1)\n",
    "CNN_optimizer = torch.optim.Adam(CNN_model.parameters(), lr = 0.001)\n",
    "\n",
    "Encoder_model = EncoderRNN(input_size = input_size, hidden_size = hidden_size).cuda(1)\n",
    "Encoder_optimizer = optim.SGD(Encoder_model.parameters(), lr = 0.001)\n",
    "\n",
    "Decoder_model = DecoderRNN(hidden_size = hidden_size, output_size = output_size).cuda(1)\n",
    "Decoder_optimizer = optim.SGD(Decoder_model.parameters(), lr = 0.001)\n",
    "\n",
    "#criterion = nn.CrossEntropyLoss()\n",
    "criterion = nn.NLLLoss()"
   ]
  },
  {
   "cell_type": "code",
   "execution_count": 18,
   "metadata": {
    "scrolled": true
   },
   "outputs": [
    {
     "name": "stdout",
     "output_type": "stream",
     "text": [
      "Epoch: 0\n",
      "Epoch: 1\n",
      "Epoch: 2\n",
      "Epoch: 3\n",
      "Epoch: 4\n",
      "Epoch: 5\n",
      "Epoch: 6\n",
      "Epoch: 7\n",
      "Epoch: 8\n",
      "Epoch: 9\n",
      "Epoch: 10\n",
      "Epoch: 11\n",
      "Epoch: 12\n",
      "Epoch: 13\n",
      "Epoch: 14\n",
      "Epoch: 15\n",
      "Epoch: 16\n",
      "Epoch: 17\n",
      "Epoch: 18\n",
      "Epoch: 19\n",
      "Epoch: 20\n",
      "Epoch: 21\n",
      "Epoch: 22\n",
      "Epoch: 23\n",
      "Epoch: 24\n",
      "Epoch: 25\n",
      "Epoch: 26\n",
      "Epoch: 27\n",
      "Epoch: 28\n",
      "Epoch: 29\n",
      "Epoch: 30\n",
      "Epoch: 31\n",
      "Epoch: 32\n",
      "Epoch: 33\n",
      "Epoch: 34\n",
      "Epoch: 35\n",
      "Epoch: 36\n",
      "Epoch: 37\n",
      "Epoch: 38\n",
      "Epoch: 39\n",
      "Epoch: 40\n",
      "Epoch: 41\n",
      "Epoch: 42\n",
      "Epoch: 43\n",
      "Epoch: 44\n",
      "Epoch: 45\n",
      "Epoch: 46\n",
      "Epoch: 47\n",
      "Epoch: 48\n",
      "Epoch: 49\n",
      "Epoch: 50\n",
      "Epoch: 51\n",
      "Epoch: 52\n",
      "Epoch: 53\n",
      "Epoch: 54\n",
      "Epoch: 55\n",
      "Epoch: 56\n",
      "Epoch: 57\n",
      "Epoch: 58\n",
      "Epoch: 59\n",
      "Epoch: 60\n",
      "Epoch: 61\n",
      "Epoch: 62\n",
      "Epoch: 63\n",
      "Epoch: 64\n",
      "Epoch: 65\n",
      "Epoch: 66\n",
      "Epoch: 67\n",
      "Epoch: 68\n",
      "Epoch: 69\n",
      "Epoch: 70\n",
      "Epoch: 71\n",
      "Epoch: 72\n",
      "Epoch: 73\n",
      "Epoch: 74\n",
      "Epoch: 75\n",
      "Epoch: 76\n",
      "Epoch: 77\n",
      "Epoch: 78\n",
      "Epoch: 79\n",
      "Epoch: 80\n",
      "Epoch: 81\n",
      "Epoch: 82\n",
      "Epoch: 83\n",
      "Epoch: 84\n",
      "Epoch: 85\n",
      "Epoch: 86\n",
      "Epoch: 87\n",
      "Epoch: 88\n",
      "Epoch: 89\n",
      "Epoch: 90\n",
      "Epoch: 91\n",
      "Epoch: 92\n",
      "Epoch: 93\n",
      "Epoch: 94\n",
      "Epoch: 95\n",
      "Epoch: 96\n",
      "Epoch: 97\n",
      "Epoch: 98\n",
      "Epoch: 99\n",
      "Epoch: 100\n",
      "Epoch: 101\n",
      "Epoch: 102\n",
      "Epoch: 103\n",
      "Epoch: 104\n",
      "Epoch: 105\n",
      "Epoch: 106\n",
      "Epoch: 107\n",
      "Epoch: 108\n",
      "Epoch: 109\n",
      "Epoch: 110\n",
      "Epoch: 111\n",
      "Epoch: 112\n",
      "Epoch: 113\n",
      "Epoch: 114\n",
      "Epoch: 115\n",
      "Epoch: 116\n",
      "Epoch: 117\n",
      "Epoch: 118\n",
      "Epoch: 119\n",
      "Epoch: 120\n",
      "Epoch: 121\n",
      "Epoch: 122\n",
      "Epoch: 123\n",
      "Epoch: 124\n",
      "Epoch: 125\n",
      "Epoch: 126\n",
      "Epoch: 127\n",
      "Epoch: 128\n",
      "Epoch: 129\n",
      "Epoch: 130\n",
      "Epoch: 131\n",
      "Epoch: 132\n",
      "Epoch: 133\n",
      "Epoch: 134\n",
      "Epoch: 135\n",
      "Epoch: 136\n",
      "Epoch: 137\n",
      "Epoch: 138\n",
      "Epoch: 139\n",
      "Epoch: 140\n",
      "Epoch: 141\n",
      "Epoch: 142\n",
      "Epoch: 143\n",
      "Epoch: 144\n",
      "Epoch: 145\n",
      "Epoch: 146\n",
      "Epoch: 147\n",
      "Epoch: 148\n",
      "Epoch: 149\n",
      "Epoch: 150\n",
      "Epoch: 151\n",
      "Epoch: 152\n",
      "Epoch: 153\n",
      "Epoch: 154\n",
      "Epoch: 155\n",
      "Epoch: 156\n",
      "Epoch: 157\n",
      "Epoch: 158\n",
      "Epoch: 159\n",
      "Epoch: 160\n",
      "Epoch: 161\n",
      "Epoch: 162\n",
      "Epoch: 163\n",
      "Epoch: 164\n",
      "Epoch: 165\n",
      "Epoch: 166\n",
      "Epoch: 167\n",
      "Epoch: 168\n",
      "Epoch: 169\n",
      "Epoch: 170\n",
      "Epoch: 171\n",
      "Epoch: 172\n",
      "Epoch: 173\n",
      "Epoch: 174\n",
      "Epoch: 175\n",
      "Epoch: 176\n",
      "Epoch: 177\n",
      "Epoch: 178\n",
      "Epoch: 179\n",
      "Epoch: 180\n",
      "Epoch: 181\n",
      "Epoch: 182\n",
      "Epoch: 183\n",
      "Epoch: 184\n",
      "Epoch: 185\n",
      "Epoch: 186\n",
      "Epoch: 187\n",
      "Epoch: 188\n",
      "Epoch: 189\n",
      "Epoch: 190\n",
      "Epoch: 191\n",
      "Epoch: 192\n",
      "Duration: 132.13068429231643 minutes\n",
      "[tensor(1.7510, device='cuda:1', grad_fn=<DivBackward0>), tensor(1.5511, device='cuda:1', grad_fn=<DivBackward0>), tensor(1.3989, device='cuda:1', grad_fn=<DivBackward0>), tensor(1.3275, device='cuda:1', grad_fn=<DivBackward0>), tensor(1.3457, device='cuda:1', grad_fn=<DivBackward0>), tensor(1.2969, device='cuda:1', grad_fn=<DivBackward0>), tensor(1.1978, device='cuda:1', grad_fn=<DivBackward0>), tensor(1.1447, device='cuda:1', grad_fn=<DivBackward0>), tensor(1.1100, device='cuda:1', grad_fn=<DivBackward0>), tensor(1.3014, device='cuda:1', grad_fn=<DivBackward0>), tensor(1.2690, device='cuda:1', grad_fn=<DivBackward0>), tensor(1.2896, device='cuda:1', grad_fn=<DivBackward0>), tensor(1.0291, device='cuda:1', grad_fn=<DivBackward0>), tensor(1.1340, device='cuda:1', grad_fn=<DivBackward0>), tensor(1.0614, device='cuda:1', grad_fn=<DivBackward0>), tensor(0.9771, device='cuda:1', grad_fn=<DivBackward0>), tensor(1.0001, device='cuda:1', grad_fn=<DivBackward0>), tensor(0.9938, device='cuda:1', grad_fn=<DivBackward0>), tensor(0.8810, device='cuda:1', grad_fn=<DivBackward0>), tensor(0.8849, device='cuda:1', grad_fn=<DivBackward0>), tensor(0.9116, device='cuda:1', grad_fn=<DivBackward0>), tensor(0.7753, device='cuda:1', grad_fn=<DivBackward0>), tensor(0.8832, device='cuda:1', grad_fn=<DivBackward0>), tensor(0.9086, device='cuda:1', grad_fn=<DivBackward0>), tensor(0.7910, device='cuda:1', grad_fn=<DivBackward0>), tensor(0.8636, device='cuda:1', grad_fn=<DivBackward0>), tensor(0.7012, device='cuda:1', grad_fn=<DivBackward0>), tensor(0.8215, device='cuda:1', grad_fn=<DivBackward0>), tensor(0.8680, device='cuda:1', grad_fn=<DivBackward0>), tensor(0.8887, device='cuda:1', grad_fn=<DivBackward0>), tensor(0.8989, device='cuda:1', grad_fn=<DivBackward0>), tensor(0.7271, device='cuda:1', grad_fn=<DivBackward0>), tensor(0.6480, device='cuda:1', grad_fn=<DivBackward0>), tensor(0.7954, device='cuda:1', grad_fn=<DivBackward0>), tensor(0.6396, device='cuda:1', grad_fn=<DivBackward0>), tensor(0.6973, device='cuda:1', grad_fn=<DivBackward0>), tensor(0.8580, device='cuda:1', grad_fn=<DivBackward0>), tensor(0.7012, device='cuda:1', grad_fn=<DivBackward0>), tensor(0.7382, device='cuda:1', grad_fn=<DivBackward0>), tensor(0.7895, device='cuda:1', grad_fn=<DivBackward0>), tensor(0.6171, device='cuda:1', grad_fn=<DivBackward0>), tensor(0.6362, device='cuda:1', grad_fn=<DivBackward0>), tensor(0.6125, device='cuda:1', grad_fn=<DivBackward0>), tensor(0.7022, device='cuda:1', grad_fn=<DivBackward0>), tensor(0.6602, device='cuda:1', grad_fn=<DivBackward0>), tensor(0.7342, device='cuda:1', grad_fn=<DivBackward0>), tensor(0.6463, device='cuda:1', grad_fn=<DivBackward0>), tensor(0.6394, device='cuda:1', grad_fn=<DivBackward0>), tensor(0.7054, device='cuda:1', grad_fn=<DivBackward0>), tensor(0.4285, device='cuda:1', grad_fn=<DivBackward0>), tensor(0.7349, device='cuda:1', grad_fn=<DivBackward0>), tensor(0.6428, device='cuda:1', grad_fn=<DivBackward0>), tensor(0.6035, device='cuda:1', grad_fn=<DivBackward0>), tensor(0.5724, device='cuda:1', grad_fn=<DivBackward0>), tensor(0.7033, device='cuda:1', grad_fn=<DivBackward0>), tensor(0.5698, device='cuda:1', grad_fn=<DivBackward0>), tensor(0.6114, device='cuda:1', grad_fn=<DivBackward0>), tensor(0.4280, device='cuda:1', grad_fn=<DivBackward0>), tensor(0.7004, device='cuda:1', grad_fn=<DivBackward0>), tensor(0.5483, device='cuda:1', grad_fn=<DivBackward0>), tensor(0.4635, device='cuda:1', grad_fn=<DivBackward0>), tensor(0.5016, device='cuda:1', grad_fn=<DivBackward0>), tensor(0.6006, device='cuda:1', grad_fn=<DivBackward0>), tensor(0.4473, device='cuda:1', grad_fn=<DivBackward0>), tensor(0.4929, device='cuda:1', grad_fn=<DivBackward0>), tensor(0.4363, device='cuda:1', grad_fn=<DivBackward0>), tensor(0.5079, device='cuda:1', grad_fn=<DivBackward0>), tensor(0.4870, device='cuda:1', grad_fn=<DivBackward0>), tensor(0.5133, device='cuda:1', grad_fn=<DivBackward0>), tensor(0.4472, device='cuda:1', grad_fn=<DivBackward0>), tensor(0.4633, device='cuda:1', grad_fn=<DivBackward0>), tensor(0.4084, device='cuda:1', grad_fn=<DivBackward0>), tensor(0.6382, device='cuda:1', grad_fn=<DivBackward0>), tensor(0.5025, device='cuda:1', grad_fn=<DivBackward0>), tensor(0.4416, device='cuda:1', grad_fn=<DivBackward0>), tensor(0.5005, device='cuda:1', grad_fn=<DivBackward0>), tensor(0.3975, device='cuda:1', grad_fn=<DivBackward0>), tensor(0.4943, device='cuda:1', grad_fn=<DivBackward0>), tensor(0.2999, device='cuda:1', grad_fn=<DivBackward0>), tensor(0.4216, device='cuda:1', grad_fn=<DivBackward0>), tensor(0.4466, device='cuda:1', grad_fn=<DivBackward0>), tensor(0.3153, device='cuda:1', grad_fn=<DivBackward0>), tensor(0.5356, device='cuda:1', grad_fn=<DivBackward0>), tensor(0.4732, device='cuda:1', grad_fn=<DivBackward0>), tensor(0.3867, device='cuda:1', grad_fn=<DivBackward0>), tensor(0.4292, device='cuda:1', grad_fn=<DivBackward0>), tensor(0.3647, device='cuda:1', grad_fn=<DivBackward0>), tensor(0.4104, device='cuda:1', grad_fn=<DivBackward0>), tensor(0.3173, device='cuda:1', grad_fn=<DivBackward0>), tensor(0.3865, device='cuda:1', grad_fn=<DivBackward0>), tensor(0.3573, device='cuda:1', grad_fn=<DivBackward0>), tensor(0.5868, device='cuda:1', grad_fn=<DivBackward0>), tensor(0.4042, device='cuda:1', grad_fn=<DivBackward0>), tensor(0.4592, device='cuda:1', grad_fn=<DivBackward0>), tensor(0.4698, device='cuda:1', grad_fn=<DivBackward0>), tensor(0.4363, device='cuda:1', grad_fn=<DivBackward0>), tensor(0.3296, device='cuda:1', grad_fn=<DivBackward0>), tensor(0.5149, device='cuda:1', grad_fn=<DivBackward0>), tensor(0.3377, device='cuda:1', grad_fn=<DivBackward0>), tensor(0.2920, device='cuda:1', grad_fn=<DivBackward0>), tensor(0.3830, device='cuda:1', grad_fn=<DivBackward0>), tensor(0.5338, device='cuda:1', grad_fn=<DivBackward0>), tensor(0.3404, device='cuda:1', grad_fn=<DivBackward0>), tensor(0.2920, device='cuda:1', grad_fn=<DivBackward0>), tensor(0.3326, device='cuda:1', grad_fn=<DivBackward0>), tensor(0.3181, device='cuda:1', grad_fn=<DivBackward0>), tensor(0.3710, device='cuda:1', grad_fn=<DivBackward0>), tensor(0.2954, device='cuda:1', grad_fn=<DivBackward0>), tensor(0.3089, device='cuda:1', grad_fn=<DivBackward0>), tensor(0.2982, device='cuda:1', grad_fn=<DivBackward0>), tensor(0.2950, device='cuda:1', grad_fn=<DivBackward0>), tensor(0.3058, device='cuda:1', grad_fn=<DivBackward0>), tensor(0.3119, device='cuda:1', grad_fn=<DivBackward0>), tensor(0.2589, device='cuda:1', grad_fn=<DivBackward0>), tensor(0.2569, device='cuda:1', grad_fn=<DivBackward0>), tensor(0.2231, device='cuda:1', grad_fn=<DivBackward0>), tensor(0.3866, device='cuda:1', grad_fn=<DivBackward0>), tensor(0.2513, device='cuda:1', grad_fn=<DivBackward0>), tensor(0.3353, device='cuda:1', grad_fn=<DivBackward0>), tensor(0.3355, device='cuda:1', grad_fn=<DivBackward0>), tensor(0.3128, device='cuda:1', grad_fn=<DivBackward0>), tensor(0.4096, device='cuda:1', grad_fn=<DivBackward0>), tensor(0.2934, device='cuda:1', grad_fn=<DivBackward0>), tensor(0.3027, device='cuda:1', grad_fn=<DivBackward0>), tensor(0.2449, device='cuda:1', grad_fn=<DivBackward0>), tensor(0.2930, device='cuda:1', grad_fn=<DivBackward0>), tensor(0.2320, device='cuda:1', grad_fn=<DivBackward0>), tensor(0.2000, device='cuda:1', grad_fn=<DivBackward0>), tensor(0.3027, device='cuda:1', grad_fn=<DivBackward0>), tensor(0.2880, device='cuda:1', grad_fn=<DivBackward0>), tensor(0.2436, device='cuda:1', grad_fn=<DivBackward0>), tensor(0.3247, device='cuda:1', grad_fn=<DivBackward0>), tensor(0.2805, device='cuda:1', grad_fn=<DivBackward0>), tensor(0.2506, device='cuda:1', grad_fn=<DivBackward0>), tensor(0.2995, device='cuda:1', grad_fn=<DivBackward0>), tensor(0.2743, device='cuda:1', grad_fn=<DivBackward0>), tensor(0.3757, device='cuda:1', grad_fn=<DivBackward0>), tensor(0.2674, device='cuda:1', grad_fn=<DivBackward0>), tensor(0.2510, device='cuda:1', grad_fn=<DivBackward0>), tensor(0.2881, device='cuda:1', grad_fn=<DivBackward0>), tensor(0.2148, device='cuda:1', grad_fn=<DivBackward0>), tensor(0.3130, device='cuda:1', grad_fn=<DivBackward0>), tensor(0.2041, device='cuda:1', grad_fn=<DivBackward0>), tensor(0.1868, device='cuda:1', grad_fn=<DivBackward0>), tensor(0.2868, device='cuda:1', grad_fn=<DivBackward0>), tensor(0.3804, device='cuda:1', grad_fn=<DivBackward0>), tensor(0.1841, device='cuda:1', grad_fn=<DivBackward0>), tensor(0.2325, device='cuda:1', grad_fn=<DivBackward0>), tensor(0.2510, device='cuda:1', grad_fn=<DivBackward0>), tensor(0.2123, device='cuda:1', grad_fn=<DivBackward0>), tensor(0.2483, device='cuda:1', grad_fn=<DivBackward0>), tensor(0.2722, device='cuda:1', grad_fn=<DivBackward0>), tensor(0.2567, device='cuda:1', grad_fn=<DivBackward0>), tensor(0.2557, device='cuda:1', grad_fn=<DivBackward0>), tensor(0.2137, device='cuda:1', grad_fn=<DivBackward0>), tensor(0.1792, device='cuda:1', grad_fn=<DivBackward0>), tensor(0.3173, device='cuda:1', grad_fn=<DivBackward0>), tensor(0.2220, device='cuda:1', grad_fn=<DivBackward0>), tensor(0.1971, device='cuda:1', grad_fn=<DivBackward0>), tensor(0.2642, device='cuda:1', grad_fn=<DivBackward0>), tensor(0.2515, device='cuda:1', grad_fn=<DivBackward0>), tensor(0.2096, device='cuda:1', grad_fn=<DivBackward0>), tensor(0.2733, device='cuda:1', grad_fn=<DivBackward0>), tensor(0.2324, device='cuda:1', grad_fn=<DivBackward0>), tensor(0.1935, device='cuda:1', grad_fn=<DivBackward0>), tensor(0.1137, device='cuda:1', grad_fn=<DivBackward0>), tensor(0.2465, device='cuda:1', grad_fn=<DivBackward0>), tensor(0.2445, device='cuda:1', grad_fn=<DivBackward0>), tensor(0.2088, device='cuda:1', grad_fn=<DivBackward0>), tensor(0.2101, device='cuda:1', grad_fn=<DivBackward0>), tensor(0.1877, device='cuda:1', grad_fn=<DivBackward0>), tensor(0.2659, device='cuda:1', grad_fn=<DivBackward0>), tensor(0.1446, device='cuda:1', grad_fn=<DivBackward0>), tensor(0.3032, device='cuda:1', grad_fn=<DivBackward0>), tensor(0.1586, device='cuda:1', grad_fn=<DivBackward0>), tensor(0.1812, device='cuda:1', grad_fn=<DivBackward0>), tensor(0.1412, device='cuda:1', grad_fn=<DivBackward0>), tensor(0.1713, device='cuda:1', grad_fn=<DivBackward0>), tensor(0.2198, device='cuda:1', grad_fn=<DivBackward0>), tensor(0.1817, device='cuda:1', grad_fn=<DivBackward0>), tensor(0.1732, device='cuda:1', grad_fn=<DivBackward0>), tensor(0.2208, device='cuda:1', grad_fn=<DivBackward0>), tensor(0.1756, device='cuda:1', grad_fn=<DivBackward0>), tensor(0.2167, device='cuda:1', grad_fn=<DivBackward0>), tensor(0.1615, device='cuda:1', grad_fn=<DivBackward0>), tensor(0.1149, device='cuda:1', grad_fn=<DivBackward0>), tensor(0.2091, device='cuda:1', grad_fn=<DivBackward0>), tensor(0.1220, device='cuda:1', grad_fn=<DivBackward0>), tensor(0.1738, device='cuda:1', grad_fn=<DivBackward0>), tensor(0.1978, device='cuda:1', grad_fn=<DivBackward0>), tensor(0.1665, device='cuda:1', grad_fn=<DivBackward0>), tensor(0.3260, device='cuda:1', grad_fn=<DivBackward0>), tensor(0.1269, device='cuda:1', grad_fn=<DivBackward0>), tensor(0.1556, device='cuda:1', grad_fn=<DivBackward0>)]\n"
     ]
    },
    {
     "name": "stdout",
     "output_type": "stream",
     "text": [
      "[tensor(2.1420, device='cuda:1'), tensor(2.0116, device='cuda:1'), tensor(1.9238, device='cuda:1'), tensor(1.8392, device='cuda:1'), tensor(1.7457, device='cuda:1'), tensor(1.6855, device='cuda:1'), tensor(1.6418, device='cuda:1'), tensor(1.5993, device='cuda:1'), tensor(1.5755, device='cuda:1'), tensor(1.5641, device='cuda:1'), tensor(1.5046, device='cuda:1'), tensor(1.4807, device='cuda:1'), tensor(1.4609, device='cuda:1'), tensor(1.4697, device='cuda:1'), tensor(1.4100, device='cuda:1'), tensor(1.3811, device='cuda:1'), tensor(1.3608, device='cuda:1'), tensor(1.3397, device='cuda:1'), tensor(1.3136, device='cuda:1'), tensor(1.2972, device='cuda:1'), tensor(1.2801, device='cuda:1'), tensor(1.2611, device='cuda:1'), tensor(1.2468, device='cuda:1'), tensor(1.2320, device='cuda:1'), tensor(1.2171, device='cuda:1'), tensor(1.2127, device='cuda:1'), tensor(1.2024, device='cuda:1'), tensor(1.1848, device='cuda:1'), tensor(1.1885, device='cuda:1'), tensor(1.1790, device='cuda:1'), tensor(1.1529, device='cuda:1'), tensor(1.1592, device='cuda:1'), tensor(1.1504, device='cuda:1'), tensor(1.1335, device='cuda:1'), tensor(1.1145, device='cuda:1'), tensor(1.1251, device='cuda:1'), tensor(1.1206, device='cuda:1'), tensor(1.1053, device='cuda:1'), tensor(1.0985, device='cuda:1'), tensor(1.1030, device='cuda:1'), tensor(1.1007, device='cuda:1'), tensor(1.0934, device='cuda:1'), tensor(1.0976, device='cuda:1'), tensor(1.1041, device='cuda:1'), tensor(1.1110, device='cuda:1'), tensor(1.0748, device='cuda:1'), tensor(1.0522, device='cuda:1'), tensor(1.1170, device='cuda:1'), tensor(1.0690, device='cuda:1'), tensor(1.0770, device='cuda:1'), tensor(1.0332, device='cuda:1'), tensor(1.0706, device='cuda:1'), tensor(1.0557, device='cuda:1'), tensor(1.0623, device='cuda:1'), tensor(1.0376, device='cuda:1'), tensor(1.0702, device='cuda:1'), tensor(1.0753, device='cuda:1'), tensor(1.0569, device='cuda:1'), tensor(1.0584, device='cuda:1'), tensor(1.0517, device='cuda:1'), tensor(1.0650, device='cuda:1'), tensor(1.0823, device='cuda:1'), tensor(1.0501, device='cuda:1'), tensor(1.0490, device='cuda:1'), tensor(1.0446, device='cuda:1'), tensor(1.0277, device='cuda:1'), tensor(1.0521, device='cuda:1'), tensor(1.0409, device='cuda:1'), tensor(1.0334, device='cuda:1'), tensor(1.0327, device='cuda:1'), tensor(1.0270, device='cuda:1'), tensor(1.0495, device='cuda:1'), tensor(1.0191, device='cuda:1'), tensor(1.0185, device='cuda:1'), tensor(1.0071, device='cuda:1'), tensor(1.0267, device='cuda:1'), tensor(1.0250, device='cuda:1'), tensor(1.0157, device='cuda:1'), tensor(1.0166, device='cuda:1'), tensor(0.9959, device='cuda:1'), tensor(1.0220, device='cuda:1'), tensor(1.0002, device='cuda:1'), tensor(1.0288, device='cuda:1'), tensor(1.0180, device='cuda:1'), tensor(1.0155, device='cuda:1'), tensor(1.0360, device='cuda:1'), tensor(1.0469, device='cuda:1'), tensor(0.9917, device='cuda:1'), tensor(1.0258, device='cuda:1'), tensor(0.9937, device='cuda:1'), tensor(1.0162, device='cuda:1'), tensor(1.0077, device='cuda:1'), tensor(1.0046, device='cuda:1'), tensor(0.9871, device='cuda:1'), tensor(0.9605, device='cuda:1'), tensor(0.9870, device='cuda:1'), tensor(0.9809, device='cuda:1'), tensor(0.9776, device='cuda:1'), tensor(0.9486, device='cuda:1'), tensor(0.9890, device='cuda:1'), tensor(0.9471, device='cuda:1'), tensor(0.9444, device='cuda:1'), tensor(0.9763, device='cuda:1'), tensor(0.9593, device='cuda:1'), tensor(0.9897, device='cuda:1'), tensor(0.9471, device='cuda:1'), tensor(0.9739, device='cuda:1'), tensor(0.9505, device='cuda:1'), tensor(0.9515, device='cuda:1'), tensor(0.9524, device='cuda:1'), tensor(0.9502, device='cuda:1'), tensor(0.9043, device='cuda:1'), tensor(0.9854, device='cuda:1'), tensor(0.9184, device='cuda:1'), tensor(0.9121, device='cuda:1'), tensor(0.9411, device='cuda:1'), tensor(0.9524, device='cuda:1'), tensor(0.9427, device='cuda:1'), tensor(0.9735, device='cuda:1'), tensor(0.9690, device='cuda:1'), tensor(0.9427, device='cuda:1'), tensor(0.9125, device='cuda:1'), tensor(0.9624, device='cuda:1'), tensor(0.9527, device='cuda:1'), tensor(0.9179, device='cuda:1'), tensor(0.9645, device='cuda:1'), tensor(0.9618, device='cuda:1'), tensor(0.9162, device='cuda:1'), tensor(0.9147, device='cuda:1'), tensor(0.9638, device='cuda:1'), tensor(0.9622, device='cuda:1'), tensor(0.9335, device='cuda:1'), tensor(0.9632, device='cuda:1'), tensor(0.9439, device='cuda:1'), tensor(0.9474, device='cuda:1'), tensor(0.9469, device='cuda:1'), tensor(0.9504, device='cuda:1'), tensor(0.9655, device='cuda:1'), tensor(0.9279, device='cuda:1'), tensor(0.9540, device='cuda:1'), tensor(0.9374, device='cuda:1'), tensor(0.9285, device='cuda:1'), tensor(0.9764, device='cuda:1'), tensor(0.9755, device='cuda:1'), tensor(0.9873, device='cuda:1'), tensor(0.9579, device='cuda:1'), tensor(0.9576, device='cuda:1'), tensor(0.9228, device='cuda:1'), tensor(0.9317, device='cuda:1'), tensor(0.9110, device='cuda:1'), tensor(0.9541, device='cuda:1'), tensor(0.9482, device='cuda:1'), tensor(0.9564, device='cuda:1'), tensor(0.9849, device='cuda:1'), tensor(0.9227, device='cuda:1'), tensor(0.9947, device='cuda:1'), tensor(0.9569, device='cuda:1'), tensor(0.9363, device='cuda:1'), tensor(0.9011, device='cuda:1'), tensor(0.9639, device='cuda:1'), tensor(0.9100, device='cuda:1'), tensor(0.9107, device='cuda:1'), tensor(0.8817, device='cuda:1'), tensor(0.9342, device='cuda:1'), tensor(0.8983, device='cuda:1'), tensor(0.9043, device='cuda:1'), tensor(0.8939, device='cuda:1'), tensor(0.9186, device='cuda:1'), tensor(0.9123, device='cuda:1'), tensor(0.9091, device='cuda:1'), tensor(0.9250, device='cuda:1'), tensor(0.9176, device='cuda:1'), tensor(0.9281, device='cuda:1'), tensor(0.8663, device='cuda:1'), tensor(0.9249, device='cuda:1'), tensor(0.9879, device='cuda:1'), tensor(0.9483, device='cuda:1'), tensor(0.9027, device='cuda:1'), tensor(0.9405, device='cuda:1'), tensor(0.8823, device='cuda:1'), tensor(0.8917, device='cuda:1'), tensor(0.9411, device='cuda:1'), tensor(0.9220, device='cuda:1'), tensor(0.9046, device='cuda:1'), tensor(0.9384, device='cuda:1'), tensor(0.9499, device='cuda:1'), tensor(0.9916, device='cuda:1'), tensor(1.0102, device='cuda:1'), tensor(0.9484, device='cuda:1'), tensor(0.8847, device='cuda:1'), tensor(0.9156, device='cuda:1'), tensor(0.9282, device='cuda:1'), tensor(0.9261, device='cuda:1'), tensor(1.0291, device='cuda:1')]\n"
     ]
    }
   ],
   "source": [
    "# TRAINING THE MODEL:\n",
    "\n",
    "import time\n",
    "start_time = time.time()\n",
    "\n",
    "# Tensorboard real time visualisation:\n",
    "\n",
    "from torch.utils.tensorboard import SummaryWriter\n",
    "writer = SummaryWriter()\n",
    "\n",
    "epochs = 5000\n",
    "\n",
    "patience = 100\n",
    "min_loss_val = 5 # huge initial value for the minimum validation loss\n",
    "\n",
    "train_losses = []\n",
    "val_losses = []\n",
    "\n",
    "torch.manual_seed(123)\n",
    "\n",
    "for i in range(epochs):\n",
    "    \n",
    "    for b, (image, label) in enumerate(train_loader):\n",
    "        \n",
    "        b += 1\n",
    "        train_batch = len(label) # last batch may be of smaller, different size\n",
    "\n",
    "        encoder_hidden = Encoder_model.initHidden(batch = train_batch)\n",
    "\n",
    "        image_cnn = image.view(-1, color_channels, patch_height, patch_width).cuda(1)\n",
    "        encoder_input = CNN_model(image_cnn)\n",
    "        _, encoder_hidden = Encoder_model(encoder_input, encoder_hidden, batch = train_batch, seq_len = n_patches)\n",
    "\n",
    "        decoder_hidden = encoder_hidden\n",
    "        decoder_input = get_one_hot_target(label=label, batch = train_batch, seq_len = MAX_LENGTH + 2,\n",
    "                                          output_size = output_size).cuda(1)\n",
    "        decoder_output, decoder_hidden = Decoder_model(decoder_input, decoder_hidden,\n",
    "                                                       batch = train_batch, seq_len = MAX_LENGTH + 2)\n",
    "\n",
    "        output_indices = torch.tensor(list(range(0, MAX_LENGTH + 1))).cuda(1) # removing last token from the output\n",
    "        decoder_output = torch.index_select(decoder_output, dim = 1, index = output_indices)\n",
    "\n",
    "        ground_truth = torch.argmax(decoder_input, dim = 2)\n",
    "        target_indices = torch.tensor(list(range(1, MAX_LENGTH + 2))).cuda(1) # remove SOS_token from the input\n",
    "        ground_truth = torch.index_select(ground_truth, dim = 1, index = target_indices)\n",
    "\n",
    "        loss = 0\n",
    "        \n",
    "        for j in range(train_batch):\n",
    "            \n",
    "            loss += criterion(decoder_output[j], ground_truth[j])   \n",
    "            \n",
    "        loss = loss/train_batch\n",
    "        \n",
    "        \n",
    "        CNN_optimizer.zero_grad()\n",
    "        Encoder_optimizer.zero_grad()\n",
    "        Decoder_optimizer.zero_grad()\n",
    "        \n",
    "        loss.backward()\n",
    "        \n",
    "        CNN_optimizer.step()\n",
    "        Encoder_optimizer.step()\n",
    "        Decoder_optimizer.step()\n",
    "    \n",
    "    \n",
    "    with torch.no_grad():\n",
    "        \n",
    "        for v, (image_val, label_val) in enumerate(val_loader):\n",
    "        \n",
    "            v += 1\n",
    "            val_batch = len(label_val)\n",
    "            \n",
    "            encoder_hidden_val = Encoder_model.initHidden(batch = val_batch)\n",
    "\n",
    "            image_cnn_val = image_val.view(-1, color_channels, patch_height, patch_width).cuda(1)\n",
    "            encoder_input_val = CNN_model(image_cnn_val)\n",
    "            _, encoder_hidden_val = Encoder_model(encoder_input_val, encoder_hidden_val, batch = val_batch, seq_len = n_patches)\n",
    "\n",
    "            decoder_hidden_val = encoder_hidden_val\n",
    "            decoder_input_val = get_one_hot_target(label=label_val, batch = val_batch, seq_len = MAX_LENGTH + 2,\n",
    "                                                  output_size = output_size).cuda(1)\n",
    "            decoder_output_val, decoder_hidden_val = Decoder_model(decoder_input_val, decoder_hidden_val,\n",
    "                                                                  batch = val_batch, seq_len = MAX_LENGTH + 2)\n",
    "            \n",
    "            output_indices_val = torch.tensor(list(range(0, MAX_LENGTH + 1))).cuda(1) # remove EOS_token from the output\n",
    "            decoder_output_val = torch.index_select(decoder_output_val, dim = 1, index = output_indices_val)\n",
    "\n",
    "            ground_truth_val = torch.argmax(decoder_input_val, dim = 2)\n",
    "            target_indices_val = torch.tensor(list(range(1, MAX_LENGTH + 2))).cuda(1) # remove SOS_token from the input\n",
    "            ground_truth_val = torch.index_select(ground_truth_val, dim = 1, index = target_indices_val)\n",
    "            \n",
    "            loss_val = 0\n",
    "            \n",
    "            for j in range(val_batch):\n",
    "                \n",
    "                loss_val += criterion(decoder_output_val[j], ground_truth_val[j])\n",
    "            \n",
    "            loss_val = loss_val/val_batch\n",
    "        \n",
    "        \n",
    "    train_losses.append(loss)\n",
    "    val_losses.append(loss_val)\n",
    "    \n",
    "    # Sending losses to Tensorboard: \n",
    "    writer.add_scalar('Loss/train', loss, i)\n",
    "    writer.add_scalar('Loss/validation', loss_val, i)\n",
    "    \n",
    "    patience -= 1 # updating patience\n",
    "    \n",
    "    if patience == 0: # Early Stopping\n",
    "        \n",
    "        break\n",
    "    \n",
    "    else:\n",
    "        \n",
    "        if loss_val < min_loss_val: # condition to save the best model\n",
    "\n",
    "            min_loss_val = loss_val\n",
    "\n",
    "            patience = 100\n",
    "\n",
    "            # Saving best model:\n",
    "\n",
    "            torch.save(CNN_model.state_dict(), 'CNN_model_1000_words_TF.pt')\n",
    "            torch.save(Encoder_model.state_dict(), 'Encoder_model_1000_words_TF.pt')\n",
    "            torch.save(Decoder_model.state_dict(), 'Decoder_model_1000_words_TF.pt')\n",
    "\n",
    "    \n",
    "    # if (i > patience) & (Early_Stopping(patience, val_losses) == True): # Early Stopping\n",
    "        \n",
    "    #    break\n",
    "\n",
    "        \n",
    "    print(f'Epoch: {i}')\n",
    "    \n",
    "print(f'Duration: {(time.time() - start_time)/60} minutes')    \n",
    "print(train_losses)\n",
    "print(val_losses)"
   ]
  },
  {
   "cell_type": "code",
   "execution_count": 20,
   "metadata": {},
   "outputs": [
    {
     "data": {
      "image/png": "[encoded data removed]",
      "text/plain": [
       "<Figure size 432x288 with 1 Axes>"
      ]
     },
     "metadata": {
      "needs_background": "light"
     },
     "output_type": "display_data"
    }
   ],
   "source": [
    "# Plotting results\n",
    "\n",
    "plt.yscale(\"log\")\n",
    "plt.plot(train_losses, label='training loss')\n",
    "plt.plot(val_losses, label='validation loss')\n",
    "plt.title('Losses per epoch CNN-S2S 1000 words')\n",
    "plt.legend();\n",
    "#plt.savefig('8 words training losses lr=0,001, bs=2')"
   ]
  },
  {
   "cell_type": "code",
   "execution_count": 43,
   "metadata": {},
   "outputs": [
    {
     "data": {
      "text/plain": [
       "DecoderRNN(\n",
       "  (lstm): LSTM(28, 256, batch_first=True)\n",
       "  (out): Linear(in_features=256, out_features=28, bias=True)\n",
       "  (softmax): LogSoftmax(dim=2)\n",
       ")"
      ]
     },
     "execution_count": 43,
     "metadata": {},
     "output_type": "execute_result"
    }
   ],
   "source": [
    "CNN_model.load_state_dict(torch.load('CNN_model_1000_words_TF.pt'))\n",
    "CNN_model.eval()\n",
    "\n",
    "Encoder_model.load_state_dict(torch.load('Encoder_model_1000_words_TF.pt'))\n",
    "Encoder_model.eval()\n",
    "\n",
    "Decoder_model.load_state_dict(torch.load('Decoder_model_1000_words_TF.pt'))\n",
    "Decoder_model.eval()"
   ]
  },
  {
   "cell_type": "code",
   "execution_count": 67,
   "metadata": {},
   "outputs": [
    {
     "name": "stdout",
     "output_type": "stream",
     "text": [
      "tensor([[ 5,  5, 14, 14, 14, 27]], device='cuda:1')\n",
      "tensor([[19, 18,  1, 18, 18, 27]], device='cuda:1')\n",
      "tensor([[ 1,  1, 20, 20,  8, 27]], device='cuda:1')\n",
      "tensor([[ 5,  5, 20, 20, 20, 18, 27]], device='cuda:1')\n",
      "tensor([[12, 12, 12, 12, 12, 27]], device='cuda:1')\n",
      "tensor([[13, 15,  5, 13, 14, 27]], device='cuda:1')\n",
      "tensor([[19,  1, 19, 19, 19, 19, 27]], device='cuda:1')\n",
      "tensor([[19, 15, 21, 21, 21,  9,  9, 12, 27]], device='cuda:1')\n",
      "tensor([[13,  5,  5,  5, 14, 20, 27]], device='cuda:1')\n",
      "tensor([[19,  9, 12, 12,  5,  5, 27]], device='cuda:1')\n",
      "tensor([[20,  8,  1,  1, 11, 27]], device='cuda:1')\n",
      "tensor([[ 2, 18,  1,  1,  1,  8, 27]], device='cuda:1')\n",
      "tensor([[20,  1,  1,  3,  8, 27]], device='cuda:1')\n",
      "tensor([[19, 21,  9,  9, 21, 21, 27]], device='cuda:1')\n",
      "tensor([[16,  5, 16, 16, 16, 16,  5, 12, 12, 27]], device='cuda:1')\n",
      "tensor([[ 7,  9,  7, 27]], device='cuda:1')\n",
      "tensor([[ 6, 18,  1,  9,  9,  4, 27]], device='cuda:1')\n",
      "tensor([[ 8, 21,  7,  5, 27]], device='cuda:1')\n",
      "tensor([[19,  9, 19, 19, 19, 20, 27]], device='cuda:1')\n",
      "tensor([[19,  5,  5,  5, 20, 27]], device='cuda:1')\n",
      "tensor([[ 3, 15, 19, 19, 19, 19, 19, 27]], device='cuda:1')\n",
      "tensor([[ 6, 15, 15, 15, 18, 18, 18, 27]], device='cuda:1')\n",
      "tensor([[19,  9,  9,  9,  9,  9, 18, 27]], device='cuda:1')\n",
      "tensor([[ 7,  9,  9,  9,  5, 27]], device='cuda:1')\n",
      "tensor([[ 5,  5,  5,  5,  5,  5,  5,  5,  5, 27]], device='cuda:1')\n",
      "tensor([[19, 15, 15, 18,  5, 27]], device='cuda:1')\n",
      "tensor([[16, 16, 16, 16,  5, 27]], device='cuda:1')\n",
      "tensor([[19, 21, 21, 21,  8,  8, 27]], device='cuda:1')\n",
      "tensor([[12, 12,  4, 27]], device='cuda:1')\n",
      "tensor([[ 1,  9,  9,  8,  8, 27]], device='cuda:1')\n",
      "tensor([[ 3, 15,  3, 20, 27]], device='cuda:1')\n",
      "tensor([[19,  1, 19, 19, 27]], device='cuda:1')\n",
      "tensor([[ 3,  1,  1,  4, 27]], device='cuda:1')\n",
      "tensor([[ 2,  1, 14,  4, 27]], device='cuda:1')\n",
      "tensor([[18, 15, 15,  5, 27]], device='cuda:1')\n",
      "tensor([[19,  9,  9, 16, 27]], device='cuda:1')\n",
      "tensor([[23,  9, 14, 27]], device='cuda:1')\n",
      "tensor([[13,  1,  1,  5, 18, 27]], device='cuda:1')\n",
      "tensor([[12, 12, 14, 14, 14, 14, 14, 27]], device='cuda:1')\n",
      "tensor([[16, 16, 19,  9,  9,  9,  9, 15, 14, 27]], device='cuda:1')\n",
      "tensor([[ 6,  5,  5,  4, 27]], device='cuda:1')\n",
      "tensor([[20, 15, 15, 12, 27]], device='cuda:1')\n",
      "tensor([[20, 20,  1, 20, 20, 27]], device='cuda:1')\n",
      "tensor([[16,  1,  9,  9, 19, 27]], device='cuda:1')\n",
      "tensor([[19, 13,  5, 12, 12, 27]], device='cuda:1')\n",
      "tensor([[12, 12, 12, 12, 12, 25, 27]], device='cuda:1')\n",
      "tensor([[15, 15, 18, 27]], device='cuda:1')\n",
      "tensor([[16, 15, 15, 12, 12,  5, 27]], device='cuda:1')\n",
      "tensor([[19,  5,  1, 20, 27]], device='cuda:1')\n",
      "tensor([[18, 18, 18, 18,  5,  5, 27]], device='cuda:1')\n",
      "tensor([[13,  1,  1, 20, 20, 20, 27]], device='cuda:1')\n",
      "tensor([[ 3, 18,  1,  3, 11, 27]], device='cuda:1')\n",
      "tensor([[16,  1,  5,  5, 20, 20, 27]], device='cuda:1')\n",
      "tensor([[19, 15, 15, 15,  5, 27]], device='cuda:1')\n",
      "tensor([[19,  9,  9,  9,  9,  9,  9,  4, 27]], device='cuda:1')\n",
      "tensor([[19,  5,  5, 20, 20, 27]], device='cuda:1')\n",
      "tensor([[ 3, 21, 21, 21, 21, 20, 20, 20,  5, 27]], device='cuda:1')\n",
      "tensor([[ 6, 15, 15, 18, 18, 27]], device='cuda:1')\n",
      "tensor([[ 3, 15,  3,  3,  3,  3, 20, 27]], device='cuda:1')\n",
      "tensor([[16, 15, 19, 20, 27]], device='cuda:1')\n",
      "tensor([[19,  5,  5, 14,  4, 27]], device='cuda:1')\n",
      "tensor([[18, 18, 15, 15,  4, 27]], device='cuda:1')\n",
      "tensor([[ 6,  1, 20, 27]], device='cuda:1')\n",
      "tensor([[12, 12,  1,  4, 27]], device='cuda:1')\n",
      "tensor([[18,  9,  9,  9,  9,  9, 14, 12, 27]], device='cuda:1')\n",
      "tensor([[19,  1,  1, 18,  5, 27]], device='cuda:1')\n",
      "tensor([[19, 20, 20, 20, 20, 20, 20, 27]], device='cuda:1')\n",
      "tensor([[ 4,  4,  4, 27]], device='cuda:1')\n",
      "tensor([[ 2, 18,  1,  4,  4, 27]], device='cuda:1')\n",
      "tensor([[ 3,  1,  1,  7,  7,  5, 27]], device='cuda:1')\n",
      "tensor([[16, 16, 16, 16, 18, 18, 27]], device='cuda:1')\n",
      "tensor([[ 2,  1, 18, 27]], device='cuda:1')\n",
      "tensor([[ 6,  6,  6,  5, 18, 27]], device='cuda:1')\n",
      "tensor([[19,  5,  5,  5,  5,  5, 14, 27]], device='cuda:1')\n",
      "tensor([[19, 12,  1, 22,  5, 27]], device='cuda:1')\n",
      "tensor([[ 4, 21, 11, 11, 27]], device='cuda:1')\n",
      "tensor([[14,  1, 20, 20, 14, 14, 20, 27]], device='cuda:1')\n",
      "tensor([[13,  1, 18, 20,  5, 20, 27]], device='cuda:1')\n",
      "tensor([[ 4,  5,  5,  5,  5,  5, 27]], device='cuda:1')\n",
      "tensor([[16, 15, 16, 16, 21, 21, 21,  5, 27]], device='cuda:1')\n",
      "tensor([[ 3,  3,  3,  3, 11, 27]], device='cuda:1')\n",
      "tensor([[ 4,  5,  1, 18, 27]], device='cuda:1')\n",
      "tensor([[13,  5, 14, 14, 14, 27]], device='cuda:1')\n",
      "tensor([[16,  5, 16, 16, 25, 27]], device='cuda:1')\n",
      "tensor([[18,  9,  9, 11, 11, 27]], device='cuda:1')\n",
      "tensor([[ 3, 15,  3,  3, 18, 27]], device='cuda:1')\n",
      "tensor([[16, 15, 15, 15, 16, 16, 20, 27]], device='cuda:1')\n",
      "tensor([[19,  5,  5,  5,  5,  3, 27]], device='cuda:1')\n",
      "tensor([[20, 21, 18, 18, 18,  5, 27]], device='cuda:1')\n",
      "tensor([[ 7,  1,  1, 14,  5, 27]], device='cuda:1')\n",
      "tensor([[19, 20,  1,  1, 13, 27]], device='cuda:1')\n",
      "tensor([[13, 15, 15, 15, 14, 14, 27]], device='cuda:1')\n",
      "tensor([[16,  1, 20, 20, 27]], device='cuda:1')\n",
      "tensor([[ 4,  9,  9,  9,  9,  4, 27]], device='cuda:1')\n",
      "tensor([[ 2, 15,  7, 27]], device='cuda:1')\n",
      "tensor([[13,  1,  1, 14, 20, 27]], device='cuda:1')\n",
      "tensor([[21, 15, 21, 20, 20, 20, 20, 20, 27]], device='cuda:1')\n",
      "tensor([[20,  5, 20, 20, 20, 27]], device='cuda:1')\n",
      "tensor([[19,  5,  5, 12, 12, 27]], device='cuda:1')\n",
      "tensor([[ 3,  3, 11, 11, 27]], device='cuda:1')\n"
     ]
    }
   ],
   "source": [
    "with torch.no_grad():\n",
    "        \n",
    "    for t, (image_test, label_test) in enumerate(test_loader):\n",
    "\n",
    "        t += 1\n",
    "        test_batch = len(label_test)\n",
    "        \n",
    "        encoder_hidden_test = Encoder_model.initHidden(batch = test_batch)\n",
    "        \n",
    "        image_cnn_test = image_test.view(-1, color_channels, patch_height, patch_width).cuda(1)\n",
    "        encoder_input_test = CNN_model(image_cnn_test)\n",
    "        _, encoder_hidden_test = Encoder_model(encoder_input_test, encoder_hidden_test, batch=test_batch,\n",
    "                                                                 seq_len=n_patches)\n",
    "        \n",
    "        for j in range(test_batch):\n",
    "           \n",
    "            decoder_input_test = letter_to_vector('SOS_token').cuda(1) # We initialize the first Decoder input as the SOS token\n",
    "            \n",
    "            decoder_hidden_test = (encoder_hidden_test[0][0, j, :].view(1, 1, hidden_size), # We take the last hidden state of the Encoder \n",
    "                                   encoder_hidden_test[1][0, j, :].view(1, 1, hidden_size)) # for each image/word (j) within the patch \n",
    "            # This would be the first hidden state of the Decoder for image/word (j)\n",
    "\n",
    "            for d in range(MAX_LENGTH):\n",
    "                \n",
    "                decoder_output_test, decoder_hidden_test = Decoder_model(decoder_input_test, decoder_hidden_test,\n",
    "                                                                        batch=1, seq_len=1)\n",
    "\n",
    "                if d == 0:\n",
    "                    \n",
    "                    output_word = decoder_output_test\n",
    "                    \n",
    "                else:\n",
    "                    \n",
    "                    output_word = torch.cat((output_word, decoder_output_test), dim = 1).cuda(1)\n",
    "                \n",
    "                \n",
    "                if  torch.equal(torch.argmax(decoder_output_test, dim = 2), \n",
    "                                 torch.argmax(letter_to_vector('END').cuda(1), dim = 2)):\n",
    "                    break\n",
    "                \n",
    "            output_word = torch.argmax(output_word, dim = 2)\n",
    "            print(output_word)   \n",
    "           # if j == 0:\n",
    "                \n",
    "            #    total_output_word = output_word\n",
    "                \n",
    "            #else:\n",
    "                \n",
    "             #   total_output_word = torch.cat((total_output_word, output_word), dim = 1)\n",
    "           \n",
    "    #print(total_output_word)\n",
    "\n",
    "\n",
    "#for j in range(batch_size):\n",
    "    \n",
    " #   model_word = []\n",
    "    \n",
    "  #  for i in range(total_output_word[j].numel()):\n",
    "        \n",
    "   #     if letters[total_output_word[j][i]] == 'SOS_token':\n",
    "      #      break\n",
    "            \n",
    "    #    model_word.append(letters[total_output_word[j][i]])\n",
    "        \n",
    "        \n",
    "    #model_word = ''.join(model_word)    \n",
    "    #print(model_word)\n",
    "\n",
    "    "
   ]
  },
  {
   "cell_type": "code",
   "execution_count": 12,
   "metadata": {},
   "outputs": [
    {
     "name": "stdout",
     "output_type": "stream",
     "text": [
      "tensor([[[-1.7393, -1.1640, -0.6692],\n",
      "         [-0.6714, -3.1625, -0.8059]]])\n",
      "tensor([[[-1.3905, -0.8152, -0.3204],\n",
      "         [ 0.7377, -1.7534,  0.6033]]])\n"
     ]
    }
   ],
   "source": [
    "torch.manual_seed(101)\n",
    "c = nn.LogSoftmax(dim=2)\n",
    "a = torch.randn(1,2,3)\n",
    "print(c(a))\n",
    "print(a)"
   ]
  },
  {
   "cell_type": "code",
   "execution_count": 11,
   "metadata": {},
   "outputs": [
    {
     "data": {
      "text/plain": [
       "-1.7392961570497802"
      ]
     },
     "execution_count": 11,
     "metadata": {},
     "output_type": "execute_result"
    }
   ],
   "source": [
    "np.log((np.exp(-1.3905))/(np.exp(-1.3905) + np.exp(-0.8152) + np.exp(-0.3204)))"
   ]
  },
  {
   "cell_type": "code",
   "execution_count": 141,
   "metadata": {},
   "outputs": [
    {
     "data": {
      "text/plain": [
       "-2.240681356437162"
      ]
     },
     "execution_count": 141,
     "metadata": {},
     "output_type": "execute_result"
    }
   ],
   "source": [
    "np.log((np.exp(-1.3905))/(np.exp(-1.3905) + np.exp(0.7377)))"
   ]
  },
  {
   "cell_type": "code",
   "execution_count": 23,
   "metadata": {},
   "outputs": [
    {
     "name": "stdout",
     "output_type": "stream",
     "text": [
      "tensor([1., 1., 1., 1., 1., 1., 1., 1., 1., 1., 1., 1., 1., 1., 1., 1., 1., 1.,\n",
      "        1., 1., 1., 1., 1., 1., 1., 1., 1., 1.], device='cuda:1')\n",
      "tensor(0, device='cuda:1')\n"
     ]
    }
   ],
   "source": [
    "a = torch.ones(28).cuda(1)\n",
    "c = torch.argmax(a, dim = 0)\n",
    "print(a)\n",
    "print(c)"
   ]
  },
  {
   "cell_type": "code",
   "execution_count": 23,
   "metadata": {},
   "outputs": [
    {
     "ename": "SyntaxError",
     "evalue": "can't assign to operator (<ipython-input-23-214c4d391130>, line 4)",
     "output_type": "error",
     "traceback": [
      "\u001b[0;36m  File \u001b[0;32m\"<ipython-input-23-214c4d391130>\"\u001b[0;36m, line \u001b[0;32m4\u001b[0m\n\u001b[0;31m    tensorboard --logdir=runs\u001b[0m\n\u001b[0m                             ^\u001b[0m\n\u001b[0;31mSyntaxError\u001b[0m\u001b[0;31m:\u001b[0m can't assign to operator\n"
     ]
    }
   ],
   "source": [
    "import torch\n",
    "from torch.utils.tensorboard import SummaryWriter\n",
    "writer = SummaryWriter()"
   ]
  },
  {
   "cell_type": "code",
   "execution_count": 21,
   "metadata": {},
   "outputs": [],
   "source": [
    "from torch.utils.tensorboard import SummaryWriter\n",
    "import numpy as np\n",
    "\n",
    "writer = SummaryWriter()\n",
    "\n",
    "for n_iter in range(100):\n",
    "    writer.add_scalar('Loss/train', np.random.random(), n_iter)\n",
    "    writer.add_scalar('Loss/test', np.random.random(), n_iter)\n",
    "    writer.add_scalar('Accuracy/train', np.random.random(), n_iter)\n",
    "    writer.add_scalar('Accuracy/test', np.random.random(), n_iter)"
   ]
  },
  {
   "cell_type": "code",
   "execution_count": 10,
   "metadata": {},
   "outputs": [],
   "source": [
    "from torch.utils.tensorboard import SummaryWriter\n",
    "writer = SummaryWriter()\n",
    "x = range(100)\n",
    "for i in x:\n",
    "    writer.add_scalar('y=2x', i * 2, i)\n",
    "writer.close()"
   ]
  },
  {
   "cell_type": "code",
   "execution_count": 20,
   "metadata": {},
   "outputs": [
    {
     "name": "stdout",
     "output_type": "stream",
     "text": [
      "True\n"
     ]
    }
   ],
   "source": [
    "a = torch.tensor([1,2,3])\n",
    "b = torch.tensor([0.5])\n",
    "c = b<a\n",
    "x = all(c)\n",
    "print(x)"
   ]
  },
  {
   "cell_type": "code",
   "execution_count": 35,
   "metadata": {},
   "outputs": [
    {
     "name": "stdout",
     "output_type": "stream",
     "text": [
      "False\n",
      "tensor([0.3553, 0.2992, 0.3441, 0.3689], device='cuda:1')\n",
      "tensor(0.5201, device='cuda:1', grad_fn=<DivBackward0>)\n"
     ]
    }
   ],
   "source": [
    "a = torch.tensor(train_losses[-5:-1]).cuda(1)\n",
    "b = train_losses[-1]\n",
    "c = b<a\n",
    "x = all(c)\n",
    "print(x)\n",
    "print(a)\n",
    "print(b)"
   ]
  },
  {
   "cell_type": "code",
   "execution_count": 42,
   "metadata": {},
   "outputs": [
    {
     "data": {
      "text/plain": [
       "True"
      ]
     },
     "execution_count": 42,
     "metadata": {},
     "output_type": "execute_result"
    }
   ],
   "source": [
    "Early_Stopping(5, train_losses, loss)"
   ]
  },
  {
   "cell_type": "code",
   "execution_count": null,
   "metadata": {},
   "outputs": [],
   "source": [
    "# activar pytorch_estoril (environment) en la terminal y ejecutar tensorboard --host 0.0.0.0 --logdir ./runs\n",
    "# Tensorboard se ejecutará en un cierto puerto y nos dará el enlace. Habrá que sustituir la IP 0.0.0.0 por la del equipo\n",
    "# en remoto en la que esté corriendo en el caso de Estoril 212.128.3.86:"
   ]
  },
  {
   "cell_type": "code",
   "execution_count": 133,
   "metadata": {},
   "outputs": [
    {
     "name": "stdout",
     "output_type": "stream",
     "text": [
      "torch.Size([1, 1, 28])\n",
      "tensor([[0]])\n",
      "tensor([[[0., 0., 0., 0., 0., 0., 0., 0., 0., 0., 0., 0., 0., 0., 0., 0., 0., 0., 0., 0., 0., 0., 0.,\n",
      "          0., 0., 0., 0., 0.]]])\n"
     ]
    }
   ],
   "source": [
    "a = torch.zeros(1,1,28)\n",
    "print(a.shape)\n",
    "a_2 = torch.argmax(a, 2)\n",
    "print(a_2)\n",
    "print(a)"
   ]
  },
  {
   "cell_type": "code",
   "execution_count": 156,
   "metadata": {},
   "outputs": [
    {
     "name": "stdout",
     "output_type": "stream",
     "text": [
      "torch.Size([1, 1])\n",
      "tensor([[28]])\n"
     ]
    }
   ],
   "source": [
    "a = torch.tensor([[28]])\n",
    "print(a.shape)\n",
    "print(a)"
   ]
  },
  {
   "cell_type": "code",
   "execution_count": 161,
   "metadata": {},
   "outputs": [
    {
     "name": "stdout",
     "output_type": "stream",
     "text": [
      "tensor([[0., 0., 0., 0., 0., 0., 0., 0., 0., 0., 0., 0., 0., 0., 0., 0., 0., 0.,\n",
      "         0., 0., 0., 0., 0., 0., 0., 0., 0., 1.]])\n"
     ]
    }
   ],
   "source": [
    "print(letter_to_vector('EOS_token').view(1,28))"
   ]
  },
  {
   "cell_type": "code",
   "execution_count": 90,
   "metadata": {},
   "outputs": [
    {
     "name": "stdout",
     "output_type": "stream",
     "text": [
      "tensor([[0.2961, 0.5166, 0.2517, 0.6886],\n",
      "        [0.0740, 0.8665, 0.1366, 0.1025],\n",
      "        [0.1841, 0.7264, 0.3153, 0.6871],\n",
      "        [0.0756, 0.1966, 0.3164, 0.4017],\n",
      "        [0.1186, 0.8274, 0.3821, 0.6605],\n",
      "        [0.8536, 0.5932, 0.6367, 0.9826]])\n",
      "tensor([[[0.2961, 0.5166, 0.2517, 0.6886],\n",
      "         [0.0740, 0.8665, 0.1366, 0.1025],\n",
      "         [0.1841, 0.7264, 0.3153, 0.6871]],\n",
      "\n",
      "        [[0.0756, 0.1966, 0.3164, 0.4017],\n",
      "         [0.1186, 0.8274, 0.3821, 0.6605],\n",
      "         [0.8536, 0.5932, 0.6367, 0.9826]]])\n"
     ]
    }
   ],
   "source": [
    "torch.manual_seed(123)\n",
    "t = torch.rand(6, 4)\n",
    "print(t)\n",
    "t = t.view(2,3,4)\n",
    "print(t)"
   ]
  },
  {
   "cell_type": "code",
   "execution_count": 33,
   "metadata": {},
   "outputs": [
    {
     "data": {
      "text/plain": [
       "False"
      ]
     },
     "execution_count": 33,
     "metadata": {},
     "output_type": "execute_result"
    }
   ],
   "source": [
    "torch.equal(torch.argmax(letter_to_vector('END'), dim = 2), torch.argmax(letter_to_vector('START'), dim = 2))"
   ]
  },
  {
   "cell_type": "code",
   "execution_count": 66,
   "metadata": {},
   "outputs": [
    {
     "name": "stdout",
     "output_type": "stream",
     "text": [
      "2\n",
      "1\n"
     ]
    }
   ],
   "source": []
  },
  {
   "cell_type": "code",
   "execution_count": null,
   "metadata": {},
   "outputs": [],
   "source": []
  }
 ],
 "metadata": {
  "kernelspec": {
   "display_name": "pytorch_estoril",
   "language": "python",
   "name": "pytorch_estoril"
  },
  "language_info": {
   "codemirror_mode": {
    "name": "ipython",
    "version": 3
   },
   "file_extension": ".py",
   "mimetype": "text/x-python",
   "name": "python",
   "nbconvert_exporter": "python",
   "pygments_lexer": "ipython3",
   "version": "3.6.10"
  }
 },
 "nbformat": 4,
 "nbformat_minor": 2
}
