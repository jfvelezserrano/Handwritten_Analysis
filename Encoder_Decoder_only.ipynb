{
 "cells": [
  {
   "cell_type": "code",
   "execution_count": 1,
   "id": "0892a649",
   "metadata": {},
   "outputs": [
    {
     "name": "stdout",
     "output_type": "stream",
     "text": [
      "1.1.0\n",
      "3.7.3\n"
     ]
    }
   ],
   "source": [
    "# Importing the recquired libraries:\n",
    "\n",
    "import torch\n",
    "import torch.nn as nn\n",
    "import torch.nn.functional as F\n",
    "from torch import optim\n",
    "from torch.utils.data import DataLoader\n",
    "from torchvision import datasets, transforms, models\n",
    "from torchvision.utils import make_grid\n",
    "import os\n",
    "import cv2\n",
    "\n",
    "import numpy as np\n",
    "import pandas as pd\n",
    "from IPython.display import display\n",
    "import matplotlib.pyplot as plt\n",
    "%matplotlib inline \n",
    "\n",
    "# Ignore harmless warnings:\n",
    "\n",
    "import warnings\n",
    "warnings.filterwarnings(\"ignore\")\n",
    "# device = torch.device(\"cuda\" if torch.cuda.is_available() else \"cpu\")\n",
    "\n",
    "import platform\n",
    "print(torch.__version__)\n",
    "print(platform.python_version())"
   ]
  },
  {
   "cell_type": "code",
   "execution_count": 2,
   "id": "51a04168",
   "metadata": {},
   "outputs": [
    {
     "name": "stdout",
     "output_type": "stream",
     "text": [
      "10000\n",
      "['best', 'place', 'grow', 'answer', 'select', 'consonant', 'most', 'wave', 'red', 'hair', 'leave', 'love', 'street', 'finger', 'better']\n"
     ]
    }
   ],
   "source": [
    "top_1000_words = pd.read_csv('D:/Machine Learning/Pytorch/PYTORCH_NOTEBOOKS/PYTORCH_NOTEBOOKS/\\\n",
    "03-CNN-Convolutional-Neural-Networks/top_1000.txt', delimiter = '\\t', header = None)\n",
    "\n",
    "words = []\n",
    "\n",
    "for i in range(len(top_1000_words)):\n",
    "    for j in range(0, 10):\n",
    "        words.append(top_1000_words[0][i])\n",
    "        \n",
    "import random\n",
    "random.seed(101)\n",
    "random.shuffle(words)\n",
    "n = len(words)\n",
    "\n",
    "print(n)\n",
    "print(words[0:15])"
   ]
  },
  {
   "cell_type": "code",
   "execution_count": 3,
   "id": "439b89ae",
   "metadata": {},
   "outputs": [],
   "source": [
    "# Splitting into training and test sets:\n",
    "\n",
    "#train_set = words[0:800] # bajamos un orden de magnitud el training set\n",
    "#test_set = words[800:1000] # bajamos un orden de magnitud el test \n",
    "#len_train = len(train_set)\n",
    "#len_test = len(test_set)"
   ]
  },
  {
   "cell_type": "code",
   "execution_count": 10,
   "id": "006e4ddc",
   "metadata": {},
   "outputs": [],
   "source": [
    "train_set = ['urjc', 'gavab'] * 400\n",
    "#train_set = words[0:32]*128\n",
    "#print(train_set[0:32])\n",
    "#import random\n",
    "#random.seed(101)\n",
    "#random.shuffle(train_set)\n",
    "len_train = len(train_set)\n",
    "\n",
    "#print(train_set[0:15])"
   ]
  },
  {
   "cell_type": "code",
   "execution_count": 5,
   "id": "08948f70",
   "metadata": {},
   "outputs": [
    {
     "name": "stdout",
     "output_type": "stream",
     "text": [
      "tensor([[[1., 0., 0., 0., 0., 0., 0., 0., 0., 0., 0., 0., 0., 0., 0., 0., 0.,\n",
      "          0., 0., 0., 0., 0., 0., 0., 0., 0., 0., 0.]]])\n"
     ]
    }
   ],
   "source": [
    "# Function to convert letters (and therefore words) into PyTorch tensors:\n",
    "\n",
    "letters = ['SOS_token', 'a', 'b', 'c', 'd', 'e', 'f', 'g', 'h', 'i', 'j', 'k',\n",
    "          'l', 'm', 'n', 'o', 'p', 'q', 'r', 's', 't', 'u', 'v', 'w', 'x', 'y', 'z', 'EOS_token']\n",
    "\n",
    "def letter_to_vector(letter):\n",
    "    vector = torch.zeros(1, 1, len(letters))\n",
    "    for i in range(len(letters)):\n",
    "        if letters[i] == letter:\n",
    "            vector[0, 0, i] = 1.\n",
    "    return(vector)\n",
    "\n",
    "print(letter_to_vector('SOS_token'))"
   ]
  },
  {
   "cell_type": "code",
   "execution_count": 6,
   "id": "03d81029",
   "metadata": {},
   "outputs": [],
   "source": [
    "# ENCODER:\n",
    "\n",
    "class EncoderRNN(nn.Module):\n",
    "    def __init__(self, input_size, hidden_size):\n",
    "        super(EncoderRNN, self).__init__()\n",
    "        self.hidden_size = hidden_size\n",
    "\n",
    "        #self.embedding = nn.Embedding(input_size, hidden_size)\n",
    "        self.gru = nn.GRU(input_size, hidden_size)\n",
    "\n",
    "    def forward(self, input, hidden):\n",
    "        #embedded = self.embedding(input).view(1, 1, -1)\n",
    "        output = input.view(1,1,-1)\n",
    "        output, hidden = self.gru(output, hidden)\n",
    "        return output, hidden\n",
    "\n",
    "    def initHidden(self):\n",
    "        return torch.zeros(1, 1, self.hidden_size)"
   ]
  },
  {
   "cell_type": "code",
   "execution_count": 7,
   "id": "6f3a036f",
   "metadata": {},
   "outputs": [],
   "source": [
    "# DECODER:\n",
    "\n",
    "class DecoderRNN(nn.Module):\n",
    "    def __init__(self, hidden_size, output_size):\n",
    "        super(DecoderRNN, self).__init__()\n",
    "        self.hidden_size = hidden_size\n",
    "\n",
    "        #self.embedding = nn.Embedding(output_size, hidden_size)\n",
    "        self.gru = nn.GRU(output_size, hidden_size)\n",
    "        self.out = nn.Linear(hidden_size, output_size)\n",
    "        self.softmax = nn.LogSoftmax(dim=1)\n",
    "\n",
    "    def forward(self, input, hidden):\n",
    "        output = input.view(1, 1, -1)\n",
    "        output = F.relu(output)\n",
    "        output, hidden = self.gru(output, hidden)\n",
    "        output = self.softmax(self.out(output[0]))\n",
    "        return output, hidden\n",
    "\n",
    "    def initHidden(self):\n",
    "        return torch.zeros(1, 1, self.hidden_size)"
   ]
  },
  {
   "cell_type": "code",
   "execution_count": 8,
   "id": "8b0ef9e3",
   "metadata": {},
   "outputs": [],
   "source": [
    "# Instantiate the model, define loss and optimization functions:\n",
    "\n",
    "torch.manual_seed(101)\n",
    "\n",
    "input_size = 28\n",
    "hidden_size = 256\n",
    "output_size = 28\n",
    "\n",
    "Encoder_model = EncoderRNN(input_size = input_size, hidden_size = hidden_size)\n",
    "Encoder_optimizer = optim.SGD(Encoder_model.parameters(), lr=0.01)\n",
    "\n",
    "Decoder_model = DecoderRNN(hidden_size = hidden_size, output_size = output_size)\n",
    "Decoder_optimizer = optim.SGD(Decoder_model.parameters(), lr=0.01)\n",
    "\n",
    "#criterion = nn.CrossEntropyLoss()\n",
    "criterion = nn.NLLLoss()"
   ]
  },
  {
   "cell_type": "code",
   "execution_count": 24,
   "id": "aa3f28b0",
   "metadata": {},
   "outputs": [
    {
     "ename": "KeyboardInterrupt",
     "evalue": "",
     "output_type": "error",
     "traceback": [
      "\u001b[1;31m---------------------------------------------------------------------------\u001b[0m",
      "\u001b[1;31mKeyboardInterrupt\u001b[0m                         Traceback (most recent call last)",
      "\u001b[1;32m<ipython-input-24-a9ea01f3719b>\u001b[0m in \u001b[0;36m<module>\u001b[1;34m\u001b[0m\n\u001b[0;32m     26\u001b[0m \u001b[1;33m\u001b[0m\u001b[0m\n\u001b[0;32m     27\u001b[0m             \u001b[0mencoder_input\u001b[0m \u001b[1;33m=\u001b[0m \u001b[0mletter_to_vector\u001b[0m\u001b[1;33m(\u001b[0m\u001b[0minput_word\u001b[0m\u001b[1;33m[\u001b[0m\u001b[0ml\u001b[0m\u001b[1;33m]\u001b[0m\u001b[1;33m)\u001b[0m\u001b[1;33m\u001b[0m\u001b[1;33m\u001b[0m\u001b[0m\n\u001b[1;32m---> 28\u001b[1;33m             \u001b[0mencoder_output\u001b[0m\u001b[1;33m,\u001b[0m \u001b[0mencoder_hidden\u001b[0m \u001b[1;33m=\u001b[0m \u001b[0mEncoder_model\u001b[0m\u001b[1;33m(\u001b[0m\u001b[0mencoder_input\u001b[0m\u001b[1;33m,\u001b[0m \u001b[0mencoder_hidden\u001b[0m\u001b[1;33m)\u001b[0m\u001b[1;33m\u001b[0m\u001b[1;33m\u001b[0m\u001b[0m\n\u001b[0m\u001b[0;32m     29\u001b[0m \u001b[1;33m\u001b[0m\u001b[0m\n\u001b[0;32m     30\u001b[0m         \u001b[0mdecoder_input\u001b[0m \u001b[1;33m=\u001b[0m \u001b[0mletter_to_vector\u001b[0m\u001b[1;33m(\u001b[0m\u001b[1;34m'SOS_token'\u001b[0m\u001b[1;33m)\u001b[0m\u001b[1;33m\u001b[0m\u001b[1;33m\u001b[0m\u001b[0m\n",
      "\u001b[1;32m~\\Anaconda3\\envs\\pytorchenv\\lib\\site-packages\\torch\\nn\\modules\\module.py\u001b[0m in \u001b[0;36m__call__\u001b[1;34m(self, *input, **kwargs)\u001b[0m\n\u001b[0;32m    491\u001b[0m             \u001b[0mresult\u001b[0m \u001b[1;33m=\u001b[0m \u001b[0mself\u001b[0m\u001b[1;33m.\u001b[0m\u001b[0m_slow_forward\u001b[0m\u001b[1;33m(\u001b[0m\u001b[1;33m*\u001b[0m\u001b[0minput\u001b[0m\u001b[1;33m,\u001b[0m \u001b[1;33m**\u001b[0m\u001b[0mkwargs\u001b[0m\u001b[1;33m)\u001b[0m\u001b[1;33m\u001b[0m\u001b[1;33m\u001b[0m\u001b[0m\n\u001b[0;32m    492\u001b[0m         \u001b[1;32melse\u001b[0m\u001b[1;33m:\u001b[0m\u001b[1;33m\u001b[0m\u001b[1;33m\u001b[0m\u001b[0m\n\u001b[1;32m--> 493\u001b[1;33m             \u001b[0mresult\u001b[0m \u001b[1;33m=\u001b[0m \u001b[0mself\u001b[0m\u001b[1;33m.\u001b[0m\u001b[0mforward\u001b[0m\u001b[1;33m(\u001b[0m\u001b[1;33m*\u001b[0m\u001b[0minput\u001b[0m\u001b[1;33m,\u001b[0m \u001b[1;33m**\u001b[0m\u001b[0mkwargs\u001b[0m\u001b[1;33m)\u001b[0m\u001b[1;33m\u001b[0m\u001b[1;33m\u001b[0m\u001b[0m\n\u001b[0m\u001b[0;32m    494\u001b[0m         \u001b[1;32mfor\u001b[0m \u001b[0mhook\u001b[0m \u001b[1;32min\u001b[0m \u001b[0mself\u001b[0m\u001b[1;33m.\u001b[0m\u001b[0m_forward_hooks\u001b[0m\u001b[1;33m.\u001b[0m\u001b[0mvalues\u001b[0m\u001b[1;33m(\u001b[0m\u001b[1;33m)\u001b[0m\u001b[1;33m:\u001b[0m\u001b[1;33m\u001b[0m\u001b[1;33m\u001b[0m\u001b[0m\n\u001b[0;32m    495\u001b[0m             \u001b[0mhook_result\u001b[0m \u001b[1;33m=\u001b[0m \u001b[0mhook\u001b[0m\u001b[1;33m(\u001b[0m\u001b[0mself\u001b[0m\u001b[1;33m,\u001b[0m \u001b[0minput\u001b[0m\u001b[1;33m,\u001b[0m \u001b[0mresult\u001b[0m\u001b[1;33m)\u001b[0m\u001b[1;33m\u001b[0m\u001b[1;33m\u001b[0m\u001b[0m\n",
      "\u001b[1;32m<ipython-input-6-701060e931a6>\u001b[0m in \u001b[0;36mforward\u001b[1;34m(self, input, hidden)\u001b[0m\n\u001b[0;32m     12\u001b[0m         \u001b[1;31m#embedded = self.embedding(input).view(1, 1, -1)\u001b[0m\u001b[1;33m\u001b[0m\u001b[1;33m\u001b[0m\u001b[1;33m\u001b[0m\u001b[0m\n\u001b[0;32m     13\u001b[0m         \u001b[0moutput\u001b[0m \u001b[1;33m=\u001b[0m \u001b[0minput\u001b[0m\u001b[1;33m.\u001b[0m\u001b[0mview\u001b[0m\u001b[1;33m(\u001b[0m\u001b[1;36m1\u001b[0m\u001b[1;33m,\u001b[0m\u001b[1;36m1\u001b[0m\u001b[1;33m,\u001b[0m\u001b[1;33m-\u001b[0m\u001b[1;36m1\u001b[0m\u001b[1;33m)\u001b[0m\u001b[1;33m\u001b[0m\u001b[1;33m\u001b[0m\u001b[0m\n\u001b[1;32m---> 14\u001b[1;33m         \u001b[0moutput\u001b[0m\u001b[1;33m,\u001b[0m \u001b[0mhidden\u001b[0m \u001b[1;33m=\u001b[0m \u001b[0mself\u001b[0m\u001b[1;33m.\u001b[0m\u001b[0mgru\u001b[0m\u001b[1;33m(\u001b[0m\u001b[0moutput\u001b[0m\u001b[1;33m,\u001b[0m \u001b[0mhidden\u001b[0m\u001b[1;33m)\u001b[0m\u001b[1;33m\u001b[0m\u001b[1;33m\u001b[0m\u001b[0m\n\u001b[0m\u001b[0;32m     15\u001b[0m         \u001b[1;32mreturn\u001b[0m \u001b[0moutput\u001b[0m\u001b[1;33m,\u001b[0m \u001b[0mhidden\u001b[0m\u001b[1;33m\u001b[0m\u001b[1;33m\u001b[0m\u001b[0m\n\u001b[0;32m     16\u001b[0m \u001b[1;33m\u001b[0m\u001b[0m\n",
      "\u001b[1;32m~\\Anaconda3\\envs\\pytorchenv\\lib\\site-packages\\torch\\nn\\modules\\module.py\u001b[0m in \u001b[0;36m__call__\u001b[1;34m(self, *input, **kwargs)\u001b[0m\n\u001b[0;32m    491\u001b[0m             \u001b[0mresult\u001b[0m \u001b[1;33m=\u001b[0m \u001b[0mself\u001b[0m\u001b[1;33m.\u001b[0m\u001b[0m_slow_forward\u001b[0m\u001b[1;33m(\u001b[0m\u001b[1;33m*\u001b[0m\u001b[0minput\u001b[0m\u001b[1;33m,\u001b[0m \u001b[1;33m**\u001b[0m\u001b[0mkwargs\u001b[0m\u001b[1;33m)\u001b[0m\u001b[1;33m\u001b[0m\u001b[1;33m\u001b[0m\u001b[0m\n\u001b[0;32m    492\u001b[0m         \u001b[1;32melse\u001b[0m\u001b[1;33m:\u001b[0m\u001b[1;33m\u001b[0m\u001b[1;33m\u001b[0m\u001b[0m\n\u001b[1;32m--> 493\u001b[1;33m             \u001b[0mresult\u001b[0m \u001b[1;33m=\u001b[0m \u001b[0mself\u001b[0m\u001b[1;33m.\u001b[0m\u001b[0mforward\u001b[0m\u001b[1;33m(\u001b[0m\u001b[1;33m*\u001b[0m\u001b[0minput\u001b[0m\u001b[1;33m,\u001b[0m \u001b[1;33m**\u001b[0m\u001b[0mkwargs\u001b[0m\u001b[1;33m)\u001b[0m\u001b[1;33m\u001b[0m\u001b[1;33m\u001b[0m\u001b[0m\n\u001b[0m\u001b[0;32m    494\u001b[0m         \u001b[1;32mfor\u001b[0m \u001b[0mhook\u001b[0m \u001b[1;32min\u001b[0m \u001b[0mself\u001b[0m\u001b[1;33m.\u001b[0m\u001b[0m_forward_hooks\u001b[0m\u001b[1;33m.\u001b[0m\u001b[0mvalues\u001b[0m\u001b[1;33m(\u001b[0m\u001b[1;33m)\u001b[0m\u001b[1;33m:\u001b[0m\u001b[1;33m\u001b[0m\u001b[1;33m\u001b[0m\u001b[0m\n\u001b[0;32m    495\u001b[0m             \u001b[0mhook_result\u001b[0m \u001b[1;33m=\u001b[0m \u001b[0mhook\u001b[0m\u001b[1;33m(\u001b[0m\u001b[0mself\u001b[0m\u001b[1;33m,\u001b[0m \u001b[0minput\u001b[0m\u001b[1;33m,\u001b[0m \u001b[0mresult\u001b[0m\u001b[1;33m)\u001b[0m\u001b[1;33m\u001b[0m\u001b[1;33m\u001b[0m\u001b[0m\n",
      "\u001b[1;32m~\\Anaconda3\\envs\\pytorchenv\\lib\\site-packages\\torch\\nn\\modules\\rnn.py\u001b[0m in \u001b[0;36mforward\u001b[1;34m(self, input, hx)\u001b[0m\n\u001b[0;32m    209\u001b[0m         \u001b[1;32mif\u001b[0m \u001b[0mbatch_sizes\u001b[0m \u001b[1;32mis\u001b[0m \u001b[1;32mNone\u001b[0m\u001b[1;33m:\u001b[0m\u001b[1;33m\u001b[0m\u001b[1;33m\u001b[0m\u001b[0m\n\u001b[0;32m    210\u001b[0m             result = _impl(input, hx, self._get_flat_weights(), self.bias, self.num_layers,\n\u001b[1;32m--> 211\u001b[1;33m                            self.dropout, self.training, self.bidirectional, self.batch_first)\n\u001b[0m\u001b[0;32m    212\u001b[0m         \u001b[1;32melse\u001b[0m\u001b[1;33m:\u001b[0m\u001b[1;33m\u001b[0m\u001b[1;33m\u001b[0m\u001b[0m\n\u001b[0;32m    213\u001b[0m             result = _impl(input, batch_sizes, hx, self._get_flat_weights(), self.bias,\n",
      "\u001b[1;31mKeyboardInterrupt\u001b[0m: "
     ]
    }
   ],
   "source": [
    "# TRAINING THE MODEL:\n",
    "\n",
    "import time\n",
    "start_time = time.time()\n",
    "\n",
    "# Setting the sliding window parameters:\n",
    "max_length = 20\n",
    "epochs = 25\n",
    "train_losses = []\n",
    "test_losses = []\n",
    "\n",
    "for i in range(epochs):\n",
    "    \n",
    "    for j in range(len_train): # we chose individual words/images as batches:\n",
    "        \n",
    "        Encoder_optimizer.zero_grad()\n",
    "        Decoder_optimizer.zero_grad()\n",
    "        \n",
    "        input_word = list(train_set[j])\n",
    "        input_word_length = len(input_word) # number of letters\n",
    "        \n",
    "        encoder_hidden = Encoder_model.initHidden()\n",
    "        \n",
    "        \n",
    "        for l in range(input_word_length):\n",
    "            \n",
    "            encoder_input = letter_to_vector(input_word[l])\n",
    "            encoder_output, encoder_hidden = Encoder_model(encoder_input, encoder_hidden)\n",
    "            \n",
    "        decoder_input = letter_to_vector('SOS_token')\n",
    "        decoder_hidden = encoder_hidden\n",
    "        \n",
    "        \n",
    "        for d in range(input_word_length):\n",
    "            \n",
    "            decoder_output, decoder_hidden = Decoder_model(decoder_input, decoder_hidden)\n",
    "            #decoder_input = letter_to_vector(input_word[d])\n",
    "            \n",
    "            one_hot_decoder_output = torch.zeros(1, 1, output_size)\n",
    "            one_hot_decoder_output[0][0][torch.argmax(decoder_output)] = 1.\n",
    "            decoder_input = one_hot_decoder_output\n",
    "            \n",
    "            if torch.equal(one_hot_decoder_output, letter_to_vector('EOS_token'))==True:\n",
    "                break\n",
    "            \n",
    "            if d == 0:\n",
    "                \n",
    "                output_word = decoder_output \n",
    "                one_hot_input_word = letter_to_vector(input_word[d]).type(torch.LongTensor)\n",
    "                index = torch.argmax(one_hot_input_word.view(output_size))\n",
    "                ground_word = torch.tensor([index], dtype = torch.long)\n",
    "                \n",
    "            else:\n",
    "                \n",
    "                output_word = torch.cat((output_word, decoder_output), dim = 0) # we concatenate the remaining output letters\n",
    "                one_hot_input_word = torch.cat((one_hot_input_word,\n",
    "                                       letter_to_vector(input_word[d]).type(torch.LongTensor)), dim = 0)\n",
    "\n",
    "        \n",
    "        one_hot_input_word = one_hot_input_word.view(-1, output_size)\n",
    "        output_word = output_word.view(-1, output_size) \n",
    "        ground_word = torch.argmax(one_hot_input_word, dim = 1)\n",
    "        loss = criterion(output_word, ground_word)\n",
    "        \n",
    "        loss.backward()\n",
    "        Encoder_optimizer.step()\n",
    "        Decoder_optimizer.step()\n",
    "        \n",
    "    train_losses.append(loss)\n",
    "    print(i)\n",
    "print(train_losses)\n",
    "print(f'Duration: {(time.time() - start_time)/60} minutes')\n",
    "\n"
   ]
  },
  {
   "cell_type": "code",
   "execution_count": 26,
   "id": "7c936ad9",
   "metadata": {},
   "outputs": [],
   "source": [
    "torch.save(Encoder_model.state_dict(), 'Encoder_model.pt')\n",
    "torch.save(Decoder_model.state_dict(), 'Decoder_model.pt')"
   ]
  },
  {
   "cell_type": "code",
   "execution_count": 26,
   "id": "0f1e4430",
   "metadata": {},
   "outputs": [
    {
     "data": {
      "text/plain": [
       "Text(0.5, 1.0, 'Losses per epoch E-D only-10 words')"
      ]
     },
     "execution_count": 26,
     "metadata": {},
     "output_type": "execute_result"
    },
    {
     "data": {
      "image/png": "[encoded data removed]",
      "text/plain": [
       "<Figure size 432x288 with 1 Axes>"
      ]
     },
     "metadata": {
      "needs_background": "light"
     },
     "output_type": "display_data"
    }
   ],
   "source": [
    "# Plotting loss function:\n",
    "plt.yscale(\"log\")\n",
    "plt.plot(train_losses)\n",
    "plt.title('Losses per epoch E-D only-10 words')\n",
    "#plt.savefig('E-D_only_800sample.png')"
   ]
  },
  {
   "cell_type": "code",
   "execution_count": 64,
   "id": "f79d20d3",
   "metadata": {},
   "outputs": [
    {
     "name": "stdout",
     "output_type": "stream",
     "text": [
      "sesee\n"
     ]
    }
   ],
   "source": [
    "input_word_test = 'spent'\n",
    "\n",
    "with torch.no_grad():\n",
    "        \n",
    "    input_word_test = list(input_word_test)\n",
    "    input_word_test_length = len(input_word_test) # number of letters\n",
    "\n",
    "    encoder_hidden_test = Encoder_model.initHidden()\n",
    "\n",
    "\n",
    "    for l in range(input_word_test_length):\n",
    "\n",
    "        encoder_input_test = letter_to_vector(input_word_test[l])\n",
    "        _, encoder_hidden_test = Encoder_model(encoder_input_test, encoder_hidden_test)\n",
    "\n",
    "\n",
    "    decoder_input_test = letter_to_vector('SOS_token')\n",
    "    decoder_hidden_test = encoder_hidden_test\n",
    "\n",
    "\n",
    "    for d in range(input_word_test_length):\n",
    "\n",
    "        decoder_output_test, decoder_hidden_test = Decoder_model(decoder_input_test, decoder_hidden_test)\n",
    "        #decoder_input = letter_to_vector(input_word[d])\n",
    "\n",
    "        one_hot_decoder_output_test = torch.zeros(1, 1, output_size)\n",
    "        one_hot_decoder_output_test[0][0][torch.argmax(decoder_output_test)] = 1.\n",
    "        decoder_input_test = one_hot_decoder_output_test\n",
    "\n",
    "        if torch.equal(one_hot_decoder_output_test, letter_to_vector('EOS_token'))==True:\n",
    "            break\n",
    "\n",
    "        if d == 0:\n",
    "\n",
    "            output_word_test = decoder_output_test\n",
    "            one_hot_input_word_test = letter_to_vector(input_word_test[d]).type(torch.LongTensor)\n",
    "            index_test = torch.argmax(one_hot_input_word_test.view(output_size))\n",
    "            ground_word_test = torch.tensor([index_test], dtype = torch.long)\n",
    "\n",
    "        else:\n",
    "\n",
    "            output_word_test = torch.cat((output_word_test, decoder_output_test), dim = 0) \n",
    "            one_hot_input_word_test = torch.cat((one_hot_input_word_test,\n",
    "                                   letter_to_vector(input_word_test[d]).type(torch.LongTensor)), dim = 0)\n",
    "\n",
    "\n",
    "    one_hot_input_word_test = one_hot_input_word_test.view(-1, output_size)\n",
    "    output_word_test = output_word_test.view(-1, output_size) \n",
    "    ground_word_test = torch.argmax(one_hot_input_word_test, dim = 1)\n",
    "    \n",
    "    \n",
    "model_word = []\n",
    "\n",
    "indices = torch.argmax(output_word_test, dim = 1)\n",
    "\n",
    "for i in range(indices.numel()):\n",
    "    model_word.append(letters[indices[i]])\n",
    "\n",
    "model_word = ''.join(model_word)    \n",
    "print(model_word)\n"
   ]
  },
  {
   "cell_type": "code",
   "execution_count": null,
   "id": "25bec59e",
   "metadata": {},
   "outputs": [],
   "source": []
  }
 ],
 "metadata": {
  "kernelspec": {
   "display_name": "Python 3",
   "language": "python",
   "name": "python3"
  },
  "language_info": {
   "codemirror_mode": {
    "name": "ipython",
    "version": 3
   },
   "file_extension": ".py",
   "mimetype": "text/x-python",
   "name": "python",
   "nbconvert_exporter": "python",
   "pygments_lexer": "ipython3",
   "version": "3.7.3"
  }
 },
 "nbformat": 4,
 "nbformat_minor": 5
}
