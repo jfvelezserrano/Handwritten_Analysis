{
 "cells": [
  {
   "cell_type": "code",
   "execution_count": 1,
   "metadata": {},
   "outputs": [
    {
     "name": "stdout",
     "output_type": "stream",
     "text": [
      "1.1.0\n",
      "3.6.10\n"
     ]
    }
   ],
   "source": [
    "# Importing the required libraries:\n",
    "\n",
    "import torch\n",
    "import torch.nn as nn\n",
    "import torch.nn.functional as F\n",
    "from torch import optim\n",
    "from torch.utils.data import DataLoader\n",
    "from torchvision import datasets, transforms, models\n",
    "from torchvision.utils import make_grid\n",
    "import os\n",
    "import cv2\n",
    "import skimage\n",
    "\n",
    "import numpy as np\n",
    "import pandas as pd\n",
    "from IPython.display import display\n",
    "import matplotlib.pyplot as plt\n",
    "%matplotlib inline \n",
    "\n",
    "# Ignore harmless warnings:\n",
    "\n",
    "import warnings\n",
    "warnings.filterwarnings(\"ignore\")\n",
    "device = torch.device(\"cuda\" if torch.cuda.is_available() else \"cpu\")\n",
    "\n",
    "import platform\n",
    "print(torch.__version__)\n",
    "print(platform.python_version())"
   ]
  },
  {
   "cell_type": "code",
   "execution_count": 2,
   "metadata": {},
   "outputs": [
    {
     "data": {
      "text/plain": [
       "'TITAN X (Pascal)'"
      ]
     },
     "execution_count": 2,
     "metadata": {},
     "output_type": "execute_result"
    }
   ],
   "source": [
    "torch.cuda.get_device_name(0)"
   ]
  },
  {
   "cell_type": "code",
   "execution_count": 3,
   "metadata": {},
   "outputs": [],
   "source": [
    "train_set = ['hola', 'urjc', 'gavab', 'estoril', 'alvaro', 'victoria', 'jose', 'fuengirola'] * 512\n",
    "val_set = ['hola', 'urjc', 'gavab', 'estoril', 'alvaro', 'victoria', 'jose', 'fuengirola'] * 64\n",
    "\n",
    "len_train = len(train_set)\n",
    "len_val = len(val_set)"
   ]
  },
  {
   "cell_type": "code",
   "execution_count": 4,
   "metadata": {},
   "outputs": [
    {
     "name": "stdout",
     "output_type": "stream",
     "text": [
      "tensor([[[1., 0., 0., 0., 0., 0., 0., 0., 0., 0., 0., 0., 0., 0., 0., 0., 0.,\n",
      "          0., 0., 0., 0., 0., 0., 0., 0., 0., 0., 0.]]])\n"
     ]
    }
   ],
   "source": [
    "# Function to convert letters (and therefore words) into PyTorch tensors:\n",
    "\n",
    "letters = ['SOS_token', 'a', 'b', 'c', 'd', 'e', 'f', 'g', 'h', 'i', 'j', 'k',\n",
    "          'l', 'm', 'n', 'o', 'p', 'q', 'r', 's', 't', 'u', 'v', 'w', 'x', 'y', 'z', 'EOS_token']\n",
    "\n",
    "def letter_to_vector(letter):\n",
    "    vector = torch.zeros(1, 1, len(letters))\n",
    "    for i in range(len(letters)):\n",
    "        if letters[i] == letter:\n",
    "            vector[0, 0, i] = 1.\n",
    "    return(vector)\n",
    "\n",
    "print(letter_to_vector('SOS_token'))"
   ]
  },
  {
   "cell_type": "code",
   "execution_count": 5,
   "metadata": {},
   "outputs": [],
   "source": [
    "def patch_gen(word, n_patches, patch_height, patch_width, stepsize):\n",
    "    \n",
    "    image = 255 * np.ones(shape = [height, width], dtype = np.uint8)\n",
    "    image = cv2.putText(image, text = word, org = (5, 30),\n",
    "    fontFace = cv2.FONT_HERSHEY_SIMPLEX, fontScale = 0.7, color = (0, 0, 0),\n",
    "    thickness = 2, lineType = cv2.LINE_AA)\n",
    "    image = transforms.ToPILImage()(image) # np.ndarray to PIL.Image.Image\n",
    "    patches_tensor = torch.empty(n_patches, 1, patch_height, patch_width)\n",
    "    \n",
    "    for p in range(n_patches):\n",
    "        \n",
    "        patch = transforms.functional.crop(image, 0, 0 + p * stepsize, patch_height, patch_width) # cropping of the image into patches\n",
    "        patch = transforms.ToTensor()(patch) # torch.Tensor of the patch (normalized)\n",
    "        #patch = skimage.util.random_noise(patch, mode='gaussian') # we set some random noise to the image\n",
    "        #patch = torch.from_numpy(patch) # conversion to pytorch tensor again\n",
    "        patch = 1. - patch # it will work better if we have white text over black background\n",
    "        patch = patch.view(1, 1, patch_height, patch_width) # CNN_model expects a 4-dimensional tensor (1 dimension for batch)\n",
    "        patch = patch.type(torch.FloatTensor) # conversion to float\n",
    "        patch = patch.cuda() # set to cuda\n",
    "        patches_tensor[p, 0, :, :] = patch\n",
    "        patches_tensor = patches_tensor.cuda()\n",
    "        \n",
    "    return patches_tensor"
   ]
  },
  {
   "cell_type": "code",
   "execution_count": 6,
   "metadata": {},
   "outputs": [],
   "source": [
    "# Setting image and sliding window parameters:\n",
    "\n",
    "height = 48\n",
    "width = 192\n",
    "patch_height = 48\n",
    "patch_width = 10\n",
    "stepsize = 2\n",
    "color_channels = 1\n",
    "n_patches = int((width - patch_width)/stepsize + 1)"
   ]
  },
  {
   "cell_type": "code",
   "execution_count": 7,
   "metadata": {},
   "outputs": [],
   "source": [
    "# Defining function to get a tuple for each image with (its 92 tensor patches, label):\n",
    "\n",
    "def complete_training_set(train_set):\n",
    "    complete_train_set = []\n",
    "    for word in train_set:\n",
    "        complete_train_set.append((patch_gen(word, n_patches, patch_height, patch_width, stepsize), word))\n",
    "        \n",
    "    return complete_train_set"
   ]
  },
  {
   "cell_type": "code",
   "execution_count": 8,
   "metadata": {},
   "outputs": [],
   "source": [
    "comp_train_set = complete_training_set(train_set = train_set)"
   ]
  },
  {
   "cell_type": "code",
   "execution_count": 40,
   "metadata": {},
   "outputs": [
    {
     "name": "stdout",
     "output_type": "stream",
     "text": [
      "torch.Size([2, 92, 1, 48, 10])\n",
      "torch.Size([184, 1, 48, 10])\n",
      "('hola', 'estoril')\n"
     ]
    }
   ],
   "source": [
    "# Loading data in image batches:\n",
    "\n",
    "batch_size = 2\n",
    "\n",
    "train_loader = DataLoader(comp_train_set, batch_size = batch_size, shuffle=True)\n",
    "\n",
    "for image, label in train_loader:\n",
    "    break\n",
    "    \n",
    "image_cnn = image.view(-1, color_channels, patch_height, patch_width)   \n",
    "print(image.shape)\n",
    "print(image_cnn.shape)\n",
    "print(label)"
   ]
  },
  {
   "cell_type": "code",
   "execution_count": 41,
   "metadata": {},
   "outputs": [],
   "source": [
    "# Defining model and architecture:\n",
    "\n",
    "# CONVOLUTIONAL NEURAL NETWORK:\n",
    "\n",
    "class ConvolutionalNetwork(nn.Module):\n",
    "    def __init__(self):\n",
    "        super().__init__()\n",
    "        self.conv1 = nn.Conv2d(1, 20, 5, 1, 2) # padding???\n",
    "        self.conv2 = nn.Conv2d(20, 50, 5, 1, 2)\n",
    "        self.fc1 = nn.Linear(12*2*50, 1024)\n",
    "\n",
    "    def forward(self, X):\n",
    "        X = F.relu(self.conv1(X))\n",
    "        X = F.max_pool2d(X, 2, 2)\n",
    "        X = F.relu(self.conv2(X))\n",
    "        X = F.max_pool2d(X, 2, 2)\n",
    "        X = X.view(-1, 12*2*50) # -1 para no tener que determinar aquí el tamaño del batch (se ajusta, podemos variarlo)\n",
    "        X = F.relu(self.fc1(X))\n",
    "\n",
    "        return X "
   ]
  },
  {
   "cell_type": "code",
   "execution_count": 42,
   "metadata": {},
   "outputs": [],
   "source": [
    "# ENCODER:\n",
    "\n",
    "class EncoderRNN(nn.Module):\n",
    "    def __init__(self, input_size, hidden_size):\n",
    "        \n",
    "        super(EncoderRNN, self).__init__()\n",
    "        self.hidden_size = hidden_size\n",
    "        self.lstm = nn.LSTM(input_size, hidden_size, batch_first = True)\n",
    "\n",
    "    def forward(self, input, hidden):\n",
    "        \n",
    "        output = input.view(batch_size, n_patches, input_size)\n",
    "        output, hidden = self.lstm(output, hidden)\n",
    "        return output, hidden\n",
    "\n",
    "    def initHidden(self):\n",
    "        return (torch.zeros(1, batch_size, self.hidden_size, device=device),\n",
    "                torch.zeros(1, batch_size, self.hidden_size, device=device))"
   ]
  },
  {
   "cell_type": "code",
   "execution_count": 43,
   "metadata": {},
   "outputs": [],
   "source": [
    "# DECODER:\n",
    "\n",
    "class DecoderRNN(nn.Module):\n",
    "    def __init__(self, hidden_size, output_size):\n",
    "        super(DecoderRNN, self).__init__()\n",
    "        self.hidden_size = hidden_size\n",
    "\n",
    "        self.lstm = nn.LSTM(output_size, hidden_size, batch_first = True)\n",
    "        self.out = nn.Linear(hidden_size, output_size)\n",
    "        self.softmax = nn.LogSoftmax(dim = 1)\n",
    "\n",
    "    def forward(self, input, hidden):\n",
    "        output = input.view(1, 1, -1)\n",
    "        output = F.relu(output)\n",
    "        output, hidden = self.lstm(output, hidden)\n",
    "        output = self.softmax(self.out(output[0]))\n",
    "        return output, hidden\n",
    "\n",
    "    def initHidden(self):\n",
    "        return (torch.zeros(1, 1, self.hidden_size, device=device),\n",
    "               torch.zeros(1, 1, self.hidden_size, device=device))"
   ]
  },
  {
   "cell_type": "code",
   "execution_count": 44,
   "metadata": {},
   "outputs": [],
   "source": [
    "torch.manual_seed(123)\n",
    "\n",
    "input_size = 1024\n",
    "hidden_size = 256\n",
    "output_size = 28\n",
    "\n",
    "CNN_model = ConvolutionalNetwork().cuda()\n",
    "CNN_optimizer = torch.optim.Adam(CNN_model.parameters(), lr = 0.001)\n",
    "\n",
    "Encoder_model = EncoderRNN(input_size = input_size, hidden_size = hidden_size).cuda()\n",
    "Encoder_optimizer = optim.SGD(Encoder_model.parameters(), lr = 0.001)\n",
    "\n",
    "Decoder_model = DecoderRNN(hidden_size = hidden_size, output_size = output_size).cuda()\n",
    "Decoder_optimizer = optim.SGD(Decoder_model.parameters(), lr = 0.001)\n",
    "\n",
    "#criterion = nn.CrossEntropyLoss()\n",
    "criterion = nn.NLLLoss()"
   ]
  },
  {
   "cell_type": "code",
   "execution_count": 45,
   "metadata": {
    "scrolled": false
   },
   "outputs": [
    {
     "name": "stdout",
     "output_type": "stream",
     "text": [
      "0\n",
      "1\n",
      "2\n",
      "3\n",
      "4\n",
      "5\n",
      "6\n",
      "7\n",
      "8\n",
      "9\n",
      "10\n",
      "11\n",
      "12\n",
      "13\n",
      "14\n",
      "15\n",
      "16\n",
      "17\n",
      "18\n",
      "19\n",
      "20\n",
      "21\n",
      "22\n",
      "23\n",
      "24\n",
      "25\n",
      "26\n",
      "27\n",
      "28\n",
      "29\n",
      "[tensor(2.4829, device='cuda:0', grad_fn=<NllLossBackward>), tensor(2.2882, device='cuda:0', grad_fn=<NllLossBackward>), tensor(1.8988, device='cuda:0', grad_fn=<NllLossBackward>), tensor(1.3520, device='cuda:0', grad_fn=<NllLossBackward>), tensor(1.5173, device='cuda:0', grad_fn=<NllLossBackward>), tensor(0.4774, device='cuda:0', grad_fn=<NllLossBackward>), tensor(0.6555, device='cuda:0', grad_fn=<NllLossBackward>), tensor(0.7076, device='cuda:0', grad_fn=<NllLossBackward>), tensor(0.4349, device='cuda:0', grad_fn=<NllLossBackward>), tensor(0.2285, device='cuda:0', grad_fn=<NllLossBackward>), tensor(0.2364, device='cuda:0', grad_fn=<NllLossBackward>), tensor(0.1348, device='cuda:0', grad_fn=<NllLossBackward>), tensor(0.3039, device='cuda:0', grad_fn=<NllLossBackward>), tensor(0.1137, device='cuda:0', grad_fn=<NllLossBackward>), tensor(0.1160, device='cuda:0', grad_fn=<NllLossBackward>), tensor(0.1029, device='cuda:0', grad_fn=<NllLossBackward>), tensor(0.0762, device='cuda:0', grad_fn=<NllLossBackward>), tensor(0.0622, device='cuda:0', grad_fn=<NllLossBackward>), tensor(0.0368, device='cuda:0', grad_fn=<NllLossBackward>), tensor(0.0623, device='cuda:0', grad_fn=<NllLossBackward>), tensor(0.0438, device='cuda:0', grad_fn=<NllLossBackward>), tensor(0.0316, device='cuda:0', grad_fn=<NllLossBackward>), tensor(0.0383, device='cuda:0', grad_fn=<NllLossBackward>), tensor(0.0828, device='cuda:0', grad_fn=<NllLossBackward>), tensor(0.0392, device='cuda:0', grad_fn=<NllLossBackward>), tensor(0.0375, device='cuda:0', grad_fn=<NllLossBackward>), tensor(0.0259, device='cuda:0', grad_fn=<NllLossBackward>), tensor(0.0611, device='cuda:0', grad_fn=<NllLossBackward>), tensor(0.0262, device='cuda:0', grad_fn=<NllLossBackward>), tensor(0.0181, device='cuda:0', grad_fn=<NllLossBackward>)]\n",
      "Duration: 39.60367764631907 minutes\n"
     ]
    }
   ],
   "source": [
    "# TRAINING THE MODEL:\n",
    "\n",
    "import time\n",
    "start_time = time.time()\n",
    "\n",
    "epochs = 30\n",
    "\n",
    "train_losses = []\n",
    "val_losses = []\n",
    "\n",
    "torch.manual_seed(123)\n",
    "\n",
    "for i in range(epochs):\n",
    "    \n",
    "    for b, (image, label) in enumerate(train_loader):\n",
    "        \n",
    "        b += 1\n",
    "        \n",
    "        encoder_hidden = Encoder_model.initHidden()\n",
    "        \n",
    "        image_cnn = image.view(-1, color_channels, patch_height, patch_width).cuda()\n",
    "        encoder_input = CNN_model(image_cnn)\n",
    "        encoder_outputs, encoder_hidden = Encoder_model(encoder_input, encoder_hidden)\n",
    "        \n",
    "        for j in range(batch_size):\n",
    "            \n",
    "            input_word = list(label[j]) \n",
    "            input_word_length = len(input_word)\n",
    "            \n",
    "            decoder_input = letter_to_vector('SOS_token').cuda() # We initialize the first Decoder input as the SOS token\n",
    "             \n",
    "            decoder_hidden = (encoder_hidden[0][0, j, :].view(1, 1, hidden_size), # We take the last hidden state of the Encoder\n",
    "                              encoder_hidden[1][0, j, :].view(1, 1, hidden_size)) # for each image/word (j) within the patch \n",
    "            # This would be the first hidden state of the Decoder for image/word (j)\n",
    "            \n",
    "            \n",
    "            for d in range(input_word_length):\n",
    "            \n",
    "                decoder_output, decoder_hidden = Decoder_model(decoder_input, decoder_hidden)\n",
    "                one_hot_decoder_output = torch.zeros(1, 1, output_size).cuda()\n",
    "                one_hot_decoder_output[0][0][torch.argmax(decoder_output)] = 1.\n",
    "                decoder_input = one_hot_decoder_output\n",
    "                \n",
    "                \n",
    "                if torch.equal(one_hot_decoder_output, letter_to_vector('EOS_token').cuda()) == True:\n",
    "                    break\n",
    "                    \n",
    "                \n",
    "                if d == 0:\n",
    "                \n",
    "                    output_word = decoder_output \n",
    "                    one_hot_input_letter = letter_to_vector(input_word[d]).type(torch.LongTensor).cuda()\n",
    "                    one_hot_input_word = one_hot_input_letter\n",
    "                    index = torch.argmax(one_hot_input_letter.view(output_size)).cuda()\n",
    "                    ground_letter = torch.tensor([index], dtype = torch.long).cuda()\n",
    "                    ground_word = ground_letter\n",
    "                \n",
    "                else:\n",
    "                \n",
    "                    output_word = torch.cat((output_word, decoder_output), dim = 0) # we concatenate the remaining output letters\n",
    "                    one_hot_input_letter = letter_to_vector(input_word[d]).type(torch.LongTensor).cuda()\n",
    "                    one_hot_input_word = torch.cat((one_hot_input_word, one_hot_input_letter), dim = 0)\n",
    "                    index = torch.argmax(one_hot_input_letter.view(output_size)).cuda()\n",
    "                    ground_letter = torch.tensor([index], dtype = torch.long).cuda()\n",
    "                    ground_word = torch.cat((ground_word, ground_letter), dim = 0)\n",
    "           \n",
    "        \n",
    "            one_hot_input_word = one_hot_input_word.view(-1, output_size)\n",
    "            output_word = output_word.view(-1, output_size) \n",
    "            \n",
    "            \n",
    "            loss = criterion(output_word, ground_word)\n",
    "            \n",
    "            CNN_optimizer.zero_grad()\n",
    "            Encoder_optimizer.zero_grad()\n",
    "            Decoder_optimizer.zero_grad()\n",
    "            \n",
    "            if j == (batch_size - 1):\n",
    "                loss.backward()\n",
    "                \n",
    "            else:\n",
    "                loss.backward(retain_graph=True)\n",
    "            \n",
    "            CNN_optimizer.step()\n",
    "            Encoder_optimizer.step()\n",
    "            Decoder_optimizer.step()\n",
    "            \n",
    "    train_losses.append(loss)\n",
    "            \n",
    "    print(i)\n",
    "print(train_losses)\n",
    "a = (time.time() - start_time)/60\n",
    "print(f'Duration: {(time.time() - start_time)/60} minutes')\n",
    "#print(encoder_input.shape)\n",
    "#print(encoder_hidden[0][0, 7, :])\n",
    "#print(encoder_outputs[7,91,:])"
   ]
  },
  {
   "cell_type": "code",
   "execution_count": 60,
   "metadata": {},
   "outputs": [
    {
     "data": {
      "image/png": "[encoded data removed]",
      "text/plain": [
       "<Figure size 432x288 with 1 Axes>"
      ]
     },
     "metadata": {
      "needs_background": "light"
     },
     "output_type": "display_data"
    }
   ],
   "source": [
    "plt.yscale(\"log\")\n",
    "plt.plot(train_losses, label='training loss')\n",
    "#plt.savefig('8 words training losses lr=0,001, bs=2')"
   ]
  },
  {
   "cell_type": "code",
   "execution_count": 61,
   "metadata": {},
   "outputs": [],
   "source": [
    "#torch.save(CNN_model.state_dict(), 'CNN_model_8_words_batch.pt')\n",
    "#torch.save(Encoder_model.state_dict(), 'Encoder_model_8_words_batch.pt')\n",
    "#torch.save(Decoder_model.state_dict(), 'Decoder_model_8_words_batch.pt')"
   ]
  },
  {
   "cell_type": "code",
   "execution_count": 74,
   "metadata": {},
   "outputs": [
    {
     "data": {
      "text/plain": [
       "tensor(1, device='cuda:0')"
      ]
     },
     "execution_count": 74,
     "metadata": {},
     "output_type": "execute_result"
    }
   ],
   "source": [
    "topv, topi = decoder_output.topk(1)\n",
    "topi.squeeze().detach()"
   ]
  },
  {
   "cell_type": "code",
   "execution_count": 88,
   "metadata": {},
   "outputs": [
    {
     "name": "stdout",
     "output_type": "stream",
     "text": [
      "PackedSequence(data=tensor([1, 4, 6, 2, 5, 3]), batch_sizes=tensor([3, 2, 1]), sorted_indices=None, unsorted_indices=None)\n",
      "tensor([[1, 2, 3],\n",
      "        [4, 5, 0],\n",
      "        [6, 0, 0]])\n"
     ]
    }
   ],
   "source": [
    "from torch.nn.utils.rnn import pack_sequence\n",
    "from torch.nn.utils.rnn import pack_padded_sequence, pad_packed_sequence\n",
    "a = torch.tensor([1,2,3])\n",
    "b = torch.tensor([4,5])\n",
    "c = torch.tensor([6])\n",
    "packed = pack_sequence([a, b, c])\n",
    "print(packed)\n",
    "seq_unpacked, lens_unpacked = pad_packed_sequence(packed, batch_first=True)\n",
    "print(seq_unpacked)"
   ]
  },
  {
   "cell_type": "code",
   "execution_count": 92,
   "metadata": {},
   "outputs": [
    {
     "name": "stdout",
     "output_type": "stream",
     "text": [
      "torch.Size([1])\n"
     ]
    }
   ],
   "source": [
    "a[:-1]\n",
    "a[1:]"
   ]
  },
  {
   "cell_type": "code",
   "execution_count": null,
   "metadata": {},
   "outputs": [],
   "source": []
  }
 ],
 "metadata": {
  "kernelspec": {
   "display_name": "pytorch_estoril",
   "language": "python",
   "name": "pytorch_estoril"
  },
  "language_info": {
   "codemirror_mode": {
    "name": "ipython",
    "version": 3
   },
   "file_extension": ".py",
   "mimetype": "text/x-python",
   "name": "python",
   "nbconvert_exporter": "python",
   "pygments_lexer": "ipython3",
   "version": "3.6.10"
  }
 },
 "nbformat": 4,
 "nbformat_minor": 2
}
