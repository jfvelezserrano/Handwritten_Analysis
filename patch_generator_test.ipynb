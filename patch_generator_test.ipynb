{
 "cells": [
  {
   "cell_type": "code",
   "execution_count": 39,
   "id": "6e0708d9-8bf8-4c92-ae68-d57fc43dbbae",
   "metadata": {},
   "outputs": [
    {
     "name": "stdout",
     "output_type": "stream",
     "text": [
      "Tiempo: 0.008981704711914062\n"
     ]
    }
   ],
   "source": [
    "import time\n",
    "from patch_generator import genera_palabras_al_azar\n",
    "import patch_generator\n",
    "import importlib\n",
    "importlib.reload(patch_generator)\n",
    "\n",
    "start = time.time()\n",
    "genera_palabras_al_azar(512,15)\n",
    "print(\"Tiempo:\", time.time()-start)"
   ]
  },
  {
   "cell_type": "code",
   "execution_count": 36,
   "id": "06ab609b-9c8b-4a19-a319-2014834930ed",
   "metadata": {},
   "outputs": [],
   "source": []
  },
  {
   "cell_type": "code",
   "execution_count": null,
   "id": "834255c1-7550-4ac8-9d1c-5f9abc1d43ac",
   "metadata": {},
   "outputs": [],
   "source": []
  },
  {
   "cell_type": "code",
   "execution_count": null,
   "id": "04961b74-de99-48ac-8edc-819637a5b2d4",
   "metadata": {},
   "outputs": [],
   "source": []
  },
  {
   "cell_type": "code",
   "execution_count": null,
   "id": "5680a9db-5f7f-4e4d-9418-71c223bb2d39",
   "metadata": {},
   "outputs": [],
   "source": []
  },
  {
   "cell_type": "code",
   "execution_count": null,
   "id": "1edd2657-4854-4a9e-af9a-65854a6b2858",
   "metadata": {},
   "outputs": [],
   "source": []
  },
  {
   "cell_type": "code",
   "execution_count": null,
   "id": "6b9891eb-aa9a-4ad9-8d24-53d55a49b9cf",
   "metadata": {},
   "outputs": [],
   "source": []
  }
 ],
 "metadata": {
  "kernelspec": {
   "display_name": "python3.6_cv2",
   "language": "python",
   "name": "python3.6_cv2"
  },
  "language_info": {
   "codemirror_mode": {
    "name": "ipython",
    "version": 3
   },
   "file_extension": ".py",
   "mimetype": "text/x-python",
   "name": "python",
   "nbconvert_exporter": "python",
   "pygments_lexer": "ipython3",
   "version": "3.6.10"
  }
 },
 "nbformat": 4,
 "nbformat_minor": 5
}
