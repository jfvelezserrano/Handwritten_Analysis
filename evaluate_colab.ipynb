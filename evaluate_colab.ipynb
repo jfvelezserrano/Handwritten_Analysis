{
 "cells": [
  {
   "cell_type": "code",
   "execution_count": 1,
   "metadata": {
    "colab": {
     "base_uri": "https://localhost:8080/"
    },
    "executionInfo": {
     "elapsed": 498,
     "status": "ok",
     "timestamp": 1621871458734,
     "user": {
      "displayName": "Álvaro Barreiro Garrido",
      "photoUrl": "https://lh6.googleusercontent.com/-MyFwdJKljQM/AAAAAAAAAAI/AAAAAAAAAx8/dul-WxxfCro/s64/photo.jpg",
      "userId": "06098121704066317706"
     },
     "user_tz": -120
    },
    "id": "JGgw9kK1YxZh",
    "outputId": "3575aba7-b22e-41fe-b6a0-c5098a8f7858"
   },
   "outputs": [
    {
     "name": "stdout",
     "output_type": "stream",
     "text": [
      "1.1.0\n",
      "3.6.10\n"
     ]
    }
   ],
   "source": [
    "# Importing the required libraries:\n",
    "\n",
    "import torch\n",
    "import torch.nn as nn\n",
    "import torch.nn.functional as F\n",
    "from torch import optim\n",
    "from torch.utils.data import DataLoader\n",
    "from torchvision import datasets, transforms, models\n",
    "from torchvision.utils import make_grid\n",
    "import os\n",
    "import cv2\n",
    "import skimage\n",
    "\n",
    "import numpy as np\n",
    "import pandas as pd\n",
    "from IPython.display import display\n",
    "import matplotlib.pyplot as plt\n",
    "%matplotlib inline \n",
    "\n",
    "# Ignore harmless warnings:\n",
    "\n",
    "import warnings\n",
    "warnings.filterwarnings(\"ignore\")\n",
    "device = torch.device(\"cuda\" if torch.cuda.is_available() else \"cpu\")\n",
    "\n",
    "import platform\n",
    "print(torch.__version__)\n",
    "print(platform.python_version())"
   ]
  },
  {
   "cell_type": "code",
   "execution_count": 2,
   "metadata": {
    "colab": {
     "base_uri": "https://localhost:8080/",
     "height": 35
    },
    "executionInfo": {
     "elapsed": 334,
     "status": "ok",
     "timestamp": 1621871461335,
     "user": {
      "displayName": "Álvaro Barreiro Garrido",
      "photoUrl": "https://lh6.googleusercontent.com/-MyFwdJKljQM/AAAAAAAAAAI/AAAAAAAAAx8/dul-WxxfCro/s64/photo.jpg",
      "userId": "06098121704066317706"
     },
     "user_tz": -120
    },
    "id": "9Mv9x8Rg7Nw3",
    "outputId": "12376843-63d4-4a13-9b63-b587d3378218"
   },
   "outputs": [
    {
     "data": {
      "text/plain": [
       "'TITAN X (Pascal)'"
      ]
     },
     "execution_count": 2,
     "metadata": {},
     "output_type": "execute_result"
    }
   ],
   "source": [
    "torch.cuda.get_device_name(0)"
   ]
  },
  {
   "cell_type": "code",
   "execution_count": 3,
   "metadata": {
    "executionInfo": {
     "elapsed": 5,
     "status": "ok",
     "timestamp": 1621871463042,
     "user": {
      "displayName": "Álvaro Barreiro Garrido",
      "photoUrl": "https://lh6.googleusercontent.com/-MyFwdJKljQM/AAAAAAAAAAI/AAAAAAAAAx8/dul-WxxfCro/s64/photo.jpg",
      "userId": "06098121704066317706"
     },
     "user_tz": -120
    },
    "id": "mGCNWlstYxZp"
   },
   "outputs": [],
   "source": [
    "train_set = ['hola', 'urjc', 'gavab', 'estoril', 'alvaro', 'victoria'] * 512\n",
    "import random\n",
    "random.seed(123)\n",
    "random.shuffle(train_set)\n",
    "\n",
    "val_set = ['hola', 'urjc', 'gavab', 'estoril', 'alvaro', 'victoria'] * 32\n",
    "\n",
    "len_train = len(train_set)\n",
    "len_val = len(val_set)"
   ]
  },
  {
   "cell_type": "code",
   "execution_count": 4,
   "metadata": {
    "colab": {
     "base_uri": "https://localhost:8080/"
    },
    "executionInfo": {
     "elapsed": 665,
     "status": "ok",
     "timestamp": 1621871465507,
     "user": {
      "displayName": "Álvaro Barreiro Garrido",
      "photoUrl": "https://lh6.googleusercontent.com/-MyFwdJKljQM/AAAAAAAAAAI/AAAAAAAAAx8/dul-WxxfCro/s64/photo.jpg",
      "userId": "06098121704066317706"
     },
     "user_tz": -120
    },
    "id": "LHJugRyW6tSY",
    "outputId": "1a3f41ba-2e8b-4d1d-8683-de4e5ce0f547"
   },
   "outputs": [
    {
     "name": "stdout",
     "output_type": "stream",
     "text": [
      "tensor([[[1., 0., 0., 0., 0., 0., 0., 0., 0., 0., 0., 0., 0., 0., 0., 0., 0.,\n",
      "          0., 0., 0., 0., 0., 0., 0., 0., 0., 0., 0.]]])\n"
     ]
    }
   ],
   "source": [
    "# Function to convert letters (and therefore words) into PyTorch tensors:\n",
    "\n",
    "letters = ['SOS_token', 'a', 'b', 'c', 'd', 'e', 'f', 'g', 'h', 'i', 'j', 'k',\n",
    "          'l', 'm', 'n', 'o', 'p', 'q', 'r', 's', 't', 'u', 'v', 'w', 'x', 'y', 'z', 'EOS_token']\n",
    "\n",
    "def letter_to_vector(letter):\n",
    "    vector = torch.zeros(1, 1, len(letters))\n",
    "    for i in range(len(letters)):\n",
    "        if letters[i] == letter:\n",
    "            vector[0, 0, i] = 1.\n",
    "    return(vector)\n",
    "\n",
    "print(letter_to_vector('SOS_token'))"
   ]
  },
  {
   "cell_type": "code",
   "execution_count": 5,
   "metadata": {
    "executionInfo": {
     "elapsed": 279,
     "status": "ok",
     "timestamp": 1621871467497,
     "user": {
      "displayName": "Álvaro Barreiro Garrido",
      "photoUrl": "https://lh6.googleusercontent.com/-MyFwdJKljQM/AAAAAAAAAAI/AAAAAAAAAx8/dul-WxxfCro/s64/photo.jpg",
      "userId": "06098121704066317706"
     },
     "user_tz": -120
    },
    "id": "Wbo4YClf6wnf"
   },
   "outputs": [],
   "source": [
    "# Defining model and architecture:\n",
    "\n",
    "# CONVOLUTIONAL NEURAL NETWORK:\n",
    "\n",
    "class ConvolutionalNetwork(nn.Module):\n",
    "    def __init__(self):\n",
    "        super().__init__()\n",
    "        self.conv1 = nn.Conv2d(1, 20, 5, 1, 2) # padding???\n",
    "        self.conv2 = nn.Conv2d(20, 50, 5, 1, 2)\n",
    "        self.fc1 = nn.Linear(12*2*50, 1024)\n",
    "\n",
    "    def forward(self, X):\n",
    "        X = F.relu(self.conv1(X))\n",
    "        X = F.max_pool2d(X, 2, 2)\n",
    "        X = F.relu(self.conv2(X))\n",
    "        X = F.max_pool2d(X, 2, 2)\n",
    "        X = X.view(-1, 12*2*50) # -1 para no tener que determinar aquí el tamaño del batch (se ajusta, podemos variarlo)\n",
    "        X = F.relu(self.fc1(X))\n",
    "\n",
    "        return X "
   ]
  },
  {
   "cell_type": "code",
   "execution_count": 6,
   "metadata": {
    "executionInfo": {
     "elapsed": 495,
     "status": "ok",
     "timestamp": 1621871470282,
     "user": {
      "displayName": "Álvaro Barreiro Garrido",
      "photoUrl": "https://lh6.googleusercontent.com/-MyFwdJKljQM/AAAAAAAAAAI/AAAAAAAAAx8/dul-WxxfCro/s64/photo.jpg",
      "userId": "06098121704066317706"
     },
     "user_tz": -120
    },
    "id": "hgyZb4xH60aC"
   },
   "outputs": [],
   "source": [
    "# ENCODER:\n",
    "\n",
    "class EncoderRNN(nn.Module):\n",
    "    def __init__(self, input_size, hidden_size):\n",
    "        super(EncoderRNN, self).__init__()\n",
    "        self.hidden_size = hidden_size\n",
    "\n",
    "        #self.embedding = nn.Embedding(input_size, hidden_size)\n",
    "        self.gru = nn.GRU(input_size, hidden_size)\n",
    "\n",
    "    def forward(self, input, hidden):\n",
    "        #embedded = self.embedding(input).view(1, 1, -1)\n",
    "        output = input.view(1,1,-1)\n",
    "        output, hidden = self.gru(output, hidden)\n",
    "        return output, hidden\n",
    "\n",
    "    def initHidden(self):\n",
    "        return torch.zeros(1, 1, self.hidden_size, device=device)"
   ]
  },
  {
   "cell_type": "code",
   "execution_count": 7,
   "metadata": {
    "executionInfo": {
     "elapsed": 249,
     "status": "ok",
     "timestamp": 1621871472376,
     "user": {
      "displayName": "Álvaro Barreiro Garrido",
      "photoUrl": "https://lh6.googleusercontent.com/-MyFwdJKljQM/AAAAAAAAAAI/AAAAAAAAAx8/dul-WxxfCro/s64/photo.jpg",
      "userId": "06098121704066317706"
     },
     "user_tz": -120
    },
    "id": "diLfAJEx68zA"
   },
   "outputs": [],
   "source": [
    "# DECODER:\n",
    "\n",
    "class DecoderRNN(nn.Module):\n",
    "    def __init__(self, hidden_size, output_size):\n",
    "        super(DecoderRNN, self).__init__()\n",
    "        self.hidden_size = hidden_size\n",
    "\n",
    "        #self.embedding = nn.Embedding(output_size, hidden_size)\n",
    "        self.gru = nn.GRU(output_size, hidden_size)\n",
    "        self.out = nn.Linear(hidden_size, output_size)\n",
    "        self.softmax = nn.LogSoftmax(dim=1)\n",
    "\n",
    "    def forward(self, input, hidden):\n",
    "        output = input.view(1, 1, -1)\n",
    "        output = F.relu(output)\n",
    "        output, hidden = self.gru(output, hidden)\n",
    "        output = self.softmax(self.out(output[0]))\n",
    "        return output, hidden\n",
    "\n",
    "    def initHidden(self):\n",
    "        return torch.zeros(1, 1, self.hidden_size, device=device)"
   ]
  },
  {
   "cell_type": "code",
   "execution_count": 17,
   "metadata": {
    "executionInfo": {
     "elapsed": 744,
     "status": "ok",
     "timestamp": 1621871475224,
     "user": {
      "displayName": "Álvaro Barreiro Garrido",
      "photoUrl": "https://lh6.googleusercontent.com/-MyFwdJKljQM/AAAAAAAAAAI/AAAAAAAAAx8/dul-WxxfCro/s64/photo.jpg",
      "userId": "06098121704066317706"
     },
     "user_tz": -120
    },
    "id": "Wr8q3l1y6_s0"
   },
   "outputs": [],
   "source": [
    "# Instantiate the model, define loss and optimization functions:\n",
    "\n",
    "torch.manual_seed(123)\n",
    "\n",
    "input_size = 1024\n",
    "hidden_size = 256\n",
    "output_size = 28\n",
    "\n",
    "CNN_model = ConvolutionalNetwork().cuda()\n",
    "CNN_optimizer = torch.optim.Adam(CNN_model.parameters(), lr = 0.001)\n",
    "\n",
    "Encoder_model = EncoderRNN(input_size = input_size, hidden_size = hidden_size).cuda()\n",
    "Encoder_optimizer = optim.SGD(Encoder_model.parameters(), lr = 0.001)\n",
    "\n",
    "Decoder_model = DecoderRNN(hidden_size = hidden_size, output_size = output_size).cuda()\n",
    "Decoder_optimizer = optim.SGD(Decoder_model.parameters(), lr = 0.001)\n",
    "\n",
    "#criterion = nn.CrossEntropyLoss()\n",
    "criterion = nn.NLLLoss()"
   ]
  },
  {
   "cell_type": "code",
   "execution_count": 23,
   "metadata": {
    "colab": {
     "base_uri": "https://localhost:8080/"
    },
    "executionInfo": {
     "elapsed": 2104101,
     "status": "ok",
     "timestamp": 1621873635464,
     "user": {
      "displayName": "Álvaro Barreiro Garrido",
      "photoUrl": "https://lh6.googleusercontent.com/-MyFwdJKljQM/AAAAAAAAAAI/AAAAAAAAAx8/dul-WxxfCro/s64/photo.jpg",
      "userId": "06098121704066317706"
     },
     "user_tz": -120
    },
    "id": "lZvf1_kc7-1Q",
    "outputId": "213ecac6-ccde-41b0-e3c6-a5f4f9f9f758"
   },
   "outputs": [
    {
     "name": "stdout",
     "output_type": "stream",
     "text": [
      "0\n",
      "1\n",
      "2\n",
      "3\n",
      "4\n",
      "5\n",
      "6\n",
      "7\n",
      "8\n",
      "9\n",
      "10\n",
      "11\n",
      "12\n",
      "13\n",
      "14\n",
      "15\n",
      "16\n",
      "17\n",
      "18\n",
      "19\n",
      "20\n",
      "21\n",
      "22\n",
      "23\n",
      "24\n",
      "25\n",
      "26\n",
      "27\n",
      "28\n",
      "29\n",
      "[tensor(1.4109, device='cuda:0', grad_fn=<NllLossBackward>), tensor(1.2808, device='cuda:0', grad_fn=<NllLossBackward>), tensor(1.1014, device='cuda:0', grad_fn=<NllLossBackward>), tensor(1.0337, device='cuda:0', grad_fn=<NllLossBackward>), tensor(0.8392, device='cuda:0', grad_fn=<NllLossBackward>), tensor(0.6792, device='cuda:0', grad_fn=<NllLossBackward>), tensor(0.6461, device='cuda:0', grad_fn=<NllLossBackward>), tensor(0.6907, device='cuda:0', grad_fn=<NllLossBackward>), tensor(0.4395, device='cuda:0', grad_fn=<NllLossBackward>), tensor(0.4004, device='cuda:0', grad_fn=<NllLossBackward>), tensor(0.2941, device='cuda:0', grad_fn=<NllLossBackward>), tensor(0.2259, device='cuda:0', grad_fn=<NllLossBackward>), tensor(0.1787, device='cuda:0', grad_fn=<NllLossBackward>), tensor(0.2229, device='cuda:0', grad_fn=<NllLossBackward>), tensor(0.1502, device='cuda:0', grad_fn=<NllLossBackward>), tensor(0.1094, device='cuda:0', grad_fn=<NllLossBackward>), tensor(0.0932, device='cuda:0', grad_fn=<NllLossBackward>), tensor(0.0736, device='cuda:0', grad_fn=<NllLossBackward>), tensor(0.0642, device='cuda:0', grad_fn=<NllLossBackward>), tensor(0.0566, device='cuda:0', grad_fn=<NllLossBackward>), tensor(0.0504, device='cuda:0', grad_fn=<NllLossBackward>), tensor(0.0453, device='cuda:0', grad_fn=<NllLossBackward>), tensor(0.0410, device='cuda:0', grad_fn=<NllLossBackward>), tensor(0.0373, device='cuda:0', grad_fn=<NllLossBackward>), tensor(0.0342, device='cuda:0', grad_fn=<NllLossBackward>), tensor(0.0315, device='cuda:0', grad_fn=<NllLossBackward>), tensor(0.0291, device='cuda:0', grad_fn=<NllLossBackward>), tensor(0.0271, device='cuda:0', grad_fn=<NllLossBackward>), tensor(0.0252, device='cuda:0', grad_fn=<NllLossBackward>), tensor(0.0236, device='cuda:0', grad_fn=<NllLossBackward>)]\n",
      "[tensor(1.6229, device='cuda:0'), tensor(1.4912, device='cuda:0'), tensor(1.2559, device='cuda:0'), tensor(1.4414, device='cuda:0'), tensor(1.1153, device='cuda:0'), tensor(0.9347, device='cuda:0'), tensor(0.9579, device='cuda:0'), tensor(1.0567, device='cuda:0'), tensor(0.7460, device='cuda:0'), tensor(0.7820, device='cuda:0'), tensor(0.5298, device='cuda:0'), tensor(0.3874, device='cuda:0'), tensor(0.2931, device='cuda:0'), tensor(0.4108, device='cuda:0'), tensor(0.2896, device='cuda:0'), tensor(0.1773, device='cuda:0'), tensor(0.1415, device='cuda:0'), tensor(0.1149, device='cuda:0'), tensor(0.0982, device='cuda:0'), tensor(0.0860, device='cuda:0'), tensor(0.0762, device='cuda:0'), tensor(0.0681, device='cuda:0'), tensor(0.0615, device='cuda:0'), tensor(0.0559, device='cuda:0'), tensor(0.0511, device='cuda:0'), tensor(0.0470, device='cuda:0'), tensor(0.0435, device='cuda:0'), tensor(0.0404, device='cuda:0'), tensor(0.0377, device='cuda:0'), tensor(0.0352, device='cuda:0')]\n",
      "Duration: 281.39748638073604 minutes\n"
     ]
    }
   ],
   "source": [
    "# TRAINING THE MODEL:\n",
    "\n",
    "import time\n",
    "start_time = time.time()\n",
    "\n",
    "# Setting the image parameters:\n",
    "\n",
    "height = 48\n",
    "width = 192\n",
    "\n",
    "# Setting the sliding window parameters:\n",
    "\n",
    "patch_height = 48\n",
    "patch_width = 10\n",
    "stepsize = 2\n",
    "n_patches = int((width - patch_width)/stepsize + 1)\n",
    "\n",
    "# Setting the sliding window parameters:\n",
    "\n",
    "torch.manual_seed(123)\n",
    "epochs = 30\n",
    "train_losses = []\n",
    "val_losses = []\n",
    "\n",
    "for i in range(epochs):\n",
    "    \n",
    "    for j in range(len_train): # we chose individual words/images as batches:\n",
    "        \n",
    "        CNN_optimizer.zero_grad()\n",
    "        Encoder_optimizer.zero_grad()\n",
    "        Decoder_optimizer.zero_grad()\n",
    "        \n",
    "        image = 255 * np.ones(shape = [height, width], dtype = np.uint8)\n",
    "        image = cv2.putText(image, text = train_set[j], org = (5, 30),\n",
    "        fontFace = cv2.FONT_HERSHEY_SIMPLEX, fontScale = 0.7, color = (0, 0, 0),\n",
    "        thickness = 2, lineType = cv2.LINE_AA)\n",
    "        \n",
    "        image = transforms.ToPILImage()(image) # np.ndarray to PIL.Image.Image\n",
    "        \n",
    "        input_word = list(train_set[j])\n",
    "        input_word_length = len(input_word) # number of letters\n",
    "        encoder_hidden = Encoder_model.initHidden()\n",
    "        \n",
    "        \n",
    "        for p in range(n_patches):\n",
    "            \n",
    "            patch = transforms.functional.crop(image, 0, 0 + p * stepsize, patch_height, patch_width) # cropping of the image into patches\n",
    "            patch = transforms.ToTensor()(patch) # torch.Tensor of the patch (normalized)\n",
    "            #patch = skimage.util.random_noise(patch, mode='gaussian') # we set some random noise to the image\n",
    "            #patch = torch.from_numpy(patch) # conversion to pytorch tensor again\n",
    "            patch = 1. - patch # it will work better if we have white text over black background\n",
    "            patch = patch.view(1, 1, 48, 10) # CNN_model expects a 4-dimensional tensor (1 dimension for batch)\n",
    "            patch = patch.type(torch.FloatTensor) # conversion to float\n",
    "            patch = patch.cuda() # set to cuda\n",
    "\n",
    "            encoder_input = CNN_model(patch).cuda() # 1024-length vector associated to patch p (i.e. CNN output, Encoder input)\n",
    "            \n",
    "            _, encoder_hidden = Encoder_model(encoder_input, encoder_hidden)\n",
    "            \n",
    "        decoder_input = letter_to_vector('SOS_token').cuda()\n",
    "        decoder_hidden = encoder_hidden\n",
    "                \n",
    "        \n",
    "        for d in range(input_word_length):\n",
    "            \n",
    "            decoder_output, decoder_hidden = Decoder_model(decoder_input, decoder_hidden)\n",
    "            #decoder_input = letter_to_vector(input_word[d]) # teacher forcing\n",
    "            \n",
    "            one_hot_decoder_output = torch.zeros(1, 1, output_size).cuda()\n",
    "            one_hot_decoder_output[0][0][torch.argmax(decoder_output)] = 1.\n",
    "            decoder_input = one_hot_decoder_output.cuda()\n",
    "            \n",
    "            if torch.equal(one_hot_decoder_output, letter_to_vector('EOS_token').cuda()) == True:\n",
    "                break\n",
    "            \n",
    "            if d == 0:\n",
    "                \n",
    "                output_word = decoder_output \n",
    "                one_hot_input_letter = letter_to_vector(input_word[d]).type(torch.LongTensor)\n",
    "                one_hot_input_word = one_hot_input_letter\n",
    "                index = torch.argmax(one_hot_input_letter.view(output_size))\n",
    "                ground_letter = torch.tensor([index], dtype = torch.long)\n",
    "                ground_word = ground_letter\n",
    "                \n",
    "            else:\n",
    "                \n",
    "                output_word = torch.cat((output_word, decoder_output), dim = 0) # we concatenate the remaining output letters\n",
    "                one_hot_input_letter = letter_to_vector(input_word[d]).type(torch.LongTensor)\n",
    "                one_hot_input_word = torch.cat((one_hot_input_word, one_hot_input_letter), dim = 0)\n",
    "                index = torch.argmax(one_hot_input_letter.view(output_size))\n",
    "                ground_letter = torch.tensor([index], dtype = torch.long)\n",
    "                ground_word = torch.cat((ground_word, ground_letter), dim = 0)\n",
    "\n",
    "                \n",
    "        one_hot_input_word = one_hot_input_word.view(-1, output_size)\n",
    "        output_word = output_word.view(-1, output_size) \n",
    "        ground_word = ground_word.cuda()\n",
    "        loss = criterion(output_word, ground_word)\n",
    "        \n",
    "        loss.backward()\n",
    "        \n",
    "        CNN_optimizer.step()\n",
    "        Encoder_optimizer.step()\n",
    "        Decoder_optimizer.step()\n",
    "        \n",
    "    train_losses.append(loss)\n",
    "    \n",
    "    # VALIDATION SET:\n",
    "    \n",
    "    with torch.no_grad():\n",
    "        \n",
    "        for j in range(len_val): # we chose individual words/images as batches:\n",
    "        \n",
    "            image_val = 255 * np.ones(shape = [height, width], dtype = np.uint8)\n",
    "            image_val = cv2.putText(image_val, text = val_set[j], org = (5, 30),\n",
    "            fontFace = cv2.FONT_HERSHEY_SIMPLEX, fontScale = 0.7, color = (0, 0, 0),\n",
    "            thickness = 2, lineType = cv2.LINE_AA)\n",
    "\n",
    "            image_val = transforms.ToPILImage()(image_val) # np.ndarray to PIL.Image.Image\n",
    "\n",
    "            input_word_val = list(val_set[j])\n",
    "            input_word_val_length = len(input_word_val) # number of letters\n",
    "\n",
    "            encoder_hidden_val = Encoder_model.initHidden()\n",
    "        \n",
    "        \n",
    "            for p in range(n_patches):\n",
    "\n",
    "                patch_val = transforms.functional.crop(image_val, 0, 0 + p * stepsize, patch_height, patch_width) # cropping of the image into patches\n",
    "                patch_val = transforms.ToTensor()(patch_val) # torch.Tensor of the patch (normalized)\n",
    "                #patch_val = skimage.util.random_noise(patch_val, mode='gaussian') # we set some random noise to the image\n",
    "                #patch_val = torch.from_numpy(patch_val) # conversion to pytorch tensor again\n",
    "                patch_val = 1. - patch_val # it will work better if we have white text over black background\n",
    "                patch_val = patch_val.view(1, 1, 48, 10) # CNN_model expects a 4-dimensional tensor (1 dimension for batch)\n",
    "                patch_val = patch_val.type(torch.FloatTensor) # conversion to float\n",
    "                patch_val = patch_val.cuda() # set to cuda\n",
    "\n",
    "                encoder_input_val = CNN_model(patch_val).cuda() # 1024-length vector associated to patch p (i.e. CNN output, Encoder input)\n",
    "\n",
    "                _, encoder_hidden_val = Encoder_model(encoder_input_val, encoder_hidden_val)\n",
    "\n",
    "            decoder_input_val = letter_to_vector('SOS_token').cuda()\n",
    "            decoder_hidden_val = encoder_hidden_val\n",
    "\n",
    "\n",
    "            for d in range(input_word_val_length):\n",
    "\n",
    "                decoder_output_val, decoder_hidden_val = Decoder_model(decoder_input_val, decoder_hidden_val)\n",
    "                #decoder_input = letter_to_vector(input_word[d])\n",
    "\n",
    "                one_hot_decoder_output_val = torch.zeros(1, 1, output_size).cuda()\n",
    "                one_hot_decoder_output_val[0][0][torch.argmax(decoder_output_val)] = 1.\n",
    "                decoder_input_val = one_hot_decoder_output_val.cuda()\n",
    "\n",
    "                if torch.equal(one_hot_decoder_output_val, letter_to_vector('EOS_token').cuda()) == True:\n",
    "                    break\n",
    "\n",
    "                if d == 0:\n",
    "\n",
    "                    output_word_val = decoder_output_val\n",
    "                    one_hot_input_letter_val = letter_to_vector(input_word_val[d]).type(torch.LongTensor)\n",
    "                    one_hot_input_word_val = one_hot_input_letter_val\n",
    "                    index_val = torch.argmax(one_hot_input_letter_val.view(output_size))\n",
    "                    ground_letter_val = torch.tensor([index_val], dtype = torch.long)\n",
    "                    ground_word_val = ground_letter_val\n",
    "\n",
    "                else:\n",
    "\n",
    "                    output_word_val = torch.cat((output_word_val, decoder_output_val), dim = 0) # we concatenate the remaining output letters\n",
    "                    one_hot_input_letter_val = letter_to_vector(input_word_val[d]).type(torch.LongTensor)\n",
    "                    one_hot_input_word_val = torch.cat((one_hot_input_word_val, one_hot_input_letter_val), dim = 0)\n",
    "                    index_val = torch.argmax(one_hot_input_letter_val.view(output_size))\n",
    "                    ground_letter_val = torch.tensor([index_val], dtype = torch.long)\n",
    "                    ground_word_val = torch.cat((ground_word_val, ground_letter_val), dim = 0)\n",
    "\n",
    "            one_hot_input_word_val = one_hot_input_word_val.view(-1, output_size)\n",
    "            output_word_val = output_word_val.view(-1, output_size) \n",
    "            ground_word_val = ground_word_val.cuda()\n",
    "            loss_val = criterion(output_word_val, ground_word_val)\n",
    "\n",
    "        val_losses.append(loss_val)\n",
    "    \n",
    "    print(i)\n",
    "print(train_losses)\n",
    "print(val_losses)\n",
    "print(f'Duration: {(time.time() - start_time)/60} minutes')"
   ]
  },
  {
   "cell_type": "code",
   "execution_count": 34,
   "metadata": {
    "colab": {
     "base_uri": "https://localhost:8080/",
     "height": 298
    },
    "executionInfo": {
     "elapsed": 681,
     "status": "ok",
     "timestamp": 1621873726919,
     "user": {
      "displayName": "Álvaro Barreiro Garrido",
      "photoUrl": "https://lh6.googleusercontent.com/-MyFwdJKljQM/AAAAAAAAAAI/AAAAAAAAAx8/dul-WxxfCro/s64/photo.jpg",
      "userId": "06098121704066317706"
     },
     "user_tz": -120
    },
    "id": "ljL7hrKCQVTc",
    "outputId": "7c01b5d4-7a44-46bb-b61d-2ab9c4255fbb"
   },
   "outputs": [
    {
     "data": {
      "image/png": "[encoded data removed]",
      "text/plain": [
       "<Figure size 432x288 with 1 Axes>"
      ]
     },
     "metadata": {
      "needs_background": "light"
     },
     "output_type": "display_data"
    }
   ],
   "source": [
    "plt.yscale(\"log\")\n",
    "plt.plot(train_losses, label='training loss')\n",
    "plt.plot(val_losses, label='validation loss')\n",
    "plt.title('Losses per epoch CNN-S2S 6 words')\n",
    "plt.legend();\n",
    "plt.savefig('6 words losses log lr 0,001')"
   ]
  },
  {
   "cell_type": "code",
   "execution_count": 32,
   "metadata": {
    "colab": {
     "base_uri": "https://localhost:8080/"
    },
    "executionInfo": {
     "elapsed": 313,
     "status": "ok",
     "timestamp": 1621873802188,
     "user": {
      "displayName": "Álvaro Barreiro Garrido",
      "photoUrl": "https://lh6.googleusercontent.com/-MyFwdJKljQM/AAAAAAAAAAI/AAAAAAAAAx8/dul-WxxfCro/s64/photo.jpg",
      "userId": "06098121704066317706"
     },
     "user_tz": -120
    },
    "id": "SIYn5gtT8Ee-",
    "outputId": "23497762-8ef7-4652-fe13-e322ad3c0d8d"
   },
   "outputs": [
    {
     "name": "stdout",
     "output_type": "stream",
     "text": [
      "victoria\n",
      "Duration: 0.0017043749491373699 minutes\n"
     ]
    }
   ],
   "source": [
    "# EVALUATING THE MODEL:\n",
    "\n",
    "import time\n",
    "start_time = time.time()\n",
    "\n",
    "# Setting the image parameters:\n",
    "\n",
    "height = 48\n",
    "width = 192\n",
    "\n",
    "# Setting the sliding window parameters:\n",
    "\n",
    "patch_height = 48\n",
    "patch_width = 10 \n",
    "stepsize = 2\n",
    "n_patches = int((width - patch_width)/2 + 1)\n",
    "\n",
    "input_word_test = 'victoria'\n",
    "\n",
    "torch.manual_seed(123)\n",
    "\n",
    "image_test = 255 * np.ones(shape=[height, width], dtype=np.uint8)\n",
    "image_test = cv2.putText(image_test, text = input_word_test, org=(5, 30),\n",
    "fontFace= cv2.FONT_HERSHEY_SIMPLEX, fontScale=0.7, color=(0,0,0),\n",
    "thickness=2, lineType=cv2.LINE_AA)\n",
    "\n",
    "image_test = transforms.ToPILImage()(image_test) # np.ndarray to PIL.Image.Image\n",
    "\n",
    "input_word_test = list(input_word_test)\n",
    "input_word_test_length = len(input_word_test) # number of letters\n",
    "\n",
    "\n",
    "with torch.no_grad():\n",
    "    \n",
    "    encoder_hidden_test = Encoder_model.initHidden()\n",
    "\n",
    "    for p in range(n_patches):\n",
    "\n",
    "        patch_test = transforms.functional.crop(image_test, 0, 0 + p * stepsize, patch_height, patch_width) # cropping of the image into patches\n",
    "        patch_test = transforms.ToTensor()(patch_test) # torch.Tensor of the patch (normalized)\n",
    "        #patch_test = skimage.util.random_noise(patch_test, mode='gaussian')\n",
    "        #patch_test = torch.from_numpy(patch_test)\n",
    "        patch_test = 1. - patch_test\n",
    "        patch_test = patch_test.view(1, 1, 48, 10) # CNN_model expects a 4-dimensional tensor (1 dimension for batch)\n",
    "        patch_test = patch_test.type(torch.FloatTensor)\n",
    "        patch_test = patch_test.cuda()\n",
    "\n",
    "        encoder_input_test = CNN_model(patch_test).cuda() # 1024-length vector associated to patch p (i.e. CNN output, Encoder input)\n",
    "\n",
    "        _, encoder_hidden_test = Encoder_model(encoder_input_test, encoder_hidden_test)\n",
    "\n",
    "    decoder_input_test = letter_to_vector('SOS_token').cuda()\n",
    "    decoder_hidden_test = encoder_hidden_test\n",
    "\n",
    "\n",
    "    for d in range(input_word_test_length):\n",
    "\n",
    "        decoder_output_test, decoder_hidden_test = Decoder_model(decoder_input_test, decoder_hidden_test)\n",
    "        #decoder_input = letter_to_vector(input_word[d])\n",
    "\n",
    "        one_hot_decoder_output_test = torch.zeros(1, 1, output_size).cuda()\n",
    "        one_hot_decoder_output_test[0][0][torch.argmax(decoder_output_test)] = 1.\n",
    "        decoder_input_test = one_hot_decoder_output_test.cuda()\n",
    "\n",
    "        if torch.equal(one_hot_decoder_output_test, letter_to_vector('EOS_token').cuda())==True:\n",
    "            break\n",
    "\n",
    "        if d == 0:\n",
    "\n",
    "            output_word_test = decoder_output_test\n",
    "            one_hot_input_letter_test = letter_to_vector(input_word_test[d]).type(torch.LongTensor)\n",
    "            one_hot_input_word_test = one_hot_input_letter_test\n",
    "            index_test = torch.argmax(one_hot_input_letter_test.view(output_size))\n",
    "            ground_letter_test = torch.tensor([index_test], dtype = torch.long)\n",
    "            ground_word_test = ground_letter_test\n",
    "\n",
    "\n",
    "        else:\n",
    "\n",
    "            output_word_test = torch.cat((output_word_test, decoder_output_test), dim = 0) # we concatenate the remaining output letters\n",
    "            one_hot_input_letter_test = letter_to_vector(input_word_test[d]).type(torch.LongTensor)\n",
    "            one_hot_input_word_test = torch.cat((one_hot_input_word_test, one_hot_input_letter_test), dim = 0)\n",
    "            index_test = torch.argmax(one_hot_input_letter_test.view(output_size))\n",
    "            ground_letter_test = torch.tensor([index_test], dtype = torch.long)\n",
    "            ground_word_test = torch.cat((ground_word_test, ground_letter_test), dim = 0)\n",
    "\n",
    "\n",
    "    one_hot_input_word_test = one_hot_input_word_test.view(-1, output_size)\n",
    "    output_word_test = output_word_test.view(-1, output_size) \n",
    "    ground_word_test = ground_word_test.cuda()\n",
    "\n",
    "\n",
    "model_word = []\n",
    "\n",
    "indices = torch.argmax(output_word_test, dim = 1)\n",
    "for i in range(indices.numel()):\n",
    "    model_word.append(letters[indices[i]])\n",
    "\n",
    "model_word = ''.join(model_word)    \n",
    "print(model_word)\n",
    "\n",
    "        \n",
    "print(f'Duration: {(time.time() - start_time)/60} minutes')"
   ]
  },
  {
   "cell_type": "code",
   "execution_count": 33,
   "metadata": {
    "id": "QEsjkoWm7H-7"
   },
   "outputs": [],
   "source": [
    "torch.save(CNN_model.state_dict(), 'CNN_model_6_words.pt')\n",
    "torch.save(Encoder_model.state_dict(), 'Encoder_model_6_words.pt')\n",
    "torch.save(Decoder_model.state_dict(), 'Decoder_model_6_words.pt')"
   ]
  },
  {
   "cell_type": "code",
   "execution_count": null,
   "metadata": {},
   "outputs": [],
   "source": []
  }
 ],
 "metadata": {
  "accelerator": "GPU",
  "colab": {
   "collapsed_sections": [],
   "name": "Untitled5.ipynb",
   "provenance": []
  },
  "kernelspec": {
   "display_name": "pytorch_estoril",
   "language": "python",
   "name": "pytorch_estoril"
  },
  "language_info": {
   "codemirror_mode": {
    "name": "ipython",
    "version": 3
   },
   "file_extension": ".py",
   "mimetype": "text/x-python",
   "name": "python",
   "nbconvert_exporter": "python",
   "pygments_lexer": "ipython3",
   "version": "3.6.10"
  }
 },
 "nbformat": 4,
 "nbformat_minor": 1
}
