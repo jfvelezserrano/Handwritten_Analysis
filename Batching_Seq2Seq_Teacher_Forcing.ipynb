{
 "cells": [
  {
   "cell_type": "code",
   "execution_count": 144,
   "metadata": {},
   "outputs": [
    {
     "name": "stdout",
     "output_type": "stream",
     "text": [
      "1.1.0\n",
      "3.6.10\n"
     ]
    }
   ],
   "source": [
    "# Importing the required libraries:\n",
    "\n",
    "import torch\n",
    "import torch.nn as nn\n",
    "import torch.nn.functional as F\n",
    "from torch import optim\n",
    "from torch.utils.data import DataLoader\n",
    "from torchvision import datasets, transforms, models\n",
    "from torchvision.utils import make_grid\n",
    "import os\n",
    "import cv2\n",
    "import skimage\n",
    "\n",
    "import numpy as np\n",
    "import pandas as pd\n",
    "from IPython.display import display\n",
    "import matplotlib.pyplot as plt\n",
    "%matplotlib inline \n",
    "\n",
    "# Ignore harmless warnings:\n",
    "\n",
    "import warnings\n",
    "warnings.filterwarnings(\"ignore\")\n",
    "device = torch.device(\"cuda\" if torch.cuda.is_available() else \"cpu\")\n",
    "\n",
    "import platform\n",
    "print(torch.__version__)\n",
    "print(platform.python_version())"
   ]
  },
  {
   "cell_type": "code",
   "execution_count": 145,
   "metadata": {},
   "outputs": [
    {
     "data": {
      "text/plain": [
       "'TITAN X (Pascal)'"
      ]
     },
     "execution_count": 145,
     "metadata": {},
     "output_type": "execute_result"
    }
   ],
   "source": [
    "torch.cuda.get_device_name(0)"
   ]
  },
  {
   "cell_type": "code",
   "execution_count": 146,
   "metadata": {},
   "outputs": [],
   "source": [
    "train_set = ['hola', 'urjc', 'gavab', 'estoril', 'alvaro', 'victoria', 'jose', 'fuengirola'] * 512\n",
    "val_set = ['hola', 'urjc', 'gavab', 'estoril', 'alvaro', 'victoria', 'jose', 'fuengirola'] * 64\n",
    "test_set = ['estoril', 'fuengirola']\n",
    "\n",
    "MAX_LENGTH = max(len(list(word)) for word in train_set)\n",
    "\n",
    "len_train = len(train_set)\n",
    "len_val = len(val_set)"
   ]
  },
  {
   "cell_type": "code",
   "execution_count": 147,
   "metadata": {},
   "outputs": [
    {
     "name": "stdout",
     "output_type": "stream",
     "text": [
      "tensor([[[0., 0., 0., 0., 0., 0., 0., 0., 0., 0., 0., 0., 0., 0., 0., 0., 0., 0., 0., 0., 0., 0., 0.,\n",
      "          0., 0., 0., 0., 0.]]])\n",
      "tensor([[[1., 0., 0., 0., 0., 0., 0., 0., 0., 0., 0., 0., 0., 0., 0., 0., 0.,\n",
      "          0., 0., 0., 0., 0., 0., 0., 0., 0., 0., 0.]]])\n"
     ]
    }
   ],
   "source": [
    "# Function to convert letters (and therefore words) into PyTorch tensors:\n",
    "\n",
    "letters = ['SOS_token', 'a', 'b', 'c', 'd', 'e', 'f', 'g', 'h', 'i', 'j', 'k',\n",
    "          'l', 'm', 'n', 'o', 'p', 'q', 'r', 's', 't', 'u', 'v', 'w', 'x', 'y', 'z', 'EOS_token']\n",
    "\n",
    "PAD_token = torch.zeros(1, 1, 28)\n",
    "\n",
    "def letter_to_vector(letter):\n",
    "    vector = torch.zeros(1, 1, len(letters))\n",
    "    for i in range(len(letters)):\n",
    "        if letters[i] == letter:\n",
    "            vector[0, 0, i] = 1.\n",
    "    return(vector)\n",
    "\n",
    "print(PAD_token)\n",
    "print(letter_to_vector('SOS_token'))"
   ]
  },
  {
   "cell_type": "code",
   "execution_count": 148,
   "metadata": {},
   "outputs": [],
   "source": [
    "def patch_gen(word, n_patches, patch_height, patch_width, stepsize):\n",
    "    \n",
    "    image = 255 * np.ones(shape = [height, width], dtype = np.uint8)\n",
    "    image = cv2.putText(image, text = word, org = (5, 30),\n",
    "    fontFace = cv2.FONT_HERSHEY_SIMPLEX, fontScale = 0.7, color = (0, 0, 0),\n",
    "    thickness = 2, lineType = cv2.LINE_AA)\n",
    "    image = transforms.ToPILImage()(image) # np.ndarray to PIL.Image.Image\n",
    "    patches_tensor = torch.empty(n_patches, 1, patch_height, patch_width)\n",
    "    \n",
    "    for p in range(n_patches):\n",
    "        \n",
    "        patch = transforms.functional.crop(image, 0, 0 + p * stepsize, patch_height, patch_width) # cropping of the image into patches\n",
    "        patch = transforms.ToTensor()(patch) # torch.Tensor of the patch (normalized)\n",
    "        #patch = skimage.util.random_noise(patch, mode='gaussian') # we set some random noise to the image\n",
    "        #patch = torch.from_numpy(patch) # conversion to pytorch tensor again\n",
    "        patch = 1. - patch # it will work better if we have white text over black background\n",
    "        patch = patch.view(1, 1, patch_height, patch_width) # CNN_model expects a 4-dimensional tensor (1 dimension for batch)\n",
    "        patch = patch.type(torch.FloatTensor) # conversion to float\n",
    "        patch = patch.cuda() # set to cuda\n",
    "        patches_tensor[p, 0, :, :] = patch\n",
    "        patches_tensor = patches_tensor.cuda()\n",
    "        \n",
    "    return patches_tensor"
   ]
  },
  {
   "cell_type": "code",
   "execution_count": 149,
   "metadata": {},
   "outputs": [],
   "source": [
    "# Setting image and sliding window parameters:\n",
    "\n",
    "height = 48\n",
    "width = 192\n",
    "patch_height = 48\n",
    "patch_width = 10\n",
    "stepsize = 2\n",
    "color_channels = 1\n",
    "n_patches = int((width - patch_width)/stepsize + 1)"
   ]
  },
  {
   "cell_type": "code",
   "execution_count": 150,
   "metadata": {},
   "outputs": [],
   "source": [
    "# Defining function to get a tuple for each image with (its 92 tensor patches, label):\n",
    "\n",
    "def complete_set(set):\n",
    "    complete_set = []\n",
    "    for word in set:\n",
    "        complete_set.append((patch_gen(word, n_patches, patch_height, patch_width, stepsize), word))\n",
    "        \n",
    "    return complete_set"
   ]
  },
  {
   "cell_type": "code",
   "execution_count": 151,
   "metadata": {},
   "outputs": [],
   "source": [
    "comp_train_set = complete_set(set = train_set)\n",
    "comp_val_set = complete_set(set = val_set)\n",
    "comp_test_set = complete_set(set = test_set)"
   ]
  },
  {
   "cell_type": "code",
   "execution_count": 152,
   "metadata": {},
   "outputs": [
    {
     "name": "stdout",
     "output_type": "stream",
     "text": [
      "torch.Size([2, 92, 1, 48, 10])\n",
      "torch.Size([184, 1, 48, 10])\n",
      "('jose', 'victoria')\n"
     ]
    }
   ],
   "source": [
    "# Loading data in image batches:\n",
    "\n",
    "batch_size = 2\n",
    "\n",
    "train_loader = DataLoader(comp_train_set, batch_size = batch_size, shuffle=True)\n",
    "val_loader = DataLoader(comp_val_set, batch_size = batch_size, shuffle=False)\n",
    "test_loader = DataLoader(comp_test_set, batch_size = batch_size, shuffle=False)\n",
    "\n",
    "\n",
    "for image, label in train_loader:\n",
    "    break\n",
    "    \n",
    "image_cnn = image.view(-1, color_channels, patch_height, patch_width)   \n",
    "print(image.shape)\n",
    "print(image_cnn.shape)\n",
    "print(label)"
   ]
  },
  {
   "cell_type": "code",
   "execution_count": 153,
   "metadata": {},
   "outputs": [],
   "source": [
    "def get_one_hot_target(label):\n",
    "    \n",
    "    one_hot_target = torch.zeros(batch_size, MAX_LENGTH + 1, output_size) # one_hot_tensor of the input batch of words for Decoder\n",
    "    \n",
    "    for j in range(batch_size): # for each word of the batch\n",
    "        \n",
    "        length = len(list(label[j])) # compute the number of letters\n",
    "        \n",
    "        one_hot_target[j, 0, :] = letter_to_vector('SOS_token') # the first letter of every word is always the SOS_token\n",
    "        \n",
    "        for k in range(length): # for each letter\n",
    "            \n",
    "            one_hot_target[j, k + 1, :] = letter_to_vector(list(label[j])[k]) # add the one_hot vector of that letter\n",
    "                                                                              # to the global tensor\n",
    "    return one_hot_target        "
   ]
  },
  {
   "cell_type": "code",
   "execution_count": 154,
   "metadata": {},
   "outputs": [],
   "source": [
    "# Defining model and architecture:\n",
    "\n",
    "# CONVOLUTIONAL NEURAL NETWORK:\n",
    "\n",
    "class ConvolutionalNetwork(nn.Module):\n",
    "    def __init__(self):\n",
    "        super().__init__()\n",
    "        self.conv1 = nn.Conv2d(1, 20, 5, 1, 2) # padding???\n",
    "        self.conv2 = nn.Conv2d(20, 50, 5, 1, 2)\n",
    "        self.fc1 = nn.Linear(12*2*50, 1024)\n",
    "\n",
    "    def forward(self, X):\n",
    "        X = F.relu(self.conv1(X))\n",
    "        X = F.max_pool2d(X, 2, 2)\n",
    "        X = F.relu(self.conv2(X))\n",
    "        X = F.max_pool2d(X, 2, 2)\n",
    "        X = X.view(-1, 12*2*50) # -1 para no tener que determinar aquí el tamaño del batch (se ajusta, podemos variarlo)\n",
    "        X = F.relu(self.fc1(X))\n",
    "\n",
    "        return X "
   ]
  },
  {
   "cell_type": "code",
   "execution_count": 155,
   "metadata": {},
   "outputs": [],
   "source": [
    "# ENCODER:\n",
    "\n",
    "class EncoderRNN(nn.Module):\n",
    "    def __init__(self, input_size, hidden_size):\n",
    "        \n",
    "        super(EncoderRNN, self).__init__()\n",
    "        self.hidden_size = hidden_size\n",
    "        self.lstm = nn.LSTM(input_size, hidden_size, batch_first = True)\n",
    "\n",
    "    def forward(self, input, hidden):\n",
    "        \n",
    "        output = input.view(batch_size, n_patches, input_size)\n",
    "        output, hidden = self.lstm(output, hidden)\n",
    "        return output, hidden\n",
    "\n",
    "    def initHidden(self):\n",
    "        return (torch.zeros(1, batch_size, self.hidden_size, device=device),\n",
    "                torch.zeros(1, batch_size, self.hidden_size, device=device))"
   ]
  },
  {
   "cell_type": "code",
   "execution_count": 156,
   "metadata": {},
   "outputs": [],
   "source": [
    "# DECODER:\n",
    "\n",
    "class DecoderRNN(nn.Module):\n",
    "    def __init__(self, hidden_size, output_size):\n",
    "        super(DecoderRNN, self).__init__()\n",
    "        self.hidden_size = hidden_size\n",
    "\n",
    "        self.lstm = nn.LSTM(output_size, hidden_size, batch_first = True)\n",
    "        self.out = nn.Linear(hidden_size, output_size)\n",
    "        self.softmax = nn.LogSoftmax(dim = 2) \n",
    "        # dim = 2 porque esta última dimensión es la correspondiente a output_size, que es sobre\n",
    "        # la que queremos hacer el softmax\n",
    "\n",
    "    def forward(self, input, hidden):\n",
    "        #output = input.view(batch_size, MAX_LENGTH + 1, output_size)\n",
    "        output = input\n",
    "        #output = F.relu(output) # la relu se metía aquí porque en el\n",
    "        #caso NLP del ejemplo de PyTorch previamente había una capa de embedding\n",
    "        #No nos hace falta porque nuestro tensor de inputs ya es one-hot\n",
    "        output, hidden = self.lstm(output, hidden)\n",
    "        output = self.out(output)\n",
    "        output = self.softmax(output)\n",
    "        return output, hidden\n",
    "\n",
    "    def initHidden(self):\n",
    "        return (torch.zeros(1, batch_size, self.hidden_size, device=device),\n",
    "               torch.zeros(1, batch_size, self.hidden_size, device=device))"
   ]
  },
  {
   "cell_type": "code",
   "execution_count": 158,
   "metadata": {},
   "outputs": [],
   "source": [
    "torch.manual_seed(123)\n",
    "\n",
    "input_size = 1024\n",
    "hidden_size = 256\n",
    "output_size = 28\n",
    "\n",
    "CNN_model = ConvolutionalNetwork().cuda()\n",
    "CNN_optimizer = torch.optim.Adam(CNN_model.parameters(), lr = 0.001)\n",
    "\n",
    "Encoder_model = EncoderRNN(input_size = input_size, hidden_size = hidden_size).cuda()\n",
    "Encoder_optimizer = optim.SGD(Encoder_model.parameters(), lr = 0.001)\n",
    "\n",
    "Decoder_model = DecoderRNN(hidden_size = hidden_size, output_size = output_size).cuda()\n",
    "Decoder_optimizer = optim.SGD(Decoder_model.parameters(), lr = 0.001)\n",
    "\n",
    "#criterion = nn.CrossEntropyLoss()\n",
    "criterion = nn.NLLLoss()"
   ]
  },
  {
   "cell_type": "code",
   "execution_count": 159,
   "metadata": {
    "scrolled": false
   },
   "outputs": [
    {
     "name": "stdout",
     "output_type": "stream",
     "text": [
      "0\n",
      "1\n",
      "2\n",
      "3\n",
      "4\n",
      "5\n",
      "6\n",
      "7\n",
      "8\n",
      "9\n",
      "10\n",
      "11\n",
      "12\n",
      "13\n",
      "14\n",
      "15\n",
      "16\n",
      "17\n",
      "18\n",
      "19\n",
      "20\n",
      "21\n",
      "22\n",
      "23\n",
      "24\n",
      "25\n",
      "26\n",
      "27\n",
      "28\n",
      "29\n",
      "Duration: 10.741639296213785 minutes\n",
      "[tensor(1.9803, device='cuda:0', grad_fn=<DivBackward0>), tensor(1.8501, device='cuda:0', grad_fn=<DivBackward0>), tensor(1.2566, device='cuda:0', grad_fn=<DivBackward0>), tensor(1.3551, device='cuda:0', grad_fn=<DivBackward0>), tensor(1.8163, device='cuda:0', grad_fn=<DivBackward0>), tensor(0.8292, device='cuda:0', grad_fn=<DivBackward0>), tensor(0.7231, device='cuda:0', grad_fn=<DivBackward0>), tensor(1.0175, device='cuda:0', grad_fn=<DivBackward0>), tensor(0.9671, device='cuda:0', grad_fn=<DivBackward0>), tensor(0.9338, device='cuda:0', grad_fn=<DivBackward0>), tensor(0.8569, device='cuda:0', grad_fn=<DivBackward0>), tensor(1.1085, device='cuda:0', grad_fn=<DivBackward0>), tensor(0.8065, device='cuda:0', grad_fn=<DivBackward0>), tensor(0.5819, device='cuda:0', grad_fn=<DivBackward0>), tensor(0.5589, device='cuda:0', grad_fn=<DivBackward0>), tensor(0.5567, device='cuda:0', grad_fn=<DivBackward0>), tensor(0.5665, device='cuda:0', grad_fn=<DivBackward0>), tensor(0.3135, device='cuda:0', grad_fn=<DivBackward0>), tensor(0.4199, device='cuda:0', grad_fn=<DivBackward0>), tensor(0.2602, device='cuda:0', grad_fn=<DivBackward0>), tensor(0.4135, device='cuda:0', grad_fn=<DivBackward0>), tensor(0.2881, device='cuda:0', grad_fn=<DivBackward0>), tensor(0.1833, device='cuda:0', grad_fn=<DivBackward0>), tensor(0.1846, device='cuda:0', grad_fn=<DivBackward0>), tensor(0.2114, device='cuda:0', grad_fn=<DivBackward0>), tensor(0.1652, device='cuda:0', grad_fn=<DivBackward0>), tensor(0.2438, device='cuda:0', grad_fn=<DivBackward0>), tensor(0.2088, device='cuda:0', grad_fn=<DivBackward0>), tensor(0.2019, device='cuda:0', grad_fn=<DivBackward0>), tensor(0.0707, device='cuda:0', grad_fn=<DivBackward0>)]\n",
      "[tensor(2.4067, device='cuda:0'), tensor(2.0848, device='cuda:0'), tensor(1.8554, device='cuda:0'), tensor(1.6800, device='cuda:0'), tensor(1.5089, device='cuda:0'), tensor(1.3577, device='cuda:0'), tensor(1.2234, device='cuda:0'), tensor(1.1558, device='cuda:0'), tensor(1.0348, device='cuda:0'), tensor(0.9320, device='cuda:0'), tensor(0.8345, device='cuda:0'), tensor(0.7719, device='cuda:0'), tensor(0.7055, device='cuda:0'), tensor(0.6432, device='cuda:0'), tensor(0.5869, device='cuda:0'), tensor(0.5338, device='cuda:0'), tensor(0.4887, device='cuda:0'), tensor(0.4487, device='cuda:0'), tensor(0.4131, device='cuda:0'), tensor(0.3812, device='cuda:0'), tensor(0.3513, device='cuda:0'), tensor(0.3237, device='cuda:0'), tensor(0.2988, device='cuda:0'), tensor(0.2765, device='cuda:0'), tensor(0.2568, device='cuda:0'), tensor(0.2427, device='cuda:0'), tensor(0.2230, device='cuda:0'), tensor(0.2083, device='cuda:0'), tensor(0.1944, device='cuda:0'), tensor(0.2027, device='cuda:0')]\n"
     ]
    }
   ],
   "source": [
    "# TRAINING THE MODEL:\n",
    "\n",
    "import time\n",
    "start_time = time.time()\n",
    "\n",
    "epochs = 30\n",
    "\n",
    "train_losses = []\n",
    "val_losses = []\n",
    "\n",
    "torch.manual_seed(123)\n",
    "\n",
    "for i in range(epochs):\n",
    "    \n",
    "    for b, (image, label) in enumerate(train_loader):\n",
    "        \n",
    "        b += 1\n",
    "        \n",
    "        encoder_hidden = Encoder_model.initHidden()\n",
    "        \n",
    "        image_cnn = image.view(-1, color_channels, patch_height, patch_width).cuda()\n",
    "        encoder_input = CNN_model(image_cnn)\n",
    "        _, encoder_hidden = Encoder_model(encoder_input, encoder_hidden)\n",
    "        \n",
    "        decoder_hidden = encoder_hidden\n",
    "        decoder_input = get_one_hot_target(label=label).cuda()\n",
    "        decoder_output, decoder_hidden = Decoder_model(decoder_input, decoder_hidden)\n",
    "        \n",
    "        output_indices = torch.tensor(list(range(0, MAX_LENGTH))).cuda() # remove EOS_token from the output\n",
    "        decoder_output = torch.index_select(decoder_output, dim = 1, index = output_indices)\n",
    "        \n",
    "        ground_truth = torch.argmax(decoder_input, 2)\n",
    "        target_indices = torch.tensor(list(range(1, MAX_LENGTH + 1))).cuda() # remove SOS_token from the input\n",
    "        ground_truth = torch.index_select(ground_truth, dim = 1, index = target_indices)\n",
    "        #decoder_output = decoder_output.view(batch_size, output_size, MAX_LENGTH)\n",
    "        \n",
    "        loss = 0\n",
    "        \n",
    "        for j in range(batch_size):\n",
    "            \n",
    "            loss += criterion(decoder_output[j], ground_truth[j])   \n",
    "        #loss = criterion(decoder_output[j], ground_truth[j]) + criterion(decoder_output[1], ground_truth[1])\n",
    "        \n",
    "        loss = loss/batch_size\n",
    "        \n",
    "        CNN_optimizer.zero_grad()\n",
    "        Encoder_optimizer.zero_grad()\n",
    "        Decoder_optimizer.zero_grad()\n",
    "        \n",
    "        loss.backward()\n",
    "        \n",
    "        CNN_optimizer.step()\n",
    "        Encoder_optimizer.step()\n",
    "        Decoder_optimizer.step()\n",
    "    \n",
    "    \n",
    "    with torch.no_grad():\n",
    "        \n",
    "        for v, (image_val, label_val) in enumerate(val_loader):\n",
    "        \n",
    "            v += 1\n",
    "\n",
    "            encoder_hidden_val = Encoder_model.initHidden()\n",
    "\n",
    "            image_cnn_val = image_val.view(-1, color_channels, patch_height, patch_width).cuda()\n",
    "            encoder_input_val = CNN_model(image_cnn_val)\n",
    "            _, encoder_hidden_val = Encoder_model(encoder_input_val, encoder_hidden_val)\n",
    "\n",
    "            decoder_hidden_val = encoder_hidden_val\n",
    "            decoder_input_val = get_one_hot_target(label=label_val).cuda()\n",
    "            decoder_output_val, decoder_hidden_val = Decoder_model(decoder_input_val, decoder_hidden_val)\n",
    "\n",
    "            output_indices_val = torch.tensor(list(range(0, MAX_LENGTH))).cuda() # remove EOS_token from the output\n",
    "            decoder_output_val = torch.index_select(decoder_output_val, dim = 1, index = output_indices_val)\n",
    "\n",
    "            ground_truth_val = torch.argmax(decoder_input_val, 2)\n",
    "            target_indices_val = torch.tensor(list(range(1, MAX_LENGTH + 1))).cuda() # remove SOS_token from the input\n",
    "            ground_truth_val = torch.index_select(ground_truth_val, dim = 1, index = target_indices_val)\n",
    "            #decoder_output_val = decoder_output_val.view(batch_size, output_size, MAX_LENGTH)\n",
    "            \n",
    "            loss_val = 0\n",
    "            \n",
    "            for j in range(batch_size):\n",
    "                \n",
    "                loss_val += criterion(decoder_output_val[j], ground_truth_val[j])\n",
    "            \n",
    "            #loss_val = criterion(decoder_output_val[0], ground_truth_val[0]) + criterion(decoder_output_val[1], ground_truth_val[1])\n",
    "            loss_val = loss_val/batch_size\n",
    "        \n",
    "        \n",
    "    train_losses.append(loss)\n",
    "    val_losses.append(loss_val)\n",
    "    print(i)\n",
    "    \n",
    "print(f'Duration: {(time.time() - start_time)/60} minutes')    \n",
    "print(train_losses)\n",
    "print(val_losses)"
   ]
  },
  {
   "cell_type": "code",
   "execution_count": 160,
   "metadata": {},
   "outputs": [
    {
     "data": {
      "image/png": "[encoded data removed]",
      "text/plain": [
       "<Figure size 432x288 with 1 Axes>"
      ]
     },
     "metadata": {
      "needs_background": "light"
     },
     "output_type": "display_data"
    }
   ],
   "source": [
    "# Plotting results\n",
    "\n",
    "plt.yscale(\"log\")\n",
    "plt.plot(train_losses, label='training loss')\n",
    "plt.plot(val_losses, label='validation loss')\n",
    "plt.title('Losses per epoch CNN-S2S 8 words')\n",
    "plt.legend();\n",
    "#plt.savefig('8 words training losses lr=0,001, bs=2')"
   ]
  },
  {
   "cell_type": "code",
   "execution_count": 61,
   "metadata": {},
   "outputs": [],
   "source": [
    "#torch.save(CNN_model.state_dict(), 'CNN_model_8_words_batch.pt')\n",
    "#torch.save(Encoder_model.state_dict(), 'Encoder_model_8_words_batch.pt')\n",
    "#torch.save(Decoder_model.state_dict(), 'Decoder_model_8_words_batch.pt')"
   ]
  },
  {
   "cell_type": "code",
   "execution_count": 246,
   "metadata": {},
   "outputs": [
    {
     "name": "stdout",
     "output_type": "stream",
     "text": [
      "torch.Size([1, 10, 28])\n",
      "torch.Size([1, 10, 28])\n",
      "tensor([[ 5, 19, 20, 15, 18,  9, 12,  0,  0,  0],\n",
      "        [ 6, 21,  5, 14,  7,  9, 18, 15, 12,  1]], device='cuda:0')\n",
      "['e', 's', 't', 'o', 'r', 'i', 'l', 'SOS_token', 'SOS_token', 'SOS_token']\n",
      "['f', 'u', 'e', 'n', 'g', 'i', 'r', 'o', 'l', 'a']\n"
     ]
    }
   ],
   "source": [
    "with torch.no_grad():\n",
    "        \n",
    "    for t, (image_test, label_test) in enumerate(test_loader):\n",
    "\n",
    "        t += 1\n",
    "\n",
    "        encoder_hidden_test = Encoder_model.initHidden()\n",
    "        image_cnn_test = image_test.view(-1, color_channels, patch_height, patch_width).cuda()\n",
    "        encoder_input_test = CNN_model(image_cnn_test)\n",
    "        encoder_outputs_test, encoder_hidden_test = Encoder_model(encoder_input_test, encoder_hidden_test)\n",
    "    \n",
    "        for j in range(batch_size):\n",
    "           \n",
    "            decoder_input_test = letter_to_vector('SOS_token').cuda() # We initialize the first Decoder input as the SOS token\n",
    "            \n",
    "            decoder_hidden_test = (encoder_hidden_test[0][0, j, :].view(1, 1, hidden_size), # We take the last hidden state of the Encoder \n",
    "                                   encoder_hidden_test[1][0, j, :].view(1, 1, hidden_size)) # for each image/word (j) within the patch \n",
    "            # This would be the first hidden state of the Decoder for image/word (j)\n",
    "\n",
    "            for d in range(MAX_LENGTH):\n",
    "                \n",
    "                decoder_output_test, decoder_hidden_test = Decoder_model(decoder_input_test, decoder_hidden_test)\n",
    "                \n",
    "                if d == 0:\n",
    "                    \n",
    "                    output_word = decoder_output_test\n",
    "                    \n",
    "                else:\n",
    "                    \n",
    "                    output_word = torch.cat((output_word, decoder_output_test), dim = 1).cuda()\n",
    "                    \n",
    "            output_word = torch.argmax(output_word, dim = 2)\n",
    "            \n",
    "            \n",
    "            if j == 0:\n",
    "                \n",
    "                total_output_word = output_word\n",
    "                \n",
    "            else:\n",
    "                \n",
    "                total_output_word = torch.cat((total_output_word, output_word), dim = 0)\n",
    "           \n",
    "    print(total_output_word)\n",
    "\n",
    "\n",
    "for j in range(batch_size):\n",
    "    \n",
    "    model_word = []\n",
    "    \n",
    "    for i in range(total_output_word[j].numel()):\n",
    "        \n",
    "        \n",
    "        model_word.append(letters[total_output_word[j][i]])\n",
    "        \n",
    "\n",
    "    #model_word = ''.join(model_word)    \n",
    "    print(model_word)\n",
    "\n"
   ]
  },
  {
   "cell_type": "code",
   "execution_count": 140,
   "metadata": {},
   "outputs": [
    {
     "name": "stdout",
     "output_type": "stream",
     "text": [
      "tensor([[[-2.2407, -0.3303, -1.2581],\n",
      "         [-0.1125, -1.2684, -0.3344]]])\n",
      "tensor([[[-1.3905, -0.8152, -0.3204],\n",
      "         [ 0.7377, -1.7534,  0.6033]]])\n"
     ]
    }
   ],
   "source": [
    "torch.manual_seed(101)\n",
    "c = nn.LogSoftmax(dim=1)\n",
    "a = torch.randn(1,2,3)\n",
    "print(c(a))\n",
    "print(a)"
   ]
  },
  {
   "cell_type": "code",
   "execution_count": 91,
   "metadata": {},
   "outputs": [
    {
     "data": {
      "text/plain": [
       "-1.7392961570497802"
      ]
     },
     "execution_count": 91,
     "metadata": {},
     "output_type": "execute_result"
    }
   ],
   "source": [
    "np.log((np.exp(-1.3905))/(np.exp(-1.3905) + np.exp(-0.8152) + np.exp(-0.3204)))"
   ]
  },
  {
   "cell_type": "code",
   "execution_count": 141,
   "metadata": {},
   "outputs": [
    {
     "data": {
      "text/plain": [
       "-2.240681356437162"
      ]
     },
     "execution_count": 141,
     "metadata": {},
     "output_type": "execute_result"
    }
   ],
   "source": [
    "np.log((np.exp(-1.3905))/(np.exp(-1.3905) + np.exp(0.7377)))"
   ]
  },
  {
   "cell_type": "code",
   "execution_count": 221,
   "metadata": {},
   "outputs": [
    {
     "name": "stdout",
     "output_type": "stream",
     "text": [
      "tensor([1., 1., 1., 1., 1., 1., 1., 1., 1., 1., 1., 1., 1., 1., 1., 1., 1., 1.,\n",
      "        1., 1., 1., 1., 1., 1., 1., 1., 1., 1.])\n",
      "tensor(27)\n"
     ]
    }
   ],
   "source": [
    "a = torch.ones(28)\n",
    "c = torch.argmax(a, dim = 0)\n",
    "print(a)\n",
    "print(c)"
   ]
  },
  {
   "cell_type": "code",
   "execution_count": null,
   "metadata": {},
   "outputs": [],
   "source": []
  }
 ],
 "metadata": {
  "kernelspec": {
   "display_name": "pytorch_estoril",
   "language": "python",
   "name": "pytorch_estoril"
  },
  "language_info": {
   "codemirror_mode": {
    "name": "ipython",
    "version": 3
   },
   "file_extension": ".py",
   "mimetype": "text/x-python",
   "name": "python",
   "nbconvert_exporter": "python",
   "pygments_lexer": "ipython3",
   "version": "3.6.10"
  }
 },
 "nbformat": 4,
 "nbformat_minor": 2
}
