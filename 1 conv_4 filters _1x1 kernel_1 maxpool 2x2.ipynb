{
 "cells": [
  {
   "cell_type": "code",
   "execution_count": 1,
   "metadata": {},
   "outputs": [
    {
     "name": "stdout",
     "output_type": "stream",
     "text": [
      "1.8.1\n",
      "3.6.10\n"
     ]
    }
   ],
   "source": [
    "# IMPORTING THE REQUIRED LIBRARIES:\n",
    "\n",
    "import torch\n",
    "import torch.nn as nn\n",
    "import torch.nn.functional as F\n",
    "from torch import optim\n",
    "from torch.utils.data import DataLoader\n",
    "from torchvision import datasets, transforms, models\n",
    "from torchvision.utils import make_grid\n",
    "import os\n",
    "import cv2\n",
    "import skimage\n",
    "\n",
    "import numpy as np\n",
    "import pandas as pd\n",
    "from IPython.display import display\n",
    "import matplotlib.pyplot as plt\n",
    "%matplotlib inline \n",
    "\n",
    "# Ignore harmless warnings:\n",
    "\n",
    "import warnings\n",
    "warnings.filterwarnings(\"ignore\")\n",
    "device = torch.device(\"cuda:0\" if torch.cuda.is_available() else \"cpu\")\n",
    "\n",
    "import platform\n",
    "print(torch.__version__)\n",
    "print(platform.python_version())\n"
   ]
  },
  {
   "cell_type": "code",
   "execution_count": 2,
   "metadata": {},
   "outputs": [
    {
     "data": {
      "text/plain": [
       "'TITAN X (Pascal)'"
      ]
     },
     "execution_count": 2,
     "metadata": {},
     "output_type": "execute_result"
    }
   ],
   "source": [
    "torch.cuda.get_device_name(0)"
   ]
  },
  {
   "cell_type": "code",
   "execution_count": 3,
   "metadata": {},
   "outputs": [],
   "source": [
    "# LOADING DATA: 30000 MOST COMMON ENGLISH WORDS\n",
    "\n",
    "top_30000_words = pd.read_csv('30k.txt', delimiter = '\\t', header = None)\n",
    "\n",
    "words = []\n",
    "sample_length = len(top_30000_words)\n",
    "\n",
    "for i in range(sample_length):\n",
    "    words.append(top_30000_words.loc[i][0])\n",
    "\n",
    "total_length = len(words)"
   ]
  },
  {
   "cell_type": "code",
   "execution_count": 4,
   "metadata": {},
   "outputs": [
    {
     "name": "stdout",
     "output_type": "stream",
     "text": [
      "2577\n",
      "12819\n",
      "35\n"
     ]
    }
   ],
   "source": [
    "# FINDING PROBLEMATIC WORDS\n",
    "\n",
    "huge_words = 0\n",
    "\n",
    "for i in range(30000):\n",
    "    if type(words[i]) == float:\n",
    "        print(i)\n",
    "        \n",
    "    elif len(words[i]) > 15:\n",
    "        words[i] = 'gavab'\n",
    "        huge_words += 1\n",
    "        #print(i)\n",
    "\n",
    "words[2577] = 'null'\n",
    "words[12819] = 'nan'\n",
    "print(huge_words)"
   ]
  },
  {
   "cell_type": "code",
   "execution_count": 5,
   "metadata": {},
   "outputs": [
    {
     "name": "stdout",
     "output_type": "stream",
     "text": [
      "15\n"
     ]
    }
   ],
   "source": [
    "# DEFINING TRAINING, VALIDATION AND TEST SETS\n",
    "\n",
    "train_set = words[0:28000]\n",
    "val_set = words[28000:29000] \n",
    "test_set = words[29000:30000]\n",
    "test_set_2 = words[20000:21000] # (seen during training, the network shoud have memorised it)\n",
    "\n",
    "MAX_LENGTH = max(len(list(word)) for word in words) # length of the longest word within our sample\n",
    "\n",
    "print(MAX_LENGTH)\n",
    "#print(test_set)"
   ]
  },
  {
   "cell_type": "code",
   "execution_count": 7,
   "metadata": {},
   "outputs": [
    {
     "name": "stdout",
     "output_type": "stream",
     "text": [
      "tensor([[[0., 0., 0., 0., 0., 0., 0., 0., 0., 0., 0., 0., 0., 0., 0., 0., 0.,\n",
      "          0., 0., 0., 0., 0., 0., 0., 0., 0., 0., 0., 1.]]])\n"
     ]
    }
   ],
   "source": [
    "# ONE HOT ENCODING OF THE ALPHABET (+ START, END & PAD)\n",
    "\n",
    "letters = ['START', 'a', 'b', 'c', 'd', 'e', 'f', 'g', 'h', 'i', 'j', 'k',\n",
    "          'l', 'm', 'n', 'o', 'p', 'q', 'r', 's', 't', 'u', 'v', 'w', 'x', 'y', 'z', 'END', 'PAD']\n",
    "\n",
    "\n",
    "def letter_to_vector(letter):\n",
    "    vector = torch.zeros(1, 1, len(letters))\n",
    "    for i in range(len(letters)):\n",
    "        if letters[i] == letter:\n",
    "            vector[0, 0, i] = 1.\n",
    "    return(vector)\n",
    "\n",
    "\n",
    "print(letter_to_vector('PAD'))"
   ]
  },
  {
   "cell_type": "code",
   "execution_count": 8,
   "metadata": {},
   "outputs": [],
   "source": [
    "# GETTING PATCH TENSOR FOR EACH WORD (PATCH, COLOR CHANNEL, HEIGHT, WIDTH)\n",
    "\n",
    "def patch_gen(word, n_patches, patch_height, patch_width, stepsize):\n",
    "    \n",
    "    image = 255 * np.ones(shape = [height, width], dtype = np.uint8)\n",
    "    image = cv2.putText(image, text = word, org = (5, 30),\n",
    "        fontFace = cv2.FONT_HERSHEY_SIMPLEX, fontScale = 0.62, color = (0, 0, 0),\n",
    "        thickness = 1, lineType = cv2.LINE_AA)\n",
    "    image = transforms.ToPILImage()(image) # np.ndarray to PIL.Image.Image\n",
    "    patches_tensor = torch.empty(n_patches, color_channels, patch_height, patch_width)\n",
    "    \n",
    "    for p in range(n_patches):\n",
    "        \n",
    "        patch = transforms.functional.crop(image, 0, 0 + p * stepsize, patch_height, patch_width) # cropping of the image into patches\n",
    "        patch = transforms.ToTensor()(patch) # torch.Tensor of the patch (normalized)\n",
    "        patch = skimage.util.random_noise(patch, mode='s&p') # we set some random noise to the image\n",
    "        patch = torch.from_numpy(patch) # conversion to pytorch tensor again\n",
    "        patch = 1. - patch # it will work better if we have white text over black background\n",
    "        patch = patch.view(1, 1, patch_height, patch_width) # CNN_model expects a 4-dimensional tensor (1 dimension for batch)\n",
    "        patch = patch.type(torch.FloatTensor) # conversion to float\n",
    "        patch = patch.cuda(0) # set to cuda\n",
    "        patches_tensor[p, 0, :, :] = patch\n",
    "        patches_tensor = patches_tensor.cuda(0)\n",
    "        \n",
    "    return patches_tensor"
   ]
  },
  {
   "cell_type": "code",
   "execution_count": 10,
   "metadata": {},
   "outputs": [],
   "source": [
    "# SETTING IMAGE AND SLIDING WINDOW (PATCH) PARAMETERS\n",
    "\n",
    "height = 48\n",
    "width = 192\n",
    "patch_height = 48\n",
    "patch_width = 10\n",
    "stepsize = 2\n",
    "color_channels = 1\n",
    "n_patches = int((width - patch_width)/stepsize + 1) "
   ]
  },
  {
   "cell_type": "code",
   "execution_count": 9,
   "metadata": {},
   "outputs": [],
   "source": [
    "# GETTING TUPLE (TENSOR WITH PATCHES, LABEL) FOR EACH WORD OF A GIVEN SET:\n",
    "\n",
    "def complete_set(which_set):\n",
    "    \n",
    "    complete_set = []\n",
    "    \n",
    "    for word in which_set:\n",
    "        \n",
    "        complete_set.append((patch_gen(word, n_patches, patch_height, patch_width, stepsize), word))\n",
    "        \n",
    "    return complete_set"
   ]
  },
  {
   "cell_type": "code",
   "execution_count": 10,
   "metadata": {},
   "outputs": [],
   "source": [
    "# TUPLE OF (RANK-4 TENSOR [PATCH, CHANNEL, HEIGHT, WIDTH], LABEL) FOR EVERY WORD IN EVERY SET\n",
    "\n",
    "comp_train_set = complete_set(which_set = train_set)\n",
    "comp_val_set = complete_set(which_set = val_set)\n",
    "comp_test_set = complete_set(which_set = test_set)\n",
    "comp_test_set_2 = complete_set(which_set = test_set_2)"
   ]
  },
  {
   "cell_type": "code",
   "execution_count": 11,
   "metadata": {},
   "outputs": [
    {
     "name": "stdout",
     "output_type": "stream",
     "text": [
      "torch.Size([16, 92, 1, 48, 10])\n",
      "torch.Size([1472, 1, 48, 10])\n",
      "('ff', 'invariably', 'massage', 'christie', 'refrigerator', 'better', 'fen', 'bhd', 'leader', 'typo', 'annan', 'rolls', 'xxl', 'exploring', 'rubbing', 'caregiver')\n"
     ]
    }
   ],
   "source": [
    "# LOADING DATA AND SETS IN BATCHES\n",
    "\n",
    "torch.manual_seed(123)\n",
    "\n",
    "batch_size = 16\n",
    "\n",
    "train_loader = DataLoader(comp_train_set, batch_size = batch_size, shuffle = True)\n",
    "val_loader = DataLoader(comp_val_set, batch_size = batch_size, shuffle = False)\n",
    "test_loader = DataLoader(comp_test_set, batch_size = batch_size, shuffle = False)\n",
    "test_2_loader = DataLoader(comp_test_set_2, batch_size = batch_size, shuffle = False)\n",
    "\n",
    "for image, label in train_loader:\n",
    "    break\n",
    "    \n",
    "image_cnn = image.view(-1, color_channels, patch_height, patch_width)   \n",
    "print(image.shape)\n",
    "print(image_cnn.shape)\n",
    "print(label)"
   ]
  },
  {
   "cell_type": "code",
   "execution_count": 12,
   "metadata": {},
   "outputs": [],
   "source": [
    "# GETTING ONE HOT TENSOR OF THE TARGET WORD\n",
    "\n",
    "    # one hot tensor of the input batch of words for the Decoder:\n",
    "    # 1 dim for position within batch, 1 dim for position of the letter in the fixed sequence (MAX_LENGTH + START + END),\n",
    "    # 1 final dim specifying letter (output_size = 26 + START and END tokens)\n",
    "    # torch.zeros() ensures that we always have PAD token vectors in case our target word is not MAX_LENGTH long\n",
    "    # WARNING: only works if label contains 2 words or more (it is OK as long as we are doing batching)\n",
    "    \n",
    "def get_one_hot_target(label, batch, seq_len, output_size):\n",
    "    \n",
    "    one_hot_target = torch.zeros(batch, seq_len, output_size) \n",
    "\n",
    "    for j in range(batch): # for each word of the batch\n",
    "\n",
    "        length = len(list(label[j])) # we compute the number of letters\n",
    "\n",
    "        one_hot_target[j, 0, :] = letter_to_vector('START') # the first letter of every word will always be the START\n",
    "\n",
    "        for k in range(0, length): # now for each letter of the target word\n",
    "\n",
    "            target_letter = list(label[j])[k] # picks the 'k' target letter \n",
    "            one_hot_target[j, k + 1, :] = letter_to_vector(target_letter) # adds that one hot target letter to our global tensor\n",
    "\n",
    "        one_hot_target[j, length + 1, :] = letter_to_vector('END') # we put END after the last letter of the word\n",
    "        \n",
    "        for m in range(length + 2, seq_len):\n",
    "            \n",
    "            one_hot_target[j, m, :] = letter_to_vector('PAD') # padding until the end of the sequence\n",
    "        \n",
    "    return one_hot_target        "
   ]
  },
  {
   "cell_type": "code",
   "execution_count": 13,
   "metadata": {},
   "outputs": [],
   "source": [
    "# CONVERTS THE LOGSOFTMAX DECODER OUTPUT DURING EVALUATION TO THE CORRESPONDING ONE-HOT LETTER\n",
    "\n",
    "def one_hot_conversion(decoder_output, output_size):\n",
    "    \n",
    "    one_hot_output_letter = torch.zeros(1, 1, output_size).cuda(0)\n",
    "    index = torch.argmax(decoder_output, dim = 2).item()\n",
    "    one_hot_output_letter[0, 0, index] = 1.\n",
    "    \n",
    "    return one_hot_output_letter"
   ]
  },
  {
   "cell_type": "code",
   "execution_count": 14,
   "metadata": {},
   "outputs": [],
   "source": [
    "# DEFINING MODEL AND ARCHITECTURE\n",
    "\n",
    "# CONVOLUTIONAL NEURAL NETWORK:\n",
    "\n",
    "class ConvolutionalNetwork(nn.Module):\n",
    "    def __init__(self):\n",
    "        super().__init__()\n",
    "        self.conv1 = nn.Conv2d(1, 4, 1, 1, 0) \n",
    "        self.fc1 = nn.Linear(24*5*4, 1024)\n",
    "        \n",
    "    def forward(self, X):\n",
    "        X = F.relu((self.conv1(X)))\n",
    "        X = F.max_pool2d(X, 2, 2)\n",
    "        X = X.view(-1, 24*5*4)\n",
    "        X = self.fc1(X)\n",
    "\n",
    "        return X "
   ]
  },
  {
   "cell_type": "code",
   "execution_count": 15,
   "metadata": {},
   "outputs": [],
   "source": [
    "# ENCODER:\n",
    "\n",
    "class EncoderRNN(nn.Module):\n",
    "    def __init__(self, input_size, hidden_size):\n",
    "        \n",
    "        super(EncoderRNN, self).__init__()\n",
    "        self.hidden_size = hidden_size\n",
    "        self.lstm = nn.LSTM(input_size, hidden_size, batch_first = True)\n",
    "\n",
    "    def forward(self, input, hidden, batch, seq_len):\n",
    "        \n",
    "        output = input.view(batch, seq_len, input_size)\n",
    "        output, hidden = self.lstm(output, hidden)\n",
    "        return output, hidden\n",
    "\n",
    "    def initHidden(self, batch):\n",
    "        return (torch.zeros(1, batch, self.hidden_size, device=device),\n",
    "                torch.zeros(1, batch, self.hidden_size, device=device))"
   ]
  },
  {
   "cell_type": "code",
   "execution_count": 16,
   "metadata": {},
   "outputs": [],
   "source": [
    "# DECODER:\n",
    "\n",
    "class DecoderRNN(nn.Module):\n",
    "    def __init__(self, hidden_size, output_size):\n",
    "        super(DecoderRNN, self).__init__()\n",
    "        self.hidden_size = hidden_size\n",
    "\n",
    "        self.lstm = nn.LSTM(output_size, hidden_size, batch_first = True)\n",
    "        self.out = nn.Linear(hidden_size, output_size)\n",
    "        self.softmax = nn.LogSoftmax(dim = 2) \n",
    "        # dim = 2 porque esta última dimensión es la correspondiente a output_size, que es sobre\n",
    "        # la que queremos hacer el softmax\n",
    "\n",
    "    def forward(self, input, hidden, batch, seq_len):\n",
    "        \n",
    "        output = input.view(batch, seq_len, output_size)\n",
    "        #output = F.relu(output) # la relu se metía aquí porque en el\n",
    "        #caso NLP del ejemplo de PyTorch previamente había una capa de embedding\n",
    "        #No nos hace falta porque nuestro tensor de inputs ya es one-hot\n",
    "        output, hidden = self.lstm(output, hidden)\n",
    "        output = self.out(output)\n",
    "        output = self.softmax(output)\n",
    "        return output, hidden\n",
    "\n",
    "    def initHidden(self, batch):\n",
    "        return (torch.zeros(1, batch, self.hidden_size, device=device),\n",
    "               torch.zeros(1, batch, self.hidden_size, device=device))"
   ]
  },
  {
   "cell_type": "code",
   "execution_count": 17,
   "metadata": {},
   "outputs": [],
   "source": [
    "torch.manual_seed(123)\n",
    "\n",
    "input_size = 1024\n",
    "hidden_size = 256\n",
    "output_size = 29\n",
    "\n",
    "CNN_model = ConvolutionalNetwork().cuda(0)\n",
    "CNN_optimizer = torch.optim.Adam(CNN_model.parameters(), lr = 0.001)\n",
    "\n",
    "Encoder_model = EncoderRNN(input_size = input_size, hidden_size = hidden_size).cuda(0)\n",
    "Encoder_optimizer = optim.SGD(Encoder_model.parameters(), lr = 0.001)\n",
    "\n",
    "Decoder_model = DecoderRNN(hidden_size = hidden_size, output_size = output_size).cuda(0)\n",
    "Decoder_optimizer = optim.SGD(Decoder_model.parameters(), lr = 0.001)\n",
    "\n",
    "#criterion = nn.CrossEntropyLoss()\n",
    "criterion = nn.NLLLoss()"
   ]
  },
  {
   "cell_type": "code",
   "execution_count": null,
   "metadata": {
    "scrolled": true
   },
   "outputs": [
    {
     "name": "stdout",
     "output_type": "stream",
     "text": [
      "Epoch: 0\n",
      "Epoch: 1\n",
      "Epoch: 2\n",
      "Epoch: 3\n",
      "Epoch: 4\n",
      "Epoch: 5\n",
      "Epoch: 6\n",
      "Epoch: 7\n",
      "Epoch: 8\n",
      "Epoch: 9\n",
      "Epoch: 10\n",
      "Epoch: 11\n",
      "Epoch: 12\n",
      "Epoch: 13\n",
      "Epoch: 14\n",
      "Epoch: 15\n",
      "Epoch: 16\n",
      "Epoch: 17\n",
      "Epoch: 18\n",
      "Epoch: 19\n",
      "Epoch: 20\n",
      "Epoch: 21\n",
      "Epoch: 22\n",
      "Epoch: 23\n",
      "Epoch: 24\n",
      "Epoch: 25\n",
      "Epoch: 26\n",
      "Epoch: 27\n",
      "Epoch: 28\n",
      "Epoch: 29\n",
      "Epoch: 30\n",
      "Epoch: 31\n",
      "Epoch: 32\n",
      "Epoch: 33\n",
      "Epoch: 34\n",
      "Epoch: 35\n",
      "Epoch: 36\n",
      "Epoch: 37\n",
      "Epoch: 38\n",
      "Epoch: 39\n",
      "Epoch: 40\n",
      "Epoch: 41\n",
      "Epoch: 42\n",
      "Epoch: 43\n",
      "Epoch: 44\n",
      "Epoch: 45\n",
      "Epoch: 46\n",
      "Epoch: 47\n",
      "Epoch: 48\n",
      "Epoch: 49\n",
      "Epoch: 50\n",
      "Epoch: 51\n",
      "Epoch: 52\n",
      "Epoch: 53\n",
      "Epoch: 54\n",
      "Epoch: 55\n",
      "Epoch: 56\n",
      "Epoch: 57\n",
      "Epoch: 58\n",
      "Epoch: 59\n",
      "Epoch: 60\n",
      "Epoch: 61\n",
      "Epoch: 62\n",
      "Epoch: 63\n",
      "Epoch: 64\n",
      "Epoch: 65\n",
      "Epoch: 66\n",
      "Epoch: 67\n",
      "Epoch: 68\n",
      "Epoch: 69\n",
      "Epoch: 70\n",
      "Epoch: 71\n",
      "Epoch: 72\n",
      "Epoch: 73\n",
      "Epoch: 74\n",
      "Epoch: 75\n",
      "Epoch: 76\n",
      "Epoch: 77\n",
      "Epoch: 78\n",
      "Epoch: 79\n",
      "Epoch: 80\n",
      "Epoch: 81\n",
      "Epoch: 82\n",
      "Epoch: 83\n",
      "Epoch: 84\n",
      "Epoch: 85\n",
      "Epoch: 86\n",
      "Epoch: 87\n",
      "Epoch: 88\n",
      "Epoch: 89\n",
      "Epoch: 90\n",
      "Epoch: 91\n",
      "Epoch: 92\n",
      "Epoch: 93\n",
      "Epoch: 94\n",
      "Epoch: 95\n",
      "Epoch: 96\n",
      "Epoch: 97\n",
      "Epoch: 98\n",
      "Epoch: 99\n",
      "Epoch: 100\n",
      "Epoch: 101\n",
      "Epoch: 102\n",
      "Epoch: 103\n",
      "Epoch: 104\n",
      "Epoch: 105\n",
      "Epoch: 106\n",
      "Epoch: 107\n",
      "Epoch: 108\n",
      "Epoch: 109\n",
      "Epoch: 110\n",
      "Epoch: 111\n",
      "Epoch: 112\n",
      "Epoch: 113\n",
      "Epoch: 114\n",
      "Epoch: 115\n",
      "Epoch: 116\n",
      "Epoch: 117\n",
      "Epoch: 118\n",
      "Epoch: 119\n",
      "Epoch: 120\n",
      "Epoch: 121\n",
      "Epoch: 122\n",
      "Epoch: 123\n",
      "Epoch: 124\n",
      "Epoch: 125\n",
      "Epoch: 126\n",
      "Epoch: 127\n",
      "Epoch: 128\n",
      "Epoch: 129\n",
      "Epoch: 130\n",
      "Epoch: 131\n",
      "Epoch: 132\n",
      "Epoch: 133\n",
      "Epoch: 134\n",
      "Epoch: 135\n",
      "Epoch: 136\n",
      "Epoch: 137\n",
      "Epoch: 138\n",
      "Epoch: 139\n",
      "Epoch: 140\n",
      "Epoch: 141\n",
      "Epoch: 142\n",
      "Epoch: 143\n",
      "Epoch: 144\n",
      "Epoch: 145\n",
      "Epoch: 146\n",
      "Epoch: 147\n",
      "Epoch: 148\n",
      "Epoch: 149\n",
      "Epoch: 150\n",
      "Epoch: 151\n",
      "Epoch: 152\n",
      "Epoch: 153\n",
      "Epoch: 154\n",
      "Epoch: 155\n",
      "Epoch: 156\n",
      "Epoch: 157\n",
      "Epoch: 158\n",
      "Epoch: 159\n",
      "Epoch: 160\n",
      "Epoch: 161\n",
      "Epoch: 162\n",
      "Epoch: 163\n",
      "Epoch: 164\n",
      "Epoch: 165\n",
      "Epoch: 166\n",
      "Epoch: 167\n",
      "Epoch: 168\n",
      "Epoch: 169\n",
      "Epoch: 170\n",
      "Epoch: 171\n",
      "Epoch: 172\n",
      "Epoch: 173\n",
      "Epoch: 174\n",
      "Epoch: 175\n",
      "Epoch: 176\n",
      "Epoch: 177\n",
      "Epoch: 178\n",
      "Epoch: 179\n",
      "Epoch: 180\n",
      "Epoch: 181\n",
      "Epoch: 182\n",
      "Epoch: 183\n",
      "Epoch: 184\n",
      "Epoch: 185\n",
      "Epoch: 186\n",
      "Epoch: 187\n",
      "Epoch: 188\n",
      "Epoch: 189\n",
      "Epoch: 190\n",
      "Epoch: 191\n",
      "Epoch: 192\n",
      "Epoch: 193\n",
      "Epoch: 194\n",
      "Epoch: 195\n",
      "Epoch: 196\n",
      "Epoch: 197\n",
      "Epoch: 198\n",
      "Epoch: 199\n",
      "Epoch: 200\n",
      "Epoch: 201\n",
      "Epoch: 202\n",
      "Epoch: 203\n",
      "Epoch: 204\n",
      "Epoch: 205\n",
      "Epoch: 206\n",
      "Epoch: 207\n",
      "Epoch: 208\n",
      "Epoch: 209\n",
      "Epoch: 210\n",
      "Epoch: 211\n",
      "Epoch: 212\n",
      "Epoch: 213\n",
      "Epoch: 214\n",
      "Epoch: 215\n",
      "Epoch: 216\n",
      "Epoch: 217\n",
      "Epoch: 218\n",
      "Epoch: 219\n",
      "Epoch: 220\n",
      "Epoch: 221\n",
      "Epoch: 222\n",
      "Epoch: 223\n",
      "Epoch: 224\n",
      "Epoch: 225\n",
      "Epoch: 226\n",
      "Epoch: 227\n",
      "Epoch: 228\n",
      "Epoch: 229\n",
      "Epoch: 230\n",
      "Epoch: 231\n",
      "Epoch: 232\n",
      "Epoch: 233\n",
      "Epoch: 234\n",
      "Epoch: 235\n",
      "Epoch: 236\n",
      "Epoch: 237\n",
      "Epoch: 238\n",
      "Epoch: 239\n",
      "Epoch: 240\n",
      "Epoch: 241\n",
      "Epoch: 242\n",
      "Epoch: 243\n",
      "Epoch: 244\n",
      "Epoch: 245\n",
      "Epoch: 246\n",
      "Epoch: 247\n",
      "Epoch: 248\n",
      "Epoch: 249\n",
      "Epoch: 250\n",
      "Epoch: 251\n",
      "Epoch: 252\n",
      "Epoch: 253\n",
      "Epoch: 254\n",
      "Epoch: 255\n",
      "Epoch: 256\n",
      "Epoch: 257\n",
      "Epoch: 258\n",
      "Epoch: 259\n",
      "Epoch: 260\n",
      "Epoch: 261\n",
      "Epoch: 262\n",
      "Epoch: 263\n",
      "Epoch: 264\n",
      "Epoch: 265\n",
      "Epoch: 266\n",
      "Epoch: 267\n",
      "Epoch: 268\n",
      "Epoch: 269\n",
      "Epoch: 270\n",
      "Epoch: 271\n",
      "Epoch: 272\n",
      "Epoch: 273\n",
      "Epoch: 274\n",
      "Epoch: 275\n",
      "Epoch: 276\n",
      "Epoch: 277\n",
      "Epoch: 278\n",
      "Epoch: 279\n",
      "Epoch: 280\n",
      "Epoch: 281\n",
      "Epoch: 282\n",
      "Epoch: 283\n",
      "Epoch: 284\n",
      "Epoch: 285\n",
      "Epoch: 286\n",
      "Epoch: 287\n",
      "Epoch: 288\n",
      "Epoch: 289\n",
      "Epoch: 290\n",
      "Epoch: 291\n",
      "Epoch: 292\n",
      "Epoch: 293\n",
      "Epoch: 294\n",
      "Epoch: 295\n",
      "Epoch: 296\n",
      "Epoch: 297\n",
      "Epoch: 298\n",
      "Epoch: 299\n",
      "Epoch: 300\n",
      "Epoch: 301\n",
      "Epoch: 302\n",
      "Epoch: 303\n",
      "Epoch: 304\n",
      "Epoch: 305\n",
      "Epoch: 306\n",
      "Epoch: 307\n",
      "Epoch: 308\n",
      "Epoch: 309\n",
      "Epoch: 310\n",
      "Epoch: 311\n",
      "Epoch: 312\n",
      "Epoch: 313\n",
      "Epoch: 314\n",
      "Epoch: 315\n",
      "Epoch: 316\n",
      "Epoch: 317\n",
      "Epoch: 318\n",
      "Epoch: 319\n",
      "Epoch: 320\n",
      "Epoch: 321\n",
      "Epoch: 322\n",
      "Epoch: 323\n",
      "Epoch: 324\n",
      "Epoch: 325\n",
      "Epoch: 326\n",
      "Epoch: 327\n",
      "Epoch: 328\n",
      "Epoch: 329\n",
      "Epoch: 330\n",
      "Epoch: 331\n",
      "Epoch: 332\n",
      "Epoch: 333\n",
      "Epoch: 334\n",
      "Epoch: 335\n",
      "Epoch: 336\n",
      "Epoch: 337\n",
      "Epoch: 338\n",
      "Epoch: 339\n",
      "Epoch: 340\n",
      "Epoch: 341\n",
      "Epoch: 342\n",
      "Epoch: 343\n",
      "Epoch: 344\n",
      "Epoch: 345\n",
      "Epoch: 346\n",
      "Epoch: 347\n",
      "Epoch: 348\n",
      "Epoch: 349\n",
      "Epoch: 350\n",
      "Epoch: 351\n",
      "Epoch: 352\n",
      "Epoch: 353\n",
      "Epoch: 354\n",
      "Epoch: 355\n",
      "Epoch: 356\n",
      "Epoch: 357\n",
      "Epoch: 358\n",
      "Epoch: 359\n",
      "Epoch: 360\n",
      "Epoch: 361\n",
      "Epoch: 362\n",
      "Epoch: 363\n",
      "Epoch: 364\n",
      "Epoch: 365\n",
      "Epoch: 366\n",
      "Epoch: 367\n",
      "Epoch: 368\n",
      "Epoch: 369\n",
      "Epoch: 370\n",
      "Epoch: 371\n",
      "Epoch: 372\n",
      "Epoch: 373\n",
      "Epoch: 374\n",
      "Epoch: 375\n",
      "Epoch: 376\n",
      "Epoch: 377\n",
      "Epoch: 378\n",
      "Epoch: 379\n",
      "Epoch: 380\n",
      "Epoch: 381\n",
      "Epoch: 382\n",
      "Epoch: 383\n",
      "Epoch: 384\n",
      "Epoch: 385\n",
      "Epoch: 386\n",
      "Epoch: 387\n",
      "Epoch: 388\n",
      "Epoch: 389\n",
      "Epoch: 390\n",
      "Epoch: 391\n",
      "Epoch: 392\n",
      "Epoch: 393\n",
      "Epoch: 394\n",
      "Epoch: 395\n",
      "Epoch: 396\n",
      "Epoch: 397\n",
      "Epoch: 398\n",
      "Epoch: 399\n",
      "Epoch: 400\n",
      "Epoch: 401\n",
      "Epoch: 402\n",
      "Epoch: 403\n",
      "Epoch: 404\n",
      "Epoch: 405\n",
      "Epoch: 406\n",
      "Epoch: 407\n",
      "Epoch: 408\n",
      "Epoch: 409\n",
      "Epoch: 410\n",
      "Epoch: 411\n",
      "Epoch: 412\n",
      "Epoch: 413\n",
      "Epoch: 414\n",
      "Epoch: 415\n",
      "Epoch: 416\n",
      "Epoch: 417\n",
      "Epoch: 418\n",
      "Epoch: 419\n",
      "Epoch: 420\n",
      "Epoch: 421\n",
      "Epoch: 422\n",
      "Epoch: 423\n",
      "Epoch: 424\n",
      "Epoch: 425\n",
      "Epoch: 426\n",
      "Epoch: 427\n",
      "Epoch: 428\n",
      "Epoch: 429\n",
      "Epoch: 430\n",
      "Epoch: 431\n",
      "Epoch: 432\n",
      "Epoch: 433\n",
      "Epoch: 434\n",
      "Epoch: 435\n",
      "Epoch: 436\n",
      "Epoch: 437\n",
      "Epoch: 438\n",
      "Epoch: 439\n",
      "Epoch: 440\n",
      "Epoch: 441\n",
      "Epoch: 442\n",
      "Epoch: 443\n",
      "Epoch: 444\n",
      "Epoch: 445\n",
      "Epoch: 446\n",
      "Epoch: 447\n",
      "Epoch: 448\n",
      "Epoch: 449\n",
      "Epoch: 450\n",
      "Epoch: 451\n",
      "Epoch: 452\n",
      "Epoch: 453\n",
      "Epoch: 454\n",
      "Epoch: 455\n",
      "Epoch: 456\n",
      "Epoch: 457\n",
      "Epoch: 458\n",
      "Epoch: 459\n",
      "Epoch: 460\n",
      "Epoch: 461\n",
      "Epoch: 462\n",
      "Epoch: 463\n",
      "Epoch: 464\n",
      "Epoch: 465\n",
      "Epoch: 466\n",
      "Epoch: 467\n",
      "Epoch: 468\n",
      "Epoch: 469\n",
      "Epoch: 470\n",
      "Epoch: 471\n",
      "Epoch: 472\n",
      "Epoch: 473\n",
      "Epoch: 474\n",
      "Epoch: 475\n",
      "Epoch: 476\n",
      "Epoch: 477\n",
      "Epoch: 478\n",
      "Epoch: 479\n",
      "Epoch: 480\n",
      "Epoch: 481\n",
      "Epoch: 482\n",
      "Epoch: 483\n",
      "Epoch: 484\n",
      "Epoch: 485\n",
      "Epoch: 486\n",
      "Epoch: 487\n",
      "Epoch: 488\n",
      "Epoch: 489\n",
      "Epoch: 490\n",
      "Epoch: 491\n",
      "Epoch: 492\n",
      "Epoch: 493\n",
      "Epoch: 494\n",
      "Epoch: 495\n",
      "Epoch: 496\n",
      "Epoch: 497\n",
      "Epoch: 498\n",
      "Epoch: 499\n",
      "Epoch: 500\n",
      "Epoch: 501\n",
      "Epoch: 502\n",
      "Epoch: 503\n",
      "Epoch: 504\n",
      "Epoch: 505\n",
      "Epoch: 506\n",
      "Epoch: 507\n",
      "Epoch: 508\n",
      "Epoch: 509\n",
      "Epoch: 510\n",
      "Epoch: 511\n",
      "Epoch: 512\n",
      "Epoch: 513\n",
      "Epoch: 514\n",
      "Epoch: 515\n",
      "Epoch: 516\n",
      "Epoch: 517\n",
      "Epoch: 518\n",
      "Epoch: 519\n",
      "Epoch: 520\n",
      "Epoch: 521\n",
      "Epoch: 522\n",
      "Epoch: 523\n",
      "Epoch: 524\n",
      "Epoch: 525\n",
      "Epoch: 526\n",
      "Epoch: 527\n",
      "Epoch: 528\n",
      "Epoch: 529\n",
      "Epoch: 530\n",
      "Epoch: 531\n",
      "Epoch: 532\n",
      "Epoch: 533\n",
      "Epoch: 534\n",
      "Epoch: 535\n",
      "Epoch: 536\n",
      "Epoch: 537\n",
      "Epoch: 538\n",
      "Epoch: 539\n",
      "Epoch: 540\n",
      "Epoch: 541\n",
      "Epoch: 542\n",
      "Epoch: 543\n",
      "Epoch: 544\n",
      "Epoch: 545\n",
      "Epoch: 546\n",
      "Epoch: 547\n",
      "Epoch: 548\n",
      "Epoch: 549\n",
      "Epoch: 550\n",
      "Epoch: 551\n",
      "Epoch: 552\n",
      "Epoch: 553\n",
      "Epoch: 554\n",
      "Epoch: 555\n",
      "Epoch: 556\n",
      "Epoch: 557\n",
      "Epoch: 558\n",
      "Epoch: 559\n",
      "Epoch: 560\n",
      "Epoch: 561\n",
      "Epoch: 562\n",
      "Epoch: 563\n",
      "Epoch: 564\n",
      "Epoch: 565\n",
      "Epoch: 566\n",
      "Epoch: 567\n",
      "Epoch: 568\n",
      "Epoch: 569\n",
      "Epoch: 570\n",
      "Epoch: 571\n",
      "Epoch: 572\n",
      "Epoch: 573\n",
      "Epoch: 574\n",
      "Epoch: 575\n",
      "Epoch: 576\n",
      "Epoch: 577\n",
      "Epoch: 578\n",
      "Epoch: 579\n",
      "Epoch: 580\n",
      "Epoch: 581\n",
      "Epoch: 582\n",
      "Epoch: 583\n",
      "Epoch: 584\n",
      "Epoch: 585\n",
      "Epoch: 586\n",
      "Epoch: 587\n",
      "Epoch: 588\n",
      "Epoch: 589\n",
      "Epoch: 590\n",
      "Epoch: 591\n",
      "Epoch: 592\n",
      "Epoch: 593\n",
      "Epoch: 594\n",
      "Epoch: 595\n",
      "Epoch: 596\n",
      "Epoch: 597\n",
      "Epoch: 598\n",
      "Epoch: 599\n",
      "Epoch: 600\n",
      "Epoch: 601\n",
      "Epoch: 602\n",
      "Epoch: 603\n",
      "Epoch: 604\n",
      "Epoch: 605\n",
      "Epoch: 606\n",
      "Epoch: 607\n",
      "Epoch: 608\n",
      "Epoch: 609\n",
      "Epoch: 610\n",
      "Epoch: 611\n",
      "Epoch: 612\n",
      "Epoch: 613\n",
      "Epoch: 614\n",
      "Epoch: 615\n",
      "Epoch: 616\n",
      "Epoch: 617\n",
      "Epoch: 618\n",
      "Epoch: 619\n",
      "Epoch: 620\n",
      "Epoch: 621\n",
      "Epoch: 622\n",
      "Epoch: 623\n",
      "Epoch: 624\n",
      "Epoch: 625\n",
      "Epoch: 626\n",
      "Epoch: 627\n",
      "Epoch: 628\n",
      "Epoch: 629\n",
      "Epoch: 630\n",
      "Epoch: 631\n",
      "Epoch: 632\n",
      "Epoch: 633\n",
      "Epoch: 634\n",
      "Epoch: 635\n",
      "Epoch: 636\n",
      "Epoch: 637\n",
      "Epoch: 638\n",
      "Epoch: 639\n",
      "Epoch: 640\n",
      "Epoch: 641\n",
      "Epoch: 642\n",
      "Epoch: 643\n",
      "Epoch: 644\n",
      "Epoch: 645\n",
      "Epoch: 646\n",
      "Epoch: 647\n",
      "Epoch: 648\n",
      "Epoch: 649\n"
     ]
    }
   ],
   "source": [
    "# TRAINING THE MODEL:\n",
    "\n",
    "\n",
    "import time\n",
    "start_time = time.time()\n",
    "\n",
    "# Tensorboard real time visualisation:\n",
    "\n",
    "from torch.utils.tensorboard import SummaryWriter\n",
    "writer = SummaryWriter()\n",
    "\n",
    "epochs = 5000\n",
    "\n",
    "patience = 100\n",
    "min_loss_val = 10 # huge initial value for the minimum validation loss\n",
    "\n",
    "train_losses = []\n",
    "val_losses = []\n",
    "\n",
    "torch.manual_seed(123)\n",
    "\n",
    "for i in range(epochs):\n",
    "    \n",
    "    for b, (image, label) in enumerate(train_loader):\n",
    "        \n",
    "        b += 1\n",
    "        train_batch = len(label) # last batch may be of smaller, different size\n",
    "\n",
    "        encoder_hidden = Encoder_model.initHidden(batch = train_batch)\n",
    "\n",
    "        image_cnn = image.view(-1, color_channels, patch_height, patch_width).cuda(0)\n",
    "        encoder_input = CNN_model(image_cnn)\n",
    "        _, encoder_hidden = Encoder_model(encoder_input, encoder_hidden, batch = train_batch, seq_len = n_patches)\n",
    "\n",
    "        decoder_hidden = encoder_hidden\n",
    "        decoder_input = get_one_hot_target(label=label, batch = train_batch, seq_len = MAX_LENGTH + 2,\n",
    "                                          output_size = output_size).cuda(0)\n",
    "        decoder_output, decoder_hidden = Decoder_model(decoder_input, decoder_hidden,\n",
    "                                                       batch = train_batch, seq_len = MAX_LENGTH + 2)\n",
    "\n",
    "        output_indices = torch.tensor(list(range(0, MAX_LENGTH + 1))).cuda(0) # removing last token from the output\n",
    "        decoder_output = torch.index_select(decoder_output, dim = 1, index = output_indices)\n",
    "\n",
    "        ground_truth = torch.argmax(decoder_input, dim = 2)\n",
    "        target_indices = torch.tensor(list(range(1, MAX_LENGTH + 2))).cuda(0) # remove SOS token from the input\n",
    "        ground_truth = torch.index_select(ground_truth, dim = 1, index = target_indices)\n",
    "\n",
    "        loss = 0\n",
    "        \n",
    "        for j in range(train_batch):\n",
    "            \n",
    "            loss += criterion(decoder_output[j], ground_truth[j])   \n",
    "            \n",
    "        loss = loss/train_batch\n",
    "        \n",
    "        \n",
    "        CNN_optimizer.zero_grad()\n",
    "        Encoder_optimizer.zero_grad()\n",
    "        Decoder_optimizer.zero_grad()\n",
    "\n",
    "        loss.backward()\n",
    "\n",
    "        CNN_optimizer.step()\n",
    "        Encoder_optimizer.step()\n",
    "        Decoder_optimizer.step()\n",
    "    \n",
    "    \n",
    "    with torch.no_grad():\n",
    "        \n",
    "        for v, (image_val, label_val) in enumerate(val_loader):\n",
    "        \n",
    "            v += 1\n",
    "            val_batch = len(label_val)\n",
    "            \n",
    "            encoder_hidden_val = Encoder_model.initHidden(batch = val_batch)\n",
    "\n",
    "            image_cnn_val = image_val.view(-1, color_channels, patch_height, patch_width).cuda(0)\n",
    "            encoder_input_val = CNN_model(image_cnn_val)\n",
    "            _, encoder_hidden_val = Encoder_model(encoder_input_val, encoder_hidden_val, batch = val_batch, seq_len = n_patches)\n",
    "\n",
    "            decoder_hidden_val = encoder_hidden_val\n",
    "            decoder_input_val = get_one_hot_target(label=label_val, batch = val_batch, seq_len = MAX_LENGTH + 2,\n",
    "                                                  output_size = output_size).cuda(0)\n",
    "            decoder_output_val, decoder_hidden_val = Decoder_model(decoder_input_val, decoder_hidden_val,\n",
    "                                                                  batch = val_batch, seq_len = MAX_LENGTH + 2)\n",
    "            \n",
    "            output_indices_val = torch.tensor(list(range(0, MAX_LENGTH + 1))).cuda(0) # remove last token from the output\n",
    "            decoder_output_val = torch.index_select(decoder_output_val, dim = 1, index = output_indices_val)\n",
    "\n",
    "            ground_truth_val = torch.argmax(decoder_input_val, dim = 2)\n",
    "            target_indices_val = torch.tensor(list(range(1, MAX_LENGTH + 2))).cuda(0) # remove START token from the input\n",
    "            ground_truth_val = torch.index_select(ground_truth_val, dim = 1, index = target_indices_val)\n",
    "            \n",
    "            loss_val = 0\n",
    "            \n",
    "            for j in range(val_batch):\n",
    "                \n",
    "                loss_val += criterion(decoder_output_val[j], ground_truth_val[j])\n",
    "            \n",
    "            loss_val = loss_val/val_batch\n",
    "        \n",
    "        \n",
    "    train_losses.append(loss)\n",
    "    val_losses.append(loss_val)\n",
    "    \n",
    "    # Sending losses to Tensorboard: \n",
    "    writer.add_scalar('Loss/train', loss, i)\n",
    "    writer.add_scalar('Loss/validation', loss_val, i)\n",
    "    \n",
    "    patience -= 1 # updating patience\n",
    "    \n",
    "    \n",
    "    # Early Stopping procedure:\n",
    "    \n",
    "    if patience == 0: \n",
    "        \n",
    "        break\n",
    "    \n",
    "    else:\n",
    "        \n",
    "        if loss_val < min_loss_val: # condition to save the best model\n",
    "\n",
    "            min_loss_val = loss_val\n",
    "\n",
    "            patience = 100\n",
    "\n",
    "            # Saving best model so far:\n",
    "\n",
    "            torch.save(CNN_model.state_dict(), 'CNN_model_30000_words_1_conv_1_maxpool_8_filters_kernel_1_dropout.pt')\n",
    "            torch.save(Encoder_model.state_dict(), 'Encoder_model_30000_words_1_conv_1_maxpool_8_filters_kernel_1_dropout.pt')\n",
    "            torch.save(Decoder_model.state_dict(), 'Decoder_model_30000_words_1_conv_1_maxpool_8_filters_kernel_1_dropout.pt')\n",
    "        \n",
    "    print(f'Epoch: {i}')\n",
    "    \n",
    "print(f'Duration: {(time.time() - start_time)/60} minutes')    "
   ]
  },
  {
   "cell_type": "code",
   "execution_count": 19,
   "metadata": {},
   "outputs": [
    {
     "data": {
      "image/png": "[encoded data removed]",
      "text/plain": [
       "<Figure size 432x288 with 1 Axes>"
      ]
     },
     "metadata": {
      "needs_background": "light"
     },
     "output_type": "display_data"
    }
   ],
   "source": [
    "# Plotting results\n",
    "\n",
    "plt.yscale(\"log\")\n",
    "plt.plot(train_losses, label='training loss')\n",
    "plt.plot(val_losses, label='validation loss')\n",
    "plt.title('Losses per epoch CNN-S2S 1000 words')\n",
    "plt.legend();\n",
    "#plt.savefig('1000 words training losses lr=0,001, bs=16')"
   ]
  },
  {
   "cell_type": "code",
   "execution_count": 33,
   "metadata": {},
   "outputs": [
    {
     "data": {
      "text/plain": [
       "DecoderRNN(\n",
       "  (lstm): LSTM(29, 256, batch_first=True)\n",
       "  (out): Linear(in_features=256, out_features=29, bias=True)\n",
       "  (softmax): LogSoftmax(dim=2)\n",
       ")"
      ]
     },
     "execution_count": 33,
     "metadata": {},
     "output_type": "execute_result"
    }
   ],
   "source": [
    "CNN_model.load_state_dict(torch.load('CNN_model_30000_words_TF_PAD_noise.pt'))\n",
    "CNN_model.eval()\n",
    "\n",
    "Encoder_model.load_state_dict(torch.load('Encoder_model_30000_words_TF_PAD_noise.pt'))\n",
    "Encoder_model.eval()\n",
    "\n",
    "Decoder_model.load_state_dict(torch.load('Decoder_model_30000_words_TF_PAD_noise.pt'))\n",
    "Decoder_model.eval()"
   ]
  },
  {
   "cell_type": "code",
   "execution_count": 34,
   "metadata": {},
   "outputs": [
    {
     "name": "stdout",
     "output_type": "stream",
     "text": [
      "gettiptipt\n",
      "fifffyyif\n",
      "genggpppf\n",
      "geffspgfpy\n",
      "ggggyysyPADPADPADPADPADPADPADPAD\n",
      "giyyppyyyPADPADPADPADPADPADPAD\n",
      "gggggof\n",
      "engtippppyPADPADPADPADPADPAD\n",
      "ggtgyyyyyPADPADPADPADPADPADPAD\n",
      "attypptffyPADPADPADPADPADPAD\n",
      "tyatgopggg\n",
      "jtggpbypy\n",
      "getypopp\n",
      "giatppyyPADPADPADPADPADPADPADPAD\n",
      "tyyyypyfPADPADPADPADPADPADPADPAD\n",
      "bbctpippfPADPADPADPADPADPADPAD\n",
      "gigtgpfppyPADPADPADPADPADPAD\n",
      "gayyyyty\n",
      "giffapifpg\n",
      "tjagppyyyPADPADPADPADPADPADPAD\n",
      "jaygappysyPADPADPADPADPADPAD\n",
      "igattpff\n",
      "gigtgympyPADPADPADPADPADPADPAD\n",
      "gggtfppfppPADPADPADPADPADPAD\n",
      "gaggogpsyPADPADPADPADPADPADPAD\n",
      "iittgtpffpy\n",
      "yatyppyft\n",
      "igutbbpfffyPADPADPADPADPAD\n",
      "gattppyyyyPADPADPADPADPADPAD\n",
      "ggatypff\n",
      "gitygtyyyyPADPADPADPADPADPAD\n",
      "iggtppptfpyPADPADPADPADPAD\n",
      "ghyppyyfyPADPADPADPADPADPADPAD\n",
      "gigtagpgfyPADPADPADPADPADPAD\n",
      "fayffpfyyyPADPADPADPADPADPAD\n",
      "ggggtpfifyPADPADPADPADPADPAD\n",
      "gghtbpffpyPADPADPADPADPADPAD\n",
      "bttfshmspyPADPADPADPADPADPAD\n",
      "igigyepff\n",
      "gatybsssfyPADPADPADPADPADPAD\n",
      "tatffpfit\n",
      "igtbbobyyyyPADPADPADPADPAD\n",
      "gigggppyyyPADPADPADPADPADPAD\n",
      "gtafppts\n",
      "gebpoppff\n",
      "ggatggpcyy\n",
      "btigpsogyyPADPADPADPADPADPAD\n",
      "ttbbyptopt\n",
      "gagttopsyyPADPADPADPADPADPAD\n",
      "giabppsff\n",
      "giggaptfpfPADPADPADPADPADPAD\n",
      "ggttppyyyyPADPADPADPADPADPAD\n",
      "bbfgggffipPADPADPADPADPADPAD\n",
      "tatopppfyyPADPADPADPADPADPAD\n",
      "gbtetfpp\n",
      "gitttastf\n",
      "gjtstppopPADPADPADPADPADPADPAD\n",
      "gttfofffp\n",
      "gggggptppyPADPADPADPADPADPAD\n",
      "gggtggopif\n",
      "gitappfffpyPADPADPADPADPAD\n",
      "ggfssppyPADPADPADPADPADPADPADPAD\n",
      "ggtgppypyyPADPADPADPADPADPAD\n",
      "gegypopfo\n",
      "etytypofifPADPADPADPADPADPAD\n",
      "teyyyppypyPADPADPADPADPADPAD\n",
      "iigbatppffPADPADPADPADPADPAD\n",
      "bbatbopy\n",
      "gigggpopgytPADPADPADPADPAD\n",
      "tgggbfyyyPADPADPADPADPADPADPAD\n",
      "fattppppfy\n",
      "giyypyyyyPADPADPADPADPADPADPAD\n",
      "iangtffff\n",
      "ggbbontspy\n",
      "gigyppypyPADPADPADPADPADPADPAD\n",
      "gobtyyyyy\n",
      "gattgyyty\n",
      "giyyyapyfyPADPADPADPADPADPAD\n",
      "gigppffyfPADPADPADPADPADPADPAD\n",
      "geastpppyPADPADPADPADPADPADPAD\n",
      "bttfpptfy\n",
      "boatppfpyy\n",
      "gigpfypyyPADPADPADPADPADPADPAD\n",
      "giatiptf\n",
      "ggatgptsyyPADPADPADPADPADPAD\n",
      "gegtpopg\n",
      "ftttpppfsyPADPADPADPADPADPAD\n",
      "gitgtgofyyPADPADPADPADPADPAD\n",
      "yaytypipt\n",
      "byyyyyys\n",
      "iggatgpffffyPADPADPADPAD\n",
      "giggggpppy\n",
      "gegtoppysyPADPADPADPADPADPAD\n",
      "geggyypyp\n",
      "gtftppsyyPADPADPADPADPADPADPAD\n",
      "geftggsppyPADPADPADPADPADPAD\n",
      "ggfffppff\n",
      "gangspypsPADPADPADPADPADPADPAD\n",
      "aajfsystsPADPADPADPADPADPADPAD\n",
      "gigtgptof\n",
      "yytytyffyyPADPADPADPADPADPAD\n",
      "taggpoppiyPADPADPADPADPADPAD\n",
      "ggggppppf\n",
      "tyattygyy\n",
      "ggggpssstyPADPADPADPADPADPAD\n",
      "ggtffyysy\n",
      "igttggpyy\n",
      "jiapggif\n",
      "fcacgpcffy\n",
      "ggggtpffgtPADPADPADPADPADPAD\n",
      "jatfsost\n",
      "teyypppf\n",
      "btatpppyyPADPADPADPADPADPADPAD\n",
      "ggtttppfpyPADPADPADPADPADPAD\n",
      "ingfypssyy\n",
      "ittbbpyyy\n",
      "ggggtgffp\n",
      "ttoggoptyPADPADPADPADPADPADPAD\n",
      "ggappyspyPADPADPADPADPADPADPAD\n",
      "gffffyyyy\n",
      "attgtogfff\n",
      "gtttyyryy\n",
      "gigigppfpPADPADPADPADPADPADPAD\n",
      "tytfspoppPADPADPADPADPADPADPAD\n",
      "gttagtff\n",
      "gitggfffppPADPADPADPADPADPAD\n",
      "agygpfsyyPADPADPADPADPADPADPAD\n",
      "gitgtpty\n",
      "hitfinptyyPADPADPADPADPADPAD\n",
      "gutgapyyfyyPADPADPADPADPAD\n",
      "tatbffps\n",
      "bagtboffyyPADPADPADPADPADPAD\n",
      "igatypptfp\n",
      "fytggfoff\n",
      "iggttpppfp\n",
      "ggggytfo\n",
      "igffpppffyPADPADPADPADPADPAD\n",
      "ggatsosyyPADPADPADPADPADPADPAD\n",
      "tetyysyyyPADPADPADPADPADPADPAD\n",
      "guggspspy\n",
      "jgyypypfyPADPADPADPADPADPADPAD\n",
      "titypspfy\n",
      "bgggggttoy\n",
      "gigopyyyyyPADPADPADPADPADPAD\n",
      "giggggptftPADPADPADPADPADPAD\n",
      "bibpbpppppPADPADPADPADPADPAD\n",
      "gatgfgfif\n",
      "jegggppsp\n",
      "gtthtyyty\n",
      "ghyfoggy\n",
      "atitapytt\n",
      "ghetgoppyp\n",
      "jtgtyyyyyPADPADPADPADPADPADPAD\n",
      "ggtfpppf\n",
      "gggtfpfg\n",
      "fatyypypyPADPADPADPADPADPADPAD\n",
      "babfoffyyPADPADPADPADPADPADPAD\n",
      "igtfpoppyPADPADPADPADPADPADPAD\n",
      "bgggppstPADPADPADPADPADPADPADPAD\n",
      "bigtgpyyyPADPADPADPADPADPADPAD\n",
      "jtatgyyyy\n",
      "ggnggpppgtyPADPADPADPADPAD\n",
      "ggttgopfy\n",
      "igtyyyyyyy\n",
      "gtgbapffy\n",
      "gitatsstf\n",
      "atybfopptPADPADPADPADPADPADPAD\n",
      "giggpytyyyPADPADPADPADPADPAD\n",
      "gtogtofpiyPADPADPADPADPADPAD\n",
      "gigapfpop\n",
      "tfytggppp\n",
      "janttpppyy\n",
      "etttyyspypPADPADPADPADPADPAD\n",
      "biggapppyyyPADPADPADPADPAD\n",
      "tttyyyyyyPADPADPADPADPADPADPAD\n",
      "gigtpffffy\n",
      "gigtgyyyyPADPADPADPADPADPADPAD\n",
      "gyyysssp\n",
      "igattppyPADPADPADPADPADPADPADPAD\n",
      "ggggfptfyPADPADPADPADPADPADPAD\n",
      "bangotoyyy\n",
      "iggvgpqppPADPADPADPADPADPADPAD\n",
      "juasfpppo\n",
      "teatpptpPADPADPADPADPADPADPADPAD\n",
      "ggetgpfftg\n",
      "gigtffffffyPADPADPADPADPAD\n",
      "gyagptstp\n",
      "bgifpipffyyPADPADPADPADPAD\n",
      "gutttiff\n",
      "batfpyygyg\n",
      "tatgtofpyyPADPADPADPADPADPAD\n",
      "gubtbpopff\n",
      "ggtayyyyyPADPADPADPADPADPADPAD\n",
      "giggpppyy\n",
      "ggtyyypytPADPADPADPADPADPADPAD\n",
      "gigggptffPADPADPADPADPADPADPAD\n",
      "tyypppppy\n",
      "ggatfyyyyPADPADPADPADPADPADPAD\n",
      "gigggppfffyPADPADPADPADPAD\n",
      "btutpmyyyPADPADPADPADPADPADPAD\n",
      "gitfspp\n",
      "bitacpsyy\n",
      "ggospgfopf\n",
      "igttyyspp\n",
      "tigppfpif\n",
      "abffftaff\n",
      "ttggyyyyf\n",
      "gatgptffyyPADPADPADPADPADPAD\n",
      "tyyyypyyPADPADPADPADPADPADPADPAD\n",
      "gggggtyyy\n",
      "gtgotgggy\n",
      "gitfpppppPADPADPADPADPADPADPAD\n",
      "itatfpypyyPADPADPADPADPADPAD\n",
      "gigggtyyyyPADPADPADPADPADPAD\n",
      "tagbppppp\n",
      "tatggopip\n",
      "biggpppstPADPADPADPADPADPADPAD\n",
      "bttgpyyyyyPADPADPADPADPADPAD\n",
      "gggggfpyyyyPADPADPADPADPAD\n",
      "bttbyppyp\n",
      "gggtgtptffyPADPADPADPADPAD\n",
      "gaggysfyyyPADPADPADPADPADPAD\n",
      "gtogptipyt\n",
      "bbggggtipyyPADPADPADPADPAD\n",
      "ggagpppty\n",
      "iatffppafp\n",
      "geagfypyyPADPADPADPADPADPADPAD\n",
      "gggtgafif\n",
      "ibttppyyy\n",
      "gytyyyp\n",
      "bppgppptffyPADPADPADPADPAD\n",
      "ggggggtff\n",
      "gigeapffyPADPADPADPADPADPADPAD\n",
      "bttatfyyyPADPADPADPADPADPADPAD\n",
      "yyttgtfoyPADPADPADPADPADPADPAD\n",
      "ggggppyyyPADPADPADPADPADPADPAD\n",
      "ggegptffyPADPADPADPADPADPADPAD\n",
      "bbtpppffppPADPADPADPADPADPAD\n",
      "gttgipp\n",
      "bttgyyyyy\n",
      "ggttppostp\n",
      "geggtppt\n",
      "jtttfysf\n",
      "atgggggyyPADPADPADPADPADPADPAD\n",
      "gigbptpppf\n",
      "ggatppyyf\n",
      "bbtgtppfyPADPADPADPADPADPADPAD\n",
      "gttgtgpfyyPADPADPADPADPADPAD\n",
      "bttbyyysy\n",
      "fattspyyyyPADPADPADPADPADPAD\n",
      "nantspopp\n",
      "jantpppy\n",
      "gigppstfyyPADPADPADPADPADPAD\n",
      "ggtfsppyy\n",
      "gitggoptgyPADPADPADPADPADPAD\n",
      "jitaffpff\n",
      "atgtgffyyyPADPADPADPADPADPAD\n",
      "gegppfffy\n",
      "biancfps\n",
      "gibbppyppyPADPADPADPADPADPAD\n",
      "gigggtpfftyPADPADPADPADPAD\n",
      "teatsppy\n",
      "gtityyyyy\n",
      "giggggyyyfyPADPADPADPADPAD\n",
      "gattippysPADPADPADPADPADPADPAD\n",
      "jefffpsyy\n",
      "entsspopy\n",
      "gigggnggyyPADPADPADPADPADPAD\n",
      "gggattfyyyPADPADPADPADPADPAD\n",
      "gyyfffoftyPADPADPADPADPADPAD\n",
      "gegppppp\n",
      "ggtgtipyfPADPADPADPADPADPADPAD\n",
      "ghiftssifyPADPADPADPADPADPAD\n",
      "geatppppppPADPADPADPADPADPAD\n",
      "batagsgty\n",
      "gaytppspyPADPADPADPADPADPADPAD\n",
      "ngnttptfp\n",
      "gitaggfif\n",
      "bbattgytyy\n",
      "jettgpfffgPADPADPADPADPADPAD\n",
      "gintypppyPADPADPADPADPADPADPAD\n",
      "iiaffssfpfPADPADPADPADPADPAD\n",
      "gggppyyyyPADPADPADPADPADPADPAD\n",
      "ggayyypyPADPADPADPADPADPADPADPAD\n",
      "geytpppif\n",
      "gebssopyyPADPADPADPADPADPADPAD\n",
      "betyffyyyPADPADPADPADPADPADPAD\n",
      "gigtgpfppyPADPADPADPADPADPAD\n",
      "ggagyooyPADPADPADPADPADPADPADPAD\n",
      "aggoptyfri\n",
      "bnyppyyyyPADPADPADPADPADPADPAD\n",
      "giatofopf\n",
      "ggggtppfyyPADPADPADPADPADPAD\n",
      "gyasfuffyPADPADPADPADPADPADPAD\n",
      "ggttgapyytPADPADPADPADPADPAD\n",
      "gigggggygfPADPADPADPADPADPAD\n",
      "batffffffy\n",
      "teatyppppPADPADPADPADPADPADPAD\n",
      "byytyppyy\n",
      "bibpppp\n",
      "bhtgtpyyyyPADPADPADPADPADPAD\n",
      "giggspsy\n",
      "giggagpoffpPADPADPADPADPAD\n",
      "ttgoppfyy\n",
      "gigggotyyyPADPADPADPADPADPAD\n",
      "ggftffofyPADPADPADPADPADPADPAD\n",
      "gitggppypyPADPADPADPADPADPAD\n",
      "baospfffPADPADPADPADPADPADPADPAD\n",
      "bhtggpssy\n",
      "gefttppst\n",
      "hhgfpptf\n",
      "ittffggtpy\n",
      "ggftfppyf\n",
      "gitgyyyyy\n",
      "tytyyypyytPADPADPADPADPADPAD\n",
      "gigtafofff\n",
      "giggtpopf\n",
      "baattfpyyyPADPADPADPADPADPAD\n",
      "statsppyPADPADPADPADPADPADPADPAD\n",
      "bingbpfif\n",
      "jtogpotoy\n",
      "ggettppsf\n",
      "eiggypps\n",
      "gabgpypyPADPADPADPADPADPADPADPAD\n",
      "ggtgtgpppyPADPADPADPADPADPAD\n",
      "gnatypppfp\n",
      "giggfyyyyPADPADPADPADPADPADPAD\n",
      "gegyyoyyy\n",
      "henggpffsp\n",
      "ttasbsbp\n",
      "btatgguf\n",
      "igtgtgffy\n",
      "ttbbyyyftPADPADPADPADPADPADPAD\n",
      "fitfogofff\n",
      "bibitppcyy\n",
      "ggtgtgsgyPADPADPADPADPADPADPAD\n",
      "gitgppaffy\n",
      "gbtbpcfpfPADPADPADPADPADPADPAD\n",
      "bttspptyyPADPADPADPADPADPADPAD\n",
      "bbogyapfy\n",
      "btffpfppPADPADPADPADPADPADPADPAD\n",
      "gattysosfyyPADPADPADPADPAD\n",
      "gggtofpfffyPADPADPADPADPAD\n",
      "jggtsppsfyPADPADPADPADPADPAD\n",
      "gigtbppy\n",
      "gggtgpyfyPADPADPADPADPADPADPAD\n",
      "igagtgpfyyPADPADPADPADPADPAD\n",
      "gyttyoyyyPADPADPADPADPADPADPAD\n",
      "ggggggyyytPADPADPADPADPADPAD\n",
      "ggigyyypg\n",
      "eggsppssfPADPADPADPADPADPADPAD\n",
      "bgggpypt\n",
      "gigtappfyyPADPADPADPADPADPAD\n",
      "gitbpscy\n",
      "titbbpffpPADPADPADPADPADPADPAD\n",
      "ttitfffofyPADPADPADPADPADPAD\n",
      "giggpfspPADPADPADPADPADPADPADPAD\n",
      "gagtspyyPADPADPADPADPADPADPADPAD\n",
      "jibtffri\n",
      "guffpscfpf\n",
      "gttggfpy\n",
      "uuggaptpppPADPADPADPADPADPAD\n",
      "btgtppopy\n",
      "tatifftstPADPADPADPADPADPADPAD\n",
      "chasffopy\n",
      "btggppfp\n",
      "gatgipgpyyyPADPADPADPADPAD\n",
      "gbgtypyyyPADPADPADPADPADPADPAD\n",
      "ggogtggifyPADPADPADPADPADPAD\n",
      "buttfpfff\n",
      "ggggtyyyyPADPADPADPADPADPADPAD\n",
      "gggyyytyyPADPADPADPADPADPADPAD\n",
      "iijffpspy\n",
      "gitggggopgyPADPADPADPADPAD\n",
      "igagpifffyPADPADPADPADPADPAD\n",
      "gigyptafgyPADPADPADPADPADPAD\n",
      "jeiyyppof\n",
      "tigtgssspPADPADPADPADPADPADPAD\n",
      "gitbspyyyPADPADPADPADPADPADPAD\n",
      "yyayypsgy\n",
      "gtaggfppyyPADPADPADPADPADPAD\n",
      "gagffstyy\n",
      "iggggpppp\n",
      "gagtttfpy\n",
      "tigtppppy\n",
      "abypppfpf\n",
      "gaggspsf\n",
      "gfffyyyyyyPADPADPADPADPADPAD\n",
      "niypypsp\n",
      "ggntggpyy\n",
      "getggfpof\n",
      "geftyptf\n",
      "ggyyyyyyyPADPADPADPADPADPADPAD\n",
      "giatfpffft\n",
      "igitgpspyyPADPADPADPADPADPAD\n",
      "iaptypyfyPADPADPADPADPADPADPAD\n",
      "fegtftfffy\n",
      "attpppsyy\n",
      "gigtoppfpPADPADPADPADPADPADPAD\n",
      "gigggggyyyPADPADPADPADPADPAD\n",
      "battgpfsy\n",
      "gettosppfy\n",
      "gufgappysy\n",
      "ggfffffyyyPADPADPADPADPADPAD\n",
      "jtttppyy\n",
      "ggypppppiPADPADPADPADPADPADPAD\n",
      "guttbppppyPADPADPADPADPADPAD\n",
      "iatptptf\n",
      "btgggpyyyyyPADPADPADPADPAD\n",
      "gigugfgpyyyPADPADPADPADPAD\n",
      "giysffpp\n",
      "tiyfffpy\n",
      "happgyyyyyPADPADPADPADPADPAD\n",
      "gigggptpc\n",
      "gtabbiffyyPADPADPADPADPADPAD\n",
      "gnggpypy\n",
      "gatppofff\n",
      "ngggypppfyPADPADPADPADPADPAD\n",
      "agatffpfyyPADPADPADPADPADPAD\n",
      "fittppypf\n",
      "giggtgypyPADPADPADPADPADPADPAD\n",
      "bbbfbbpypyPADPADPADPADPADPAD\n",
      "gfftyppypyPADPADPADPADPADPAD\n",
      "bibbppffp\n",
      "syatfopppyPADPADPADPADPADPAD\n",
      "bttyyyyyyyPADPADPADPADPADPAD\n",
      "gigggyppyyPADPADPADPADPADPAD\n",
      "ggytyysy\n"
     ]
    },
    {
     "name": "stdout",
     "output_type": "stream",
     "text": [
      "bhggtgpfffyPADPADPADPADPAD\n",
      "gittgsspsyPADPADPADPADPADPAD\n",
      "jttffppff\n",
      "tubatspyyPADPADPADPADPADPADPAD\n",
      "gtitppyyyy\n",
      "btatyyyyyPADPADPADPADPADPADPAD\n",
      "tifffpfyg\n",
      "gbbbbopgyg\n",
      "bbtppffffyyPADPADPADPADPAD\n",
      "gyyyyysp\n",
      "gbbbbpfof\n",
      "bhgtbabcuf\n",
      "ffatffifft\n",
      "btstggpyyPADPADPADPADPADPADPAD\n",
      "gggapfyyPADPADPADPADPADPADPADPAD\n",
      "gngytycstf\n",
      "yyyppyst\n",
      "inatffpyyyPADPADPADPADPADPAD\n",
      "ggatgpsfyyPADPADPADPADPADPAD\n",
      "gittbbyfyy\n",
      "gyyyyyppyPADPADPADPADPADPADPAD\n",
      "gettghpipyyPADPADPADPADPAD\n",
      "btggpfpfstPADPADPADPADPADPAD\n",
      "tggfgyfti\n",
      "gitggpyyyPADPADPADPADPADPADPAD\n",
      "buutatffo\n",
      "geggafoft\n",
      "bugtippopi\n",
      "nnggpptfyPADPADPADPADPADPADPAD\n",
      "gefyfpttp\n",
      "gagtoptogPADPADPADPADPADPADPAD\n",
      "battgyfyyyPADPADPADPADPADPAD\n",
      "ggeffffffyPADPADPADPADPADPAD\n",
      "gttpppffsp\n",
      "tyttboppy\n",
      "ggggppppp\n",
      "gegasgppy\n",
      "titippsfyyyPADPADPADPADPAD\n",
      "gytyyyyy\n",
      "gggaptppstPADPADPADPADPADPAD\n",
      "gayspfpfyPADPADPADPADPADPADPAD\n",
      "iantgpppty\n",
      "igtgtppffyPADPADPADPADPADPAD\n",
      "ggigppyyyyPADPADPADPADPADPAD\n",
      "ggttgyyyyyPADPADPADPADPADPAD\n",
      "geffytypp\n",
      "bittptopf\n",
      "ggatipfft\n",
      "bbttgppfgPADPADPADPADPADPADPAD\n",
      "getggpfff\n",
      "gigtyyyfyPADPADPADPADPADPADPAD\n",
      "giffyggscf\n",
      "babfffpfpt\n",
      "tatnsppcpff\n",
      "ggyyyypsyPADPADPADPADPADPADPAD\n",
      "gigtypfyyPADPADPADPADPADPADPAD\n",
      "ggtgtifppPADPADPADPADPADPADPAD\n",
      "gaggtgpof\n",
      "gaftfffff\n",
      "jinfppfff\n",
      "gtittpopy\n",
      "ggtgopff\n",
      "agggggftf\n",
      "ggatystyyPADPADPADPADPADPADPAD\n",
      "gigttbrypyPADPADPADPADPADPAD\n",
      "giignyyyfyPADPADPADPADPADPAD\n",
      "tatosyypyyPADPADPADPADPADPAD\n",
      "batgpopyyPADPADPADPADPADPADPAD\n",
      "gnggypyypyPADPADPADPADPADPAD\n",
      "igggtyyppyPADPADPADPADPADPAD\n",
      "jttgygtgfyPADPADPADPADPADPAD\n",
      "gggtgffff\n",
      "gggtggffp\n",
      "bitagpfyy\n",
      "ggatspyy\n",
      "ggttyyyyyPADPADPADPADPADPADPAD\n",
      "bittppppyPADPADPADPADPADPADPAD\n",
      "ggggtapy\n",
      "igggpgpsp\n",
      "bigggpopfyPADPADPADPADPADPAD\n",
      "gigpppppfyPADPADPADPADPADPAD\n",
      "bitabbyyyPADPADPADPADPADPADPAD\n",
      "ggatgffffpPADPADPADPADPADPAD\n",
      "gugtyyycys\n",
      "gittpafyPADPADPADPADPADPADPADPAD\n",
      "gyyyyypcfyPADPADPADPADPADPAD\n",
      "futtgostc\n",
      "batyyytyyPADPADPADPADPADPADPAD\n",
      "tutigyeptip\n",
      "gitsyyyyPADPADPADPADPADPADPADPAD\n",
      "ggngtosssyPADPADPADPADPADPAD\n",
      "ggotgfffyPADPADPADPADPADPADPAD\n",
      "jjbfpfcff\n",
      "ggtttifffyPADPADPADPADPADPAD\n",
      "bggpptipyPADPADPADPADPADPADPAD\n",
      "gattppyyyyPADPADPADPADPADPAD\n",
      "gggttopf\n",
      "tgtggssyPADPADPADPADPADPADPADPAD\n",
      "ggttgopgf\n",
      "gyyyypppyPADPADPADPADPADPADPAD\n",
      "guttpypypPADPADPADPADPADPADPAD\n",
      "iitggppfyPADPADPADPADPADPADPAD\n",
      "jingfpopf\n",
      "gggyyyyyyyPADPADPADPADPADPAD\n",
      "tatsfofy\n",
      "ggigptpffyPADPADPADPADPADPAD\n",
      "fingyyyftpPADPADPADPADPADPAD\n",
      "bhuttofff\n",
      "jinbpppfy\n",
      "giggpptipyPADPADPADPADPADPAD\n",
      "batggpopyyyPADPADPADPADPAD\n",
      "gaggfotft\n",
      "hagtypfcp\n",
      "tufspspf\n",
      "yyygyyypyPADPADPADPADPADPADPAD\n",
      "iingettfff\n",
      "gtgtyssy\n",
      "batyyyyyyPADPADPADPADPADPADPAD\n",
      "btytypopiPADPADPADPADPADPADPAD\n",
      "itttcscifPADPADPADPADPADPADPAD\n",
      "jtttaptopyPADPADPADPADPADPAD\n",
      "gattgaftyyPADPADPADPADPADPAD\n",
      "igiggofffyPADPADPADPADPADPAD\n",
      "thgpposyyPADPADPADPADPADPADPAD\n",
      "giggpppyyyPADPADPADPADPADPAD\n",
      "gggttypof\n",
      "gtgtggyyyPADPADPADPADPADPADPAD\n",
      "gitgyppppy\n",
      "ggtfafyyyPADPADPADPADPADPADPAD\n",
      "atatfpfppPADPADPADPADPADPADPAD\n",
      "bubggbpyy\n",
      "ggatfofffp\n",
      "tatyoopyy\n",
      "ggagggppf\n",
      "ttytypyyy\n",
      "giagfffpsg\n",
      "bbutfpppp\n",
      "ggitgtpfyyyPADPADPADPADPAD\n",
      "gabttpyyyyPADPADPADPADPADPAD\n",
      "giggtogrg\n",
      "gittffpyspf\n",
      "gytgytyp\n",
      "bbyyyfyyyPADPADPADPADPADPADPAD\n",
      "gifypsptiPADPADPADPADPADPADPAD\n",
      "gigpaspff\n",
      "geggyytyyPADPADPADPADPADPADPAD\n",
      "gggtagffp\n",
      "agtofptfyyPADPADPADPADPADPAD\n",
      "bttatypty\n",
      "ginggftfpf\n",
      "geysgpfff\n",
      "ggottyyyy\n",
      "gfyfypygyyPADPADPADPADPADPAD\n",
      "gigpypyy\n",
      "biygppppsPADPADPADPADPADPADPAD\n",
      "gegtyypcyyPADPADPADPADPADPAD\n",
      "gatgpty\n",
      "giggggspy\n",
      "gifftfsct\n",
      "gittspytyyPADPADPADPADPADPAD\n",
      "gbtgggsp\n",
      "ggttgtfspyyPADPADPADPADPAD\n",
      "gggappppt\n",
      "gegnpppfyPADPADPADPADPADPADPAD\n",
      "gegggstyyPADPADPADPADPADPADPAD\n",
      "agtgyypifPADPADPADPADPADPADPAD\n",
      "gttggfsty\n",
      "gtifppysy\n",
      "tatbpyyyyPADPADPADPADPADPADPAD\n",
      "gggggffyy\n",
      "gitsppspfp\n",
      "byatpypyyy\n",
      "ggtggppyyyPADPADPADPADPADPAD\n",
      "gggggpyffPADPADPADPADPADPADPAD\n",
      "bassffopiy\n",
      "gtypppty\n",
      "ggttppfyfPADPADPADPADPADPADPAD\n",
      "btstppofyyPADPADPADPADPADPAD\n",
      "igxpbppyyPADPADPADPADPADPADPAD\n",
      "lytasppopyPADPADPADPADPADPAD\n",
      "bigftspst\n",
      "gttggpysyPADPADPADPADPADPADPAD\n",
      "byytypyyyPADPADPADPADPADPADPAD\n",
      "gattopptyyPADPADPADPADPADPAD\n",
      "ggatofppf\n",
      "gigbpppof\n",
      "gggtifosyPADPADPADPADPADPADPAD\n",
      "igiggpsy\n",
      "batttfift\n",
      "fiatfypyyyyPADPADPADPADPAD\n",
      "ggttypytyyPADPADPADPADPADPAD\n",
      "gottipoyyyPADPADPADPADPADPAD\n",
      "bigtgtfpyy\n",
      "hhagptpyy\n",
      "ggaggopptyPADPADPADPADPADPAD\n",
      "gggtgtffif\n",
      "bbipppff\n",
      "iglysspyyPADPADPADPADPADPADPAD\n",
      "gigggpoftyPADPADPADPADPADPAD\n",
      "begpgatyp\n",
      "tgatoppspPADPADPADPADPADPADPAD\n",
      "gigtgggfgsPADPADPADPADPADPAD\n",
      "giffgppptyPADPADPADPADPADPAD\n",
      "btttgpspyy\n",
      "gggtggtyyyPADPADPADPADPADPAD\n",
      "bttgtyyyyPADPADPADPADPADPADPAD\n",
      "tattggosyyPADPADPADPADPADPAD\n",
      "giggtgtf\n",
      "ggttgffsyyPADPADPADPADPADPAD\n",
      "gittgyssfyPADPADPADPADPADPAD\n",
      "ggtgyyyyy\n",
      "gitbbfpfp\n",
      "tgtgtyyyyyPADPADPADPADPADPAD\n",
      "iggggpppf\n",
      "bgtggyyyPADPADPADPADPADPADPADPAD\n",
      "gggfgygyfg\n",
      "gggyypty\n",
      "geggppyptgPADPADPADPADPADPAD\n",
      "btyytyoptPADPADPADPADPADPADPAD\n",
      "bubtbpyf\n",
      "gnaptpypyPADPADPADPADPADPADPAD\n",
      "byyyyytg\n",
      "giggtssyyPADPADPADPADPADPADPAD\n",
      "battopff\n",
      "bbtftyspyyPADPADPADPADPADPAD\n",
      "ggggbyyyyy\n",
      "gingappyy\n",
      "gggtfppigyPADPADPADPADPADPAD\n",
      "gggttgggysPADPADPADPADPADPAD\n",
      "gitppspo\n",
      "batgopgpyPADPADPADPADPADPADPAD\n",
      "ggtgcpffyyPADPADPADPADPADPAD\n",
      "btatfgsfy\n",
      "butgstfotPADPADPADPADPADPADPAD\n",
      "butfsspyyPADPADPADPADPADPADPAD\n",
      "boufspypt\n",
      "fufassppyPADPADPADPADPADPADPAD\n",
      "bgggptopf\n",
      "gigntppff\n",
      "gtottgpppyyPADPADPADPADPAD\n",
      "tttgggyyyPADPADPADPADPADPADPAD\n",
      "gattoyyyyyPADPADPADPADPADPAD\n",
      "tatgtppty\n",
      "ggattfpgs\n",
      "itggnssgtyPADPADPADPADPADPAD\n",
      "bgotgpgppy\n",
      "ggattpospPADPADPADPADPADPADPAD\n",
      "jiggggppppPADPADPADPADPADPAD\n",
      "ibaptptpsyPADPADPADPADPADPAD\n",
      "buttipff\n",
      "bggpoppfsPADPADPADPADPADPADPAD\n",
      "ganfyptfp\n",
      "igggggfyyyPADPADPADPADPADPAD\n",
      "tatggotfyyPADPADPADPADPADPAD\n",
      "gigggppyyyPADPADPADPADPADPAD\n",
      "tetttopyyPADPADPADPADPADPADPAD\n",
      "bgtbbyysyyPADPADPADPADPADPAD\n",
      "igtgfsyyyy\n",
      "gggggpstyPADPADPADPADPADPADPAD\n",
      "ggggtfpff\n",
      "iatpppyfy\n",
      "boggtfgyyPADPADPADPADPADPADPAD\n",
      "ahhhpppfyPADPADPADPADPADPADPAD\n",
      "ftttggsfffPADPADPADPADPADPAD\n",
      "gigbsppf\n",
      "jigfpppfftPADPADPADPADPADPAD\n",
      "gigggggsyy\n",
      "hatipppyy\n",
      "giggpptyyyPADPADPADPADPADPAD\n",
      "ggatyyfyyyPADPADPADPADPADPAD\n",
      "nnfsppopyy\n",
      "teffyppyyPADPADPADPADPADPADPAD\n",
      "gegptpypyPADPADPADPADPADPADPAD\n",
      "btttgfpfpyyPADPADPADPADPAD\n",
      "butffyyyyyPADPADPADPADPADPAD\n",
      "ggggtopypy\n",
      "gtttppfyyPADPADPADPADPADPADPAD\n",
      "gttgtafff\n",
      "giggppof\n",
      "igggttfyyyPADPADPADPADPADPAD\n",
      "byyttpfpyPADPADPADPADPADPADPAD\n",
      "gitttypgyPADPADPADPADPADPADPAD\n",
      "eitfgppyyPADPADPADPADPADPADPAD\n",
      "battsfyyyPADPADPADPADPADPADPAD\n",
      "jtfbpopo\n",
      "guftapyyyPADPADPADPADPADPADPAD\n",
      "gggggppffyPADPADPADPADPADPAD\n",
      "itotgggffygPADPADPADPADPAD\n",
      "gigatpfpp\n",
      "gigbayyyyPADPADPADPADPADPADPAD\n",
      "gggggtbpsyPADPADPADPADPADPAD\n",
      "gigygypspPADPADPADPADPADPADPAD\n",
      "ggttpgfgy\n",
      "ggggststyy\n",
      "ghagiffff\n",
      "gagtfffopf\n",
      "gufffffyyyPADPADPADPADPADPAD\n",
      "neinfspfpyPADPADPADPADPADPAD\n",
      "igttpfctf\n",
      "itastpsopPADPADPADPADPADPADPAD\n",
      "gigttyyyyyPADPADPADPADPADPAD\n",
      "baagyptyPADPADPADPADPADPADPADPAD\n",
      "itfffpfyyyPADPADPADPADPADPAD\n",
      "tatggtftPADPADPADPADPADPADPADPAD\n",
      "gggtiogptyPADPADPADPADPADPAD\n",
      "ggtggsgyPADPADPADPADPADPADPADPAD\n",
      "gguggbopyy\n",
      "iyyyypppt\n",
      "bigytyypfpPADPADPADPADPADPAD\n",
      "fetbpppp\n",
      "gtgtipptyyPADPADPADPADPADPAD\n",
      "geftppfffPADPADPADPADPADPADPAD\n",
      "ggutyfffyPADPADPADPADPADPADPAD\n",
      "gattopopy\n",
      "giyppspy\n",
      "ggattipfy\n",
      "bgoggptfy\n",
      "ffatgppfy\n",
      "giggpyffPADPADPADPADPADPADPADPAD\n",
      "ftatsoppyyPADPADPADPADPADPAD\n",
      "gigbbgpgp\n",
      "gufffpypyyPADPADPADPADPADPAD\n",
      "yyyyyyyyyPADPADPADPADPADPADPAD\n",
      "etytyyytyPADPADPADPADPADPADPAD\n",
      "hhabbipfyyyPADPADPADPADPAD\n",
      "gityypypyyyPADPADPADPADPAD\n",
      "gggtcnifff\n",
      "btftggfty\n",
      "ggabbbpfo\n",
      "etatsspyyPADPADPADPADPADPADPAD\n",
      "tfoffppyyPADPADPADPADPADPADPAD\n",
      "igggyyyyyyPADPADPADPADPADPAD\n",
      "giggftfpy\n",
      "gabgoptyyPADPADPADPADPADPADPAD\n",
      "egffppppyPADPADPADPADPADPADPAD\n",
      "gigtffifty\n",
      "bgtgtipfyyPADPADPADPADPADPAD\n",
      "ggytyypystPADPADPADPADPADPAD\n",
      "igggppffty\n",
      "tattsppfpyPADPADPADPADPADPAD\n",
      "hhogbpfftyPADPADPADPADPADPAD\n",
      "ggtssoffPADPADPADPADPADPADPADPAD\n",
      "ggfftgptff\n",
      "bbbssyyyyPADPADPADPADPADPADPAD\n",
      "giggfpfpspPADPADPADPADPADPAD\n",
      "gygtyyppffPADPADPADPADPADPAD\n",
      "jufssfffyPADPADPADPADPADPADPAD\n",
      "catgpofpy\n",
      "ghnfppsoffPADPADPADPADPADPAD\n",
      "igttbbpppy\n",
      "janfffsfy\n",
      "ggtpfffffyPADPADPADPADPADPAD\n",
      "byttyysptyPADPADPADPADPADPAD\n",
      "aggttaffyyyPADPADPADPADPAD\n",
      "baffsppffPADPADPADPADPADPADPAD\n",
      "ggyyyypyyPADPADPADPADPADPADPAD\n",
      "ttatbpppy\n",
      "ggatfbspfyPADPADPADPADPADPAD\n",
      "ggggpppip\n",
      "gigtppoftp\n",
      "bttppffy\n",
      "gigggpppf\n",
      "gigffppfy\n",
      "inngaspsp\n",
      "gbtypyyyy\n",
      "geesppisyyPADPADPADPADPADPAD\n",
      "gatgppyyyPADPADPADPADPADPADPAD\n",
      "gugggptop\n",
      "gufffffft\n",
      "batyyyyyyyPADPADPADPADPADPAD\n",
      "giggthfffy\n",
      "tutgpfff\n",
      "ajapsppfs\n",
      "igttyyyyy\n",
      "bigtgtofy\n",
      "gabbpppipPADPADPADPADPADPADPAD\n",
      "gggatgpysPADPADPADPADPADPADPAD\n",
      "gigggssppf\n",
      "binspoppsyPADPADPADPADPADPAD\n",
      "ttabbtstyPADPADPADPADPADPADPAD\n",
      "gitgfppssyPADPADPADPADPADPAD\n",
      "bttgppffyPADPADPADPADPADPADPAD\n",
      "btattgygyPADPADPADPADPADPADPAD\n",
      "jatffspsg\n",
      "giggpptpyyPADPADPADPADPADPAD\n",
      "gigfotpfysyPADPADPADPADPAD\n",
      "gibpppffpyPADPADPADPADPADPAD\n",
      "ggggopfff\n",
      "tagtgofst\n",
      "ghagfosyPADPADPADPADPADPADPADPAD\n",
      "jtefpppptyPADPADPADPADPADPAD\n",
      "fegggppfyPADPADPADPADPADPADPAD\n",
      "fefspopfp\n",
      "gugffnggty\n",
      "gigggfpsyPADPADPADPADPADPADPAD\n",
      "giggttspy\n",
      "giogpfffyy\n",
      "titfspfif\n",
      "gigppspso\n",
      "guftfppff\n",
      "ggattgtfpyyPADPADPADPADPAD\n",
      "gigggppyyyPADPADPADPADPADPAD\n"
     ]
    },
    {
     "name": "stdout",
     "output_type": "stream",
     "text": [
      "gbatfpyyyPADPADPADPADPADPADPAD\n",
      "igtgpffst\n",
      "ttittpffyyPADPADPADPADPADPAD\n",
      "cifftpfpitPADPADPADPADPADPAD\n",
      "titgggtfgg\n",
      "gigtgpyyyPADPADPADPADPADPADPAD\n",
      "giogygtyPADPADPADPADPADPADPADPAD\n",
      "tyygyypopyPADPADPADPADPADPAD\n",
      "giggfyyspsyPADPADPADPADPAD\n",
      "gutggopyyPADPADPADPADPADPADPAD\n",
      "ggatgpppf\n",
      "gigtgffoff\n",
      "gegbyappy\n",
      "jtetffpfpyPADPADPADPADPADPAD\n",
      "gitpppfystyPADPADPADPADPAD\n",
      "gagtyyyy\n",
      "jihbfypopyPADPADPADPADPADPAD\n",
      "gtifppspy\n",
      "giggpptypyPADPADPADPADPADPAD\n",
      "bettffffyPADPADPADPADPADPADPAD\n",
      "gttgtgfffPADPADPADPADPADPADPAD\n",
      "gyatpoffp\n",
      "gigttffff\n",
      "gggtgtppyPADPADPADPADPADPADPAD\n",
      "igngtpfyyyPADPADPADPADPADPAD\n",
      "gggagppspyPADPADPADPADPADPAD\n",
      "gttfagpf\n",
      "ijsptpntyPADPADPADPADPADPADPAD\n",
      "gigggpppffPADPADPADPADPADPAD\n",
      "ggggtpopf\n",
      "yyttyfpfyytPADPADPADPADPAD\n",
      "gegsspfyyPADPADPADPADPADPADPAD\n",
      "gggtpfop\n",
      "giffptypfpyPADPADPADPADPAD\n",
      "giggpeptfy\n",
      "bugttppy\n",
      "ggigppyppPADPADPADPADPADPADPAD\n",
      "gantiptffyPADPADPADPADPADPAD\n",
      "tiisppppyPADPADPADPADPADPADPAD\n",
      "gefgppctfy\n",
      "abtggtypyPADPADPADPADPADPADPAD\n",
      "giggpyyy\n",
      "bhbttppff\n",
      "ggtyytoyyy\n",
      "ggypypyyyPADPADPADPADPADPADPAD\n",
      "yyytygyfy\n",
      "ggappyyyyyPADPADPADPADPADPAD\n",
      "gggffaffpy\n",
      "ggtgippfpyy\n",
      "geatppppp\n",
      "ttffppoyyPADPADPADPADPADPADPAD\n",
      "aatgtgffif\n",
      "iggtfspppsyPADPADPADPADPAD\n",
      "giatgptyyyPADPADPADPADPADPAD\n",
      "gguggafgp\n",
      "jjatyypyyPADPADPADPADPADPADPAD\n",
      "gggttgyyyPADPADPADPADPADPADPAD\n",
      "jigtgggsf\n",
      "bggggptfcPADPADPADPADPADPADPAD\n",
      "aggtbicyyfPADPADPADPADPADPAD\n",
      "ggagtftog\n",
      "ggttyfsppyyPADPADPADPADPAD\n",
      "gnntffsyys\n",
      "ggagtppp\n",
      "ghoptypit\n",
      "bitgggapyy\n",
      "getfyyfyyyPADPADPADPADPADPAD\n",
      "gatgpfyyyyPADPADPADPADPADPAD\n",
      "guttgfffp\n",
      "bitggpppyPADPADPADPADPADPADPAD\n",
      "ggtgtyyyyyPADPADPADPADPADPAD\n",
      "ggngyyyptp\n",
      "etatsppt\n",
      "batyyyyyyy\n",
      "gtttipqf\n",
      "tbbbppofyyPADPADPADPADPADPAD\n",
      "giggpsfpf\n",
      "gatgtpffyyPADPADPADPADPADPAD\n",
      "ggagtfftfy\n",
      "ggggtyppf\n",
      "ygttytyyyPADPADPADPADPADPADPAD\n",
      "gggtopssg\n",
      "bubfpgppppPADPADPADPADPADPAD\n",
      "gigggpyyyyyPADPADPADPADPAD\n",
      "ggftafffft\n",
      "ggtggyyyyyPADPADPADPADPADPAD\n",
      "gabpppp\n",
      "gigyyypypyPADPADPADPADPADPAD\n",
      "gguggfffpp\n",
      "gentpppfyPADPADPADPADPADPADPAD\n",
      "bhbtbpfyyPADPADPADPADPADPADPAD\n",
      "iytyyyyty\n",
      "gigppyysPADPADPADPADPADPADPADPAD\n",
      "battpppfyPADPADPADPADPADPADPAD\n",
      "gttytyyy\n",
      "gyytysyyyy\n",
      "ttypptpfysPADPADPADPADPADPAD\n",
      "ggeggptyfyPADPADPADPADPADPAD\n",
      "giffypttp\n",
      "gytyyyyyyPADPADPADPADPADPADPAD\n",
      "yyyyyyyp\n",
      "gigggtfyyyPADPADPADPADPADPAD\n",
      "gattippyyPADPADPADPADPADPADPAD\n",
      "gyttyyyyyyPADPADPADPADPADPAD\n",
      "giggpgepfyyPADPADPADPADPAD\n",
      "gegtopotyPADPADPADPADPADPADPAD\n",
      "bitpypyypyPADPADPADPADPADPAD\n",
      "ggifppspyyPADPADPADPADPADPAD\n",
      "gtatbbogsPADPADPADPADPADPADPAD\n",
      "ggotfppyyPADPADPADPADPADPADPAD\n",
      "gtgnipppppPADPADPADPADPADPAD\n",
      "iitgbppppyPADPADPADPADPADPAD\n",
      "ggagfypfff\n",
      "tigtogpyyyPADPADPADPADPADPAD\n",
      "bhnttopif\n",
      "ggtffffcfyPADPADPADPADPADPAD\n",
      "ggathypyyPADPADPADPADPADPADPAD\n",
      "gjffytyyyPADPADPADPADPADPADPAD\n",
      "atyffyyy\n",
      "ietttagffi\n",
      "gingggpy\n",
      "gggtyyyyyyPADPADPADPADPADPAD\n",
      "ggtpffstyPADPADPADPADPADPADPAD\n",
      "giggpyypff\n",
      "gattpyyyyPADPADPADPADPADPADPAD\n",
      "guftgypyyyPADPADPADPADPADPAD\n",
      "gagtonstfpPADPADPADPADPADPAD\n",
      "gigggfssyyyPADPADPADPADPAD\n",
      "gegffpopfp\n",
      "giaffppfpPADPADPADPADPADPADPAD\n",
      "gegtatopyyPADPADPADPADPADPAD\n",
      "jattyyyyyPADPADPADPADPADPADPAD\n",
      "fettfppffy\n",
      "bityyppyPADPADPADPADPADPADPADPAD\n",
      "gittypppgy\n",
      "gyyytytyyyPADPADPADPADPADPAD\n",
      "jatspopyyPADPADPADPADPADPADPAD\n",
      "itgffppyfyPADPADPADPADPADPAD\n",
      "ggiggpysyPADPADPADPADPADPADPAD\n",
      "bitfppfffPADPADPADPADPADPADPAD\n",
      "gggttapffyPADPADPADPADPADPAD\n",
      "jttetpfff\n",
      "aggtgpff\n",
      "gibspapptyPADPADPADPADPADPAD\n",
      "ggatffff\n",
      "gittggycyfPADPADPADPADPADPAD\n",
      "fettfffst\n",
      "ggggggpoptPADPADPADPADPADPAD\n",
      "igggtpfffPADPADPADPADPADPADPAD\n",
      "hhabbpsp\n",
      "gingyyppy\n",
      "ijyypyypyPADPADPADPADPADPADPAD\n",
      "ggggggptyPADPADPADPADPADPADPAD\n",
      "gigtacps\n",
      "gaitptapff\n",
      "taygyyyyyyPADPADPADPADPADPAD\n",
      "gaotssppyPADPADPADPADPADPADPAD\n",
      "gigyypgpfyPADPADPADPADPADPAD\n",
      "gitotoggpfPADPADPADPADPADPAD\n",
      "gufgfygygs\n",
      "gefsbpyofs\n",
      "giggfspyyyyPADPADPADPADPAD\n",
      "iggggppff\n",
      "actftogatyyPADPADPADPADPAD\n",
      "efppapppyy\n",
      "bigbgpapp\n",
      "biggptysfPADPADPADPADPADPADPAD\n",
      "tetoppiftPADPADPADPADPADPADPAD\n",
      "tiggppoffy\n",
      "ggagtgtogyPADPADPADPADPADPAD\n",
      "['liberalisation', 'ornate', 'utilise', 'midwife', 'arturo', 'appellee', 'granules', 'uniformed', 'gavab', 'rollout', 'snug', 'homegrown', 'datamonitor', 'reinforces', 'coveted', 'dirham', 'leahy', 'myc', 'prohibitions', 'esophageal', 'moulded', 'deceived', 'kira', 'convict', 'approximations', 'forzieri', 'intermediates', 'kgs', 'albumin', 'grantees', 'nai', 'tossing', 'loveland', 'regularity', 'maloney', 'criticised', 'sativa', 'lawfully', 'paramedic', 'trademarked', 'edgewood', 'goethe', 'stressing', 'slade', 'potable', 'limpopo', 'intensities', 'oncogene', 'dumas', 'antidepressant', 'jester', 'notifies', 'recount', 'ballpark', 'powys', 'orca', 'mascara', 'proline', 'dearest', 'molina', 'nema', 'nook', 'wipers', 'snoopy', 'informationen', 'commensurate', 'esf', 'riverdale', 'schiller', 'bowler', 'unleash', 'juelz', 'bls', 'noarch', 'koss', 'captioned', 'paq', 'wiser', 'gallant', 'summarizing', 'ucsd', 'disbelief', 'gleason', 'gon', 'baritone', 'unqualified', 'cautioned', 'recollection', 'independant', 'chlamydia', 'relativistic', 'rotors', 'driscoll', 'andalucia', 'mulher', 'bagels', 'locomotives', 'condemns', 'fastening', 'jeweler', 'subliminal', 'insecticide', 'nuremberg', 'segal', 'ostrich', 'maud', 'spline', 'undisclosed', 'flirting', 'noni', 'letterman', 'almeria', 'bryson', 'misplaced', 'prosecutions', 'wtb', 'dido', 'towson', 'poisoned', 'researches', 'htaccess', 'malayalam', 'chou', 'discriminating', 'crue', 'loo', 'pinoy', 'pallets', 'uplink', 'sheboygan', 'exclamation', 'collingwood', 'terrence', 'intercepted', 'ghc', 'ascendant', 'flung', 'gateshead', 'probationary', 'abducted', 'warlock', 'breakup', 'clovis', 'fiche', 'juror', 'eam', 'bowden', 'goggle', 'railing', 'metabolites', 'cremation', 'brainstorm', 'banter', 'balconies', 'smu', 'awaken', 'ahl', 'bateman', 'egcs', 'chirac', 'museo', 'pigeons', 'coffeehouse', 'singularity', 'scitech', 'signify', 'granddaughter', 'gcn', 'trolling', 'elmore', 'subdirectory', 'bancroft', 'progeny', 'grads', 'alters', 'lz', 'andi', 'localpref', 'kayla', 'ccl', 'gratefully', 'divergent', 'fleets', 'smeg', 'dorian', 'donut', 'libido', 'juli', 'fuselage', 'diabetics', 'tackled', 'ballerina', 'crp', 'shoals', 'morgantown', 'paseo', 'tributary', 'clique', 'rosy', 'ptsd', 'redheads', 'curran', 'diam', 'satanic', 'ragnarok', 'stubbs', 'hkd', 'summarised', 'durch', 'torment', 'jx', 'mussels', 'caitlin', 'emigration', 'conscientious', 'howl', 'bandai', 'hobs', 'wel', 'iglesias', 'eft', 'endometriosis', 'cushioning', 'hir', 'mcneil', 'ecclesiastical', 'crippled', 'belvedere', 'hilltop', 'tabor', 'peut', 'nar', 'tenet', 'acetyl', 'boomer', 'fifteenth', 'chute', 'perinatal', 'idm', 'automake', 'multichannel', 'petr', 'bohemia', 'daredevil', 'corcoran', 'mountainous', 'mrp', 'holliday', 'daimlerchrysler', 'fonds', 'bowes', 'mcgowan', 'agfa', 'ogre', 'unforeseen', 'pickles', 'submissive', 'mep', 'curses', 'goss', 'mulch', 'stampede', 'jvm', 'utilised', 'harwood', 'trieste', 'ranma', 'marinas', 'whine', 'mobipocket', 'streptococcus', 'nus', 'murcia', 'landfills', 'mcknight', 'fatality', 'tierra', 'edd', 'baud', 'mcfarland', 'designline', 'looming', 'undies', 'zo', 'prepay', 'sped', 'kodiak', 'printout', 'nonresident', 'marysville', 'curso', 'palmos', 'dorsey', 'ankles', 'roo', 'soulful', 'mosques', 'websearch', 'infotrac', 'mpgs', 'fouls', 'openssh', 'bravenet', 'fuchs', 'guerilla', 'etsi', 'squeezing', 'fisk', 'canes', 'serendipity', 'tq', 'follower', 'euler', 'sequentially', 'yogi', 'landslide', 'howtos', 'skool', 'alumina', 'degenerate', 'spiked', 'evolves', 'cru', 'gavab', 'iberia', 'anakin', 'duffel', 'goodrich', 'strung', 'subfamily', 'chanting', 'wrestler', 'perennials', 'officiating', 'hermit', 'behaving', 'ary', 'colbert', 'matchmaker', 'sagittarius', 'locates', 'dysfunctional', 'maastricht', 'bulletproof', 'josiah', 'deepen', 'mcr', 'uga', 'stenosis', 'chg', 'acadia', 'eso', 'recentchanges', 'remy', 'pats', 'abrasion', 'valentin', 'eindhoven', 'mora', 'cri', 'enrico', 'reciprocity', 'opportunistic', 'pcl', 'analogs', 'bba', 'crease', 'hillcrest', 'cantor', 'wis', 'econometric', 'ook', 'trafford', 'opie', 'cro', 'bartholomew', 'elkhart', 'ringers', 'diced', 'fairgrounds', 'cuyahoga', 'perseverance', 'plt', 'cartons', 'mustangs', 'enc', 'addons', 'wstrict', 'catalonia', 'gow', 'pharmacological', 'headwear', 'paediatric', 'genitals', 'hendricks', 'ivr', 'telemedicine', 'judi', 'yorktown', 'impede', 'icom', 'academically', 'chilton', 'cbo', 'amaya', 'flickrblog', 'clasps', 'tilted', 'vicar', 'confines', 'fulbright', 'foaf', 'cllr', 'prank', 'xh', 'dass', 'repent', 'fulltext', 'dio', 'agreeable', 'centrum', 'tecra', 'kinks', 'riddles', 'unisys', 'preschools', 'bennington', 'mcallen', 'pulpit', 'appreciates', 'contoured', 'aberdeenshire', 'icm', 'schenectady', 'marshes', 'schematics', 'bellies', 'dojo', 'eserver', 'corrosive', 'ambush', 'nin', 'interfacing', 'borrowings', 'hrt', 'palazzo', 'franciscan', 'heparin', 'universiteit', 'figurative', 'gait', 'hardcopy', 'emphasised', 'connective', 'bonfire', 'aversion', 'nihon', 'oso', 'adkins', 'dunlap', 'nsc', 'irr', 'clonazepam', 'wikiname', 'gaithersburg', 'vicente', 'biophysics', 'chromatin', 'mathis', 'bulova', 'roxanne', 'fca', 'drg', 'stiles', 'stewards', 'refurb', 'chauffeur', 'wasteland', 'elicit', 'plotter', 'findlay', 'henrietta', 'slapped', 'bitten', 'cymraeg', 'alc', 'meek', 'lind', 'phonebook', 'doodle', 'arb', 'wabash', 'salamanca', 'martyn', 'dynamo', 'hobson', 'chronologically', 'wms', 'whitfield', 'stow', 'mchenry', 'eide', 'assy', 'dusseldorf', 'summon', 'skeletons', 'mmol', 'shabbat', 'nclb', 'parchment', 'accommodates', 'lingua', 'cmi', 'stacker', 'distractions', 'forfeit', 'pepe', 'paddles', 'unpopular', 'msf', 'republics', 'touchdowns', 'plasmas', 'inspecting', 'retainer', 'hardening', 'barbell', 'loosen', 'awk', 'bibs', 'beowulf', 'sneaky', 'undiscovered', 'einem', 'smarts', 'lankan', 'synthetase', 'imputed', 'lightwave', 'alignments', 'cabs', 'coached', 'cheated', 'jac', 'framingham', 'opensource', 'restroom', 'videography', 'lcr', 'spatially', 'doanh', 'willows', 'preprocessor', 'hump', 'cohn', 'delft', 'aon', 'marginally', 'ocs', 'bak', 'communicative', 'cavalli', 'grieving', 'ddc', 'grunge', 'chastity', 'invoicing', 'bigtits', 'carney', 'braintree', 'southside', 'vca', 'flipped', 'cabrera', 'faust', 'fright', 'harbors', 'adorned', 'obnoxious', 'mindy', 'diligently', 'surfaced', 'decays', 'glam', 'cowgirl', 'mortimer', 'marvellous', 'nouvelle', 'easing', 'loginlogin', 'mtr', 'nakamura', 'mathieu', 'layoffs', 'picket', 'matures', 'thrones', 'cty', 'emilia', 'eyre', 'apm', 'iggy', 'maturing', 'margarine', 'seu', 'illogical', 'awakened', 'beet', 'suing', 'brine', 'lorna', 'sneaker', 'waning', 'cartwright', 'glycoprotein', 'armoire', 'gcs', 'queued', 'sab', 'hydroxide', 'piled', 'hanley', 'cellulite', 'hwang', 'mtd', 'twinkle', 'mcqueen', 'lodgings', 'passat', 'fluff', 'shifter', 'maitland', 'cartography', 'supple', 'firstprevious', 'vito', 'geld', 'soi', 'fabio', 'predicates', 'bcl', 'unfit', 'uttered', 'douay', 'rumanian', 'zeitgeist', 'nickelodeon', 'dru', 'apar', 'tending', 'shaggy', 'elongated', 'ordeal', 'pegs', 'astronomer', 'hernia', 'preisvergleich', 'incompetence', 'britton', 'stabilizing', 'socom', 'wsis', 'anil', 'flicker', 'ramsay', 'midsize', 'relieving', 'pullover', 'towering', 'operas', 'slaughtered', 'lpn', 'hoodwinked', 'photoes', 'assaulted', 'beastie', 'mena', 'rouse', 'appel', 'yucca', 'armand', 'harvester', 'emmett', 'spiel', 'shay', 'impurities', 'stemming', 'inscriptions', 'obstructive', 'hos', 'pacman', 'tentatively', 'tragedies', 'interlude', 'oates', 'retroactive', 'briefed', 'bebe', 'dialects', 'krusell', 'vas', 'ovid', 'clickz', 'carcass', 'kermit', 'gizmo', 'atherosclerosis', 'casually', 'scamp', 'demography', 'freedman', 'migraines', 'wallingford', 'newborns', 'ljubljana', 'restarted', 'rnc', 'reprise', 'meow', 'thayer', 'kilograms', 'zig', 'packager', 'populate', 'lash', 'pembrokeshire', 'ills', 'arcane', 'impractical', 'simms', 'danes', 'tcg', 'gavab', 'honeymoons', 'authoritarian', 'alu', 'judaica', 'tropicana', 'tyan', 'cardholder', 'peavey', 'gothenburg', 'pebbles', 'geocaching', 'ident', 'fluoxetine', 'tipton', 'quicksilver', 'sacked', 'teva', 'lsa', 'omen', 'effortlessly', 'failover', 'forfeited', 'cysts', 'primetime', 'kenosha', 'kokomo', 'penney', 'stipend', 'conceptions', 'snorkel', 'amin', 'lii', 'iridium', 'dwyer', 'conserving', 'toppers', 'amulet', 'cfg', 'informally', 'tvc', 'alternator', 'nysgrc', 'underwriter', 'springhill', 'panhandle', 'sarcastic', 'joann', 'isoform', 'indemnification', 'hawke', 'borden', 'bombed', 'complexion', 'daisies', 'informant', 'elt', 'sorrows', 'halton', 'ite', 'guaranteeing', 'aegean', 'fasta', 'gonzaga', 'boobies', 'nadine', 'andere', 'breitling', 'nutr', 'ingersoll', 'sandia', 'pacs', 'azur', 'sluggish', 'helms', 'brig', 'beos', 'srcdir', 'tiempo', 'sherpa', 'tuff', 'marsden', 'coy', 'ligands', 'smalltalk', 'sorghum', 'grouse', 'nucleotides', 'mmv', 'ebi', 'reginald', 'wierd', 'sbd', 'pasted', 'moths', 'lmao', 'enhancers', 'collaborated', 'produ', 'lila', 'batavia', 'evoke', 'slotted', 'nnw', 'fila', 'decking', 'dispositions', 'haywood', 'staunton', 'boz', 'accelerators', 'howstuffworks', 'nit', 'amorphous', 'neighbourhoods', 'michal', 'tributaries', 'townships', 'rab', 'hideaway', 'dwayne', 'coda', 'nantes', 'cyanide', 'kostenlose', 'grotesk', 'assam', 'marek', 'interlibrary', 'mousse', 'provenance', 'sra', 'sog', 'zinkle', 'shameful', 'chiffon', 'fanfare', 'mapper', 'boyce', 'mlk', 'dystrophy', 'infomation', 'archaic', 'elevate', 'deafness', 'footballs', 'emailemail', 'bathurst', 'bec', 'sala', 'fof', 'duracell', 'laureate', 'feinstein', 'contemporaries', 'syphilis', 'vigilance', 'magnavox', 'appalling', 'palmyra', 'foxes', 'davie', 'evra', 'affixed', 'servlets', 'tss', 'neill', 'ticking', 'pantheon', 'gully', 'epithelium', 'bitterness', 'thc', 'brill', 'defy', 'stor', 'webbing', 'bef', 'jaya', 'consumes', 'lovingly', 'mame', 'agua', 'ppe', 'thrush', 'bribery', 'emusic', 'smokes', 'tso', 'epp', 'glencoe', 'untested', 'ventilated', 'overviews', 'affleck', 'kettles', 'ascend', 'flinders', 'informationhide', 'hearst', 'verifies', 'reverb', 'kays', 'commuters', 'rcp', 'nutmeg', 'welivetogether', 'crit', 'sdm', 'durbin', 'chained', 'riken', 'canceling', 'brookhaven', 'magnify', 'gauss', 'precautionary', 'artistry', 'travail', 'phpnuke', 'livres', 'fiddler', 'falkirk', 'wholesome', 'pitts', 'wrists', 'severed', 'dtp', 'mites', 'kwon', 'rubric', 'headlamp', 'operand', 'puddle', 'azores', 'kristi', 'yasmin', 'gnl', 'vegetative', 'acdbvertex', 'agora', 'illini', 'macho', 'sob', 'ningbo', 'elaborated', 'reeve', 'embellishments', 'willful', 'grandeur', 'plough', 'staphylococcus', 'pritchard', 'mansions', 'busting', 'foss', 'gfp', 'macpherson', 'overheard', 'yhoo', 'sloane', 'wooster', 'delong', 'persisted', 'mdi', 'nilsson', 'whereabouts', 'substring']\n"
     ]
    }
   ],
   "source": [
    "with torch.no_grad():\n",
    " \n",
    "    for t, (image_test, label_test) in enumerate(test_loader):\n",
    "\n",
    "        t += 1\n",
    "        test_batch = len(label_test)\n",
    "        \n",
    "        encoder_hidden_test = Encoder_model.initHidden(batch = test_batch)\n",
    "        \n",
    "        image_cnn_test = image_test.view(-1, color_channels, patch_height, patch_width).cuda(0)\n",
    "        encoder_input_test = CNN_model(image_cnn_test)\n",
    "        _, encoder_hidden_test = Encoder_model(encoder_input_test, encoder_hidden_test, batch = test_batch, seq_len = n_patches)\n",
    "        \n",
    "        for j in range(test_batch):\n",
    "           \n",
    "            decoder_input_test = letter_to_vector('START').cuda(0) # We initialize the first Decoder input as the START token\n",
    "\n",
    "            decoder_hidden_test = (encoder_hidden_test[0][0, j, :].view(1, 1, hidden_size), # We take the last hidden state of the Encoder \n",
    "                                   encoder_hidden_test[1][0, j, :].view(1, 1, hidden_size)) # for each image/word (j) within the batch \n",
    "            # This would be the first hidden state of the Decoder for image/word (j)\n",
    "\n",
    "            for d in range(MAX_LENGTH + 2):\n",
    "                \n",
    "                decoder_output_test, decoder_hidden_test = Decoder_model(decoder_input_test, decoder_hidden_test, \n",
    "                                                                         batch = 1, seq_len = 1)\n",
    "                \n",
    "                output_letter = one_hot_conversion(decoder_output_test, output_size = output_size)\n",
    "                decoder_input_test = output_letter\n",
    "                \n",
    "                if d == 0:\n",
    "                    \n",
    "                    output_word = output_letter\n",
    "                    \n",
    "                else:\n",
    "                    \n",
    "                    output_word = torch.cat((output_word, output_letter), dim = 1).cuda(0)\n",
    "                \n",
    "                \n",
    "                END_condition = torch.equal(output_letter, letter_to_vector('END').cuda(0))\n",
    "                \n",
    "                if  END_condition == True:\n",
    "                    \n",
    "                    break\n",
    "            \n",
    "            output_word = torch.argmax(output_word, dim=2)\n",
    "            output_word = output_word.view(output_word.numel()) # view as a rank-1 tensor\n",
    "            \n",
    "            model_word = []\n",
    "\n",
    "\n",
    "            for item in output_word:\n",
    "                model_word.append(letters[item])\n",
    "\n",
    "            model_word = ''.join(model_word[:-1])\n",
    "            print(model_word)\n",
    "            \n",
    "print(test_set) \n"
   ]
  },
  {
   "cell_type": "code",
   "execution_count": null,
   "metadata": {},
   "outputs": [],
   "source": [
    "# activar pytorch_estoril (environment) en la terminal y ejecutar tensorboard --host 0.0.0.0 --logdir ./runs\n",
    "# Tensorboard se ejecutará en un cierto puerto y nos dará el enlace. Habrá que sustituir la IP 0.0.0.0 por la del equipo\n",
    "# en remoto en la que esté corriendo en el caso de Estoril 212.128.3.86:"
   ]
  },
  {
   "cell_type": "code",
   "execution_count": 30,
   "metadata": {},
   "outputs": [
    {
     "data": {
      "image/png": "[encoded data removed]",
      "text/plain": [
       "<Figure size 432x288 with 1 Axes>"
      ]
     },
     "metadata": {
      "needs_background": "light"
     },
     "output_type": "display_data"
    },
    {
     "data": {
      "image/png": "[encoded data removed]",
      "text/plain": [
       "<Figure size 432x288 with 1 Axes>"
      ]
     },
     "metadata": {
      "needs_background": "light"
     },
     "output_type": "display_data"
    },
    {
     "data": {
      "image/png": "[encoded data removed]",
      "text/plain": [
       "<Figure size 432x288 with 1 Axes>"
      ]
     },
     "metadata": {
      "needs_background": "light"
     },
     "output_type": "display_data"
    },
    {
     "data": {
      "image/png": "[encoded data removed]",
      "text/plain": [
       "<Figure size 432x288 with 1 Axes>"
      ]
     },
     "metadata": {
      "needs_background": "light"
     },
     "output_type": "display_data"
    },
    {
     "data": {
      "image/png": "[encoded data removed]",
      "text/plain": [
       "<Figure size 432x288 with 1 Axes>"
      ]
     },
     "metadata": {
      "needs_background": "light"
     },
     "output_type": "display_data"
    },
    {
     "data": {
      "image/png": "[encoded data removed]",
      "text/plain": [
       "<Figure size 432x288 with 1 Axes>"
      ]
     },
     "metadata": {
      "needs_background": "light"
     },
     "output_type": "display_data"
    },
    {
     "data": {
      "image/png": "[encoded data removed]",
      "text/plain": [
       "<Figure size 432x288 with 1 Axes>"
      ]
     },
     "metadata": {
      "needs_background": "light"
     },
     "output_type": "display_data"
    },
    {
     "data": {
      "image/png": "[encoded data removed]",
      "text/plain": [
       "<Figure size 432x288 with 1 Axes>"
      ]
     },
     "metadata": {
      "needs_background": "light"
     },
     "output_type": "display_data"
    },
    {
     "data": {
      "image/png": "[encoded data removed]",
      "text/plain": [
       "<Figure size 432x288 with 1 Axes>"
      ]
     },
     "metadata": {
      "needs_background": "light"
     },
     "output_type": "display_data"
    },
    {
     "data": {
      "image/png": "[encoded data removed]",
      "text/plain": [
       "<Figure size 432x288 with 1 Axes>"
      ]
     },
     "metadata": {
      "needs_background": "light"
     },
     "output_type": "display_data"
    },
    {
     "data": {
      "image/png": "[encoded data removed]",
      "text/plain": [
       "<Figure size 432x288 with 1 Axes>"
      ]
     },
     "metadata": {
      "needs_background": "light"
     },
     "output_type": "display_data"
    },
    {
     "data": {
      "image/png": "[encoded data removed]",
      "text/plain": [
       "<Figure size 432x288 with 1 Axes>"
      ]
     },
     "metadata": {
      "needs_background": "light"
     },
     "output_type": "display_data"
    },
    {
     "data": {
      "image/png": "[encoded data removed]",
      "text/plain": [
       "<Figure size 432x288 with 1 Axes>"
      ]
     },
     "metadata": {
      "needs_background": "light"
     },
     "output_type": "display_data"
    },
    {
     "data": {
      "image/png": "[encoded data removed]",
      "text/plain": [
       "<Figure size 432x288 with 1 Axes>"
      ]
     },
     "metadata": {
      "needs_background": "light"
     },
     "output_type": "display_data"
    },
    {
     "data": {
      "image/png": "[encoded data removed]",
      "text/plain": [
       "<Figure size 432x288 with 1 Axes>"
      ]
     },
     "metadata": {
      "needs_background": "light"
     },
     "output_type": "display_data"
    },
    {
     "data": {
      "image/png": "[encoded data removed]",
      "text/plain": [
       "<Figure size 432x288 with 1 Axes>"
      ]
     },
     "metadata": {
      "needs_background": "light"
     },
     "output_type": "display_data"
    },
    {
     "data": {
      "image/png": "[encoded data removed]",
      "text/plain": [
       "<Figure size 432x288 with 1 Axes>"
      ]
     },
     "metadata": {
      "needs_background": "light"
     },
     "output_type": "display_data"
    },
    {
     "data": {
      "image/png": "[encoded data removed]",
      "text/plain": [
       "<Figure size 432x288 with 1 Axes>"
      ]
     },
     "metadata": {
      "needs_background": "light"
     },
     "output_type": "display_data"
    },
    {
     "data": {
      "image/png": "[encoded data removed]",
      "text/plain": [
       "<Figure size 432x288 with 1 Axes>"
      ]
     },
     "metadata": {
      "needs_background": "light"
     },
     "output_type": "display_data"
    },
    {
     "data": {
      "image/png": "[encoded data removed]",
      "text/plain": [
       "<Figure size 432x288 with 1 Axes>"
      ]
     },
     "metadata": {
      "needs_background": "light"
     },
     "output_type": "display_data"
    },
    {
     "data": {
      "image/png": "[encoded data removed]",
      "text/plain": [
       "<Figure size 432x288 with 1 Axes>"
      ]
     },
     "metadata": {
      "needs_background": "light"
     },
     "output_type": "display_data"
    },
    {
     "data": {
      "image/png": "[encoded data removed]",
      "text/plain": [
       "<Figure size 432x288 with 1 Axes>"
      ]
     },
     "metadata": {
      "needs_background": "light"
     },
     "output_type": "display_data"
    },
    {
     "data": {
      "image/png": "[encoded data removed]",
      "text/plain": [
       "<Figure size 432x288 with 1 Axes>"
      ]
     },
     "metadata": {
      "needs_background": "light"
     },
     "output_type": "display_data"
    },
    {
     "data": {
      "image/png": "[encoded data removed]",
      "text/plain": [
       "<Figure size 432x288 with 1 Axes>"
      ]
     },
     "metadata": {
      "needs_background": "light"
     },
     "output_type": "display_data"
    },
    {
     "data": {
      "image/png": "[encoded data removed]",
      "text/plain": [
       "<Figure size 432x288 with 1 Axes>"
      ]
     },
     "metadata": {
      "needs_background": "light"
     },
     "output_type": "display_data"
    },
    {
     "data": {
      "image/png": "[encoded data removed]",
      "text/plain": [
       "<Figure size 432x288 with 1 Axes>"
      ]
     },
     "metadata": {
      "needs_background": "light"
     },
     "output_type": "display_data"
    },
    {
     "data": {
      "image/png": "[encoded data removed]",
      "text/plain": [
       "<Figure size 432x288 with 1 Axes>"
      ]
     },
     "metadata": {
      "needs_background": "light"
     },
     "output_type": "display_data"
    },
    {
     "data": {
      "image/png": "[encoded data removed]",
      "text/plain": [
       "<Figure size 432x288 with 1 Axes>"
      ]
     },
     "metadata": {
      "needs_background": "light"
     },
     "output_type": "display_data"
    },
    {
     "data": {
      "image/png": "[encoded data removed]",
      "text/plain": [
       "<Figure size 432x288 with 1 Axes>"
      ]
     },
     "metadata": {
      "needs_background": "light"
     },
     "output_type": "display_data"
    },
    {
     "data": {
      "image/png": "[encoded data removed]",
      "text/plain": [
       "<Figure size 432x288 with 1 Axes>"
      ]
     },
     "metadata": {
      "needs_background": "light"
     },
     "output_type": "display_data"
    },
    {
     "data": {
      "image/png": "[encoded data removed]",
      "text/plain": [
       "<Figure size 432x288 with 1 Axes>"
      ]
     },
     "metadata": {
      "needs_background": "light"
     },
     "output_type": "display_data"
    },
    {
     "data": {
      "image/png": "[encoded data removed]",
      "text/plain": [
       "<Figure size 432x288 with 1 Axes>"
      ]
     },
     "metadata": {
      "needs_background": "light"
     },
     "output_type": "display_data"
    },
    {
     "data": {
      "image/png": "[encoded data removed]",
      "text/plain": [
       "<Figure size 432x288 with 1 Axes>"
      ]
     },
     "metadata": {
      "needs_background": "light"
     },
     "output_type": "display_data"
    },
    {
     "data": {
      "image/png": "[encoded data removed]",
      "text/plain": [
       "<Figure size 432x288 with 1 Axes>"
      ]
     },
     "metadata": {
      "needs_background": "light"
     },
     "output_type": "display_data"
    },
    {
     "data": {
      "image/png": "[encoded data removed]",
      "text/plain": [
       "<Figure size 432x288 with 1 Axes>"
      ]
     },
     "metadata": {
      "needs_background": "light"
     },
     "output_type": "display_data"
    },
    {
     "data": {
      "image/png": "[encoded data removed]",
      "text/plain": [
       "<Figure size 432x288 with 1 Axes>"
      ]
     },
     "metadata": {
      "needs_background": "light"
     },
     "output_type": "display_data"
    },
    {
     "data": {
      "image/png": "[encoded data removed]",
      "text/plain": [
       "<Figure size 432x288 with 1 Axes>"
      ]
     },
     "metadata": {
      "needs_background": "light"
     },
     "output_type": "display_data"
    },
    {
     "data": {
      "image/png": "[encoded data removed]",
      "text/plain": [
       "<Figure size 432x288 with 1 Axes>"
      ]
     },
     "metadata": {
      "needs_background": "light"
     },
     "output_type": "display_data"
    },
    {
     "data": {
      "image/png": "[encoded data removed]",
      "text/plain": [
       "<Figure size 432x288 with 1 Axes>"
      ]
     },
     "metadata": {
      "needs_background": "light"
     },
     "output_type": "display_data"
    },
    {
     "data": {
      "image/png": "[encoded data removed]",
      "text/plain": [
       "<Figure size 432x288 with 1 Axes>"
      ]
     },
     "metadata": {
      "needs_background": "light"
     },
     "output_type": "display_data"
    },
    {
     "data": {
      "image/png": "[encoded data removed]",
      "text/plain": [
       "<Figure size 432x288 with 1 Axes>"
      ]
     },
     "metadata": {
      "needs_background": "light"
     },
     "output_type": "display_data"
    },
    {
     "data": {
      "image/png": "[encoded data removed]",
      "text/plain": [
       "<Figure size 432x288 with 1 Axes>"
      ]
     },
     "metadata": {
      "needs_background": "light"
     },
     "output_type": "display_data"
    },
    {
     "data": {
      "image/png": "[encoded data removed]",
      "text/plain": [
       "<Figure size 432x288 with 1 Axes>"
      ]
     },
     "metadata": {
      "needs_background": "light"
     },
     "output_type": "display_data"
    },
    {
     "data": {
      "image/png": "[encoded data removed]",
      "text/plain": [
       "<Figure size 432x288 with 1 Axes>"
      ]
     },
     "metadata": {
      "needs_background": "light"
     },
     "output_type": "display_data"
    },
    {
     "data": {
      "image/png": "[encoded data removed]",
      "text/plain": [
       "<Figure size 432x288 with 1 Axes>"
      ]
     },
     "metadata": {
      "needs_background": "light"
     },
     "output_type": "display_data"
    },
    {
     "data": {
      "image/png": "[encoded data removed]",
      "text/plain": [
       "<Figure size 432x288 with 1 Axes>"
      ]
     },
     "metadata": {
      "needs_background": "light"
     },
     "output_type": "display_data"
    },
    {
     "data": {
      "image/png": "[encoded data removed]",
      "text/plain": [
       "<Figure size 432x288 with 1 Axes>"
      ]
     },
     "metadata": {
      "needs_background": "light"
     },
     "output_type": "display_data"
    },
    {
     "data": {
      "image/png": "[encoded data removed]",
      "text/plain": [
       "<Figure size 432x288 with 1 Axes>"
      ]
     },
     "metadata": {
      "needs_background": "light"
     },
     "output_type": "display_data"
    },
    {
     "data": {
      "image/png": "[encoded data removed]",
      "text/plain": [
       "<Figure size 432x288 with 1 Axes>"
      ]
     },
     "metadata": {
      "needs_background": "light"
     },
     "output_type": "display_data"
    },
    {
     "data": {
      "image/png": "[encoded data removed]",
      "text/plain": [
       "<Figure size 432x288 with 1 Axes>"
      ]
     },
     "metadata": {
      "needs_background": "light"
     },
     "output_type": "display_data"
    },
    {
     "data": {
      "image/png": "[encoded data removed]",
      "text/plain": [
       "<Figure size 432x288 with 1 Axes>"
      ]
     },
     "metadata": {
      "needs_background": "light"
     },
     "output_type": "display_data"
    },
    {
     "data": {
      "image/png": "[encoded data removed]",
      "text/plain": [
       "<Figure size 432x288 with 1 Axes>"
      ]
     },
     "metadata": {
      "needs_background": "light"
     },
     "output_type": "display_data"
    },
    {
     "data": {
      "image/png": "[encoded data removed]",
      "text/plain": [
       "<Figure size 432x288 with 1 Axes>"
      ]
     },
     "metadata": {
      "needs_background": "light"
     },
     "output_type": "display_data"
    },
    {
     "data": {
      "image/png": "[encoded data removed]",
      "text/plain": [
       "<Figure size 432x288 with 1 Axes>"
      ]
     },
     "metadata": {
      "needs_background": "light"
     },
     "output_type": "display_data"
    },
    {
     "data": {
      "image/png": "[encoded data removed]",
      "text/plain": [
       "<Figure size 432x288 with 1 Axes>"
      ]
     },
     "metadata": {
      "needs_background": "light"
     },
     "output_type": "display_data"
    },
    {
     "data": {
      "image/png": "[encoded data removed]",
      "text/plain": [
       "<Figure size 432x288 with 1 Axes>"
      ]
     },
     "metadata": {
      "needs_background": "light"
     },
     "output_type": "display_data"
    },
    {
     "data": {
      "image/png": "[encoded data removed]",
      "text/plain": [
       "<Figure size 432x288 with 1 Axes>"
      ]
     },
     "metadata": {
      "needs_background": "light"
     },
     "output_type": "display_data"
    },
    {
     "data": {
      "image/png": "[encoded data removed]",
      "text/plain": [
       "<Figure size 432x288 with 1 Axes>"
      ]
     },
     "metadata": {
      "needs_background": "light"
     },
     "output_type": "display_data"
    },
    {
     "data": {
      "image/png": "[encoded data removed]",
      "text/plain": [
       "<Figure size 432x288 with 1 Axes>"
      ]
     },
     "metadata": {
      "needs_background": "light"
     },
     "output_type": "display_data"
    },
    {
     "data": {
      "image/png": "[encoded data removed]",
      "text/plain": [
       "<Figure size 432x288 with 1 Axes>"
      ]
     },
     "metadata": {
      "needs_background": "light"
     },
     "output_type": "display_data"
    },
    {
     "data": {
      "image/png": "[encoded data removed]",
      "text/plain": [
       "<Figure size 432x288 with 1 Axes>"
      ]
     },
     "metadata": {
      "needs_background": "light"
     },
     "output_type": "display_data"
    },
    {
     "data": {
      "image/png": "[encoded data removed]",
      "text/plain": [
       "<Figure size 432x288 with 1 Axes>"
      ]
     },
     "metadata": {
      "needs_background": "light"
     },
     "output_type": "display_data"
    },
    {
     "data": {
      "image/png": "[encoded data removed]",
      "text/plain": [
       "<Figure size 432x288 with 1 Axes>"
      ]
     },
     "metadata": {
      "needs_background": "light"
     },
     "output_type": "display_data"
    },
    {
     "data": {
      "image/png": "[encoded data removed]",
      "text/plain": [
       "<Figure size 432x288 with 1 Axes>"
      ]
     },
     "metadata": {
      "needs_background": "light"
     },
     "output_type": "display_data"
    },
    {
     "data": {
      "image/png": "[encoded data removed]",
      "text/plain": [
       "<Figure size 432x288 with 1 Axes>"
      ]
     },
     "metadata": {
      "needs_background": "light"
     },
     "output_type": "display_data"
    },
    {
     "data": {
      "image/png": "[encoded data removed]",
      "text/plain": [
       "<Figure size 432x288 with 1 Axes>"
      ]
     },
     "metadata": {
      "needs_background": "light"
     },
     "output_type": "display_data"
    },
    {
     "data": {
      "image/png": "[encoded data removed]",
      "text/plain": [
       "<Figure size 432x288 with 1 Axes>"
      ]
     },
     "metadata": {
      "needs_background": "light"
     },
     "output_type": "display_data"
    },
    {
     "data": {
      "image/png": "[encoded data removed]",
      "text/plain": [
       "<Figure size 432x288 with 1 Axes>"
      ]
     },
     "metadata": {
      "needs_background": "light"
     },
     "output_type": "display_data"
    },
    {
     "data": {
      "image/png": "[encoded data removed]",
      "text/plain": [
       "<Figure size 432x288 with 1 Axes>"
      ]
     },
     "metadata": {
      "needs_background": "light"
     },
     "output_type": "display_data"
    },
    {
     "data": {
      "image/png": "[encoded data removed]",
      "text/plain": [
       "<Figure size 432x288 with 1 Axes>"
      ]
     },
     "metadata": {
      "needs_background": "light"
     },
     "output_type": "display_data"
    },
    {
     "data": {
      "image/png": "[encoded data removed]",
      "text/plain": [
       "<Figure size 432x288 with 1 Axes>"
      ]
     },
     "metadata": {
      "needs_background": "light"
     },
     "output_type": "display_data"
    },
    {
     "data": {
      "image/png": "[encoded data removed]",
      "text/plain": [
       "<Figure size 432x288 with 1 Axes>"
      ]
     },
     "metadata": {
      "needs_background": "light"
     },
     "output_type": "display_data"
    },
    {
     "data": {
      "image/png": "[encoded data removed]",
      "text/plain": [
       "<Figure size 432x288 with 1 Axes>"
      ]
     },
     "metadata": {
      "needs_background": "light"
     },
     "output_type": "display_data"
    },
    {
     "data": {
      "image/png": "[encoded data removed]",
      "text/plain": [
       "<Figure size 432x288 with 1 Axes>"
      ]
     },
     "metadata": {
      "needs_background": "light"
     },
     "output_type": "display_data"
    },
    {
     "data": {
      "image/png": "[encoded data removed]",
      "text/plain": [
       "<Figure size 432x288 with 1 Axes>"
      ]
     },
     "metadata": {
      "needs_background": "light"
     },
     "output_type": "display_data"
    },
    {
     "data": {
      "image/png": "[encoded data removed]",
      "text/plain": [
       "<Figure size 432x288 with 1 Axes>"
      ]
     },
     "metadata": {
      "needs_background": "light"
     },
     "output_type": "display_data"
    },
    {
     "data": {
      "image/png": "[encoded data removed]",
      "text/plain": [
       "<Figure size 432x288 with 1 Axes>"
      ]
     },
     "metadata": {
      "needs_background": "light"
     },
     "output_type": "display_data"
    },
    {
     "data": {
      "image/png": "[encoded data removed]",
      "text/plain": [
       "<Figure size 432x288 with 1 Axes>"
      ]
     },
     "metadata": {
      "needs_background": "light"
     },
     "output_type": "display_data"
    },
    {
     "data": {
      "image/png": "[encoded data removed]",
      "text/plain": [
       "<Figure size 432x288 with 1 Axes>"
      ]
     },
     "metadata": {
      "needs_background": "light"
     },
     "output_type": "display_data"
    },
    {
     "data": {
      "image/png": "[encoded data removed]",
      "text/plain": [
       "<Figure size 432x288 with 1 Axes>"
      ]
     },
     "metadata": {
      "needs_background": "light"
     },
     "output_type": "display_data"
    },
    {
     "data": {
      "image/png": "[encoded data removed]",
      "text/plain": [
       "<Figure size 432x288 with 1 Axes>"
      ]
     },
     "metadata": {
      "needs_background": "light"
     },
     "output_type": "display_data"
    },
    {
     "data": {
      "image/png": "[encoded data removed]",
      "text/plain": [
       "<Figure size 432x288 with 1 Axes>"
      ]
     },
     "metadata": {
      "needs_background": "light"
     },
     "output_type": "display_data"
    },
    {
     "data": {
      "image/png": "[encoded data removed]",
      "text/plain": [
       "<Figure size 432x288 with 1 Axes>"
      ]
     },
     "metadata": {
      "needs_background": "light"
     },
     "output_type": "display_data"
    },
    {
     "data": {
      "image/png": "[encoded data removed]",
      "text/plain": [
       "<Figure size 432x288 with 1 Axes>"
      ]
     },
     "metadata": {
      "needs_background": "light"
     },
     "output_type": "display_data"
    },
    {
     "data": {
      "image/png": "[encoded data removed]",
      "text/plain": [
       "<Figure size 432x288 with 1 Axes>"
      ]
     },
     "metadata": {
      "needs_background": "light"
     },
     "output_type": "display_data"
    },
    {
     "data": {
      "image/png": "[encoded data removed]",
      "text/plain": [
       "<Figure size 432x288 with 1 Axes>"
      ]
     },
     "metadata": {
      "needs_background": "light"
     },
     "output_type": "display_data"
    },
    {
     "data": {
      "image/png": "[encoded data removed]",
      "text/plain": [
       "<Figure size 432x288 with 1 Axes>"
      ]
     },
     "metadata": {
      "needs_background": "light"
     },
     "output_type": "display_data"
    },
    {
     "data": {
      "image/png": "[encoded data removed]",
      "text/plain": [
       "<Figure size 432x288 with 1 Axes>"
      ]
     },
     "metadata": {
      "needs_background": "light"
     },
     "output_type": "display_data"
    },
    {
     "data": {
      "image/png": "[encoded data removed]",
      "text/plain": [
       "<Figure size 432x288 with 1 Axes>"
      ]
     },
     "metadata": {
      "needs_background": "light"
     },
     "output_type": "display_data"
    },
    {
     "data": {
      "image/png": "[encoded data removed]",
      "text/plain": [
       "<Figure size 432x288 with 1 Axes>"
      ]
     },
     "metadata": {
      "needs_background": "light"
     },
     "output_type": "display_data"
    },
    {
     "data": {
      "image/png": "[encoded data removed]",
      "text/plain": [
       "<Figure size 432x288 with 1 Axes>"
      ]
     },
     "metadata": {
      "needs_background": "light"
     },
     "output_type": "display_data"
    },
    {
     "data": {
      "image/png": "[encoded data removed]",
      "text/plain": [
       "<Figure size 432x288 with 1 Axes>"
      ]
     },
     "metadata": {
      "needs_background": "light"
     },
     "output_type": "display_data"
    }
   ],
   "source": [
    "# EFFECT OF SALT & PEPPER\n",
    "\n",
    "image = 255 * np.ones(shape = [height, width], dtype = np.uint8)\n",
    "image = cv2.putText(image, text = 'methamphetamine', org = (5, 30),\n",
    "    fontFace = cv2.FONT_HERSHEY_SIMPLEX, fontScale = 0.62, color = (0, 0, 0),\n",
    "    thickness = 1, lineType = cv2.LINE_AA)\n",
    "image = transforms.ToPILImage()(image) \n",
    "image = transforms.ToTensor()(image)\n",
    "image = skimage.util.random_noise(image, mode='s&p', seed=12345) # we set some random noise to the image\n",
    "image = torch.from_numpy(image) # conversion to pytorch tensor again\n",
    "image = 1. - image\n",
    "image = transforms.ToPILImage()(image)\n",
    "plt.imshow(image, cmap='gray')\n",
    "\n",
    "\n",
    "#patches_tensor = torch.empty(n_patches, color_channels, patch_height, patch_width).cuda(0)\n",
    "    \n",
    "for p in range(n_patches):\n",
    "\n",
    "    patch = transforms.functional.crop(image, 0, 0 + p * stepsize, patch_height, patch_width) # cropping of the image into patches\n",
    "    patch = transforms.ToTensor()(patch) # torch.Tensor of the patch (normalized)\n",
    "    #patch = skimage.util.random_noise(patch, mode='s&p') # we set some random noise to the image\n",
    "    #patch = torch.from_numpy(patch) # conversion to pytorch tensor again\n",
    "    #patch = 1. - patch # it will work better if we have white text over black background\n",
    "    patch = patch.view(1, patch_height, patch_width) # CNN_model expects a 4-dimensional tensor (1 dimension for batch)\n",
    "    #patch = patch.type(torch.FloatTensor) # conversion to float\n",
    "    #patch = patch.cuda(0) # set to cuda\n",
    "    #patches_tensor[p, 0, :, :] = patch\n",
    "    #patches_tensor = patches_tensor.cuda(0)\n",
    "    patch = transforms.ToPILImage()(patch)\n",
    "    plt.imshow(patch, cmap='gray')\n",
    "    plt.show()\n",
    "#return patches_tensor\n"
   ]
  },
  {
   "cell_type": "code",
   "execution_count": null,
   "metadata": {},
   "outputs": [],
   "source": []
  }
 ],
 "metadata": {
  "kernelspec": {
   "display_name": "pytorch_estoril",
   "language": "python",
   "name": "pytorch_estoril"
  },
  "language_info": {
   "codemirror_mode": {
    "name": "ipython",
    "version": 3
   },
   "file_extension": ".py",
   "mimetype": "text/x-python",
   "name": "python",
   "nbconvert_exporter": "python",
   "pygments_lexer": "ipython3",
   "version": "3.6.10"
  }
 },
 "nbformat": 4,
 "nbformat_minor": 2
}
