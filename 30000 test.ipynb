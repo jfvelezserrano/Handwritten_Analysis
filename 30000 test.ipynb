{
 "cells": [
  {
   "cell_type": "code",
   "execution_count": 1,
   "metadata": {},
   "outputs": [
    {
     "name": "stdout",
     "output_type": "stream",
     "text": [
      "1.8.1\n",
      "3.6.10\n"
     ]
    }
   ],
   "source": [
    "# IMPORTING THE REQUIRED LIBRARIES:\n",
    "\n",
    "import torch\n",
    "import torch.nn as nn\n",
    "import torch.nn.functional as F\n",
    "from torch import optim\n",
    "from torch.utils.data import DataLoader\n",
    "from torchvision import datasets, transforms, models\n",
    "from torchvision.utils import make_grid\n",
    "import os\n",
    "import cv2\n",
    "import skimage\n",
    "\n",
    "import numpy as np\n",
    "import pandas as pd\n",
    "from IPython.display import display\n",
    "import matplotlib.pyplot as plt\n",
    "%matplotlib inline \n",
    "\n",
    "# Ignore harmless warnings:\n",
    "\n",
    "import warnings\n",
    "warnings.filterwarnings(\"ignore\")\n",
    "device = torch.device(\"cuda:1\" if torch.cuda.is_available() else \"cpu\")\n",
    "\n",
    "import platform\n",
    "print(torch.__version__)\n",
    "print(platform.python_version())\n"
   ]
  },
  {
   "cell_type": "code",
   "execution_count": 2,
   "metadata": {},
   "outputs": [
    {
     "data": {
      "text/plain": [
       "'TITAN X (Pascal)'"
      ]
     },
     "execution_count": 2,
     "metadata": {},
     "output_type": "execute_result"
    }
   ],
   "source": [
    "torch.cuda.get_device_name(1)"
   ]
  },
  {
   "cell_type": "code",
   "execution_count": 3,
   "metadata": {},
   "outputs": [],
   "source": [
    "# LOADING DATA: 30000 MOST COMMON ENGLISH WORDS\n",
    "\n",
    "top_30000_words = pd.read_csv('30k.txt', delimiter = '\\t', header = None)\n",
    "\n",
    "words = []\n",
    "sample_length = len(top_30000_words)\n",
    "\n",
    "for i in range(sample_length):\n",
    "    words.append(top_30000_words.loc[i][0])\n",
    "\n",
    "total_length = len(words)"
   ]
  },
  {
   "cell_type": "code",
   "execution_count": 4,
   "metadata": {},
   "outputs": [
    {
     "name": "stdout",
     "output_type": "stream",
     "text": [
      "2577\n",
      "12819\n",
      "35\n"
     ]
    }
   ],
   "source": [
    "# FINDING PROBLEMATIC WORDS\n",
    "\n",
    "huge_words = 0\n",
    "\n",
    "for i in range(30000):\n",
    "    if type(words[i]) == float:\n",
    "        print(i)\n",
    "        \n",
    "    elif len(words[i]) > 15:\n",
    "        words[i] = 'gavab'\n",
    "        huge_words += 1\n",
    "        #print(i)\n",
    "\n",
    "words[2577] = 'null'\n",
    "words[12819] = 'nan'\n",
    "print(huge_words)"
   ]
  },
  {
   "cell_type": "code",
   "execution_count": 5,
   "metadata": {},
   "outputs": [
    {
     "name": "stdout",
     "output_type": "stream",
     "text": [
      "15\n"
     ]
    }
   ],
   "source": [
    "# DEFINING TRAINING, VALIDATION AND TEST SETS\n",
    "\n",
    "#train_set = words[0:28000]\n",
    "#val_set = words[28000:29000] \n",
    "test_set = words[29000:30000] \n",
    "test2 = words[20000:21000]\n",
    "\n",
    "MAX_LENGTH = max(len(list(word)) for word in words) # length of the longest word within our sample\n",
    "\n",
    "print(MAX_LENGTH)\n",
    "#print(test_set)"
   ]
  },
  {
   "cell_type": "code",
   "execution_count": 6,
   "metadata": {},
   "outputs": [
    {
     "name": "stdout",
     "output_type": "stream",
     "text": [
      "tensor([[[0., 0., 0., 0., 0., 0., 0., 0., 0., 0., 0., 0., 0., 0., 0., 0., 0.,\n",
      "          0., 0., 0., 0., 0., 0., 0., 0., 0., 0., 0., 1.]]])\n"
     ]
    }
   ],
   "source": [
    "# ONE HOT ENCODING OF THE ALPHABET (+ START, END & PAD)\n",
    "\n",
    "letters = ['START', 'a', 'b', 'c', 'd', 'e', 'f', 'g', 'h', 'i', 'j', 'k',\n",
    "          'l', 'm', 'n', 'o', 'p', 'q', 'r', 's', 't', 'u', 'v', 'w', 'x', 'y', 'z', 'END', 'PAD']\n",
    "\n",
    "\n",
    "def letter_to_vector(letter):\n",
    "    vector = torch.zeros(1, 1, len(letters))\n",
    "    for i in range(len(letters)):\n",
    "        if letters[i] == letter:\n",
    "            vector[0, 0, i] = 1.\n",
    "    return(vector)\n",
    "\n",
    "\n",
    "print(letter_to_vector('PAD'))"
   ]
  },
  {
   "cell_type": "code",
   "execution_count": 7,
   "metadata": {},
   "outputs": [],
   "source": [
    "# GETTING PATCH TENSOR FOR EACH WORD (PATCH, COLOR CHANNEL, HEIGHT, WIDTH)\n",
    "\n",
    "def patch_gen(word, n_patches, patch_height, patch_width, stepsize):\n",
    "    \n",
    "    image = 255 * np.ones(shape = [height, width], dtype = np.uint8)\n",
    "    image = cv2.putText(image, text = word, org = (5, 30),\n",
    "        fontFace = cv2.FONT_HERSHEY_SIMPLEX, fontScale = 0.62, color = (0, 0, 0),\n",
    "        thickness = 1, lineType = cv2.LINE_AA)\n",
    "    image = transforms.ToPILImage()(image) # np.ndarray to PIL.Image.Image\n",
    "    patches_tensor = torch.empty(n_patches, color_channels, patch_height, patch_width)\n",
    "    \n",
    "    for p in range(n_patches):\n",
    "        \n",
    "        patch = transforms.functional.crop(image, 0, 0 + p * stepsize, patch_height, patch_width) # cropping of the image into patches\n",
    "        patch = transforms.ToTensor()(patch) # torch.Tensor of the patch (normalized)\n",
    "        #patch = skimage.util.random_noise(patch, mode='s&p') # we set some random noise to the image\n",
    "        #patch = torch.from_numpy(patch) # conversion to pytorch tensor again\n",
    "        patch = 1. - patch # it will work better if we have white text over black background\n",
    "        patch = patch.view(1, 1, patch_height, patch_width) # CNN_model expects a 4-dimensional tensor (1 dimension for batch)\n",
    "        patch = patch.type(torch.FloatTensor) # conversion to float\n",
    "        patch = patch.cuda(1) # set to cuda\n",
    "        patches_tensor[p, 0, :, :] = patch\n",
    "        patches_tensor = patches_tensor.cuda(1)\n",
    "        \n",
    "    return patches_tensor,"
   ]
  },
  {
   "cell_type": "code",
   "execution_count": 47,
   "metadata": {},
   "outputs": [],
   "source": [
    "# SETTING IMAGE AND SLIDING WINDOW (PATCH) PARAMETERS\n",
    "\n",
    "height = 48\n",
    "width = 192\n",
    "patch_height = 48\n",
    "patch_width = 10\n",
    "stepsize = 2\n",
    "color_channels = 1\n",
    "n_patches = int((width - patch_width)/stepsize + 1) "
   ]
  },
  {
   "cell_type": "code",
   "execution_count": 9,
   "metadata": {},
   "outputs": [],
   "source": [
    "# GETTING TUPLE (TENSOR WITH PATCHES, LABEL) FOR EACH WORD OF A GIVEN SET:\n",
    "\n",
    "def complete_set(which_set):\n",
    "    \n",
    "    complete_set = []\n",
    "    \n",
    "    for word in which_set:\n",
    "        \n",
    "        complete_set.append((patch_gen(word, n_patches, patch_height, patch_width, stepsize), word))\n",
    "        \n",
    "    return complete_set"
   ]
  },
  {
   "cell_type": "code",
   "execution_count": 10,
   "metadata": {},
   "outputs": [],
   "source": [
    "# TUPLE OF (RANK-4 TENSOR [PATCH, CHANNEL, HEIGHT, WIDTH], LABEL) FOR EVERY WORD IN EVERY SET\n",
    "\n",
    "#comp_train_set = complete_set(which_set = train_set)\n",
    "#comp_val_set = complete_set(which_set = val_set)\n",
    "comp_test_set = complete_set(which_set = test_set)\n",
    "comp_test2 = complete_set(which_set = test2)"
   ]
  },
  {
   "cell_type": "code",
   "execution_count": 11,
   "metadata": {},
   "outputs": [],
   "source": [
    "# LOADING DATA AND SETS IN BATCHES\n",
    "\n",
    "torch.manual_seed(123)\n",
    "\n",
    "batch_size = 16\n",
    "\n",
    "#train_loader = DataLoader(comp_train_set, batch_size = batch_size, shuffle = True)\n",
    "#val_loader = DataLoader(comp_val_set, batch_size = batch_size, shuffle = False)\n",
    "test_loader = DataLoader(comp_test_set, batch_size = batch_size, shuffle = False)\n",
    "test2_loader = DataLoader(comp_test2, batch_size = batch_size, shuffle = False)"
   ]
  },
  {
   "cell_type": "code",
   "execution_count": 12,
   "metadata": {},
   "outputs": [],
   "source": [
    "# GETTING ONE HOT TENSOR OF THE TARGET WORD\n",
    "\n",
    "    # one hot tensor of the input batch of words for the Decoder:\n",
    "    # 1 dim for position within batch, 1 dim for position of the letter in the fixed sequence (MAX_LENGTH + START + END),\n",
    "    # 1 final dim specifying letter (output_size = 26 + START and END tokens)\n",
    "    # torch.zeros() ensures that we always have PAD token vectors in case our target word is not MAX_LENGTH long\n",
    "    # WARNING: only works if label contains 2 words or more (it is OK as long as we are doing batching)\n",
    "    \n",
    "def get_one_hot_target(label, batch, seq_len, output_size):\n",
    "    \n",
    "    one_hot_target = torch.zeros(batch, seq_len, output_size) \n",
    "\n",
    "    for j in range(batch): # for each word of the batch\n",
    "\n",
    "        length = len(list(label[j])) # we compute the number of letters\n",
    "\n",
    "        one_hot_target[j, 0, :] = letter_to_vector('START') # the first letter of every word will always be the START\n",
    "\n",
    "        for k in range(0, length): # now for each letter of the target word\n",
    "\n",
    "            target_letter = list(label[j])[k] # picks the 'k' target letter \n",
    "            one_hot_target[j, k + 1, :] = letter_to_vector(target_letter) # adds that one hot target letter to our global tensor\n",
    "\n",
    "        one_hot_target[j, length + 1, :] = letter_to_vector('END') # we put END after the last letter of the word\n",
    "        \n",
    "        for m in range(length + 2, seq_len):\n",
    "            \n",
    "            one_hot_target[j, m, :] = letter_to_vector('PAD') # padding until the end of the sequence\n",
    "        \n",
    "    return one_hot_target        "
   ]
  },
  {
   "cell_type": "code",
   "execution_count": 13,
   "metadata": {},
   "outputs": [],
   "source": [
    "# CONVERTS THE LOGSOFTMAX DECODER OUTPUT DURING EVALUATION TO THE CORRESPONDING ONE-HOT LETTER\n",
    "\n",
    "def one_hot_conversion(decoder_output, output_size):\n",
    "    \n",
    "    one_hot_output_letter = torch.zeros(1, 1, output_size).cuda(1)\n",
    "    index = torch.argmax(decoder_output, dim = 2).item()\n",
    "    one_hot_output_letter[0, 0, index] = 1.\n",
    "    \n",
    "    return one_hot_output_letter"
   ]
  },
  {
   "cell_type": "code",
   "execution_count": 14,
   "metadata": {},
   "outputs": [],
   "source": [
    "# DEFINING MODEL AND ARCHITECTURE\n",
    "\n",
    "# CONVOLUTIONAL NEURAL NETWORK:\n",
    "\n",
    "class ConvolutionalNetwork(nn.Module):\n",
    "    def __init__(self):\n",
    "        super().__init__()\n",
    "        self.conv1 = nn.Conv2d(1, 20, 5, 1, 2) # padding???\n",
    "        self.conv2 = nn.Conv2d(20, 50, 5, 1, 2)\n",
    "        self.fc1 = nn.Linear(12*2*50, 1024)\n",
    "\n",
    "    def forward(self, X):\n",
    "        X = F.relu(self.conv1(X))\n",
    "        X = F.max_pool2d(X, 2, 2)\n",
    "        X = F.relu(self.conv2(X))\n",
    "        X = F.max_pool2d(X, 2, 2)\n",
    "        X = X.view(-1, 12*2*50) # -1 para no tener que determinar aquí el tamaño del batch (se ajusta, podemos variarlo)\n",
    "        X = F.relu(self.fc1(X))\n",
    "\n",
    "        return X "
   ]
  },
  {
   "cell_type": "code",
   "execution_count": 15,
   "metadata": {},
   "outputs": [],
   "source": [
    "# ENCODER:\n",
    "\n",
    "class EncoderRNN(nn.Module):\n",
    "    def __init__(self, input_size, hidden_size):\n",
    "        \n",
    "        super(EncoderRNN, self).__init__()\n",
    "        self.hidden_size = hidden_size\n",
    "        self.lstm = nn.LSTM(input_size, hidden_size, batch_first = True)\n",
    "\n",
    "    def forward(self, input, hidden, batch, seq_len):\n",
    "        \n",
    "        output = input.view(batch, seq_len, input_size)\n",
    "        output, hidden = self.lstm(output, hidden)\n",
    "        return output, hidden\n",
    "\n",
    "    def initHidden(self, batch):\n",
    "        return (torch.zeros(1, batch, self.hidden_size, device=device),\n",
    "                torch.zeros(1, batch, self.hidden_size, device=device))"
   ]
  },
  {
   "cell_type": "code",
   "execution_count": 16,
   "metadata": {},
   "outputs": [],
   "source": [
    "# DECODER:\n",
    "\n",
    "class DecoderRNN(nn.Module):\n",
    "    def __init__(self, hidden_size, output_size):\n",
    "        super(DecoderRNN, self).__init__()\n",
    "        self.hidden_size = hidden_size\n",
    "\n",
    "        self.lstm = nn.LSTM(output_size, hidden_size, batch_first = True)\n",
    "        self.out = nn.Linear(hidden_size, output_size)\n",
    "        self.softmax = nn.LogSoftmax(dim = 2) \n",
    "        # dim = 2 porque esta última dimensión es la correspondiente a output_size, que es sobre\n",
    "        # la que queremos hacer el softmax\n",
    "\n",
    "    def forward(self, input, hidden, batch, seq_len):\n",
    "        \n",
    "        output = input.view(batch, seq_len, output_size)\n",
    "        #output = F.relu(output) # la relu se metía aquí porque en el\n",
    "        #caso NLP del ejemplo de PyTorch previamente había una capa de embedding\n",
    "        #No nos hace falta porque nuestro tensor de inputs ya es one-hot\n",
    "        output, hidden = self.lstm(output, hidden)\n",
    "        output = self.out(output)\n",
    "        output = self.softmax(output)\n",
    "        return output, hidden\n",
    "\n",
    "    def initHidden(self, batch):\n",
    "        return (torch.zeros(1, batch, self.hidden_size, device=device),\n",
    "               torch.zeros(1, batch, self.hidden_size, device=device))"
   ]
  },
  {
   "cell_type": "code",
   "execution_count": 17,
   "metadata": {},
   "outputs": [],
   "source": [
    "torch.manual_seed(123)\n",
    "\n",
    "input_size = 1024\n",
    "hidden_size = 256\n",
    "output_size = 29\n",
    "\n",
    "CNN_model = ConvolutionalNetwork().cuda(1)\n",
    "CNN_optimizer = torch.optim.Adam(CNN_model.parameters(), lr = 0.001)\n",
    "\n",
    "Encoder_model = EncoderRNN(input_size = input_size, hidden_size = hidden_size).cuda(1)\n",
    "Encoder_optimizer = optim.SGD(Encoder_model.parameters(), lr = 0.001)\n",
    "\n",
    "Decoder_model = DecoderRNN(hidden_size = hidden_size, output_size = output_size).cuda(1)\n",
    "Decoder_optimizer = optim.SGD(Decoder_model.parameters(), lr = 0.001)\n",
    "\n",
    "#criterion = nn.CrossEntropyLoss()\n",
    "criterion = nn.NLLLoss()"
   ]
  },
  {
   "cell_type": "code",
   "execution_count": 18,
   "metadata": {},
   "outputs": [
    {
     "data": {
      "text/plain": [
       "DecoderRNN(\n",
       "  (lstm): LSTM(29, 256, batch_first=True)\n",
       "  (out): Linear(in_features=256, out_features=29, bias=True)\n",
       "  (softmax): LogSoftmax(dim=2)\n",
       ")"
      ]
     },
     "execution_count": 18,
     "metadata": {},
     "output_type": "execute_result"
    }
   ],
   "source": [
    "CNN_model.load_state_dict(torch.load('CNN_model_30000_words_TF_PAD.pt'))\n",
    "CNN_model.eval()\n",
    "\n",
    "Encoder_model.load_state_dict(torch.load('Encoder_model_30000_words_TF_PAD.pt'))\n",
    "Encoder_model.eval()\n",
    "\n",
    "Decoder_model.load_state_dict(torch.load('Decoder_model_30000_words_TF_PAD.pt'))\n",
    "Decoder_model.eval()"
   ]
  },
  {
   "cell_type": "code",
   "execution_count": 19,
   "metadata": {},
   "outputs": [
    {
     "name": "stdout",
     "output_type": "stream",
     "text": [
      "['liberalisation', 'ornate', 'utilise', 'midwife', 'arturo', 'appellee', 'granules', 'uniformed', 'gavab', 'rollout', 'snug', 'homegrown', 'datamonitor', 'reinforces', 'coveted', 'dirham', 'leahy', 'myc', 'prohibitions', 'esophageal', 'moulded', 'deceived', 'kira', 'convict', 'approximations', 'forzieri', 'intermediates', 'kgs', 'albumin', 'grantees', 'nai', 'tossing', 'loveland', 'regularity', 'maloney', 'criticised', 'sativa', 'lawfully', 'paramedic', 'trademarked', 'edgewood', 'goethe', 'stressing', 'slade', 'potable', 'limpopo', 'intensities', 'oncogene', 'dumas', 'antidepressant', 'jester', 'notifies', 'recount', 'ballpark', 'powys', 'orca', 'mascara', 'proline', 'dearest', 'molina', 'nema', 'nook', 'wipers', 'snoopy', 'informationen', 'commensurate', 'esf', 'riverdale', 'schiller', 'bowler', 'unleash', 'juelz', 'bls', 'noarch', 'koss', 'captioned', 'paq', 'wiser', 'gallant', 'summarizing', 'ucsd', 'disbelief', 'gleason', 'gon', 'baritone', 'unqualified', 'cautioned', 'recollection', 'independant', 'chlamydia', 'relativistic', 'rotors', 'driscoll', 'andalucia', 'mulher', 'bagels', 'locomotives', 'condemns', 'fastening', 'jeweler', 'subliminal', 'insecticide', 'nuremberg', 'segal', 'ostrich', 'maud', 'spline', 'undisclosed', 'flirting', 'noni', 'letterman', 'almeria', 'bryson', 'misplaced', 'prosecutions', 'wtb', 'dido', 'towson', 'poisoned', 'researches', 'htaccess', 'malayalam', 'chou', 'discriminating', 'crue', 'loo', 'pinoy', 'pallets', 'uplink', 'sheboygan', 'exclamation', 'collingwood', 'terrence', 'intercepted', 'ghc', 'ascendant', 'flung', 'gateshead', 'probationary', 'abducted', 'warlock', 'breakup', 'clovis', 'fiche', 'juror', 'eam', 'bowden', 'goggle', 'railing', 'metabolites', 'cremation', 'brainstorm', 'banter', 'balconies', 'smu', 'awaken', 'ahl', 'bateman', 'egcs', 'chirac', 'museo', 'pigeons', 'coffeehouse', 'singularity', 'scitech', 'signify', 'granddaughter', 'gcn', 'trolling', 'elmore', 'subdirectory', 'bancroft', 'progeny', 'grads', 'alters', 'lz', 'andi', 'localpref', 'kayla', 'ccl', 'gratefully', 'divergent', 'fleets', 'smeg', 'dorian', 'donut', 'libido', 'juli', 'fuselage', 'diabetics', 'tackled', 'ballerina', 'crp', 'shoals', 'morgantown', 'paseo', 'tributary', 'clique', 'rosy', 'ptsd', 'redheads', 'curran', 'diam', 'satanic', 'ragnarok', 'stubbs', 'hkd', 'summarised', 'durch', 'torment', 'jx', 'mussels', 'caitlin', 'emigration', 'conscientious', 'howl', 'bandai', 'hobs', 'wel', 'iglesias', 'eft', 'endometriosis', 'cushioning', 'hir', 'mcneil', 'ecclesiastical', 'crippled', 'belvedere', 'hilltop', 'tabor', 'peut', 'nar', 'tenet', 'acetyl', 'boomer', 'fifteenth', 'chute', 'perinatal', 'idm', 'automake', 'multichannel', 'petr', 'bohemia', 'daredevil', 'corcoran', 'mountainous', 'mrp', 'holliday', 'daimlerchrysler', 'fonds', 'bowes', 'mcgowan', 'agfa', 'ogre', 'unforeseen', 'pickles', 'submissive', 'mep', 'curses', 'goss', 'mulch', 'stampede', 'jvm', 'utilised', 'harwood', 'trieste', 'ranma', 'marinas', 'whine', 'mobipocket', 'streptococcus', 'nus', 'murcia', 'landfills', 'mcknight', 'fatality', 'tierra', 'edd', 'baud', 'mcfarland', 'designline', 'looming', 'undies', 'zo', 'prepay', 'sped', 'kodiak', 'printout', 'nonresident', 'marysville', 'curso', 'palmos', 'dorsey', 'ankles', 'roo', 'soulful', 'mosques', 'websearch', 'infotrac', 'mpgs', 'fouls', 'openssh', 'bravenet', 'fuchs', 'guerilla', 'etsi', 'squeezing', 'fisk', 'canes', 'serendipity', 'tq', 'follower', 'euler', 'sequentially', 'yogi', 'landslide', 'howtos', 'skool', 'alumina', 'degenerate', 'spiked', 'evolves', 'cru', 'gavab', 'iberia', 'anakin', 'duffel', 'goodrich', 'strung', 'subfamily', 'chanting', 'wrestler', 'perennials', 'officiating', 'hermit', 'behaving', 'ary', 'colbert', 'matchmaker', 'sagittarius', 'locates', 'dysfunctional', 'maastricht', 'bulletproof', 'josiah', 'deepen', 'mcr', 'uga', 'stenosis', 'chg', 'acadia', 'eso', 'recentchanges', 'remy', 'pats', 'abrasion', 'valentin', 'eindhoven', 'mora', 'cri', 'enrico', 'reciprocity', 'opportunistic', 'pcl', 'analogs', 'bba', 'crease', 'hillcrest', 'cantor', 'wis', 'econometric', 'ook', 'trafford', 'opie', 'cro', 'bartholomew', 'elkhart', 'ringers', 'diced', 'fairgrounds', 'cuyahoga', 'perseverance', 'plt', 'cartons', 'mustangs', 'enc', 'addons', 'wstrict', 'catalonia', 'gow', 'pharmacological', 'headwear', 'paediatric', 'genitals', 'hendricks', 'ivr', 'telemedicine', 'judi', 'yorktown', 'impede', 'icom', 'academically', 'chilton', 'cbo', 'amaya', 'flickrblog', 'clasps', 'tilted', 'vicar', 'confines', 'fulbright', 'foaf', 'cllr', 'prank', 'xh', 'dass', 'repent', 'fulltext', 'dio', 'agreeable', 'centrum', 'tecra', 'kinks', 'riddles', 'unisys', 'preschools', 'bennington', 'mcallen', 'pulpit', 'appreciates', 'contoured', 'aberdeenshire', 'icm', 'schenectady', 'marshes', 'schematics', 'bellies', 'dojo', 'eserver', 'corrosive', 'ambush', 'nin', 'interfacing', 'borrowings', 'hrt', 'palazzo', 'franciscan', 'heparin', 'universiteit', 'figurative', 'gait', 'hardcopy', 'emphasised', 'connective', 'bonfire', 'aversion', 'nihon', 'oso', 'adkins', 'dunlap', 'nsc', 'irr', 'clonazepam', 'wikiname', 'gaithersburg', 'vicente', 'biophysics', 'chromatin', 'mathis', 'bulova', 'roxanne', 'fca', 'drg', 'stiles', 'stewards', 'refurb', 'chauffeur', 'wasteland', 'elicit', 'plotter', 'findlay', 'henrietta', 'slapped', 'bitten', 'cymraeg', 'alc', 'meek', 'lind', 'phonebook', 'doodle', 'arb', 'wabash', 'salamanca', 'martyn', 'dynamo', 'hobson', 'chronologically', 'wms', 'whitfield', 'stow', 'mchenry', 'eide', 'assy', 'dusseldorf', 'summon', 'skeletons', 'mmol', 'shabbat', 'nclb', 'parchment', 'accommodates', 'lingua', 'cmi', 'stacker', 'distractions', 'forfeit', 'pepe', 'paddles', 'unpopular', 'msf', 'republics', 'touchdowns', 'plasmas', 'inspecting', 'retainer', 'hardening', 'barbell', 'loosen', 'awk', 'bibs', 'beowulf', 'sneaky', 'undiscovered', 'einem', 'smarts', 'lankan', 'synthetase', 'imputed', 'lightwave', 'alignments', 'cabs', 'coached', 'cheated', 'jac', 'framingham', 'opensource', 'restroom', 'videography', 'lcr', 'spatially', 'doanh', 'willows', 'preprocessor', 'hump', 'cohn', 'delft', 'aon', 'marginally', 'ocs', 'bak', 'communicative', 'cavalli', 'grieving', 'ddc', 'grunge', 'chastity', 'invoicing', 'bigtits', 'carney', 'braintree', 'southside', 'vca', 'flipped', 'cabrera', 'faust', 'fright', 'harbors', 'adorned', 'obnoxious', 'mindy', 'diligently', 'surfaced', 'decays', 'glam', 'cowgirl', 'mortimer', 'marvellous', 'nouvelle', 'easing', 'loginlogin', 'mtr', 'nakamura', 'mathieu', 'layoffs', 'picket', 'matures', 'thrones', 'cty', 'emilia', 'eyre', 'apm', 'iggy', 'maturing', 'margarine', 'seu', 'illogical', 'awakened', 'beet', 'suing', 'brine', 'lorna', 'sneaker', 'waning', 'cartwright', 'glycoprotein', 'armoire', 'gcs', 'queued', 'sab', 'hydroxide', 'piled', 'hanley', 'cellulite', 'hwang', 'mtd', 'twinkle', 'mcqueen', 'lodgings', 'passat', 'fluff', 'shifter', 'maitland', 'cartography', 'supple', 'firstprevious', 'vito', 'geld', 'soi', 'fabio', 'predicates', 'bcl', 'unfit', 'uttered', 'douay', 'rumanian', 'zeitgeist', 'nickelodeon', 'dru', 'apar', 'tending', 'shaggy', 'elongated', 'ordeal', 'pegs', 'astronomer', 'hernia', 'preisvergleich', 'incompetence', 'britton', 'stabilizing', 'socom', 'wsis', 'anil', 'flicker', 'ramsay', 'midsize', 'relieving', 'pullover', 'towering', 'operas', 'slaughtered', 'lpn', 'hoodwinked', 'photoes', 'assaulted', 'beastie', 'mena', 'rouse', 'appel', 'yucca', 'armand', 'harvester', 'emmett', 'spiel', 'shay', 'impurities', 'stemming', 'inscriptions', 'obstructive', 'hos', 'pacman', 'tentatively', 'tragedies', 'interlude', 'oates', 'retroactive', 'briefed', 'bebe', 'dialects', 'krusell', 'vas', 'ovid', 'clickz', 'carcass', 'kermit', 'gizmo', 'atherosclerosis', 'casually', 'scamp', 'demography', 'freedman', 'migraines', 'wallingford', 'newborns', 'ljubljana', 'restarted', 'rnc', 'reprise', 'meow', 'thayer', 'kilograms', 'zig', 'packager', 'populate', 'lash', 'pembrokeshire', 'ills', 'arcane', 'impractical', 'simms', 'danes', 'tcg', 'gavab', 'honeymoons', 'authoritarian', 'alu', 'judaica', 'tropicana', 'tyan', 'cardholder', 'peavey', 'gothenburg', 'pebbles', 'geocaching', 'ident', 'fluoxetine', 'tipton', 'quicksilver', 'sacked', 'teva', 'lsa', 'omen', 'effortlessly', 'failover', 'forfeited', 'cysts', 'primetime', 'kenosha', 'kokomo', 'penney', 'stipend', 'conceptions', 'snorkel', 'amin', 'lii', 'iridium', 'dwyer', 'conserving', 'toppers', 'amulet', 'cfg', 'informally', 'tvc', 'alternator', 'nysgrc', 'underwriter', 'springhill', 'panhandle', 'sarcastic', 'joann', 'isoform', 'indemnification', 'hawke', 'borden', 'bombed', 'complexion', 'daisies', 'informant', 'elt', 'sorrows', 'halton', 'ite', 'guaranteeing', 'aegean', 'fasta', 'gonzaga', 'boobies', 'nadine', 'andere', 'breitling', 'nutr', 'ingersoll', 'sandia', 'pacs', 'azur', 'sluggish', 'helms', 'brig', 'beos', 'srcdir', 'tiempo', 'sherpa', 'tuff', 'marsden', 'coy', 'ligands', 'smalltalk', 'sorghum', 'grouse', 'nucleotides', 'mmv', 'ebi', 'reginald', 'wierd', 'sbd', 'pasted', 'moths', 'lmao', 'enhancers', 'collaborated', 'produ', 'lila', 'batavia', 'evoke', 'slotted', 'nnw', 'fila', 'decking', 'dispositions', 'haywood', 'staunton', 'boz', 'accelerators', 'howstuffworks', 'nit', 'amorphous', 'neighbourhoods', 'michal', 'tributaries', 'townships', 'rab', 'hideaway', 'dwayne', 'coda', 'nantes', 'cyanide', 'kostenlose', 'grotesk', 'assam', 'marek', 'interlibrary', 'mousse', 'provenance', 'sra', 'sog', 'zinkle', 'shameful', 'chiffon', 'fanfare', 'mapper', 'boyce', 'mlk', 'dystrophy', 'infomation', 'archaic', 'elevate', 'deafness', 'footballs', 'emailemail', 'bathurst', 'bec', 'sala', 'fof', 'duracell', 'laureate', 'feinstein', 'contemporaries', 'syphilis', 'vigilance', 'magnavox', 'appalling', 'palmyra', 'foxes', 'davie', 'evra', 'affixed', 'servlets', 'tss', 'neill', 'ticking', 'pantheon', 'gully', 'epithelium', 'bitterness', 'thc', 'brill', 'defy', 'stor', 'webbing', 'bef', 'jaya', 'consumes', 'lovingly', 'mame', 'agua', 'ppe', 'thrush', 'bribery', 'emusic', 'smokes', 'tso', 'epp', 'glencoe', 'untested', 'ventilated', 'overviews', 'affleck', 'kettles', 'ascend', 'flinders', 'informationhide', 'hearst', 'verifies', 'reverb', 'kays', 'commuters', 'rcp', 'nutmeg', 'welivetogether', 'crit', 'sdm', 'durbin', 'chained', 'riken', 'canceling', 'brookhaven', 'magnify', 'gauss', 'precautionary', 'artistry', 'travail', 'phpnuke', 'livres', 'fiddler', 'falkirk', 'wholesome', 'pitts', 'wrists', 'severed', 'dtp', 'mites', 'kwon', 'rubric', 'headlamp', 'operand', 'puddle', 'azores', 'kristi', 'yasmin', 'gnl', 'vegetative', 'acdbvertex', 'agora', 'illini', 'macho', 'sob', 'ningbo', 'elaborated', 'reeve', 'embellishments', 'willful', 'grandeur', 'plough', 'staphylococcus', 'pritchard', 'mansions', 'busting', 'foss', 'gfp', 'macpherson', 'overheard', 'yhoo', 'sloane', 'wooster', 'delong', 'persisted', 'mdi', 'nilsson', 'whereabouts', 'substring']\n",
      "['lieralisationi', 'ornate', 'utilise', 'midwife', 'arturo', 'appellee', 'granules', 'uniformed', 'gavab', 'rollout', 'snug', 'homegronn', 'dataniotorn', 'reinforces', 'coveetd', 'dirmam', 'leahy', 'myc', 'prohibitions', 'essopaegal', 'moulded', 'deceived', 'kira', 'convict', 'approximantios', 'forzaeie', 'intermedaties', 'kgs', 'allbinn', 'grantees', 'nai', 'tossing', 'loveland', 'regularity', 'maloney', 'criticiesd', 'sativa', 'lawfully', 'paramecic', 'trademarede', 'edgowiod', 'goethe', 'stressing', 'slade', 'potable', 'limpopo', 'intensities', 'oncongen', 'dumas', 'antipersensatr', 'jester', 'notifies', 'recount', 'ballpark', 'powws', 'orca', 'mascara', 'proline', 'dearest', 'molina', 'nema', 'nook', 'wipers', 'snoopy', 'informematine', 'commenuruate', 'esf', 'riverdale', 'schiller', 'bowler', 'unleash', 'julez', 'bls', 'noarch', 'koss', 'captioned', 'paq', 'wiser', 'gallant', 'summarizing', 'uscd', 'disbleeil', 'gleason', 'gon', 'baritone', 'uuqufialied', 'cautioned', 'recolection', 'indepenantn', 'chlhamiam', 'relattinitis', 'rotors', 'driscoll', 'andalicia', 'mulher', 'bagels', 'locomotives', 'condenss', 'fastening', 'jeweler', 'subliminal', 'insecticide', 'nuerbberg', 'segal', 'osticrh', 'maud', 'spline', 'undiclssoed', 'flitring', 'noni', 'letterman', 'almerra', 'bryson', 'misplaced', 'prosecutions', 'wtb', 'dido', 'towwon', 'poisoned', 'researcers', 'hatccess', 'mallaatam', 'chou', 'discriminating', 'crue', 'loo', 'pinoy', 'pallets', 'uplink', 'shegegara', 'exclamation', 'colligwoowd', 'terrence', 'intercepted', 'ghh', 'ascendant', 'flung', 'gateseade', 'probanitaroy', 'abducted', 'warlock', 'breakup', 'clovis', 'fiche', 'juror', 'eam', 'bowden', 'goggle', 'railing', 'metabolites', 'cremation', 'braorssorm', 'banter', 'balconies', 'smu', 'awaken', 'ahl', 'bateman', 'egcs', 'chirac', 'museo', 'pigeons', 'coofeffhoes', 'singurlatiy', 'scicech', 'signify', 'granouutglers', 'ggn', 'trolling', 'elmore', 'subbidetoroy', 'bancortt', 'progeny', 'grads', 'alters', 'lz', 'andi', 'lolaplere', 'kayla', 'ccl', 'gratefully', 'divergent', 'fleets', 'smeg', 'dorian', 'donut', 'libido', 'juli', 'fuselage', 'diabetics', 'tackled', 'ballerina', 'crp', 'shoals', 'mogtranwon', 'paseo', 'tributary', 'clique', 'rosy', 'ptsd', 'redheads', 'curran', 'diam', 'satanic', 'raghonak', 'stubbs', 'hkd', 'summarised', 'durch', 'torment', 'jx', 'mussess', 'caitiln', 'emgirtaion', 'consciteuious', 'howl', 'bandai', 'hobs', 'wel', 'iggersas', 'eft', 'enncatiorisoe', 'cushioning', 'hir', 'mcheil', 'ecclestinsiala', 'crippled', 'belvervee', 'hilltop', 'tabor', 'peut', 'nar', 'tenet', 'accelt', 'boomer', 'fiftetent', 'chute', 'perinatal', 'idm', 'automake', 'multhinallen', 'petr', 'bhheeri', 'dareviele', 'corcoran', 'mountionaus', 'mrp', 'holdilay', 'daimilesarsler', 'fonds', 'bowes', 'mccowan', 'affa', 'ogre', 'unfofeseen', 'pickles', 'submissive', 'mep', 'curses', 'goss', 'mulch', 'stampdee', 'jvm', 'utilised', 'harwood', 'trieste', 'ramma', 'marinas', 'whine', 'mocibbbcte', 'strepcoutcucs', 'nus', 'murcia', 'landfills', 'mckkintt', 'fatality', 'tierra', 'edd', 'baud', 'mccfrandd', 'designinel', 'looming', 'undies', 'zo', 'prepay', 'sped', 'kodiak', 'printout', 'norendisent', 'armvysille', 'curso', 'palmos', 'dorsey', 'ankles', 'roo', 'soulull', 'mosques', 'wewshharh', 'inforacc', 'mggs', 'fouls', 'openssh', 'bravenet', 'fuchs', 'guerilla', 'etsi', 'squezzeng', 'fisk', 'canes', 'seertindiny', 'tq', 'follower', 'euler', 'sequentially', 'yogi', 'landdlide', 'howtos', 'skool', 'alumina', 'degenerate', 'spiked', 'evolves', 'cru', 'gavab', 'iberia', 'anakin', 'duffel', 'goodrcih', 'strung', 'subbmamiy', 'chanting', 'wrestler', 'perennials', 'officatiing', 'hermit', 'beavivng', 'ary', 'colbert', 'matchrakek', 'sagtitritas', 'locates', 'dysfontincall', 'mascarchtt', 'buulerpoofl', 'josiai', 'deepen', 'mcr', 'uga', 'stenisos', 'chh', 'acadia', 'eso', 'recershencans', 'remy', 'pats', 'abrasion', 'valentin', 'eidionven', 'mora', 'cri', 'enrioc', 'recicpricot', 'opportunsitic', 'pcl', 'analogs', 'bab', 'crease', 'hillrsets', 'cantor', 'wis', 'econorestic', 'ook', 'trafford', 'opie', 'cro', 'barthlemwow', 'ekklrat', 'ringers', 'diced', 'fairiganogs', 'cughoaga', 'perserenacen', 'plt', 'cartons', 'mustangs', 'enc', 'addons', 'wwrstic', 'cataloina', 'gow', 'pharamologicanl', 'heawwear', 'paeditaric', 'genitals', 'hendricks', 'ivr', 'teleedinisen', 'judi', 'yortowwo', 'impede', 'icom', 'acadescially', 'chilton', 'cob', 'amaya', 'fllbicolrg', 'classs', 'tilted', 'vicar', 'confines', 'fulbright', 'foaf', 'cllr', 'prank', 'xx', 'dass', 'repent', 'fulllett', 'dio', 'agreabele', 'centrum', 'tecra', 'kinks', 'riddles', 'unisys', 'presholoss', 'bennintonn', 'mocalen', 'pulpit', 'appreciates', 'contoured', 'aberdeorhiere', 'icm', 'shhecencany', 'marshes', 'schematics', 'bellies', 'dojo', 'eserver', 'corrosive', 'ambush', 'nin', 'interfacing', 'borrowings', 'hrt', 'paazloz', 'franciscan', 'heparin', 'univeresiite', 'figurative', 'gait', 'hardcopy', 'emphasised', 'connective', 'bonfire', 'aversion', 'nihon', 'oso', 'adkins', 'dulapp', 'nsc', 'irr', 'clopanemam', 'wikimena', 'gagigtubbbrg', 'vicente', 'biophisess', 'chromaitn', 'matihs', 'bulvoa', 'roxanne', 'fca', 'drg', 'stiles', 'stewards', 'refurb', 'cauffefur', 'wasteland', 'eliict', 'plotter', 'findiay', 'henrertia', 'slapped', 'bitten', 'cymraen', 'alc', 'meek', 'lind', 'phoneobok', 'doodle', 'arb', 'wabsah', 'salamcana', 'martyn', 'dynamm', 'hobson', 'chronologically', 'wms', 'whitfield', 'stow', 'mhcenry', 'eide', 'assy', 'dusseolrdo', 'summon', 'skeletons', 'moml', 'shabbat', 'ncbl', 'parchment', 'accommodates', 'lingua', 'cmi', 'stacker', 'distractions', 'fofreit', 'pepe', 'paddles', 'unpoluapr', 'msf', 'repuliccs', 'touchdowns', 'plasmas', 'inspecting', 'retainer', 'hardening', 'barbell', 'loosen', 'akk', 'bibs', 'beofull', 'sneaky', 'undicsoveved', 'eimem', 'smarts', 'lankan', 'syntheatse', 'imputed', 'lightavev', 'alignments', 'cabs', 'coached', 'cheated', 'jac', 'framimamim', 'openauroce', 'restorom', 'viderohaphy', 'lcr', 'spatially', 'doanh', 'wlliows', 'prerceoseors', 'hump', 'cohn', 'defft', 'aon', 'marginally', 'ocs', 'bak', 'communcivaviv', 'cavalil', 'grieving', 'ddc', 'grunge', 'chastity', 'invociing', 'bigtits', 'carney', 'brarntiee', 'soustides', 'vca', 'flipped', 'cabrera', 'faust', 'fright', 'harbors', 'adorned', 'oxoniuoss', 'mindy', 'diligently', 'surfaced', 'decays', 'glam', 'cowwirl', 'mortioer', 'marvelolus', 'nouvelle', 'easing', 'loggiongin', 'mtr', 'nakkarau', 'matheiu', 'laloffs', 'picket', 'matures', 'thrones', 'cty', 'emiila', 'eyre', 'apm', 'iggy', 'maturing', 'margarine', 'seu', 'iloglical', 'awakened', 'beet', 'suing', 'brine', 'lorna', 'sneaker', 'waning', 'carthrigtt', 'glophroteici', 'armiore', 'gcs', 'queued', 'sab', 'hyddordie', 'piled', 'hanley', 'celluitle', 'hangg', 'mtd', 'twwline', 'mcqueen', 'lodgings', 'passat', 'fluff', 'shiffer', 'maitland', 'carthhraphy', 'supple', 'firtesorisuus', 'vito', 'geld', 'soi', 'fabio', 'predicates', 'bcl', 'unitt', 'uttered', 'douay', 'rumanian', 'feginseit', 'nicheledoon', 'dru', 'apar', 'tending', 'shaggy', 'elongated', 'ordeal', 'pegs', 'astrononer', 'hernia', 'preigelticeilh', 'incompectenc', 'britton', 'stablizingg', 'soocm', 'wiss', 'anil', 'flicker', 'ramasy', 'midsise', 'relieving', 'pullover', 'towering', 'operas', 'slaugheterd', 'lpn', 'hoodwikedd', 'photoes', 'assaluted', 'beastie', 'mena', 'rouse', 'appel', 'yucca', 'armand', 'harvester', 'emmett', 'spiel', 'shay', 'impritiens', 'stemming', 'inscriptions', 'obstrctitie', 'hos', 'pamama', 'tententatiy', 'trageides', 'interlude', 'oates', 'retrocative', 'briefed', 'bebe', 'dialects', 'krusell', 'vas', 'ovid', 'cllikz', 'carcass', 'kerimt', 'gimmm', 'atecroessorioss', 'casually', 'scamp', 'demography', 'freemann', 'migraines', 'walfilordid', 'newworns', 'jubuhana', 'restarted', 'rnc', 'reprise', 'meow', 'thayer', 'kiorumams', 'zig', 'packager', 'populate', 'lash', 'pemmenchrhhre', 'ills', 'arcane', 'imparctical', 'simms', 'danes', 'tcg', 'gavab', 'honemomons', 'authoriatiran', 'alu', 'judaica', 'tropicana', 'tana', 'cardidoler', 'peavey', 'gotheburug', 'pebbles', 'geochacing', 'ident', 'fluuvntine', 'tipton', 'quicissterr', 'sacked', 'teva', 'lsa', 'omen', 'efforsesllyy', 'failover', 'forfeited', 'cysts', 'primetime', 'kensoha', 'kkomom', 'penney', 'stineed', 'conceptions', 'snokkel', 'amin', 'lii', 'iidrium', 'dweyr', 'conserving', 'toppers', 'amulet', 'cfg', 'informally', 'ttc', 'alternator', 'nysgrc', 'underwirter', 'sprinirhll', 'pandandle', 'sarcatics', 'joann', 'isoform', 'indenisacitoion', 'hawke', 'borden', 'bombed', 'complexion', 'daisies', 'informant', 'elt', 'sororss', 'halton', 'ite', 'guarentineng', 'aeegan', 'fasta', 'gongaga', 'boobies', 'nadine', 'andere', 'breitling', 'nutr', 'ingesorll', 'sandia', 'pacs', 'azur', 'sluggish', 'helms', 'brig', 'beos', 'sricre', 'timepp', 'sherpa', 'tuff', 'marsden', 'coy', 'ligands', 'smaltallk', 'sorghum', 'grouse', 'nucleditoes', 'mmm', 'ebi', 'reginald', 'wired', 'sbd', 'pasted', 'moths', 'lamo', 'enhancers', 'collaborated', 'produ', 'lila', 'batavia', 'evoke', 'slotted', 'nnw', 'fila', 'decking', 'dispositions', 'haywood', 'stuanton', 'boz', 'accelerators', 'howwwsftowrks', 'nit', 'amporouhs', 'neighhubrouods', 'michal', 'tribburites', 'townshiss', 'rab', 'hideaway', 'dwanye', 'coda', 'nantes', 'cyyanie', 'kostensole', 'grotesk', 'assam', 'marek', 'interebirary', 'mousse', 'provenance', 'sra', 'sog', 'zinkle', 'shameful', 'coiffon', 'fanafer', 'mapper', 'boyce', 'mlk', 'dystropyy', 'infomation', 'archaic', 'elevate', 'deanfess', 'footlalls', 'emaiimeall', 'bathurst', 'bec', 'sala', 'fof', 'duraecll', 'lauratee', 'feiseinin', 'conteporaseris', 'syyhiils', 'vigilance', 'magnvavo', 'appalling', 'palrmya', 'foxes', 'davie', 'evra', 'affifed', 'servlets', 'tss', 'neill', 'ticking', 'pantelno', 'gully', 'epithielum', 'bittensers', 'thc', 'brill', 'defy', 'stor', 'webbing', 'bef', 'jaya', 'consumes', 'lovingil', 'mame', 'agua', 'ppe', 'thrush', 'bribery', 'emusic', 'smokes', 'tso', 'epp', 'glencoe', 'untested', 'ventilated', 'overveiss', 'affleck', 'kettles', 'ascend', 'flinders', 'informantidoned', 'hearst', 'verifies', 'reverb', 'kays', 'commuters', 'rcp', 'nutten', 'welivetogeoter', 'crit', 'sdm', 'durbin', 'chained', 'riken', 'canceling', 'borovhevan', 'maniffy', 'gauss', 'precautoniary', 'artistry', 'travial', 'phnhuen', 'livres', 'fiddler', 'falkirk', 'wholeomme', 'pitts', 'wrists', 'severed', 'dtp', 'mites', 'kwon', 'rubicc', 'heacumam', 'operand', 'puddle', 'azores', 'kristi', 'yasmin', 'gnl', 'vegetative', 'accuedertx', 'agora', 'illini', 'macho', 'sob', 'ninggo', 'elaborated', 'reeve', 'emebromhmentss', 'willfll', 'granduer', 'ploggh', 'staphlodlccucs', 'prithchar', 'mansions', 'busting', 'foss', 'guf', 'macphesorn', 'overhared', 'yyoo', 'sloane', 'wooster', 'delong', 'persisted', 'mdi', 'nilsson', 'whereouuats', 'substring']\n"
     ]
    }
   ],
   "source": [
    "with torch.no_grad():\n",
    "    total_model_word = []\n",
    "    for t, (image_test, label_test) in enumerate(test_loader):\n",
    "\n",
    "        t += 1\n",
    "        test_batch = len(label_test)\n",
    "        \n",
    "        encoder_hidden_test = Encoder_model.initHidden(batch = test_batch)\n",
    "        \n",
    "        image_cnn_test = image_test.view(-1, color_channels, patch_height, patch_width).cuda(1)\n",
    "        encoder_input_test = CNN_model(image_cnn_test)\n",
    "        _, encoder_hidden_test = Encoder_model(encoder_input_test, encoder_hidden_test, batch = test_batch, seq_len = n_patches)\n",
    "        \n",
    "        for j in range(test_batch):\n",
    "           \n",
    "            decoder_input_test = letter_to_vector('START').cuda(1) # We initialize the first Decoder input as the START token\n",
    "\n",
    "            decoder_hidden_test = (encoder_hidden_test[0][0, j, :].view(1, 1, hidden_size), # We take the last hidden state of the Encoder \n",
    "                                   encoder_hidden_test[1][0, j, :].view(1, 1, hidden_size)) # for each image/word (j) within the batch \n",
    "            # This would be the first hidden state of the Decoder for image/word (j)\n",
    "\n",
    "            for d in range(MAX_LENGTH + 2):\n",
    "                \n",
    "                decoder_output_test, decoder_hidden_test = Decoder_model(decoder_input_test, decoder_hidden_test, \n",
    "                                                                         batch = 1, seq_len = 1)\n",
    "                \n",
    "                output_letter = one_hot_conversion(decoder_output_test, output_size = output_size)\n",
    "                decoder_input_test = output_letter\n",
    "                \n",
    "                if d == 0:\n",
    "                    \n",
    "                    output_word = output_letter\n",
    "                    \n",
    "                else:\n",
    "                    \n",
    "                    output_word = torch.cat((output_word, output_letter), dim = 1).cuda(1)\n",
    "                \n",
    "                \n",
    "                END_condition = torch.equal(output_letter, letter_to_vector('END').cuda(1))\n",
    "                \n",
    "                if  END_condition == True:\n",
    "                    \n",
    "                    break\n",
    "            \n",
    "            output_word = torch.argmax(output_word, dim=2)\n",
    "            output_word = output_word.view(output_word.numel()) # view as a rank-1 tensor\n",
    "            \n",
    "            model_word = []\n",
    "\n",
    "\n",
    "            for item in output_word:\n",
    "                model_word.append(letters[item])\n",
    "\n",
    "            model_word = ''.join(model_word[:-1])\n",
    "            #print(model_word)\n",
    "            total_model_word.append(model_word)\n",
    "      \n",
    "    print(test_set) \n",
    "print(total_model_word)"
   ]
  },
  {
   "cell_type": "code",
   "execution_count": 20,
   "metadata": {},
   "outputs": [
    {
     "name": "stdout",
     "output_type": "stream",
     "text": [
      "685\n"
     ]
    }
   ],
   "source": [
    "acc = 0\n",
    "\n",
    "test_length = len(test_set)\n",
    "for i in range(test_length):\n",
    "        \n",
    "    if total_model_word[i] == test_set[i]:\n",
    "\n",
    "        acc += 1\n",
    "            \n",
    "print(acc)"
   ]
  },
  {
   "cell_type": "code",
   "execution_count": 30,
   "metadata": {},
   "outputs": [
    {
     "name": "stdout",
     "output_type": "stream",
     "text": [
      "[0, 1, 1, 1, 1, 1, 1, 1, 1, 1, 1, 0, 0, 1, 0, 0, 1, 1, 1, 0, 1, 1, 1, 1, 0, 0, 0, 1, 0, 1, 1, 1, 1, 1, 1, 0, 1, 1, 0, 0, 0, 1, 1, 1, 1, 1, 1, 0, 1, 0, 1, 1, 1, 1, 0, 1, 1, 1, 1, 1, 1, 1, 1, 1, 0, 0, 1, 1, 1, 1, 1, 0, 1, 1, 1, 1, 1, 1, 1, 1, 0, 0, 1, 1, 1, 0, 1, 0, 0, 0, 0, 1, 1, 0, 1, 1, 1, 0, 1, 1, 1, 1, 0, 1, 0, 1, 1, 0, 0, 1, 1, 0, 1, 1, 1, 1, 1, 0, 1, 0, 0, 0, 1, 1, 1, 1, 1, 1, 1, 0, 1, 0, 1, 1, 0, 1, 1, 0, 0, 1, 1, 1, 1, 1, 1, 1, 1, 1, 1, 1, 1, 0, 1, 1, 1, 1, 1, 1, 1, 1, 1, 1, 0, 0, 0, 1, 0, 0, 1, 1, 0, 0, 1, 1, 1, 1, 1, 0, 1, 1, 1, 1, 1, 1, 1, 1, 1, 1, 1, 1, 1, 1, 1, 1, 0, 1, 1, 1, 1, 1, 1, 1, 1, 1, 0, 1, 1, 1, 1, 1, 1, 0, 0, 0, 0, 1, 1, 1, 1, 0, 1, 0, 1, 1, 0, 0, 1, 0, 1, 1, 1, 1, 1, 0, 1, 0, 1, 1, 1, 1, 0, 1, 0, 0, 1, 0, 1, 0, 0, 1, 1, 0, 0, 1, 0, 1, 1, 1, 1, 1, 1, 0, 1, 1, 1, 1, 0, 1, 1, 0, 0, 1, 1, 1, 0, 1, 1, 1, 1, 0, 0, 1, 1, 1, 1, 1, 1, 1, 0, 0, 1, 1, 1, 1, 1, 0, 1, 0, 0, 0, 1, 1, 1, 1, 1, 1, 0, 1, 1, 0, 1, 1, 1, 1, 1, 0, 1, 1, 1, 1, 1, 1, 1, 1, 1, 1, 1, 0, 1, 0, 1, 1, 1, 0, 1, 0, 1, 1, 0, 0, 1, 0, 0, 0, 0, 1, 1, 1, 0, 0, 1, 1, 0, 1, 1, 1, 1, 0, 1, 1, 0, 0, 0, 1, 1, 0, 1, 0, 1, 1, 0, 1, 1, 1, 1, 0, 0, 1, 1, 0, 0, 0, 1, 1, 1, 1, 1, 0, 0, 1, 0, 0, 0, 1, 1, 1, 0, 1, 0, 1, 1, 0, 1, 0, 1, 0, 0, 1, 1, 1, 1, 1, 1, 1, 0, 1, 1, 0, 1, 0, 1, 1, 1, 1, 1, 0, 0, 0, 1, 1, 1, 0, 1, 0, 1, 1, 1, 1, 1, 1, 1, 1, 1, 1, 1, 0, 1, 1, 0, 1, 1, 1, 1, 1, 1, 1, 1, 1, 1, 0, 1, 1, 0, 0, 0, 1, 0, 0, 0, 0, 1, 1, 1, 1, 1, 1, 0, 1, 0, 1, 0, 0, 1, 1, 0, 1, 1, 1, 0, 1, 1, 0, 0, 1, 0, 1, 1, 1, 1, 1, 0, 1, 1, 0, 1, 1, 0, 1, 0, 1, 1, 1, 1, 1, 1, 0, 1, 1, 0, 1, 0, 1, 1, 1, 1, 1, 1, 1, 0, 1, 0, 1, 0, 0, 1, 1, 0, 1, 0, 1, 1, 1, 1, 1, 0, 0, 0, 0, 1, 1, 1, 0, 0, 1, 1, 0, 1, 1, 1, 1, 0, 0, 1, 1, 1, 1, 0, 1, 1, 0, 0, 1, 1, 1, 1, 1, 1, 1, 0, 1, 1, 1, 1, 1, 0, 0, 0, 1, 1, 0, 1, 0, 0, 0, 1, 1, 1, 1, 0, 1, 1, 1, 1, 1, 1, 0, 1, 1, 1, 1, 1, 1, 1, 0, 0, 0, 1, 1, 1, 0, 1, 1, 0, 0, 1, 0, 1, 1, 1, 1, 0, 1, 0, 1, 0, 1, 1, 1, 1, 1, 1, 0, 1, 1, 1, 0, 0, 1, 1, 1, 1, 1, 1, 1, 0, 1, 0, 0, 1, 0, 0, 0, 1, 1, 0, 0, 1, 1, 1, 1, 0, 1, 0, 1, 0, 1, 1, 1, 1, 1, 1, 1, 1, 1, 1, 0, 1, 1, 0, 1, 0, 0, 0, 1, 1, 0, 1, 1, 1, 1, 1, 1, 0, 1, 0, 0, 0, 1, 1, 1, 0, 1, 0, 0, 0, 1, 1, 1, 1, 1, 0, 1, 1, 1, 1, 0, 1, 1, 0, 1, 1, 1, 1, 0, 0, 1, 1, 1, 0, 0, 1, 0, 1, 0, 1, 0, 1, 0, 1, 1, 1, 1, 0, 1, 1, 1, 1, 0, 0, 1, 0, 1, 0, 1, 1, 0, 0, 1, 1, 1, 1, 1, 0, 1, 1, 0, 0, 0, 0, 1, 1, 0, 1, 1, 1, 1, 1, 1, 1, 0, 1, 1, 0, 0, 1, 0, 1, 1, 1, 1, 1, 0, 1, 1, 1, 1, 1, 1, 1, 0, 0, 1, 1, 1, 1, 1, 0, 1, 1, 0, 0, 1, 1, 0, 1, 1, 1, 0, 1, 1, 1, 1, 1, 1, 1, 1, 1, 1, 1, 1, 0, 1, 1, 0, 1, 0, 0, 1, 0, 0, 1, 1, 0, 1, 1, 0, 0, 1, 1, 1, 0, 1, 1, 1, 1, 1, 1, 0, 0, 1, 1, 1, 0, 1, 1, 1, 0, 0, 0, 1, 1, 1, 1, 0, 0, 0, 0, 0, 1, 0, 1, 0, 1, 1, 1, 0, 1, 1, 1, 1, 0, 1, 0, 0, 1, 1, 1, 1, 1, 1, 1, 1, 0, 1, 1, 1, 1, 1, 1, 1, 1, 1, 1, 1, 1, 0, 1, 1, 1, 1, 0, 1, 1, 1, 1, 1, 1, 0, 0, 1, 1, 1, 1, 1, 1, 0, 0, 1, 0, 1, 0, 0, 1, 1, 1, 0, 1, 1, 1, 1, 1, 1, 0, 0, 1, 1, 1, 1, 1, 1, 1, 0, 1, 1, 1, 1, 0, 1, 1, 0, 0, 0, 0, 0, 0, 1, 1, 1, 0, 0, 0, 0, 1, 1, 1, 1, 1, 1, 0, 1]\n"
     ]
    }
   ],
   "source": [
    "acc_vector = []\n",
    "\n",
    "for i in range(test_length):\n",
    "        \n",
    "    if total_model_word[i] == test_set[i]:\n",
    "\n",
    "        acc_vector.append(1)\n",
    "        \n",
    "    else:\n",
    "        \n",
    "        acc_vector.append(0)\n",
    "            \n",
    "print(acc_vector)"
   ]
  },
  {
   "cell_type": "code",
   "execution_count": 34,
   "metadata": {},
   "outputs": [
    {
     "name": "stdout",
     "output_type": "stream",
     "text": [
      "[14, 6, 7, 7, 6, 8, 8, 9, 5, 7, 4, 9, 11, 10, 7, 6, 5, 3, 12, 10, 7, 8, 4, 7, 14, 8, 13, 3, 7, 8, 3, 7, 8, 10, 7, 10, 6, 8, 9, 11, 8, 6, 9, 5, 7, 7, 11, 8, 5, 14, 6, 8, 7, 8, 5, 4, 7, 7, 7, 6, 4, 4, 6, 6, 13, 12, 3, 9, 8, 6, 7, 5, 3, 6, 4, 9, 3, 5, 7, 11, 4, 9, 7, 3, 8, 11, 9, 12, 11, 9, 12, 6, 8, 9, 6, 6, 11, 8, 9, 7, 10, 11, 9, 5, 7, 4, 6, 11, 8, 4, 9, 7, 6, 9, 12, 3, 4, 6, 8, 10, 8, 9, 4, 14, 4, 3, 5, 7, 6, 9, 11, 11, 8, 11, 3, 9, 5, 9, 12, 8, 7, 7, 6, 5, 5, 3, 6, 6, 7, 11, 9, 10, 6, 9, 3, 6, 3, 7, 4, 6, 5, 7, 11, 11, 7, 7, 13, 3, 8, 6, 12, 8, 7, 5, 6, 2, 4, 9, 5, 3, 10, 9, 6, 4, 6, 5, 6, 4, 8, 9, 7, 9, 3, 6, 10, 5, 9, 6, 4, 4, 8, 6, 4, 7, 8, 6, 3, 10, 5, 7, 2, 7, 7, 10, 13, 4, 6, 4, 3, 8, 3, 13, 10, 3, 6, 14, 8, 9, 7, 5, 4, 3, 5, 6, 6, 9, 5, 9, 3, 8, 12, 4, 7, 9, 8, 11, 3, 8, 15, 5, 5, 7, 4, 4, 10, 7, 10, 3, 6, 4, 5, 8, 3, 8, 7, 7, 5, 7, 5, 10, 13, 3, 6, 9, 8, 8, 6, 3, 4, 9, 10, 7, 6, 2, 6, 4, 6, 8, 11, 10, 5, 6, 6, 6, 3, 7, 7, 9, 8, 4, 5, 7, 8, 5, 8, 4, 9, 4, 5, 11, 2, 8, 5, 12, 4, 9, 6, 5, 7, 10, 6, 7, 3, 5, 6, 6, 6, 8, 6, 9, 8, 8, 10, 11, 6, 8, 3, 7, 10, 11, 7, 13, 10, 11, 6, 6, 3, 3, 8, 3, 6, 3, 13, 4, 4, 8, 8, 9, 4, 3, 6, 11, 13, 3, 7, 3, 6, 9, 6, 3, 11, 3, 8, 4, 3, 11, 7, 7, 5, 11, 8, 12, 3, 7, 8, 3, 6, 7, 9, 3, 15, 8, 10, 8, 9, 3, 12, 4, 8, 6, 4, 12, 7, 3, 5, 10, 6, 6, 5, 8, 9, 4, 4, 5, 2, 4, 6, 8, 3, 9, 7, 5, 5, 7, 6, 10, 10, 7, 6, 11, 9, 13, 3, 11, 7, 10, 7, 4, 7, 9, 6, 3, 11, 10, 3, 7, 10, 7, 12, 10, 4, 8, 10, 10, 7, 8, 5, 3, 6, 6, 3, 3, 10, 8, 12, 7, 10, 9, 6, 6, 7, 3, 3, 6, 8, 6, 9, 9, 6, 7, 7, 9, 7, 6, 7, 3, 4, 4, 9, 6, 3, 6, 9, 6, 6, 6, 15, 3, 9, 4, 7, 4, 4, 10, 6, 9, 4, 7, 4, 9, 12, 6, 3, 7, 12, 7, 4, 7, 9, 3, 9, 10, 7, 10, 8, 9, 7, 6, 3, 4, 7, 6, 12, 5, 6, 6, 10, 7, 9, 10, 4, 7, 7, 3, 10, 10, 8, 11, 3, 9, 5, 7, 12, 4, 4, 5, 3, 10, 3, 3, 13, 7, 8, 3, 6, 8, 9, 7, 6, 9, 9, 3, 7, 7, 5, 6, 7, 7, 9, 5, 10, 8, 6, 4, 7, 8, 10, 8, 6, 10, 3, 8, 7, 7, 6, 7, 7, 3, 6, 4, 3, 4, 8, 9, 3, 9, 8, 4, 5, 5, 5, 7, 6, 10, 12, 7, 3, 6, 3, 9, 5, 6, 9, 5, 3, 7, 7, 8, 6, 5, 7, 8, 11, 6, 13, 4, 4, 3, 5, 10, 3, 5, 7, 5, 8, 9, 11, 3, 4, 7, 6, 9, 6, 4, 10, 6, 14, 12, 7, 11, 5, 4, 4, 7, 6, 7, 9, 8, 8, 6, 11, 3, 10, 7, 9, 7, 4, 5, 5, 5, 6, 9, 6, 5, 4, 10, 8, 12, 11, 3, 6, 11, 9, 9, 5, 11, 7, 4, 8, 7, 3, 4, 6, 7, 6, 5, 15, 8, 5, 10, 8, 9, 11, 8, 9, 9, 3, 7, 4, 6, 9, 3, 8, 8, 4, 13, 4, 6, 11, 5, 5, 3, 5, 10, 13, 3, 7, 9, 4, 10, 6, 10, 7, 10, 5, 10, 6, 11, 6, 4, 3, 4, 12, 8, 9, 5, 9, 7, 6, 6, 7, 11, 7, 4, 3, 7, 5, 10, 7, 6, 3, 10, 3, 10, 6, 11, 10, 9, 9, 5, 7, 15, 5, 6, 6, 10, 7, 9, 3, 7, 6, 3, 12, 6, 5, 7, 7, 6, 6, 9, 4, 9, 6, 4, 4, 8, 5, 4, 4, 6, 6, 6, 4, 7, 3, 7, 9, 7, 6, 11, 3, 3, 8, 5, 3, 6, 5, 4, 9, 12, 5, 4, 7, 5, 7, 3, 4, 7, 12, 7, 8, 3, 12, 13, 3, 9, 14, 6, 11, 9, 3, 8, 6, 4, 6, 7, 10, 7, 5, 5, 12, 6, 10, 3, 3, 6, 8, 7, 7, 6, 5, 3, 9, 10, 7, 7, 8, 9, 10, 8, 3, 4, 3, 8, 8, 9, 14, 8, 9, 8, 9, 7, 5, 5, 4, 7, 8, 3, 5, 7, 8, 5, 10, 10, 3, 5, 4, 4, 7, 3, 4, 8, 8, 4, 4, 3, 6, 7, 6, 6, 3, 3, 7, 8, 10, 9, 7, 7, 6, 8, 15, 6, 8, 6, 4, 9, 3, 6, 14, 4, 3, 6, 7, 5, 9, 10, 7, 5, 13, 8, 7, 7, 6, 7, 7, 9, 5, 6, 7, 3, 5, 4, 6, 8, 7, 6, 6, 6, 6, 3, 10, 10, 5, 6, 5, 3, 6, 10, 5, 14, 7, 8, 6, 14, 9, 8, 7, 4, 3, 10, 9, 4, 6, 7, 6, 9, 3, 7, 11, 9]\n"
     ]
    }
   ],
   "source": [
    "len_vector = []\n",
    "\n",
    "for i in range(test_length):\n",
    "    \n",
    "    len_vector.append(len(test_set[i]))\n",
    "    \n",
    "print(len_vector)"
   ]
  },
  {
   "cell_type": "code",
   "execution_count": 22,
   "metadata": {
    "scrolled": true
   },
   "outputs": [
    {
     "name": "stdout",
     "output_type": "stream",
     "text": [
      "[12, 0, 0, 0, 0, 0, 0, 0, 0, 0, 0, 1, 7, 0, 2, 1, 0, 0, 0, 5, 0, 0, 0, 0, 4, 3, 3, 0, 4, 0, 0, 0, 0, 0, 0, 2, 0, 0, 1, 3, 2, 0, 0, 0, 0, 0, 0, 4, 0, 6, 0, 0, 0, 0, 1, 0, 0, 0, 0, 0, 0, 0, 0, 0, 7, 3, 0, 0, 0, 0, 0, 2, 0, 0, 0, 0, 0, 0, 0, 0, 2, 5, 0, 0, 0, 5, 0, 7, 4, 6, 5, 0, 0, 1, 0, 0, 0, 2, 0, 0, 0, 0, 3, 0, 3, 0, 0, 5, 2, 0, 0, 1, 0, 0, 0, 0, 0, 1, 0, 2, 2, 3, 0, 0, 0, 0, 0, 0, 0, 6, 0, 4, 0, 0, 1, 0, 0, 4, 5, 0, 0, 0, 0, 0, 0, 0, 0, 0, 0, 0, 0, 3, 0, 0, 0, 0, 0, 0, 0, 0, 0, 0, 7, 5, 1, 0, 8, 1, 0, 0, 6, 3, 0, 0, 0, 0, 0, 6, 0, 0, 0, 0, 0, 0, 0, 0, 0, 0, 0, 0, 0, 0, 0, 0, 7, 0, 0, 0, 0, 0, 0, 0, 0, 0, 4, 0, 0, 0, 0, 0, 0, 1, 2, 4, 3, 0, 0, 0, 0, 3, 0, 10, 0, 0, 1, 7, 0, 3, 0, 0, 0, 0, 0, 4, 0, 4, 0, 0, 0, 0, 6, 0, 4, 5, 0, 3, 0, 2, 10, 0, 0, 1, 1, 0, 1, 0, 0, 0, 0, 0, 0, 2, 0, 0, 0, 0, 1, 0, 0, 7, 5, 0, 0, 0, 3, 0, 0, 0, 0, 5, 4, 0, 0, 0, 0, 0, 0, 0, 5, 6, 0, 0, 0, 0, 0, 2, 0, 5, 3, 1, 0, 0, 0, 0, 0, 0, 2, 0, 0, 7, 0, 0, 0, 0, 0, 1, 0, 0, 0, 0, 0, 0, 0, 0, 0, 0, 0, 2, 0, 5, 0, 0, 0, 3, 0, 4, 0, 0, 2, 6, 0, 7, 6, 5, 1, 0, 0, 0, 2, 1, 0, 0, 8, 0, 0, 0, 0, 4, 0, 0, 2, 7, 2, 0, 0, 2, 0, 4, 0, 0, 3, 0, 0, 0, 0, 5, 4, 0, 0, 6, 4, 5, 0, 0, 0, 0, 0, 6, 2, 0, 10, 1, 2, 0, 0, 0, 8, 0, 4, 0, 0, 3, 0, 2, 0, 6, 1, 0, 0, 0, 0, 0, 0, 0, 1, 0, 0, 2, 0, 3, 0, 0, 0, 0, 0, 4, 3, 3, 0, 0, 0, 5, 0, 5, 0, 0, 0, 0, 0, 0, 0, 0, 0, 0, 0, 5, 0, 0, 6, 0, 0, 0, 0, 0, 0, 0, 0, 0, 0, 3, 0, 0, 3, 4, 7, 0, 3, 2, 2, 2, 0, 0, 0, 0, 0, 0, 5, 0, 2, 0, 1, 3, 0, 0, 1, 0, 0, 0, 2, 0, 0, 2, 3, 0, 1, 0, 0, 0, 0, 0, 2, 0, 0, 5, 0, 0, 2, 0, 2, 0, 0, 0, 0, 0, 0, 2, 0, 0, 3, 0, 3, 0, 0, 0, 0, 0, 0, 0, 1, 0, 2, 0, 3, 1, 0, 0, 2, 0, 4, 0, 0, 0, 0, 0, 4, 4, 2, 3, 0, 0, 0, 2, 9, 0, 0, 1, 0, 0, 0, 0, 7, 2, 0, 0, 0, 0, 2, 0, 0, 2, 6, 0, 0, 0, 0, 0, 0, 0, 6, 0, 0, 0, 0, 0, 1, 1, 2, 0, 0, 4, 0, 5, 2, 1, 0, 0, 0, 0, 2, 0, 0, 0, 0, 0, 0, 3, 0, 0, 0, 0, 0, 0, 0, 2, 10, 2, 0, 0, 0, 4, 0, 0, 3, 3, 0, 4, 0, 0, 0, 0, 1, 0, 2, 0, 8, 0, 0, 0, 0, 0, 0, 2, 0, 0, 0, 7, 3, 0, 0, 0, 0, 0, 0, 0, 1, 0, 7, 5, 0, 6, 2, 2, 0, 0, 2, 1, 0, 0, 0, 0, 4, 0, 3, 0, 2, 0, 0, 0, 0, 0, 0, 0, 0, 0, 0, 6, 0, 0, 5, 0, 4, 6, 2, 0, 0, 2, 0, 0, 0, 0, 0, 0, 2, 0, 2, 2, 9, 0, 0, 0, 3, 0, 6, 1, 9, 0, 0, 0, 0, 0, 4, 0, 0, 0, 0, 7, 0, 0, 2, 0, 0, 0, 0, 3, 4, 0, 0, 0, 3, 4, 0, 4, 0, 3, 0, 3, 0, 5, 0, 0, 0, 0, 6, 0, 0, 0, 0, 2, 5, 0, 2, 0, 1, 0, 0, 3, 2, 0, 0, 0, 0, 0, 1, 0, 0, 2, 3, 1, 4, 0, 0, 8, 0, 0, 0, 0, 0, 0, 0, 3, 0, 0, 4, 2, 0, 1, 0, 0, 0, 0, 0, 3, 0, 0, 0, 0, 0, 0, 0, 4, 3, 0, 0, 0, 0, 0, 3, 0, 0, 4, 1, 0, 0, 2, 0, 0, 0, 2, 0, 0, 0, 0, 0, 0, 0, 0, 0, 0, 0, 0, 2, 0, 0, 6, 0, 6, 5, 0, 5, 1, 0, 0, 2, 0, 0, 4, 2, 0, 0, 0, 3, 0, 0, 0, 0, 0, 0, 1, 4, 0, 0, 0, 1, 0, 0, 0, 2, 1, 4, 0, 0, 0, 0, 2, 3, 4, 8, 3, 0, 4, 0, 3, 0, 0, 0, 1, 0, 0, 0, 0, 4, 0, 3, 3, 0, 0, 0, 0, 0, 0, 0, 0, 2, 0, 0, 0, 0, 0, 0, 0, 0, 0, 0, 0, 0, 3, 0, 0, 0, 0, 8, 0, 0, 0, 0, 0, 0, 2, 2, 0, 0, 0, 0, 0, 0, 5, 3, 0, 3, 0, 2, 4, 0, 0, 0, 2, 0, 0, 0, 0, 0, 0, 2, 5, 0, 0, 0, 0, 0, 0, 0, 7, 0, 0, 0, 0, 1, 0, 0, 11, 1, 2, 1, 7, 5, 0, 0, 0, 2, 3, 3, 1, 0, 0, 0, 0, 0, 0, 4, 0]\n",
      "685\n"
     ]
    },
    {
     "data": {
      "image/png": "[encoded data removed]",
      "text/plain": [
       "<Figure size 432x288 with 1 Axes>"
      ]
     },
     "metadata": {
      "needs_background": "light"
     },
     "output_type": "display_data"
    }
   ],
   "source": [
    "WER_model = []\n",
    "\n",
    "for i in range(test_length):\n",
    "    \n",
    "    WER = 0\n",
    "    model_length = len(total_model_word[i])\n",
    "    target_length = len(test_set[i])\n",
    "    \n",
    "    smaller = min(model_length, target_length)\n",
    "    bigger = max(model_length, target_length)\n",
    "    \n",
    "    WER += bigger - smaller # accounts for insertions and deletions\n",
    "    \n",
    "    for j in range(smaller):\n",
    "\n",
    "        if total_model_word[i][j] != test_set[i][j]: # accounts for substitutions\n",
    "\n",
    "            WER += 1\n",
    "\n",
    "    WER_model.append(WER)\n",
    "    \n",
    "print(WER_model)\n",
    "\n",
    "zeros = 0\n",
    "for i in range(len(WER_model)):\n",
    "    \n",
    "    if WER_model[i] == 0:\n",
    "        zeros += 1\n",
    "        \n",
    "print(zeros)\n",
    "\n",
    "bins = np.linspace(-0.5, 12.5, 14)\n",
    "plt.hist(WER_model, bins = bins)\n",
    "plt.show()\n"
   ]
  },
  {
   "cell_type": "code",
   "execution_count": 31,
   "metadata": {},
   "outputs": [
    {
     "data": {
      "text/html": [
       "<div>\n",
       "<style scoped>\n",
       "    .dataframe tbody tr th:only-of-type {\n",
       "        vertical-align: middle;\n",
       "    }\n",
       "\n",
       "    .dataframe tbody tr th {\n",
       "        vertical-align: top;\n",
       "    }\n",
       "\n",
       "    .dataframe thead th {\n",
       "        text-align: right;\n",
       "    }\n",
       "</style>\n",
       "<table border=\"1\" class=\"dataframe\">\n",
       "  <thead>\n",
       "    <tr style=\"text-align: right;\">\n",
       "      <th></th>\n",
       "      <th>Model set</th>\n",
       "      <th>Test set</th>\n",
       "      <th>WER</th>\n",
       "      <th>Accuracy</th>\n",
       "      <th>Length</th>\n",
       "    </tr>\n",
       "  </thead>\n",
       "  <tbody>\n",
       "    <tr>\n",
       "      <th>0</th>\n",
       "      <td>lieralisationi</td>\n",
       "      <td>liberalisation</td>\n",
       "      <td>12</td>\n",
       "      <td>0</td>\n",
       "      <td>14</td>\n",
       "    </tr>\n",
       "    <tr>\n",
       "      <th>1</th>\n",
       "      <td>ornate</td>\n",
       "      <td>ornate</td>\n",
       "      <td>0</td>\n",
       "      <td>1</td>\n",
       "      <td>6</td>\n",
       "    </tr>\n",
       "    <tr>\n",
       "      <th>2</th>\n",
       "      <td>utilise</td>\n",
       "      <td>utilise</td>\n",
       "      <td>0</td>\n",
       "      <td>1</td>\n",
       "      <td>7</td>\n",
       "    </tr>\n",
       "    <tr>\n",
       "      <th>3</th>\n",
       "      <td>midwife</td>\n",
       "      <td>midwife</td>\n",
       "      <td>0</td>\n",
       "      <td>1</td>\n",
       "      <td>7</td>\n",
       "    </tr>\n",
       "    <tr>\n",
       "      <th>4</th>\n",
       "      <td>arturo</td>\n",
       "      <td>arturo</td>\n",
       "      <td>0</td>\n",
       "      <td>1</td>\n",
       "      <td>6</td>\n",
       "    </tr>\n",
       "  </tbody>\n",
       "</table>\n",
       "</div>"
      ],
      "text/plain": [
       "        Model set        Test set  WER  Accuracy  Length\n",
       "0  lieralisationi  liberalisation   12         0      14\n",
       "1          ornate          ornate    0         1       6\n",
       "2         utilise         utilise    0         1       7\n",
       "3         midwife         midwife    0         1       7\n",
       "4          arturo          arturo    0         1       6"
      ]
     },
     "execution_count": 31,
     "metadata": {},
     "output_type": "execute_result"
    }
   ],
   "source": [
    "data = {'Model set': total_model_word, 'Test set': test_set, 'WER': WER_model, 'Accuracy': acc_vector, 'Length': len_vector}\n",
    "data = pd.DataFrame(data)\n",
    "data.head()"
   ]
  },
  {
   "cell_type": "code",
   "execution_count": 43,
   "metadata": {},
   "outputs": [
    {
     "data": {
      "image/png": "[encoded data removed]",
      "text/plain": [
       "<Figure size 432x288 with 1 Axes>"
      ]
     },
     "metadata": {
      "needs_background": "light"
     },
     "output_type": "display_data"
    }
   ],
   "source": [
    "total_error = test_length - acc\n",
    "\n",
    "errors = []\n",
    "\n",
    "for i in range(2, MAX_LENGTH + 1):\n",
    "    \n",
    "    error = 0\n",
    "    \n",
    "    for j in range(test_length):\n",
    "        \n",
    "        if (len_vector[j] == i) & (acc_vector[j] == 0):\n",
    "            \n",
    "            error += 1\n",
    "            \n",
    "    error = error/total_error\n",
    "    \n",
    "    errors.append(error)\n",
    "            \n",
    "#print(errors)        \n",
    "x = list(range(2,16)) \n",
    "height = errors\n",
    "plt.bar(x = x, height = height)\n",
    "plt.title('% of errors vs word length')\n",
    "plt.show()"
   ]
  },
  {
   "cell_type": "code",
   "execution_count": null,
   "metadata": {},
   "outputs": [],
   "source": [
    "# activar pytorch_estoril (environment) en la terminal y ejecutar tensorboard --host 0.0.0.0 --logdir ./runs\n",
    "# Tensorboard se ejecutará en un cierto puerto y nos dará el enlace. Habrá que sustituir la IP 0.0.0.0 por la del equipo\n",
    "# en remoto en la que esté corriendo en el caso de Estoril 212.128.3.86:"
   ]
  },
  {
   "cell_type": "code",
   "execution_count": 53,
   "metadata": {},
   "outputs": [
    {
     "name": "stdout",
     "output_type": "stream",
     "text": [
      "0.0\n"
     ]
    }
   ],
   "source": [
    "# EFFECT OF SALT & PEPPER\n",
    "\n",
    "image = 255 * np.ones(shape = [height, width], dtype = np.uint8)\n",
    "image = cv2.putText(image, text = 'methamphetamine', org = (5, 30),\n",
    "    fontFace = cv2.FONT_HERSHEY_SIMPLEX, fontScale = 0.62, color = (0, 0, 0),\n",
    "    thickness = 1, lineType = cv2.LINE_AA)\n",
    "image = transforms.ToPILImage()(image) \n",
    "image = transforms.ToTensor()(image)\n",
    "image = skimage.util.random_noise(image, mode='s&p') # we set some random noise to the image\n",
    "image = torch.from_numpy(image) # conversion to pytorch tensor again\n",
    "image = 1. - image\n",
    "#image = transforms.ToPILImage()(image)\n",
    "#plt.imshow(image, cmap='gray')\n",
    "#print(np.max(image))\n",
    "print(torch.min(image).item())"
   ]
  },
  {
   "cell_type": "code",
   "execution_count": null,
   "metadata": {},
   "outputs": [],
   "source": []
  }
 ],
 "metadata": {
  "kernelspec": {
   "display_name": "pytorch_estoril",
   "language": "python",
   "name": "pytorch_estoril"
  },
  "language_info": {
   "codemirror_mode": {
    "name": "ipython",
    "version": 3
   },
   "file_extension": ".py",
   "mimetype": "text/x-python",
   "name": "python",
   "nbconvert_exporter": "python",
   "pygments_lexer": "ipython3",
   "version": "3.6.10"
  }
 },
 "nbformat": 4,
 "nbformat_minor": 2
}
